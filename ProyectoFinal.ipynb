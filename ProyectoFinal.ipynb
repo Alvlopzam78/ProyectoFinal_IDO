{
 "cells": [
  {
   "cell_type": "markdown",
   "metadata": {},
   "source": [
    "# Opción GPT"
   ]
  },
  {
   "cell_type": "code",
   "execution_count": 5,
   "metadata": {},
   "outputs": [],
   "source": [
    "import random\n",
    "import math\n",
    "\n",
    "def load_cities_from_file(file_path):\n",
    "    \"\"\"Load city coordinates from a text file.\"\"\"\n",
    "    cities = []\n",
    "    with open(file_path, 'r') as file:\n",
    "        lines = file.readlines()[1:]  # Skip the first line (header)\n",
    "        for line in lines:\n",
    "            parts = line.split()\n",
    "            if len(parts) == 3:\n",
    "                x, y = float(parts[1]), float(parts[2])\n",
    "                cities.append((x, y))\n",
    "    return cities"
   ]
  },
  {
   "cell_type": "code",
   "execution_count": 6,
   "metadata": {},
   "outputs": [
    {
     "name": "stdout",
     "output_type": "stream",
     "text": [
      "Nearest Neighbor: Route: [142, 148, 151, 155, 152, 137, 136, 140, 144, 147, 143, 138, 135, 132, 130, 125, 123, 124, 112, 111, 107, 100, 101, 89, 91, 94, 93, 95, 90, 86, 81, 77, 79, 75, 68, 62, 55, 43, 27, 20, 26, 31, 58, 67, 72, 76, 73, 70, 74, 78, 85, 69, 23, 21, 11, 12, 9, 15, 24, 22, 19, 16, 25, 35, 37, 45, 49, 56, 54, 51, 50, 46, 44, 39, 36, 38, 41, 52, 53, 47, 40, 42, 33, 30, 28, 29, 32, 48, 59, 65, 64, 71, 66, 82, 98, 108, 110, 113, 114, 115, 119, 118, 126, 121, 122, 131, 133, 127, 129, 134, 141, 146, 153, 149, 145, 150, 139, 157, 156, 160, 165, 168, 169, 164, 158, 183, 178, 176, 179, 175, 182, 186, 189, 187, 190, 188, 185, 184, 181, 177, 170, 167, 174, 180, 192, 172, 171, 173, 166, 163, 191, 162, 161, 159, 154, 128, 109, 102, 99, 97, 92, 88, 87, 80, 60, 57, 34, 61, 63, 83, 84, 96, 18, 14, 6, 4, 2, 0, 1, 3, 7, 8, 10, 13, 17, 106, 105, 103, 104, 116, 120, 117, 5], Distance: 11545\n"
     ]
    },
    {
     "ename": "KeyboardInterrupt",
     "evalue": "",
     "output_type": "error",
     "traceback": [
      "\u001b[1;31m---------------------------------------------------------------------------\u001b[0m",
      "\u001b[1;31mKeyboardInterrupt\u001b[0m                         Traceback (most recent call last)",
      "Cell \u001b[1;32mIn[6], line 117\u001b[0m\n\u001b[0;32m    114\u001b[0m \u001b[38;5;28mprint\u001b[39m(\u001b[38;5;124mf\u001b[39m\u001b[38;5;124m\"\u001b[39m\u001b[38;5;124mNearest Neighbor: Route: \u001b[39m\u001b[38;5;132;01m{\u001b[39;00mnn_route\u001b[38;5;132;01m}\u001b[39;00m\u001b[38;5;124m, Distance: \u001b[39m\u001b[38;5;132;01m{\u001b[39;00mnn_distance\u001b[38;5;132;01m}\u001b[39;00m\u001b[38;5;124m\"\u001b[39m)\n\u001b[0;32m    116\u001b[0m \u001b[38;5;66;03m# Step 2: Tabu Search\u001b[39;00m\n\u001b[1;32m--> 117\u001b[0m optimized_route, optimized_distance \u001b[38;5;241m=\u001b[39m \u001b[43mtabu_search\u001b[49m\u001b[43m(\u001b[49m\u001b[43mnn_route\u001b[49m\u001b[43m,\u001b[49m\u001b[43m \u001b[49m\u001b[43mcities\u001b[49m\u001b[43m)\u001b[49m\n\u001b[0;32m    118\u001b[0m \u001b[38;5;28mprint\u001b[39m(\u001b[38;5;124mf\u001b[39m\u001b[38;5;124m\"\u001b[39m\u001b[38;5;124mTabu Search: Route: \u001b[39m\u001b[38;5;132;01m{\u001b[39;00moptimized_route\u001b[38;5;132;01m}\u001b[39;00m\u001b[38;5;124m, Distance: \u001b[39m\u001b[38;5;132;01m{\u001b[39;00moptimized_distance\u001b[38;5;132;01m}\u001b[39;00m\u001b[38;5;124m\"\u001b[39m)\n\u001b[0;32m    120\u001b[0m \u001b[38;5;66;03m# Step 3: Genetic Algorithm with Tabu Search Output\u001b[39;00m\n",
      "Cell \u001b[1;32mIn[6], line 41\u001b[0m, in \u001b[0;36mtabu_search\u001b[1;34m(route, cities, max_iterations, tabu_size)\u001b[0m\n\u001b[0;32m     39\u001b[0m \u001b[38;5;28;01mfor\u001b[39;00m neighbor \u001b[38;5;129;01min\u001b[39;00m neighbors:\n\u001b[0;32m     40\u001b[0m     \u001b[38;5;28;01mif\u001b[39;00m neighbor \u001b[38;5;129;01mnot\u001b[39;00m \u001b[38;5;129;01min\u001b[39;00m tabu_list:\n\u001b[1;32m---> 41\u001b[0m         distance \u001b[38;5;241m=\u001b[39m \u001b[43mcalculate_route_distance\u001b[49m\u001b[43m(\u001b[49m\u001b[43mneighbor\u001b[49m\u001b[43m,\u001b[49m\u001b[43m \u001b[49m\u001b[43mcities\u001b[49m\u001b[43m)\u001b[49m\n\u001b[0;32m     42\u001b[0m         \u001b[38;5;28;01mif\u001b[39;00m distance \u001b[38;5;241m<\u001b[39m best_candidate_distance:\n\u001b[0;32m     43\u001b[0m             best_candidate \u001b[38;5;241m=\u001b[39m neighbor\n",
      "Cell \u001b[1;32mIn[6], line 25\u001b[0m, in \u001b[0;36mcalculate_route_distance\u001b[1;34m(route, cities)\u001b[0m\n\u001b[0;32m     23\u001b[0m distance \u001b[38;5;241m=\u001b[39m \u001b[38;5;241m0\u001b[39m\n\u001b[0;32m     24\u001b[0m \u001b[38;5;28;01mfor\u001b[39;00m i \u001b[38;5;129;01min\u001b[39;00m \u001b[38;5;28mrange\u001b[39m(\u001b[38;5;28mlen\u001b[39m(route)):\n\u001b[1;32m---> 25\u001b[0m     distance \u001b[38;5;241m+\u001b[39m\u001b[38;5;241m=\u001b[39m \u001b[43mcalculate_distance\u001b[49m\u001b[43m(\u001b[49m\u001b[43mcities\u001b[49m\u001b[43m[\u001b[49m\u001b[43mroute\u001b[49m\u001b[43m[\u001b[49m\u001b[43mi\u001b[49m\u001b[43m]\u001b[49m\u001b[43m]\u001b[49m\u001b[43m,\u001b[49m\u001b[43m \u001b[49m\u001b[43mcities\u001b[49m\u001b[43m[\u001b[49m\u001b[43mroute\u001b[49m\u001b[43m[\u001b[49m\u001b[43m(\u001b[49m\u001b[43mi\u001b[49m\u001b[43m \u001b[49m\u001b[38;5;241;43m+\u001b[39;49m\u001b[43m \u001b[49m\u001b[38;5;241;43m1\u001b[39;49m\u001b[43m)\u001b[49m\u001b[43m \u001b[49m\u001b[38;5;241;43m%\u001b[39;49m\u001b[43m \u001b[49m\u001b[38;5;28;43mlen\u001b[39;49m\u001b[43m(\u001b[49m\u001b[43mroute\u001b[49m\u001b[43m)\u001b[49m\u001b[43m]\u001b[49m\u001b[43m]\u001b[49m\u001b[43m)\u001b[49m\n\u001b[0;32m     26\u001b[0m \u001b[38;5;28;01mreturn\u001b[39;00m distance\n",
      "Cell \u001b[1;32mIn[6], line 3\u001b[0m, in \u001b[0;36mcalculate_distance\u001b[1;34m(city1, city2)\u001b[0m\n\u001b[0;32m      1\u001b[0m \u001b[38;5;28;01mdef\u001b[39;00m \u001b[38;5;21mcalculate_distance\u001b[39m(city1, city2):\n\u001b[0;32m      2\u001b[0m \u001b[38;5;250m    \u001b[39m\u001b[38;5;124;03m\"\"\"Calculate the Euclidean distance between two cities.\"\"\"\u001b[39;00m\n\u001b[1;32m----> 3\u001b[0m     \u001b[38;5;28;01mreturn\u001b[39;00m \u001b[38;5;28mround\u001b[39m(\u001b[43mmath\u001b[49m\u001b[38;5;241;43m.\u001b[39;49m\u001b[43msqrt\u001b[49m\u001b[43m(\u001b[49m\u001b[43m(\u001b[49m\u001b[43mcity1\u001b[49m\u001b[43m[\u001b[49m\u001b[38;5;241;43m0\u001b[39;49m\u001b[43m]\u001b[49m\u001b[43m \u001b[49m\u001b[38;5;241;43m-\u001b[39;49m\u001b[43m \u001b[49m\u001b[43mcity2\u001b[49m\u001b[43m[\u001b[49m\u001b[38;5;241;43m0\u001b[39;49m\u001b[43m]\u001b[49m\u001b[43m)\u001b[49m\u001b[38;5;241;43m*\u001b[39;49m\u001b[38;5;241;43m*\u001b[39;49m\u001b[38;5;241;43m2\u001b[39;49m\u001b[43m \u001b[49m\u001b[38;5;241;43m+\u001b[39;49m\u001b[43m \u001b[49m\u001b[43m(\u001b[49m\u001b[43mcity1\u001b[49m\u001b[43m[\u001b[49m\u001b[38;5;241;43m1\u001b[39;49m\u001b[43m]\u001b[49m\u001b[43m \u001b[49m\u001b[38;5;241;43m-\u001b[39;49m\u001b[43m \u001b[49m\u001b[43mcity2\u001b[49m\u001b[43m[\u001b[49m\u001b[38;5;241;43m1\u001b[39;49m\u001b[43m]\u001b[49m\u001b[43m)\u001b[49m\u001b[38;5;241;43m*\u001b[39;49m\u001b[38;5;241;43m*\u001b[39;49m\u001b[38;5;241;43m2\u001b[39;49m\u001b[43m)\u001b[49m)\n",
      "\u001b[1;31mKeyboardInterrupt\u001b[0m: "
     ]
    }
   ],
   "source": [
    "def calculate_distance(city1, city2):\n",
    "    \"\"\"Calculate the Euclidean distance between two cities.\"\"\"\n",
    "    return round(math.sqrt((city1[0] - city2[0])**2 + (city1[1] - city2[1])**2))\n",
    "\n",
    "def nearest_neighbor(cities):\n",
    "    \"\"\"Generate an initial route using the Nearest Neighbor heuristic.\"\"\"\n",
    "    unvisited = set(range(len(cities)))\n",
    "    route = []\n",
    "    current_city = random.choice(list(unvisited))  # Start from a random city\n",
    "    route.append(current_city)\n",
    "    unvisited.remove(current_city)\n",
    "\n",
    "    while unvisited:\n",
    "        next_city = min(unvisited, key=lambda city: calculate_distance(cities[current_city], cities[city]))\n",
    "        route.append(next_city)\n",
    "        unvisited.remove(next_city)\n",
    "        current_city = next_city\n",
    "\n",
    "    return route, calculate_route_distance(route, cities)\n",
    "\n",
    "def calculate_route_distance(route, cities):\n",
    "    \"\"\"Calculate the total distance of a given route.\"\"\"\n",
    "    distance = 0\n",
    "    for i in range(len(route)):\n",
    "        distance += calculate_distance(cities[route[i]], cities[route[(i + 1) % len(route)]])\n",
    "    return distance\n",
    "\n",
    "def tabu_search(route, cities, max_iterations=500, tabu_size=50):\n",
    "    \"\"\"Improve the route using Tabu Search.\"\"\"\n",
    "    best_route = route[:]\n",
    "    best_distance = calculate_route_distance(route, cities)\n",
    "    tabu_list = []\n",
    "\n",
    "    for _ in range(max_iterations):\n",
    "        neighbors = generate_neighbors(best_route)\n",
    "        best_candidate = None\n",
    "        best_candidate_distance = float('inf')\n",
    "\n",
    "        for neighbor in neighbors:\n",
    "            if neighbor not in tabu_list:\n",
    "                distance = calculate_route_distance(neighbor, cities)\n",
    "                if distance < best_candidate_distance:\n",
    "                    best_candidate = neighbor\n",
    "                    best_candidate_distance = distance\n",
    "\n",
    "        if best_candidate_distance < best_distance:\n",
    "            best_route = best_candidate[:]\n",
    "            best_distance = best_candidate_distance\n",
    "\n",
    "        tabu_list.append(best_candidate)\n",
    "        if len(tabu_list) > tabu_size:\n",
    "            tabu_list.pop(0)\n",
    "\n",
    "    return best_route, best_distance\n",
    "\n",
    "def generate_neighbors(route):\n",
    "    \"\"\"Generate neighbors by swapping two cities in the route.\"\"\"\n",
    "    neighbors = []\n",
    "    for i in range(len(route)):\n",
    "        for j in range(i + 1, len(route)):\n",
    "            neighbor = route[:]\n",
    "            neighbor[i], neighbor[j] = neighbor[j], neighbor[i]\n",
    "            neighbors.append(neighbor)\n",
    "    return neighbors\n",
    "\n",
    "def genetic_algorithm(cities, initial_route=None, population_size=250, generations=100, mutation_rate=0.5):\n",
    "    \"\"\"Optimize the route using a Genetic Algorithm.\"\"\"\n",
    "    def crossover(parent1, parent2):\n",
    "        \"\"\"Perform order crossover between two parents.\"\"\"\n",
    "        start, end = sorted(random.sample(range(len(parent1)), 2))\n",
    "        child = [None] * len(parent1)\n",
    "        child[start:end] = parent1[start:end]\n",
    "        pos = end\n",
    "        for gene in parent2:\n",
    "            if gene not in child:\n",
    "                if pos >= len(child):\n",
    "                    pos = 0\n",
    "                child[pos] = gene\n",
    "                pos += 1\n",
    "        return child\n",
    "\n",
    "    def mutate(route):\n",
    "        \"\"\"Mutate a route by swapping two cities.\"\"\"\n",
    "        if random.random() < mutation_rate:\n",
    "            i, j = random.sample(range(len(route)), 2)\n",
    "            route[i], route[j] = route[j], route[i]\n",
    "\n",
    "    # Initialize population, including the initial route if provided\n",
    "    population = [random.sample(range(len(cities)), len(cities)) for _ in range(population_size - 1)]\n",
    "    if initial_route:\n",
    "        population.append(initial_route)\n",
    "\n",
    "    for _ in range(generations):\n",
    "        population = sorted(population, key=lambda route: calculate_route_distance(route, cities))\n",
    "        next_generation = population[:population_size // 2]  # Select top half\n",
    "\n",
    "        while len(next_generation) < population_size:\n",
    "            parent1, parent2 = random.sample(next_generation, 2)\n",
    "            child = crossover(parent1, parent2)\n",
    "            mutate(child)\n",
    "            next_generation.append(child)\n",
    "\n",
    "        population = next_generation\n",
    "\n",
    "    best_route = min(population, key=lambda route: calculate_route_distance(route, cities))\n",
    "    return best_route, calculate_route_distance(best_route, cities)\n",
    "\n",
    "# Example usage with Qatar data:\n",
    "file_path = \"Qatar.txt\"\n",
    "cities = load_cities_from_file(file_path)\n",
    "\n",
    "# Step 1: Nearest Neighbor\n",
    "nn_route, nn_distance = nearest_neighbor(cities)\n",
    "print(f\"Nearest Neighbor: Route: {nn_route}, Distance: {nn_distance}\")\n",
    "\n",
    "# Step 2: Tabu Search\n",
    "optimized_route, optimized_distance = tabu_search(nn_route, cities)\n",
    "print(f\"Tabu Search: Route: {optimized_route}, Distance: {optimized_distance}\")\n",
    "\n",
    "# Step 3: Genetic Algorithm with Tabu Search Output\n",
    "ga_route, ga_distance = genetic_algorithm(cities, initial_route=optimized_route)\n",
    "print(f\"Genetic Algorithm: Route: {ga_route}, Distance: {ga_distance}\")\n"
   ]
  },
  {
   "cell_type": "markdown",
   "metadata": {},
   "source": [
    "# Genético Memo"
   ]
  },
  {
   "cell_type": "code",
   "execution_count": 69,
   "metadata": {},
   "outputs": [],
   "source": [
    "def tspGenetico(cities, n=250, rate=0.5, mutation_rate=0.2, generations=100, max_iter=1000):\n",
    "    def distanciaTotal(orden, cities):\n",
    "        total = 0.0\n",
    "        num_points = len(orden)\n",
    "        for i in range(num_points):\n",
    "            if i == num_points - 1:\n",
    "                total += calculate_distance(cities[orden[i]], cities[orden[0]])\n",
    "            else:\n",
    "                total += calculate_distance(cities[orden[i]], cities[orden[i + 1]])\n",
    "        return total\n",
    "\n",
    "    def calculate_distance(city1, city2):\n",
    "        \"\"\"Calculate the Euclidean distance between two cities.\"\"\"\n",
    "        return round(math.sqrt((city1[0] - city2[0])**2 + (city1[1] - city2[1])**2))\n",
    "\n",
    "    def nearestNeighborTsp(cities):\n",
    "        num_points = len(cities)\n",
    "        unvisited = set(range(1, num_points))\n",
    "        current_point = 0\n",
    "        path = [current_point]\n",
    "\n",
    "        while unvisited:\n",
    "            nearest_point = min(unvisited, key=lambda x: calculate_distance(cities[current_point], cities[x]))\n",
    "            path.append(nearest_point)\n",
    "            unvisited.remove(nearest_point)\n",
    "            current_point = nearest_point\n",
    "\n",
    "        path.append(0)  # Close the loop\n",
    "        return path\n",
    "\n",
    "    def swap(individual):\n",
    "        start, end = random.sample(range(len(individual) - 1), 2)\n",
    "        individual[start], individual[end] = individual[end], individual[start]\n",
    "        return individual\n",
    "\n",
    "    def mutate(individual):\n",
    "        return swap(individual.copy())\n",
    "\n",
    "    def crossover(parent1, parent2):\n",
    "        start, end = sorted(random.sample(range(len(parent1) - 1), 2))\n",
    "        child = [-1] * len(parent1)\n",
    "        child[start:end] = parent1[start:end]\n",
    "        fill_index = end\n",
    "        for gene in parent2:\n",
    "            if gene not in child:\n",
    "                if fill_index == len(parent1) - 1:\n",
    "                    fill_index = 0\n",
    "                child[fill_index] = gene\n",
    "                fill_index += 1\n",
    "        child[-1] = child[0]  # Close the loop\n",
    "        return child\n",
    "\n",
    "    def generate_initial_population(initial_solution, population_size):\n",
    "        population = [initial_solution]\n",
    "        while len(population) < population_size:\n",
    "            tour = list(range(len(cities)))\n",
    "            random.shuffle(tour)\n",
    "            tour.append(tour[0])  # Close the loop\n",
    "            population.append(tour)\n",
    "        return population\n",
    "\n",
    "    def select_best(population, cities, num_best):\n",
    "        distances = [distanciaTotal(ind, cities) for ind in population]\n",
    "        selected = sorted(zip(population, distances), key=lambda x: x[1])[:num_best]\n",
    "        return [x[0] for x in selected]\n",
    "\n",
    "    def evolve_population(population, num_best, rate, mutation_rate):\n",
    "        new_population = select_best(population, cities, num_best)\n",
    "        while len(new_population) < len(population):\n",
    "            if random.random() < mutation_rate:\n",
    "                mutant = mutate(random.choice(new_population))\n",
    "                new_population.append(mutant)\n",
    "            else:\n",
    "                parent1, parent2 = random.sample(new_population, 2)\n",
    "                child = crossover(parent1, parent2)\n",
    "                new_population.append(child)\n",
    "        return new_population\n",
    "\n",
    "    # Initial population\n",
    "    initial_solution = nearestNeighborTsp(cities)\n",
    "    population = generate_initial_population(initial_solution, n)\n",
    "\n",
    "    best_distance = float('inf')\n",
    "    best_solution = None\n",
    "\n",
    "    for _ in range(generations):\n",
    "        population = evolve_population(population, int(n * rate), rate, mutation_rate)\n",
    "        current_best = min(population, key=lambda x: distanciaTotal(x, cities))\n",
    "        current_best_distance = distanciaTotal(current_best, cities)\n",
    "        if current_best_distance < best_distance:\n",
    "            best_distance = current_best_distance\n",
    "            best_solution = current_best\n",
    "\n",
    "    return best_solution, best_distance"
   ]
  },
  {
   "cell_type": "code",
   "execution_count": 70,
   "metadata": {},
   "outputs": [
    {
     "data": {
      "text/plain": [
       "11630.0"
      ]
     },
     "execution_count": 70,
     "metadata": {},
     "output_type": "execute_result"
    }
   ],
   "source": [
    "file_path = \"Qatar.txt\"\n",
    "cities = load_cities_from_file(file_path)\n",
    "tspGenetico(cities)[1]"
   ]
  },
  {
   "cell_type": "markdown",
   "metadata": {},
   "source": [
    "# Tabu Memo"
   ]
  },
  {
   "cell_type": "code",
   "execution_count": 72,
   "metadata": {},
   "outputs": [],
   "source": [
    "import random\n",
    "import heapq\n",
    "import numpy as np\n",
    "import math\n",
    "\n",
    "def calculate_distance(city1, city2):\n",
    "    \"\"\"Calcula la distancia euclidiana entre dos ciudades.\"\"\"\n",
    "    return round(math.sqrt((city1[0] - city2[0])**2 + (city1[1] - city2[1])**2))\n",
    "\n",
    "def generate_distance_matrix(cities):\n",
    "    \"\"\"Genera una matriz de distancias a partir de las coordenadas de las ciudades.\"\"\"\n",
    "    n = len(cities)\n",
    "    distance_matrix = [[0] * n for _ in range(n)]\n",
    "    for i in range(n):\n",
    "        for j in range(n):\n",
    "            if i != j:\n",
    "                distance_matrix[i][j] = calculate_distance(cities[i], cities[j])\n",
    "    return distance_matrix\n",
    "\n",
    "def dynamic_tabu_tenure(iteration, min_duration, max_duration, penalty_factor):\n",
    "    base_tenure = min_duration + (max_duration - min_duration) * np.sin(np.pi * iteration / 100)\n",
    "    return int(base_tenure * penalty_factor)\n",
    "\n",
    "def calculate_tour_length(tour, distance_matrix):\n",
    "    return sum(distance_matrix[tour[i]][tour[i+1]] for i in range(len(tour) - 1)) + distance_matrix[tour[0]][tour[-1]]\n",
    "\n",
    "def intensify_search(tour, best_tour, best_length, iteration, intensify_factor, distance_matrix):\n",
    "    if iteration % intensify_factor == 0:\n",
    "        current_length = calculate_tour_length(tour, distance_matrix)\n",
    "        if current_length > best_length:\n",
    "            return best_tour[:], best_length\n",
    "    return tour, calculate_tour_length(tour, distance_matrix)\n",
    "\n",
    "def diversify_search(tour, n, diversify_factor, iteration):\n",
    "    if iteration % diversify_factor == 0:\n",
    "        segment_size = n // 10\n",
    "        start = random.randint(0, n - segment_size)\n",
    "        tour[start:start + segment_size] = random.sample(tour[start:start + segment_size], segment_size)\n",
    "    return tour\n",
    "\n",
    "def calculate_delta_penalty(i, j, tour, d, count, F):\n",
    "    n = len(tour)\n",
    "    delta = d[tour[i]][tour[j]] + d[tour[i+1]][tour[(j+1) % n]] - d[tour[i]][tour[i+1]] - d[tour[j]][tour[(j+1) % n]]\n",
    "    penalty = F * (count[tour[i]][tour[j]] + count[tour[i+1]][tour[(j+1) % n]])\n",
    "    return delta, penalty\n",
    "\n",
    "def apply_tabu(tour, ir, jr, tabu, tabu_tenure, count, iteration):\n",
    "    tabu[tour[ir]][tour[jr]] = tabu_tenure + iteration\n",
    "    count[tour[ir]][tour[jr]] += 1\n",
    "\n",
    "def tsp_TS(cities, tour, iterations, min_tabu_duration, max_tabu_duration, F):\n",
    "    d = generate_distance_matrix(cities)\n",
    "    n = len(tour)\n",
    "    tabu = [[0] * n for _ in range(n)]\n",
    "    count = [[0] * n for _ in range(n)]\n",
    "    best_tour = tour[:]\n",
    "    best_length = calculate_tour_length(tour, d)\n",
    "    intensify_factor = 100\n",
    "    diversify_factor = 500\n",
    "\n",
    "    for iteration in range(iterations):\n",
    "        tour = diversify_search(tour, n, diversify_factor, iteration)\n",
    "        tour, length = intensify_search(tour, best_tour, best_length, iteration, intensify_factor, d)\n",
    "\n",
    "        delta_penalty = float('inf')\n",
    "        ir = jr = -1\n",
    "\n",
    "        for i in range(n - 2):\n",
    "            for j in range(i + 2, n if i > 0 else n - 1):\n",
    "                delta, penalty = calculate_delta_penalty(i, j, tour, d, count, F)\n",
    "                if delta + penalty < delta_penalty and (tabu[tour[i]][tour[j]] <= iteration or best_length + delta < best_length):\n",
    "                    delta_penalty = delta + penalty\n",
    "                    ir, jr = i, j\n",
    "\n",
    "        if ir >= 0 and jr >= 0:\n",
    "            tabu_tenure = dynamic_tabu_tenure(iteration, min_tabu_duration, max_tabu_duration, F)\n",
    "            apply_tabu(tour, ir, jr, tabu, tabu_tenure, count, iteration)\n",
    "\n",
    "            length += delta_penalty\n",
    "            tour[ir+1:jr+1] = reversed(tour[ir+1:jr+1])\n",
    "            if length < best_length:\n",
    "                best_length = length\n",
    "                best_tour = tour[:]\n",
    "\n",
    "    best_tour.append(tour[0])\n",
    "    return best_tour, best_length\n",
    "\n",
    "def insertion_heuristic(cities):\n",
    "    d = generate_distance_matrix(cities)\n",
    "    n = len(d)\n",
    "    tour = [0, np.argmin(d[0][1:]) + 1]\n",
    "    remaining_cities = set(range(1, n)) - set(tour)\n",
    "    total_distance = d[0][tour[1]]\n",
    "\n",
    "    heap = []\n",
    "    for city in remaining_cities:\n",
    "        distance_to_tour = min((d[city][tour_node] + d[tour_node][city], city, tour_node) for tour_node in tour)\n",
    "        heapq.heappush(heap, distance_to_tour)\n",
    "\n",
    "    while remaining_cities:\n",
    "        _, city, _ = heapq.heappop(heap)\n",
    "        if city not in remaining_cities:\n",
    "            continue\n",
    "\n",
    "        min_increase = float('inf')\n",
    "        best_position = 0\n",
    "        for i in range(1, len(tour)):\n",
    "            increase = (d[tour[i - 1]][city] +\n",
    "                        d[city][tour[i]] -\n",
    "                        d[tour[i - 1]][tour[i]])\n",
    "            if increase < min_increase:\n",
    "                min_increase = increase\n",
    "                best_position = i\n",
    "\n",
    "        tour.insert(best_position, city)\n",
    "        total_distance += min_increase\n",
    "        remaining_cities.remove(city)\n",
    "\n",
    "        for remaining_city in remaining_cities:\n",
    "            distance_to_tour = min((d[remaining_city][tour_node] + d[tour_node][remaining_city], remaining_city, tour_node) for tour_node in tour)\n",
    "            heapq.heappush(heap, distance_to_tour)\n",
    "\n",
    "    total_distance += d[tour[-1]][tour[0]]\n",
    "\n",
    "    return tour, total_distance\n",
    "\n",
    "def insert_taboo(cities, iterations=500, min_tabu_duration=5, max_tabu_duration=50, penalty_factor=2, verbose=False):\n",
    "    initial_tour, initial_length = insertion_heuristic(cities)\n",
    "    best_tour, best_length = tsp_TS(cities, initial_tour, iterations, min_tabu_duration, max_tabu_duration, penalty_factor)\n",
    "    best_tour = [i+1 for i in best_tour]\n",
    "    if verbose:\n",
    "        print(\"Best tour:\", best_tour, \"\\nBest length:\", best_length)\n",
    "    return best_tour, best_length"
   ]
  },
  {
   "cell_type": "code",
   "execution_count": 75,
   "metadata": {},
   "outputs": [
    {
     "data": {
      "text/plain": [
       "10178"
      ]
     },
     "execution_count": 75,
     "metadata": {},
     "output_type": "execute_result"
    }
   ],
   "source": [
    "file_path = \"Qatar.txt\"\n",
    "cities = load_cities_from_file(file_path)\n",
    "insert_taboo(cities)[1]"
   ]
  },
  {
   "cell_type": "markdown",
   "metadata": {},
   "source": [
    "# Integrado"
   ]
  },
  {
   "cell_type": "code",
<<<<<<< HEAD
   "execution_count": 7,
=======
   "execution_count": 1,
>>>>>>> 4f4b28a9ae92aa37f201948d18ec63e0dac8012f
   "metadata": {},
   "outputs": [],
   "source": [
    "import random\n",
    "import math\n",
    "\n",
    "def load_cities_from_file(file_path):\n",
    "    \"\"\"Load city coordinates from a text file.\"\"\"\n",
    "    cities = []\n",
    "    with open(file_path, 'r') as file:\n",
    "        lines = file.readlines()\n",
    "        for line in lines:\n",
    "            parts = line.split()\n",
    "            if len(parts) == 3:\n",
    "                x, y = float(parts[1]), float(parts[2])\n",
    "                cities.append((x, y))\n",
    "    return cities"
   ]
  },
  {
   "cell_type": "code",
<<<<<<< HEAD
   "execution_count": 8,
=======
   "execution_count": 25,
>>>>>>> 4f4b28a9ae92aa37f201948d18ec63e0dac8012f
   "metadata": {},
   "outputs": [],
   "source": [
    "import random\n",
    "import math\n",
    "import numpy as np\n",
    "\n",
    "class FastGeneticTabuTSP:\n",
    "    def __init__(self, cities, population_size=100, generations=50, \n",
    "                 mutation_rate=0.2, elite_rate=0.15):\n",
    "        self.cities = cities\n",
    "        self.population_size = population_size\n",
    "        self.generations = generations\n",
    "        self.mutation_rate = mutation_rate\n",
    "        self.elite_rate = elite_rate\n",
    "        self.distance_matrix = self._generate_distance_matrix()\n",
    "        \n",
    "    def _generate_distance_matrix(self):\n",
    "        n = len(self.cities)\n",
    "        matrix = [[0] * n for _ in range(n)]\n",
    "        for i in range(n):\n",
    "            for j in range(n):\n",
    "                if i != j:\n",
    "                    matrix[i][j] = self._calculate_distance(self.cities[i], self.cities[j])\n",
    "        return matrix\n",
    "    \n",
    "    def _calculate_distance(self, city1, city2):\n",
    "        return round(math.sqrt((city1[0] - city2[0])**2 + (city1[1] - city2[1])**2))\n",
    "    \n",
    "    def _greedy_insertion_initial_population(self):\n",
    "        def greedy_tour():\n",
    "            n = len(self.cities)\n",
    "            unvisited = set(range(1, n))\n",
    "            tour = [0]\n",
    "            \n",
    "            while unvisited:\n",
    "                last = tour[-1]\n",
    "                next_city = min(unvisited, key=lambda x: self.distance_matrix[last][x])\n",
    "                tour.append(next_city)\n",
    "                unvisited.remove(next_city)\n",
    "            \n",
    "            return tour\n",
    "        \n",
    "        population = []\n",
    "        for _ in range(self.population_size):\n",
    "            tour = greedy_tour()\n",
    "            # Añadir algo de aleatoriedad\n",
    "            for _ in range(5):\n",
    "                i, j = random.sample(range(len(tour)), 2)\n",
    "                tour[i], tour[j] = tour[j], tour[i]\n",
    "            population.append(tour)\n",
    "        \n",
    "        return population\n",
    "    \n",
    "    def _calculate_tour_length(self, tour):\n",
    "        total = sum(self.distance_matrix[tour[i]][tour[i+1]] for i in range(len(tour) - 1))\n",
    "        total += self.distance_matrix[tour[-1]][tour[0]]\n",
    "        return total\n",
    "    \n",
    "    def _quick_two_opt(self, tour):\n",
    "        \"\"\"Versión rápida y segura de 2-opt\"\"\"\n",
    "        n = len(tour)\n",
    "        improved = True\n",
    "        while improved:\n",
    "            improved = False\n",
    "            for i in range(1, n - 1):\n",
    "                for j in range(i + 1, n):\n",
    "                    # Calcular cambio en distancia con seguridad\n",
    "                    old_distance = (\n",
    "                        self.distance_matrix[tour[i-1]][tour[i]] + \n",
    "                        self.distance_matrix[tour[j]][tour[(j+1)%n]]\n",
    "                    )\n",
    "                    new_distance = (\n",
    "                        self.distance_matrix[tour[i-1]][tour[j]] + \n",
    "                        self.distance_matrix[tour[i]][tour[(j+1)%n]]\n",
    "                    )\n",
    "                    \n",
    "                    if new_distance < old_distance:\n",
    "                        # Invertir segmento con seguridad\n",
    "                        tour[i:j+1] = tour[i:j+1][::-1]\n",
    "                        improved = True\n",
    "                        break\n",
    "                if improved:\n",
    "                    break\n",
    "        return tour\n",
    "    \n",
    "    def _partially_mapped_crossover(self, parent1, parent2):\n",
    "        \"\"\"Crossover de mapeo parcial\"\"\"\n",
    "        n = len(parent1)\n",
    "        # Seleccionar segmento\n",
    "        start, end = sorted(random.sample(range(n), 2))\n",
    "        \n",
    "        # Crear hijo\n",
    "        child = [None] * n\n",
    "        child[start:end] = parent1[start:end]\n",
    "        \n",
    "        # Mapear el resto\n",
    "        for i in range(n):\n",
    "            if child[i] is None:\n",
    "                current = parent2[i]\n",
    "                while current in child:\n",
    "                    current = parent2[child.index(current)]\n",
    "                child[i] = current\n",
    "        \n",
    "        return child\n",
    "    \n",
    "    def solve(self, verbose=False):\n",
    "        # Generar población inicial con inserción voraz\n",
    "        population = self._greedy_insertion_initial_population()\n",
    "        \n",
    "        best_tour = min(population, key=self._calculate_tour_length)\n",
    "        best_length = self._calculate_tour_length(best_tour)\n",
    "        \n",
    "        for generation in range(self.generations):\n",
    "            # Ordenar población por fitness\n",
    "            population_with_fitness = [(tour, self._calculate_tour_length(tour)) for tour in population]\n",
    "            population_with_fitness.sort(key=lambda x: x[1])\n",
    "            \n",
    "            # Selección de élite\n",
    "            elite_count = int(self.population_size * self.elite_rate)\n",
    "            new_population = [tour for tour, _ in population_with_fitness[:elite_count]]\n",
    "            \n",
    "            while len(new_population) < self.population_size:\n",
    "                # Selección por torneo\n",
    "                parent1 = min(random.sample(population, 3), key=self._calculate_tour_length)\n",
    "                parent2 = min(random.sample(population, 3), key=self._calculate_tour_length)\n",
    "                \n",
    "                # Crossover\n",
    "                child = self._partially_mapped_crossover(parent1, parent2)\n",
    "                \n",
    "                # Mutación\n",
    "                if random.random() < self.mutation_rate:\n",
    "                    child = self._quick_two_opt(child)\n",
    "                \n",
    "                new_population.append(child)\n",
    "            \n",
    "            population = new_population\n",
    "            \n",
    "            # Actualizar mejor solución\n",
    "            current_best = min(population, key=self._calculate_tour_length)\n",
    "            current_best_length = self._calculate_tour_length(current_best)\n",
    "            \n",
    "            if current_best_length < best_length:\n",
    "                best_tour = current_best\n",
    "                best_length = current_best_length\n",
    "                \n",
    "                if verbose:\n",
    "                    print(f\"Generación {generation}: Mejor distancia = {best_length}\")\n",
    "        \n",
    "        best_tour.append(best_tour[0])  # Cerrar el ciclo\n",
    "        return best_tour, best_length"
   ]
  },
  {
   "cell_type": "markdown",
   "metadata": {},
   "source": [
    "Integrado Adrian\n",
    "Hice las modificaciones de clustering y tambien hice un pequeño cambio a como calculamos la matriz de distancias\n"
   ]
  },
  {
   "cell_type": "code",
<<<<<<< HEAD
   "execution_count": 20,
   "metadata": {},
   "outputs": [],
   "source": [
    "import random\n",
    "import math\n",
    "import numpy as np\n",
    "from sklearn.cluster import KMeans\n",
    "from sklearn.preprocessing import MinMaxScaler\n",
    "\n",
    "class FastGeneticTabuTSPWithClustering:\n",
    "    def __init__(self, cities, population_size=100, generations=50, \n",
    "                 mutation_rate=0.2, elite_rate=0.15, num_clusters=5):\n",
    "        self.cities = cities\n",
    "        self.population_size = population_size\n",
    "        self.generations = generations\n",
    "        self.mutation_rate = mutation_rate\n",
    "        self.elite_rate = elite_rate\n",
    "        self.num_clusters = num_clusters\n",
    "        self.distance_matrix = self._generate_distance_matrix()\n",
    "\n",
    "    def _generate_distance_matrix(self):\n",
    "        n = len(self.cities)\n",
    "        coords = np.array(self.cities)\n",
    "        dist_matrix = np.sqrt(((coords[:, None, :] - coords[None, :, :])**2).sum(axis=2))\n",
    "        return np.round(dist_matrix).astype(int)\n",
    "\n",
    "    def _calculate_distance(self, city1, city2):\n",
    "        return round(math.sqrt((city1[0] - city2[0])**2 + (city1[1] - city2[1])**2))\n",
    "\n",
    "    def _calculate_tour_length(self, tour):\n",
    "        total = sum(self.distance_matrix[tour[i]][tour[i+1]] for i in range(len(tour) - 1))\n",
    "        total += self.distance_matrix[tour[-1]][tour[0]]\n",
    "        return total\n",
    "\n",
    "    def _quick_two_opt(self, tour):\n",
    "        n = len(tour)\n",
    "        improved = True\n",
    "        while improved:\n",
    "            improved = False\n",
    "            for i in range(1, n - 1):\n",
    "                for j in range(i + 1, n):\n",
    "                    old_distance = (\n",
    "                        self.distance_matrix[tour[i-1]][tour[i]] + \n",
    "                        self.distance_matrix[tour[j]][tour[(j+1)%n]]\n",
    "                    )\n",
    "                    new_distance = (\n",
    "                        self.distance_matrix[tour[i-1]][tour[j]] + \n",
    "                        self.distance_matrix[tour[i]][tour[(j+1)%n]]\n",
    "                    )\n",
    "                    if new_distance < old_distance:\n",
    "                        tour[i:j+1] = tour[i:j+1][::-1]\n",
    "                        improved = True\n",
    "                        break\n",
    "                if improved:\n",
    "                    break\n",
    "        return tour\n",
    "\n",
    "    def _greedy_tour(self, cities_subset):\n",
    "        n = len(cities_subset)\n",
    "        unvisited = set(range(1, n))\n",
    "        tour = [0]\n",
    "        while unvisited:\n",
    "            last = tour[-1]\n",
    "            next_city = min(unvisited, key=lambda x: self.distance_matrix[last][x])\n",
    "            tour.append(next_city)\n",
    "            unvisited.remove(next_city)\n",
    "        return tour\n",
    "\n",
    "    def _solve_cluster(self, cluster_indices, recursion_depth):\n",
    "        cluster_cities = [self.cities[i] for i in cluster_indices]\n",
    "        sub_tsp = FastGeneticTabuTSPWithClustering(cluster_cities, self.population_size, \n",
    "                                                   self.generations, self.mutation_rate, \n",
    "                                                   self.elite_rate, self.num_clusters)\n",
    "        best_tour, _ = sub_tsp.solve(verbose=False, recursion_depth=recursion_depth+1)\n",
    "        return [cluster_indices[i] for i in best_tour]\n",
    "\n",
    "    def _connect_clusters(self, cluster_tours):\n",
    "        merged_tour = []\n",
    "        for tour in cluster_tours:\n",
    "            merged_tour += tour\n",
    "        return self._quick_two_opt(merged_tour)\n",
    "\n",
    "    def solve(self, verbose=False, recursion_depth=0):\n",
    "        # Límite de recursión\n",
    "        MAX_RECURSION_DEPTH = 3\n",
    "        if recursion_depth >= MAX_RECURSION_DEPTH:\n",
    "            if verbose:\n",
    "                print(f\"Límite de recursión alcanzado. Usando ruta simple.\")\n",
    "            # Devolver una ruta simple si se alcanza el límite de recursión\n",
    "            return list(range(len(self.cities))), self._calculate_tour_length(list(range(len(self.cities))))\n",
    "\n",
    "        # Ajustar el número de clústeres si es necesario\n",
    "        if len(self.cities) < self.num_clusters:\n",
    "            self.num_clusters = len(self.cities)\n",
    "            if verbose:\n",
    "                print(f\"Reduciendo el número de clústeres a {self.num_clusters} debido a la cantidad limitada de ciudades.\")\n",
    "\n",
    "        # Normalizar las coordenadas\n",
    "        scaler = MinMaxScaler()\n",
    "        city_coords = scaler.fit_transform(np.array(self.cities))\n",
    "\n",
    "        # Clustering de las ciudades\n",
    "        kmeans = KMeans(n_clusters=self.num_clusters, random_state=42).fit(city_coords)\n",
    "        cluster_labels = kmeans.labels_\n",
    "\n",
    "        # Resolver TSP en cada clúster\n",
    "        cluster_tours = []\n",
    "        for cluster_id in range(self.num_clusters):\n",
    "            cluster_indices = [i for i, label in enumerate(cluster_labels) if label == cluster_id]\n",
    "            if verbose:\n",
    "                print(f\"Resolviendo clúster {cluster_id} con {len(cluster_indices)} ciudades.\")\n",
    "            cluster_tour = self._solve_cluster(cluster_indices, recursion_depth)\n",
    "            cluster_tours.append(cluster_tour)\n",
    "\n",
    "        # Conectar los clústeres\n",
    "        if verbose:\n",
    "            print(\"Conectando clústeres...\")\n",
    "        final_tour = self._connect_clusters(cluster_tours)\n",
    "        final_length = self._calculate_tour_length(final_tour)\n",
    "\n",
    "        return final_tour, final_length\n"
   ]
  },
  {
   "cell_type": "code",
   "execution_count": 18,
=======
   "execution_count": 26,
>>>>>>> 4f4b28a9ae92aa37f201948d18ec63e0dac8012f
   "metadata": {},
   "outputs": [],
   "source": [
    "import plotly.graph_objects as go\n",
    "\n",
    "def plot_route(cities, route, title=\"TSP Route\"):\n",
    "    \"\"\"\n",
    "    Graficar la ruta del TSP utilizando Plotly y rotando la gráfica 90º.\n",
    "\n",
    "    :param cities: Lista de coordenadas de las ciudades [(x1, y1), (x2, y2), ..., (xn, yn)].\n",
    "    :param route: Lista de índices que indica el orden de las ciudades visitadas en la ruta.\n",
    "    :param title: Título de la gráfica.\n",
    "    \"\"\"\n",
    "    # Cerrar todas las gráficas previas antes de mostrar una nueva\n",
    "    # Plotly no requiere cerrar gráficos previos, cada figura se muestra por separado\n",
    "\n",
    "    # Obtener las coordenadas de las ciudades según el orden de la ruta\n",
    "    ordered_cities = [cities[i] for i in route]\n",
    "    \n",
    "    # Añadir la ciudad de inicio al final para formar un ciclo\n",
    "    ordered_cities.append(ordered_cities[0])\n",
    "    \n",
    "    # Desempaquetar las coordenadas\n",
    "    x, y = zip(*ordered_cities)\n",
    "\n",
    "    # Crear la gráfica con Plotly, girando 90º (intercambiando x e y)\n",
    "    fig = go.Figure()\n",
    "\n",
    "    # Añadir la ruta\n",
    "    fig.add_trace(go.Scatter(x=y, y=x, mode='lines+markers', marker=dict(size=6, color='blue'), name='Ruta'))\n",
    "\n",
    "    # Añadir etiquetas de las ciudades\n",
    "    for i, city in enumerate(ordered_cities[:-1]):  # No etiquetar el último (es el mismo que el primero)\n",
    "        fig.add_trace(go.Scatter(x=[city[1]], y=[city[0]], mode='text', text=[str(i)], textposition=\"top center\"))\n",
    "\n",
    "    # Configurar el título y los ejes\n",
    "    fig.update_layout(\n",
    "        title=title,\n",
    "        xaxis_title='Coordenada Y',  # Y ahora es lo que estaba en X\n",
    "        yaxis_title='Coordenada X',  # X ahora es lo que estaba en Y\n",
    "        showlegend=False,\n",
    "        height=700,\n",
    "        width=800\n",
    "    )\n",
    "\n",
    "    # Mostrar la gráfica\n",
    "    fig.show()"
   ]
  },
  {
   "cell_type": "code",
<<<<<<< HEAD
   "execution_count": 21,
=======
   "execution_count": 27,
>>>>>>> 4f4b28a9ae92aa37f201948d18ec63e0dac8012f
   "metadata": {},
   "outputs": [
    {
     "name": "stdout",
     "output_type": "stream",
     "text": [
<<<<<<< HEAD
      "Resolviendo clúster 0 con 57 ciudades.\n",
      "Resolviendo clúster 1 con 86 ciudades.\n",
      "Resolviendo clúster 2 con 71 ciudades.\n",
      "Resolviendo clúster 3 con 57 ciudades.\n",
      "Resolviendo clúster 4 con 79 ciudades.\n",
      "Resolviendo clúster 5 con 52 ciudades.\n",
      "Resolviendo clúster 6 con 67 ciudades.\n",
      "Resolviendo clúster 7 con 73 ciudades.\n",
      "Resolviendo clúster 8 con 79 ciudades.\n",
      "Resolviendo clúster 9 con 113 ciudades.\n",
      "Conectando clústeres...\n",
      "Best tour: [249, 253, 215, 205, 196, 192, 184, 187, 171, 157, 163, 143, 135, 197, 200, 176, 172, 140, 128, 144, 147, 151, 127, 115, 101, 100, 93, 105, 121, 137, 145, 152, 153, 148, 134, 129, 138, 154, 165, 174, 188, 202, 173, 182, 193, 201, 210, 216, 217, 231, 224, 222, 218, 225, 240, 259, 272, 237, 254, 258, 287, 286, 289, 285, 257, 274, 282, 307, 319, 355, 332, 310, 298, 303, 275, 263, 229, 206, 198, 185, 199, 175, 177, 166, 178, 167, 162, 160, 156, 159, 155, 158, 149, 118, 111, 106, 87, 110, 113, 116, 96, 81, 95, 102, 98, 86, 77, 63, 31, 29, 32, 34, 36, 47, 60, 58, 56, 51, 48, 41, 70, 64, 61, 69, 88, 89, 107, 103, 112, 130, 136, 141, 139, 150, 133, 131, 124, 142, 146, 204, 233, 235, 97, 91, 68, 59, 54, 37, 30, 28, 50, 42, 38, 39, 33, 27, 25, 23, 22, 19, 13, 8, 12, 11, 14, 9, 7, 3, 4, 1, 6, 16, 18, 20, 24, 21, 17, 10, 5, 2, 0, 15, 26, 46, 76, 45, 35, 44, 57, 67, 75, 74, 73, 66, 62, 53, 52, 55, 49, 43, 40, 65, 82, 94, 99, 119, 125, 120, 123, 122, 71, 72, 104, 161, 164, 168, 179, 189, 207, 244, 252, 268, 261, 269, 262, 288, 280, 255, 256, 246, 245, 212, 180, 191, 214, 211, 236, 190, 194, 186, 195, 183, 169, 170, 132, 117, 108, 109, 92, 83, 84, 78, 79, 80, 85, 90, 114, 126, 181, 208, 228, 239, 241, 247, 270, 313, 356, 325, 347, 352, 337, 336, 324, 321, 312, 316, 295, 294, 291, 330, 351, 364, 380, 400, 371, 386, 383, 373, 374, 411, 401, 378, 420, 462, 448, 454, 471, 482, 472, 480, 500, 514, 519, 521, 518, 512, 508, 517, 526, 543, 538, 542, 550, 558, 557, 571, 584, 575, 590, 613, 622, 632, 631, 621, 617, 612, 629, 601, 566, 536, 534, 513, 497, 498, 507, 522, 535, 525, 516, 511, 503, 475, 459, 442, 425, 418, 453, 461, 479, 489, 499, 493, 492, 484, 478, 469, 464, 452, 458, 488, 491, 487, 502, 510, 547, 563, 587, 585, 606, 576, 580, 561, 570, 577, 559, 555, 541, 556, 574, 578, 583, 588, 579, 589, 620, 611, 616, 610, 600, 599, 636, 641, 649, 664, 670, 663, 658, 662, 609, 603, 615, 623, 618, 630, 614, 605, 598, 591, 572, 551, 540, 533, 496, 477, 474, 485, 506, 532, 529, 537, 554, 569, 604, 608, 628, 627, 626, 643, 644, 645, 639, 642, 654, 657, 650, 653, 665, 671, 677, 684, 687, 694, 695, 686, 690, 696, 704, 703, 700, 707, 708, 714, 720, 719, 730, 729, 727, 718, 717, 728, 732, 731, 726, 725, 713, 716, 712, 709, 701, 706, 702, 699, 681, 697, 705, 724, 721, 715, 710, 698, 689, 685, 680, 673, 659, 668, 656, 676, 672, 688, 661, 648, 646, 637, 624, 619, 573, 562, 597, 625, 635, 634, 638, 652, 655, 647, 669, 679, 683, 675, 674, 682, 693, 723, 692, 678, 667, 660, 640, 691, 722, 733, 711, 651, 553, 567, 595, 602, 568, 581, 596, 582, 586, 560, 549, 528, 509, 505, 520, 524, 490, 483, 504, 501, 486, 476, 456, 436, 433, 449, 431, 422, 412, 413, 385, 399, 434, 457, 441, 417, 407, 409, 415, 421, 435, 437, 438, 447, 450, 445, 446, 423, 394, 410, 389, 391, 367, 363, 339, 335, 329, 331, 342, 311, 305, 293, 265, 264, 260, 251, 300, 304, 279, 271, 267, 276, 266, 219, 226, 230, 223, 232, 234, 250, 242, 238, 243, 273, 283, 299, 328, 327, 338, 344, 345, 334, 370, 377, 369, 368, 359, 323, 320, 315, 297, 290, 309, 322, 340, 333, 341, 350, 354, 343, 358, 346, 362, 372, 404, 405, 430, 432, 429, 416, 382, 379, 376, 375, 388, 408, 440, 419, 428, 427, 444, 424, 443, 470, 468, 473, 495, 527, 546, 531, 565, 633, 666, 594, 552, 564, 593, 607, 592, 548, 544, 545, 539, 530, 515, 523, 481, 465, 455, 426, 403, 393, 390, 398, 381, 397, 406, 451, 463, 494, 466, 467, 460, 439, 414, 402, 387, 392, 395, 396, 384, 365, 366, 353, 349, 306, 281, 314, 302, 318, 326, 348, 361, 360, 357, 308, 317, 301, 296, 292, 284, 277, 278, 248, 220, 209, 203, 213, 221, 227] \n",
      "Best length: 86622\n"
=======
      "Generación 0: Mejor distancia = 9953\n",
      "Generación 1: Mejor distancia = 9885\n",
      "Generación 2: Mejor distancia = 9808\n",
      "Generación 5: Mejor distancia = 9739\n",
      "Generación 8: Mejor distancia = 9512\n",
      "Generación 17: Mejor distancia = 9490\n",
      "Generación 18: Mejor distancia = 9481\n",
      "Generación 19: Mejor distancia = 9464\n",
      "Generación 21: Mejor distancia = 9457\n",
      "Generación 28: Mejor distancia = 9448\n",
      "Generación 29: Mejor distancia = 9430\n",
      "Generación 31: Mejor distancia = 9427\n",
      "Best tour: [0, 5, 7, 15, 12, 22, 24, 13, 10, 6, 16, 25, 23, 20, 17, 32, 27, 28, 21, 26, 36, 44, 56, 59, 68, 73, 71, 77, 74, 75, 86, 79, 70, 81, 61, 58, 35, 62, 19, 64, 84, 85, 97, 89, 88, 93, 98, 100, 103, 110, 129, 126, 124, 125, 131, 133, 136, 139, 144, 155, 148, 145, 141, 137, 138, 153, 156, 152, 149, 143, 140, 151, 146, 158, 157, 161, 166, 164, 167, 176, 180, 183, 174, 172, 173, 178, 171, 163, 162, 160, 168, 175, 181, 193, 185, 182, 186, 189, 191, 190, 188, 187, 192, 184, 179, 177, 169, 170, 165, 159, 154, 150, 147, 142, 135, 130, 128, 134, 132, 127, 123, 122, 119, 120, 116, 115, 114, 111, 109, 99, 107, 106, 104, 105, 117, 121, 118, 113, 112, 108, 101, 102, 90, 92, 95, 94, 96, 91, 87, 82, 78, 80, 83, 76, 69, 63, 67, 65, 72, 66, 60, 57, 46, 50, 38, 33, 39, 42, 37, 40, 45, 47, 51, 52, 55, 53, 54, 48, 49, 41, 43, 34, 30, 31, 29, 18, 14, 11, 9, 8, 4, 2, 1, 3, 0] \n",
      "Best length: 9427\n"
>>>>>>> 4f4b28a9ae92aa37f201948d18ec63e0dac8012f
     ]
    }
   ],
   "source": [
    "file_path = \"Uruguay.txt\"\n",
    "cities = load_cities_from_file(file_path)\n",
    "genetic_solver = FastGeneticTabuTSPWithClustering(cities, num_clusters=10)\n",
    "best_tour, best_length = genetic_solver.solve(verbose=True)\n",
    "print(\"Best tour:\", best_tour, \"\\nBest length:\", best_length)"
   ]
  },
  {
   "cell_type": "code",
<<<<<<< HEAD
   "execution_count": 29,
=======
   "execution_count": 28,
>>>>>>> 4f4b28a9ae92aa37f201948d18ec63e0dac8012f
   "metadata": {},
   "outputs": [
    {
     "data": {
      "application/vnd.plotly.v1+json": {
       "config": {
        "plotlyServerURL": "https://plot.ly"
       },
       "data": [
        {
         "marker": {
          "color": "blue",
          "size": 6
         },
         "mode": "lines+markers",
         "name": "Ruta",
         "type": "scatter",
         "x": [
<<<<<<< HEAD
          32633.3333,
          32616.6667,
          32600,
          32666.6667,
          32750,
          32766.6667,
          32983.3333,
          32933.3333,
          32983.3333,
          32983.3333,
          32866.6667,
          32766.6667,
          32716.6667,
          32616.6667,
          32466.6667,
          32383.3333,
          32350,
          32066.6667,
          31966.6667,
          31783.3333,
          31716.6667,
          31533.3333,
          31450,
          31333.3333,
          31583.3333,
          31583.3333,
          31583.3333,
          31533.3333,
          31516.6667,
          31183.3333,
          31116.6667,
          30900,
          30700,
          30700,
          30850,
          30866.6667,
          30900,
          30666.6667,
          30433.3333,
          30500,
          30233.3333,
          30150,
          30033.3333,
          30166.6667,
          30200,
          30233.3333,
          30400,
          30516.6667,
          30450,
          30483.3333,
          30550,
          30700,
          30800,
          30950,
          30966.6667,
          30916.6667,
          30950,
          30950,
          31000,
          31050,
          31066.6667,
          31066.6667,
          31050,
          31033.3333,
          31033.3333,
          31033.3333,
          31033.3333,
          31066.6667,
          31100,
          31333.3333,
          31566.6667,
          31566.6667,
          31783.3333,
          31816.6667,
          32216.6667,
          32016.6667,
          31850,
          31683.3333,
          31766.6667,
          32050,
          32116.6667,
          32116.6667,
          32166.6667,
          32383.3333,
          31983.3333,
          31750,
          31833.3333,
          31636.1111,
          31466.6667,
          31433.3333,
          31266.6667,
          31083.3333,
          30833.3333,
          30800,
          30816.6667,
          30836.1111,
          30916.6667,
          30733.3333,
          30800,
          30786.1111,
          30266.6667,
          30200,
          30050,
          29916.6667,
          29884.7222,
          30033.3333,
          30400,
          30533.3333,
          30516.6667,
          30366.6667,
          30483.3333,
          30533.3333,
          30516.6667,
          30758.3333,
          30666.6667,
          30833.3333,
          30750,
          30783.3333,
          30833.3333,
          31166.6667,
          31216.6667,
          31433.3333,
          31166.6667,
          31033.3333,
          30900,
          30533.3333,
          30183.3333,
          30016.6667,
          29933.3333,
          30000,
          30050,
          29884.7222,
          29691.6667,
          29533.3333,
          29266.6667,
          29300,
          28933.3333,
          28916.6667,
          28746.6667,
          28746.1111,
          28719.7222,
          28702.5,
          28659.4444,
          28641.9444,
          28638.0556,
          28629.4444,
          28618.3333,
          28611.1111,
          28615.5556,
          28609.7222,
          28600,
          28595,
          28595.2778,
          28589.1667,
          28583.6111,
          28578.6111,
          28573.8889,
          28558.3333,
          28558.6111,
          28567.5,
          28577.2222,
          28581.9444,
          28581.6667,
          28568.3333,
          28559.1667,
          28550,
          28534.4444,
          28531.9444,
          28495,
          28516.9444,
          28534.1667,
          28542.7778,
          28556.3889,
          28560,
          28553.8889,
          28564.4444,
          28568.6111,
          28571.3889,
          28578.6111,
          28586.1111,
          28593.8889,
          28601.1111,
          28609.7222,
          28618.0556,
          28610,
          28601.1111,
          28584.7222,
          28583.3333,
          28575.2778,
          28564.4444,
          28552.5,
          28543.8889,
          28528.6111,
          28532.5,
          28531.6667,
          28540.8333,
          28529.4444,
          28521.1111,
          28525.2778,
          28536.6667,
          28538.8889,
          28525,
          28508.0556,
          28492.2222,
          28517.2222,
          28505.8333,
          28494.7222,
          28485.8333,
          28473.3333,
          28456.9444,
          28406.6667,
          28429.4444,
          28475,
          28495.5556,
          28498.8889,
          28500,
          28517.5,
          28511.1111,
          28527.7778,
          28550,
          28558.8889,
          28553.8889,
          28551.9444,
          28568.8889,
          28574.4444,
          28578.0556,
          28570,
          28568.8889,
          28578.6111,
          28583.8889,
          28589.4444,
          28596.9444,
          28591.9444,
          28596.3889,
          28586.1111,
          28582.2222,
          28585.2778,
          28590.5556,
          28597.7778,
          28606.6667,
          28610.2778,
          28611.6667,
          28612.7778,
          28622.7778,
          28621.9444,
          28638.3333,
          28645.2778,
          28652.7778,
          28652.7778,
          28658.3333,
          28680.8333,
          28685.5556,
          28679.4444,
          28671.3889,
          28650.5556,
          28631.1111,
          28615.2778,
          28605.8333,
          28604.7222,
          28609.7222,
          28602.7778,
          28603.0556,
          28591.1111,
          28600,
          28594.7222,
          28595.2778,
          28616.6667,
          28616.1111,
          28622.7778,
          28652.5,
          28662.7778,
          28667.7778,
          28649.1667,
          28630.2778,
          28633.3333,
          28636.1111,
          28620.5556,
          28620,
          28631.9444,
          28652.5,
          28664.7222,
          28681.6667,
          28711.1111,
          28721.3889,
          28714.7222,
          28735.5556,
          28737.2222,
          28783.3333,
          28850,
          28933.3333,
          28750,
          28766.6667,
          28800,
          28850,
          29200,
          29366.6667,
          29500,
          29666.6667,
          29750,
          29816.6667,
          29766.6667,
          29750,
          29600,
          29566.6667,
          29616.6667,
          29816.6667,
          29800,
          29783.3333,
          29733.3333,
          29816.6667,
          29833.3333,
          30050,
          30100,
          30283.3333,
          30533.3333,
          30700,
          30816.6667,
          31050,
          31283.3333,
          31566.6667,
          31516.6667,
          31400,
          31350,
          31366.6667,
          31550,
          31400,
          31333.3333,
          31316.6667,
          31216.6667,
          31233.3333,
          31200,
          31133.3333,
          31100,
          31166.6667,
          31100,
          31100,
          31066.6667,
          31250,
          31383.3333,
          31316.6667,
          31183.3333,
          31145.2778,
          31130,
          31123.0556,
          31141.1111,
          31140.2778,
          31152.2222,
          31142.7778,
          31136.6667,
          31136.1111,
          31133.3333,
          31129.1667,
          31116.6667,
          31121.3889,
          31113.3333,
          31111.9444,
          31102.5,
          31093.0556,
          31100,
          31096.6667,
          31093.3333,
          31091.6667,
          31082.2222,
          31074.1667,
          31066.6667,
          31048.3333,
          31041.6667,
          31048.6111,
          31053.6111,
          31047.5,
          31043.6111,
          31036.9444,
          31031.1111,
          31030.5556,
          31041.9444,
          31046.1111,
          31051.6667,
          31083.3333,
          31133.3333,
          31048.0556,
          31026.9444,
          31010.5556,
          30992.2222,
          31006.3889,
          31016.6667,
          31018.6111,
          31024.1667,
          31030.5556,
          31030.8333,
          31022.5,
          31009.1667,
          31009.1667,
          31001.9444,
          30981.3889,
          30982.7778,
          30955.2778,
          30936.6667,
          30931.3889,
          30921.9444,
          30915.2778,
          30900,
          30925.2778,
          30965.5556,
          30983.0556,
          30987.5,
          31003.3333,
          31014.1667,
          31016.6667,
          31024.7222,
          31044.1667,
          31050,
          31054.7222,
          31060.5556,
          31070.8333,
          31075.5556,
          31078.0556,
          31093.3333,
          31081.6667,
          31092.5,
          31101.9444,
          31113.6111,
          31121.6667,
          31118.0556,
          31099.4444,
          31100.2778,
          31098.8889,
          31110.2778,
          31115.5556,
          31122.7778,
          31133.3333,
          31128.8889,
          31122.7778,
          31124.4444,
          31116.6667,
          31112.5,
          31090.8333,
          31071.3889,
          31095.2778,
          31084.7222,
          31083.8889,
          31070.5556,
          31066.6667,
          31066.6667,
          31056.6667,
          31060.8333,
          31051.3889,
          31033.3333,
          31023.0556,
          31029.7222,
          31042.2222,
          31016.6667,
          31002.2222,
          31009.1667,
          31019.7222,
          31011.1111,
          31008.6111,
          31010.5556,
          31002.5,
          30977.5,
          30958.3333,
          30974.4444,
          30983.3333,
          30992.2222,
          31005.5556,
          30991.9444,
          30987.7778,
          30993.8889,
          31015,
          31016.6667,
          30979.1667,
          30967.2222,
          30950,
          30941.6667,
          30945.5556,
          30915.8333,
          30905.2778,
          30927.2222,
          30920.8333,
          30929.7222,
          30900,
          30933.3333,
          30866.6667,
          30700,
          30683.3333,
          30683.3333,
          30600,
          30600,
          30583.3333,
          30566.6667,
          30450,
          30433.3333,
          30400,
          30166.6667,
          30150,
          30133.3333,
          30150,
          30216.6667,
          30083.3333,
          29983.3333,
          29916.6667,
          29916.6667,
          29916.6667,
          29933.3333,
          29900,
          29850,
          29850,
          29600,
          29800,
          29883.3333,
          29866.6667,
          29816.6667,
          29833.3333,
          29783.3333,
          29450,
          29416.6667,
          29300,
          29250,
          28900,
          28816.6667,
          28683.3333,
          28666.6667,
          28650,
          28500,
          28466.6667,
          28333.3333,
          28533.3333,
          28550,
          28600,
          28716.6667,
          28666.6667,
          28950,
          28750,
          28566.6667,
          28466.6667,
          28450,
          28400,
          28033.3333,
          27766.6667,
          27733.3333,
          27750,
          27750,
          27733.3333,
          27716.6667,
          27650,
          27616.6667,
          27550,
          27550,
          27516.6667,
          27516.6667,
          27500,
          27466.6667,
          27433.3333,
          27500,
          27533.3333,
          27600,
          27633.3333,
          27633.3333,
          27633.3333,
          27633.3333,
          27666.6667,
          27700,
          27700,
          27716.6667,
          27666.6667,
          27650,
          27633.3333,
          27650,
          27683.3333,
          27633.3333,
          27633.3333,
          27600,
          27600,
          27566.6667,
          27550,
          27533.3333,
          27516.6667,
          27516.6667,
          27533.3333,
          27516.6667,
          27483.3333,
          27433.3333,
          27450,
          27416.6667,
          27366.6667,
          27400,
          27466.6667,
          27516.6667,
          27516.6667,
          27533.3333,
          27583.3333,
          27600,
          27616.6667,
          27650,
          27683.3333,
          27683.3333,
          27666.6667,
          27633.3333,
          27650,
          27666.6667,
          27716.6667,
          27700,
          27966.6667,
          27766.6667,
          27516.6667,
          27416.6667,
          27416.6667,
          27433.3333,
          27466.6667,
          27550,
          28016.6667,
          27983.3333,
          27950,
          27833.3333,
          28383.3333,
          28933.3333,
          28900,
          29016.6667,
          28933.3333,
          29200,
          29300,
          29416.6667,
          29416.6667,
          29683.3333,
          29750,
          29883.3333,
          29766.6667,
          29933.3333,
          29983.3333,
          30316.6667,
          29250,
          28850,
          28800,
          28800,
          28350,
          28400,
          28400,
          28600,
          28433.3333,
          28266.6667,
          28116.6667,
          28066.6667,
          28050,
          27983.3333,
          27950,
          27883.3333,
          27900,
          27716.6667,
          27333.3333,
          27300,
          27133.3333,
          27500,
          27566.6667,
          27450,
          27400,
          27066.6667,
          26483.3333,
          25833.3333,
          26316.6667,
          26866.6667,
          27166.6667,
          27166.6667,
          27333.3333,
          27333.3333,
          27366.6667,
          27383.3333,
          27400,
          27400,
          27366.6667,
          27366.6667,
          27283.3333,
          27283.3333,
          27283.3333,
          27316.6667,
          27333.3333,
          27283.3333,
          27200,
          27233.3333,
          27250,
          27233.3333,
          27200,
          27183.3333,
          27150,
          27166.6667,
          27133.3333,
          27083.3333,
          27066.6667,
          27066.6667,
          27066.6667,
          27050,
          27033.3333,
          27016.6667,
          27033.3333,
          27050,
          27016.6667,
          27016.6667,
          26983.3333,
          26966.6667,
          26916.6667,
          26916.6667,
          27033.3333,
          27050,
          27066.6667,
          27083.3333,
          27066.6667,
          27100,
          27100,
          27133.3333,
          27133.3333,
          27133.3333,
          27116.6667,
          27100,
          27083.3333,
          27066.6667,
          27050,
          27033.3333,
          26966.6667,
          27016.6667,
          27033.3333,
          27066.6667,
          27083.3333,
          27133.3333,
          27150,
          27166.6667,
          27166.6667,
          27233.3333,
          27216.6667,
          27183.3333,
          27250,
          27316.6667,
          27216.6667,
          27216.6667,
          27233.3333,
          27266.6667,
          27333.3333,
          27300,
          27283.3333,
          27300,
          27600,
          27483.3333,
          27416.6667,
          27400,
          27366.6667,
          27383.3333,
          27400,
          27416.6667,
          27466.6667,
          27400,
          27333.3333,
          27383.3333,
          27416.6667,
          27433.3333,
          27466.6667,
          27500,
          27566.6667,
          27550,
          27516.6667,
          27466.6667,
          27416.6667,
          27400,
          27433.3333,
          27450,
          27466.6667,
          27483.3333,
          27533.3333,
          27566.6667,
          27666.6667,
          27716.6667,
          27683.3333,
          27650,
          27616.6667,
          27583.3333,
          27600,
          27616.6667,
          27616.6667,
          27633.3333,
          27650,
          27616.6667,
          27650,
          27716.6667,
          27683.3333,
          27650,
          27683.3333,
          27650,
          27683.3333,
          27700,
          27716.6667,
          27766.6667,
          27766.6667,
          27750,
          27783.3333,
          27783.3333,
          27800,
          27833.3333,
          27866.6667,
          27783.3333,
          27783.3333,
          27783.3333,
          27700,
          27766.6667,
          27766.6667,
          27666.6667,
          27650,
          27700,
          27766.6667,
          27766.6667,
          27900,
          27950,
          27933.3333,
          28266.6667,
          28278.8889,
          28216.6667,
          28333.3333,
          28383.3333,
          28400,
          28416.6667,
          28483.3333,
          28600,
          28900,
          28983.3333,
          29050,
          29055.5556,
          29151.3889,
          29283.3333,
          29316.6667,
          29333.3333,
          29683.3333,
          29701.3889,
          29533.3333,
          29441.6667,
          29366.6667,
          29216.6667,
          29033.3333,
          29000,
          28950,
          28450,
          28466.6667,
          28066.6667,
          27816.6667,
          27850,
          27716.6667,
          27850,
          28083.3333,
          28533.3333,
          28855.5556,
          28866.6667,
          28933.3333,
          29124.7222,
          29200,
          29200,
          29350,
          29400,
          29366.6667,
          29366.6667,
          29366.6667,
          29583.3333,
          29533.3333,
          29900,
          29866.6667,
          30027.2222,
          30166.6667,
          30150,
          30066.6667,
          30000,
          30350,
          30633.3333,
          30650,
          30666.6667,
          30783.3333,
          30933.3333,
          31416.6667,
          31627.7778,
          31570.8333,
          32100,
          32033.3333,
          31583.3333,
          31483.3333,
          31316.6667,
          31250,
          30728.8889,
          30733.3333,
          30733.3333,
          31016.6667,
          31283.3333,
          31366.6667,
          31450,
          31533.3333,
          31550,
          31666.6667,
          31733.3333,
          31625,
          31397.2222,
          31113.8889,
          31316.6667,
          31450,
          31450,
          31416.6667,
          31333.3333,
          31616.6667,
          32333.3333,
          32100,
          31963.8889,
          31866.6667,
          32233.3333,
          32266.6667,
          32400,
          32250,
          32400,
          32483.3333,
          32500,
          32600,
          32616.6667,
          32616.6667,
          32650,
          32733.3333,
          32783.3333,
          32866.6667,
          32800,
          32783.3333,
          32666.6667,
          32416.6667,
          32466.6667,
          32550,
          32616.6667,
          32583.3333,
          32583.3333,
          32616.6667,
          32666.6667,
          32683.3333,
          32800,
          32633.3333
         ],
         "y": [
          18683.3333,
          18650,
          18366.6667,
          18366.6667,
          18216.6667,
          17816.6667,
          17433.3333,
          17400,
          17366.6667,
          17333.3333,
          16966.6667,
          16716.6667,
          17216.6667,
          17283.3333,
          17283.3333,
          17150,
          17100,
          16933.3333,
          16700,
          16733.3333,
          16933.3333,
          16916.6667,
          17016.6667,
          16950,
          16783.3333,
          16566.6667,
          16200,
          16233.3333,
          16250,
          16516.6667,
          16800,
          16716.6667,
          16666.6667,
          16916.6667,
          17033.3333,
          17033.3333,
          17133.3333,
          17150,
          17033.3333,
          16950,
          16750,
          16900,
          17266.6667,
          17416.6667,
          17366.6667,
          17350,
          17383.3333,
          17316.6667,
          17533.3333,
          17650,
          17716.6667,
          17883.3333,
          17666.6667,
          17633.3333,
          17516.6667,
          17466.6667,
          17383.3333,
          17366.6667,
          17233.3333,
          17266.6667,
          17266.6667,
          17283.3333,
          17283.3333,
          17316.6667,
          17333.3333,
          17366.6667,
          17383.3333,
          17350,
          17366.6667,
          17300,
          17316.6667,
          17683.3333,
          17650,
          17550,
          17400,
          17616.6667,
          18150,
          18166.6667,
          18400,
          18283.3333,
          18533.3333,
          18550,
          18716.6667,
          18966.6667,
          18716.6667,
          19066.6667,
          19716.6667,
          19936.1111,
          20016.6667,
          19966.6667,
          20050,
          20166.6667,
          20083.3333,
          20050,
          20083.3333,
          20177.7778,
          20266.6667,
          20433.3333,
          20800,
          20899.4444,
          20966.6667,
          20850,
          20616.6667,
          20483.3333,
          20280.5556,
          20333.3333,
          20566.6667,
          20550,
          20316.6667,
          20116.6667,
          20050,
          20083.3333,
          20016.6667,
          19894.4444,
          19733.3333,
          19633.3333,
          19583.3333,
          19483.3333,
          19433.3333,
          19650,
          19466.6667,
          19333.3333,
          19083.3333,
          19000,
          19016.6667,
          19283.3333,
          19333.3333,
          19366.6667,
          19533.3333,
          19666.6667,
          19916.6667,
          20032.7778,
          19911.1111,
          20150,
          20016.6667,
          20216.6667,
          20300,
          20233.3333,
          20233.6111,
          20237.2222,
          20233.6111,
          20224.4444,
          20228.0556,
          20240,
          20227.7778,
          20228.0556,
          20228.6111,
          20229.4444,
          20217.5,
          20206.9444,
          20199.1667,
          20205,
          20214.7222,
          20218.6111,
          20222.2222,
          20220,
          20221.6667,
          20214.1667,
          20198.0556,
          20200.8333,
          20201.9444,
          20206.3889,
          20194.4444,
          20191.6667,
          20185.5556,
          20200,
          20201.6667,
          20197.5,
          20185.2778,
          20185,
          20178.8889,
          20172.7778,
          20167.5,
          20159.1667,
          20155.5556,
          20147.2222,
          20162.7778,
          20171.6667,
          20172.2222,
          20184.4444,
          20187.7778,
          20185,
          20179.4444,
          20170.8333,
          20161.3889,
          20158.3333,
          20152.5,
          20150,
          20141.9444,
          20140.2778,
          20138.0556,
          20125.2778,
          20121.6667,
          20136.1111,
          20142.5,
          20145,
          20149.1667,
          20148.3333,
          20154.7222,
          20152.5,
          20162.5,
          20164.1667,
          20160.5556,
          20146.9444,
          20136.1111,
          20136.9444,
          20131.6667,
          20137.5,
          20144.4444,
          20136.6667,
          20075.8333,
          20077.7778,
          20103.3333,
          20122.5,
          20108.3333,
          20100,
          20104.1667,
          20120.2778,
          20113.8889,
          20100,
          20098.8889,
          20093.0556,
          20085,
          20081.1111,
          20092.7778,
          20101.9444,
          20128.8889,
          20135.5556,
          20127.7778,
          20119.4444,
          20119.4444,
          20111.1111,
          20107.5,
          20100.2778,
          20093.3333,
          20090.5556,
          20075,
          20083.3333,
          20093.6111,
          20103.3333,
          20100.8333,
          20098.6111,
          20095,
          20096.1111,
          20103.3333,
          20100,
          20101.3889,
          20106.3889,
          20100.5556,
          20080,
          20097.7778,
          20113.8889,
          20165.2778,
          20168.3333,
          20133.8889,
          20128.3333,
          20116.3889,
          20106.3889,
          20113.6111,
          20123.0556,
          20123.0556,
          20131.1111,
          20131.6667,
          20141.1111,
          20145.8333,
          20149.4444,
          20150,
          20143.3333,
          20142.2222,
          20163.8889,
          20174.7222,
          20187.2222,
          20180.8333,
          20173.0556,
          20183.3333,
          20193.0556,
          20190,
          20198.8889,
          20199.4444,
          20214.4444,
          20215.8333,
          20212.2222,
          20222.2222,
          20208.6111,
          20204.1667,
          20185.8333,
          20149.1667,
          20083.3333,
          20016.6667,
          20000,
          19800,
          19766.6667,
          19716.6667,
          19683.3333,
          19783.3333,
          19783.3333,
          19716.6667,
          19700,
          19500,
          19450,
          19466.6667,
          19466.6667,
          19383.3333,
          19366.6667,
          19283.3333,
          19200,
          19150,
          19033.3333,
          19016.6667,
          18916.6667,
          18916.6667,
          18933.3333,
          18983.3333,
          18950,
          18533.3333,
          18466.6667,
          18716.6667,
          18566.6667,
          18900,
          18616.6667,
          18466.6667,
          18516.6667,
          18383.3333,
          18300,
          18183.3333,
          18183.3333,
          18083.3333,
          18033.3333,
          18083.3333,
          18166.6667,
          18316.6667,
          18316.6667,
          18266.6667,
          18100,
          18033.3333,
          18016.6667,
          17983.3333,
          17900,
          17850,
          17783.3333,
          17850,
          17820,
          17820.8333,
          17812.5,
          17798.0556,
          17793.6111,
          17781.9444,
          17776.6667,
          17760.2778,
          17741.1111,
          17733.3333,
          17735.5556,
          17733.3333,
          17753.0556,
          17766.9444,
          17756.6667,
          17756.9444,
          17756.3889,
          17750.5556,
          17750.2778,
          17745,
          17749.1667,
          17757.2222,
          17756.9444,
          17783.3333,
          17789.7222,
          17782.5,
          17776.6667,
          17768.3333,
          17768.0556,
          17768.6111,
          17771.6667,
          17775,
          17769.1667,
          17756.6667,
          17748.6111,
          17752.5,
          17683.3333,
          17600,
          17733.0556,
          17748.3333,
          17758.8889,
          17750,
          17774.1667,
          17783.3333,
          17780,
          17782.5,
          17796.3889,
          17801.6667,
          17793.6111,
          17794.1667,
          17789.4444,
          17785,
          17770,
          17757.7778,
          17735.5556,
          17753.6111,
          17745.5556,
          17746.1111,
          17735.2778,
          17783.3333,
          17806.1111,
          17797.7778,
          17825.2778,
          17799.1667,
          17802.2222,
          17806.6667,
          17816.6667,
          17814.4444,
          17804.7222,
          17833.3333,
          17845.8333,
          17841.9444,
          17839.7222,
          17830,
          17820.8333,
          17818.3333,
          17808.0556,
          17787.7778,
          17780.5556,
          17781.3889,
          17783.8889,
          17791.3889,
          17808.6111,
          17815.2778,
          17830.8333,
          17835.5556,
          17841.3889,
          17830.2778,
          17833.0556,
          17848.8889,
          17859.7222,
          17879.4444,
          17891.3889,
          17869.1667,
          17878.3333,
          17892.7778,
          17857.2222,
          17852.7778,
          17850.2778,
          17850.2778,
          17850,
          17866.6667,
          17864.4444,
          17860,
          17850.5556,
          17850,
          17859.1667,
          17863.8889,
          17882.7778,
          17879.4444,
          17877.2222,
          17884.4444,
          17893.6111,
          17912.7778,
          17927.5,
          17934.4444,
          17936.1111,
          17944.1667,
          17938.8889,
          17933.6111,
          17916.6667,
          17910.5556,
          17915.2778,
          17885.8333,
          17869.4444,
          17856.6667,
          17848.0556,
          17833.3333,
          17843.8889,
          17855.2778,
          17858.6111,
          17865.2778,
          17846.3889,
          17838.3333,
          17865.8333,
          17866.3889,
          17884.7222,
          17932.5,
          18100,
          18216.6667,
          18266.6667,
          18183.3333,
          18300,
          18383.3333,
          18333.3333,
          18316.6667,
          18316.6667,
          18266.6667,
          18083.3333,
          17966.6667,
          17766.6667,
          17766.6667,
          18033.3333,
          18133.3333,
          18133.3333,
          18300,
          18366.6667,
          18316.6667,
          18350,
          18200,
          18133.3333,
          18100,
          18100,
          18066.6667,
          18116.6667,
          18133.3333,
          18216.6667,
          18350,
          18383.3333,
          18450,
          18600,
          18650,
          18450,
          18483.3333,
          18983.3333,
          19233.3333,
          19000,
          18733.3333,
          18666.6667,
          18783.3333,
          18816.6667,
          18766.6667,
          18800,
          18800,
          19016.6667,
          19016.6667,
          19033.3333,
          19083.3333,
          19150,
          19433.3333,
          19500,
          19483.3333,
          19350,
          19400,
          19400,
          19583.3333,
          19600,
          19583.3333,
          19550,
          19516.6667,
          19500,
          19500,
          19516.6667,
          19483.3333,
          19483.3333,
          19433.3333,
          19450,
          19433.3333,
          19433.3333,
          19383.3333,
          19366.6667,
          19333.3333,
          19333.3333,
          19350,
          19350,
          19383.3333,
          19416.6667,
          19433.3333,
          19466.6667,
          19450,
          19433.3333,
          19416.6667,
          19400,
          19350,
          19333.3333,
          19333.3333,
          19316.6667,
          19300,
          19283.3333,
          19266.6667,
          19233.3333,
          19216.6667,
          19266.6667,
          19300,
          19300,
          19266.6667,
          19216.6667,
          19216.6667,
          19216.6667,
          19266.6667,
          19283.3333,
          19300,
          19266.6667,
          19266.6667,
          19183.3333,
          19183.3333,
          19166.6667,
          19133.3333,
          19166.6667,
          19183.3333,
          19200,
          19133.3333,
          19116.6667,
          19183.3333,
          19200,
          19250,
          19283.3333,
          19283.3333,
          19250,
          19216.6667,
          19100,
          18933.3333,
          18950,
          18966.6667,
          18883.3333,
          18866.6667,
          18900,
          18716.6667,
          18416.6667,
          18300,
          18216.6667,
          18066.6667,
          18150,
          18216.6667,
          17850,
          17683.3333,
          17333.3333,
          17133.3333,
          16950,
          16900,
          16850,
          16816.6667,
          16900,
          16733.3333,
          16666.6667,
          16500,
          16516.6667,
          15700,
          16300,
          16033.3333,
          16516.6667,
          17066.6667,
          16816.6667,
          17083.3333,
          17100,
          17550,
          17416.6667,
          17450,
          17150,
          17183.3333,
          17466.6667,
          17483.3333,
          17483.3333,
          17483.3333,
          17533.3333,
          17616.6667,
          17616.6667,
          17900,
          18016.6667,
          17966.6667,
          18000,
          18116.6667,
          18216.6667,
          18316.6667,
          18366.6667,
          17933.3333,
          18583.3333,
          18616.6667,
          18616.6667,
          18816.6667,
          19283.3333,
          19316.6667,
          19316.6667,
          19350,
          19350,
          19433.3333,
          19466.6667,
          19483.3333,
          19533.3333,
          19483.3333,
          19450,
          19466.6667,
          19416.6667,
          19400,
          19400,
          19433.3333,
          19450,
          19483.3333,
          19466.6667,
          19483.3333,
          19466.6667,
          19416.6667,
          19433.3333,
          19400,
          19400,
          19450,
          19466.6667,
          19483.3333,
          19466.6667,
          19450,
          19416.6667,
          19366.6667,
          19350,
          19383.3333,
          19366.6667,
          19400,
          19383.3333,
          19533.3333,
          19566.6667,
          19550,
          19566.6667,
          19533.3333,
          19500,
          19500,
          19533.3333,
          19533.3333,
          19566.6667,
          19583.3333,
          19616.6667,
          19633.3333,
          19650,
          19633.3333,
          19650,
          19616.6667,
          19666.6667,
          19683.3333,
          19700,
          19700,
          19700,
          19666.6667,
          19650,
          19600,
          19550,
          19516.6667,
          19533.3333,
          19633.3333,
          19666.6667,
          19766.6667,
          19766.6667,
          19833.3333,
          19933.3333,
          19933.3333,
          19950,
          20150,
          20216.6667,
          20233.3333,
          20166.6667,
          20100,
          19966.6667,
          19966.6667,
          19916.6667,
          19850,
          19833.3333,
          19850,
          19833.3333,
          19766.6667,
          19666.6667,
          19683.3333,
          19666.6667,
          19683.3333,
          19700,
          19700,
          19666.6667,
          19650,
          19616.6667,
          19583.3333,
          19550,
          19500,
          19483.3333,
          19483.3333,
          19466.6667,
          19516.6667,
          19516.6667,
          19600,
          19583.3333,
          19633.3333,
          19633.3333,
          19650,
          19666.6667,
          19716.6667,
          19733.3333,
          19766.6667,
          19800,
          19833.3333,
          19850,
          19883.3333,
          19933.3333,
          19850,
          19816.6667,
          19800,
          19783.3333,
          19700,
          19700,
          19666.6667,
          19733.3333,
          19716.6667,
          19750,
          19766.6667,
          19783.3333,
          19750,
          19766.6667,
          19800,
          19850,
          19833.3333,
          19850,
          19916.6667,
          19933.3333,
          20033.3333,
          20050,
          20100,
          20116.6667,
          20150,
          20200,
          20216.6667,
          20116.6667,
          20100,
          20033.3333,
          19866.6667,
          20225.5556,
          20383.3333,
          20366.6667,
          20600,
          20616.6667,
          20683.3333,
          20416.6667,
          20416.6667,
          20400,
          20366.6667,
          20450,
          20516.3889,
          20649.1667,
          20533.3333,
          20516.6667,
          20566.6667,
          20433.3333,
          20749.1667,
          20800,
          20927.7778,
          21066.6667,
          21000,
          20983.3333,
          20933.3333,
          20916.6667,
          21050,
          20916.6667,
          20700,
          20483.3333,
          20600,
          21083.3333,
          21200,
          21500,
          21416.6667,
          21433.3333,
          21516.6667,
          21650,
          21666.9444,
          21700,
          21916.6667,
          21850,
          21850,
          21916.6667,
          21966.6667,
          22016.6667,
          21966.6667,
          21516.6667,
          21433.3333,
          21733.3333,
          21917.2222,
          22016.6667,
          22083.3333,
          22116.6667,
          22216.6667,
          22200,
          22150,
          22083.3333,
          22133.3333,
          22200,
          22233.3333,
          22066.6667,
          21944.7222,
          21815.2778,
          21633.3333,
          21433.3333,
          21466.6667,
          21533.3333,
          21683.3333,
          21583.3333,
          21423.8889,
          21416.6667,
          21250,
          21383.3333,
          21150,
          20950,
          21033.3333,
          21016.6667,
          21166.6667,
          21050,
          20966.6667,
          20698.6111,
          20602.7778,
          20613.8889,
          20550,
          20400,
          20350,
          20216.6667,
          20183.3333,
          20083.3333,
          19966.6667,
          20416.6667,
          20419.4444,
          20466.6667,
          20800,
          20666.6667,
          20550,
          20383.3333,
          20366.6667,
          20433.3333,
          20333.3333,
          20366.6667,
          20300,
          20200,
          20316.6667,
          20316.6667,
          20166.6667,
          19800,
          19600,
          19550,
          19550,
          19766.6667,
          19650,
          19516.6667,
          19166.6667,
          19000,
          18933.3333,
          18983.3333,
          18966.6667,
          18883.3333,
          18733.3333,
          18683.3333
=======
          50840,
          51039.4444,
          51077.5,
          51086.3889,
          51163.6111,
          51174.4444,
          51203.0556,
          51220.8333,
          51218.3333,
          51275.2778,
          51269.4444,
          51330,
          51333.3333,
          51378.8889,
          51394.1667,
          51398.8889,
          51428.8889,
          51452.5,
          51451.6667,
          51495.5556,
          51483.3333,
          51445.5556,
          51424.4444,
          51394.4444,
          51350.2778,
          51333.6111,
          51293.6111,
          51294.7222,
          51281.1111,
          51226.3889,
          51220,
          51183.3333,
          51173.3333,
          51073.0556,
          51003.0556,
          51001.6667,
          50969.1667,
          50883.3333,
          50807.2222,
          50766.6667,
          50793.6111,
          50785.8333,
          50846.6667,
          50925,
          50958.3333,
          50938.8889,
          50965.2778,
          50980.5556,
          50977.2222,
          50958.8889,
          50920.8333,
          51004.1667,
          51050,
          51057.7778,
          51019.7222,
          51023.0556,
          51060.5556,
          51043.8889,
          51033.3333,
          51000,
          51066.6667,
          51083.3333,
          51072.2222,
          51133.3333,
          51152.5,
          51185.2778,
          51201.6667,
          51221.3889,
          51205.5556,
          51205.8333,
          51245.2778,
          51258.3333,
          51298.8889,
          51313.3333,
          51337.5,
          51349.7222,
          51328.0556,
          51283.3333,
          51294.4444,
          51250,
          51258.6111,
          51222.2222,
          51200.2778,
          51166.6667,
          51163.8889,
          51135.8333,
          51116.6667,
          51099.4444,
          51075.2778,
          51066.6667,
          51083.6111,
          51056.9444,
          51083.6111,
          51108.0556,
          51147.2222,
          51166.9444,
          51161.1111,
          51169.1667,
          51216.6667,
          51222.7778,
          51216.6667,
          51244.7222,
          51300,
          51361.6667,
          51316.1111,
          51297.5,
          51333.3333,
          51366.9444,
          51400,
          51456.3889,
          51386.3889,
          51354.7222,
          51441.3889,
          51465.2778,
          51409.4444,
          51395.8333,
          51449.1667,
          51449.7222,
          51483.3333,
          51547.5,
          51591.6667,
          51584.7222,
          51505.8333,
          51468.8889,
          51450,
          51454.4444,
          51475.2778,
          51486.3889,
          51484.7222,
          51485.2778,
          51433.3333,
          51431.9444,
          51408.3333,
          51387.5,
          51372.2222,
          51260.8333,
          51174.4444,
          51092.2222,
          51151.3889,
          51158.6111,
          51242.2222,
          51304.4444,
          51316.6667,
          51362.5,
          51373.6111,
          51383.3333,
          51400.2778,
          51397.5,
          51378.0556,
          51403.8889,
          51422.5,
          51425,
          51457.7778,
          51436.6667,
          51425,
          51438.6111,
          51470,
          51495.5556,
          51507.5,
          51507.7778,
          51507.7778,
          51520.8333,
          51512.5,
          51504.1667,
          51505.8333,
          51516.3889,
          51523.0556,
          51525.5556,
          51532.7778,
          51533.6111,
          51535,
          51533.3333,
          51534.1667,
          51533.3333,
          51528.3333,
          51537.7778,
          51546.6667,
          51546.6667,
          51555.2778,
          51547.7778,
          51541.3889,
          51545.2778,
          51535.2778,
          51549.7222,
          51559.1667,
          51619.1667,
          51606.9444,
          51537.7778,
          51521.6667,
          51516.6667,
          51548.8889,
          51394.7222,
          51211.9444,
          51175,
          50840,
          50840
         ],
         "y": [
          24748.3333,
          25010,
          25067.7778,
          25168.8889,
          25158.3333,
          25224.1667,
          25234.1667,
          25162.2222,
          25121.9444,
          25030.8333,
          25173.8889,
          25235.5556,
          25233.3333,
          25214.4444,
          25210.8333,
          25256.9444,
          25242.7778,
          25243.0556,
          25223.3333,
          25235.5556,
          25266.6667,
          25279.1667,
          25291.9444,
          25300.8333,
          25326.6667,
          25358.8889,
          25340.5556,
          25377.7778,
          25363.6111,
          25368.6111,
          25433.3333,
          25400,
          25339.1667,
          25404.7222,
          25311.9444,
          25298.6111,
          25266.6667,
          25313.8889,
          25214.1667,
          25316.6667,
          25419.4444,
          25429.7222,
          25495,
          25451.3889,
          25444.4444,
          25480.5556,
          25495,
          25500.8333,
          25533.3333,
          25567.5,
          25751.9444,
          25723.0556,
          25716.6667,
          25717.5,
          25765.2778,
          25775.8333,
          25808.3333,
          25826.6667,
          25850,
          25900,
          25866.6667,
          25856.6667,
          25833.3333,
          25816.6667,
          25823.6111,
          25883.0556,
          25904.1667,
          25880.8333,
          25867.7778,
          25847.7778,
          25829.7222,
          25872.5,
          25857.5,
          25937.5,
          25928.3333,
          25951.6667,
          25983.6111,
          25966.6667,
          26000.2778,
          26050,
          26067.2222,
          26077.2222,
          26033.6111,
          26033.3333,
          26033.6111,
          26050.5556,
          26033.3333,
          25958.3333,
          25957.7778,
          25950,
          26008.6111,
          26048.8889,
          26074.7222,
          26150.2778,
          26083.6111,
          26076.6667,
          26099.7222,
          26123.6111,
          26133.3333,
          26123.6111,
          26116.6667,
          26108.0556,
          26133.3333,
          26078.0556,
          26055,
          26050.2778,
          26016.6667,
          26021.6667,
          25983.3333,
          25944.7222,
          25888.0556,
          25871.9444,
          25857.5,
          25839.1667,
          25793.3333,
          25758.3333,
          25751.1111,
          25779.1667,
          25772.2222,
          25734.7222,
          25708.3333,
          25700.8333,
          25683.8889,
          25686.3889,
          25645.8333,
          25622.5,
          25610.2778,
          25574.7222,
          25566.9444,
          25497.5,
          25550,
          25549.7222,
          25538.8889,
          25545.8333,
          25650,
          25696.1111,
          25666.9444,
          25609.4444,
          25585.5556,
          25560.2778,
          25510.5556,
          25531.9444,
          25459.1667,
          25478.0556,
          25490.5556,
          25483.3333,
          25492.2222,
          25469.7222,
          25440.8333,
          25416.9444,
          25396.9444,
          25400,
          25416.9444,
          25374.4444,
          25337.5,
          25315.2778,
          25325.2778,
          25320.5556,
          25341.9444,
          25322.5,
          25306.9444,
          25292.5,
          25281.3889,
          25286.1111,
          25270.8333,
          25263.6111,
          25270.8333,
          25278.3333,
          25270.5556,
          25275.8333,
          25281.1111,
          25283.3333,
          25286.1111,
          25286.6667,
          25290.8333,
          25287.5,
          25288.0556,
          25283.6111,
          25284.7222,
          25277.2222,
          25278.3333,
          25265.8333,
          25253.8889,
          25253.8889,
          25252.5,
          25211.3889,
          25167.7778,
          25150.8333,
          25103.3333,
          25100,
          24996.1111,
          24827.2222,
          24758.8889,
          24904.4444,
          24748.3333,
          24748.3333
>>>>>>> 4f4b28a9ae92aa37f201948d18ec63e0dac8012f
         ]
        },
        {
         "mode": "text",
         "text": [
          "0"
         ],
         "textposition": "top center",
         "type": "scatter",
         "x": [
          32633.3333
         ],
         "y": [
          18683.3333
         ]
        },
        {
         "mode": "text",
         "text": [
          "1"
         ],
         "textposition": "top center",
         "type": "scatter",
         "x": [
          32616.6667
         ],
         "y": [
          18650
         ]
        },
        {
         "mode": "text",
         "text": [
          "2"
         ],
         "textposition": "top center",
         "type": "scatter",
         "x": [
          32600
         ],
         "y": [
          18366.6667
         ]
        },
        {
         "mode": "text",
         "text": [
          "3"
         ],
         "textposition": "top center",
         "type": "scatter",
         "x": [
          32666.6667
         ],
         "y": [
          18366.6667
         ]
        },
        {
         "mode": "text",
         "text": [
          "4"
         ],
         "textposition": "top center",
         "type": "scatter",
         "x": [
          32750
         ],
         "y": [
          18216.6667
         ]
        },
        {
         "mode": "text",
         "text": [
          "5"
         ],
         "textposition": "top center",
         "type": "scatter",
         "x": [
          32766.6667
         ],
         "y": [
          17816.6667
         ]
        },
        {
         "mode": "text",
         "text": [
          "6"
         ],
         "textposition": "top center",
         "type": "scatter",
         "x": [
          32983.3333
         ],
         "y": [
          17433.3333
         ]
        },
        {
         "mode": "text",
         "text": [
          "7"
         ],
         "textposition": "top center",
         "type": "scatter",
         "x": [
          32933.3333
         ],
         "y": [
          17400
         ]
        },
        {
         "mode": "text",
         "text": [
          "8"
         ],
         "textposition": "top center",
         "type": "scatter",
         "x": [
          32983.3333
         ],
         "y": [
          17366.6667
         ]
        },
        {
         "mode": "text",
         "text": [
          "9"
         ],
         "textposition": "top center",
         "type": "scatter",
         "x": [
          32983.3333
         ],
         "y": [
          17333.3333
         ]
        },
        {
         "mode": "text",
         "text": [
          "10"
         ],
         "textposition": "top center",
         "type": "scatter",
         "x": [
          32866.6667
         ],
         "y": [
          16966.6667
         ]
        },
        {
         "mode": "text",
         "text": [
          "11"
         ],
         "textposition": "top center",
         "type": "scatter",
         "x": [
          32766.6667
         ],
         "y": [
          16716.6667
         ]
        },
        {
         "mode": "text",
         "text": [
          "12"
         ],
         "textposition": "top center",
         "type": "scatter",
         "x": [
          32716.6667
         ],
         "y": [
          17216.6667
         ]
        },
        {
         "mode": "text",
         "text": [
          "13"
         ],
         "textposition": "top center",
         "type": "scatter",
         "x": [
          32616.6667
         ],
         "y": [
          17283.3333
         ]
        },
        {
         "mode": "text",
         "text": [
          "14"
         ],
         "textposition": "top center",
         "type": "scatter",
         "x": [
          32466.6667
         ],
         "y": [
          17283.3333
         ]
        },
        {
         "mode": "text",
         "text": [
          "15"
         ],
         "textposition": "top center",
         "type": "scatter",
         "x": [
          32383.3333
         ],
         "y": [
          17150
         ]
        },
        {
         "mode": "text",
         "text": [
          "16"
         ],
         "textposition": "top center",
         "type": "scatter",
         "x": [
          32350
         ],
         "y": [
          17100
         ]
        },
        {
         "mode": "text",
         "text": [
          "17"
         ],
         "textposition": "top center",
         "type": "scatter",
         "x": [
          32066.6667
         ],
         "y": [
          16933.3333
         ]
        },
        {
         "mode": "text",
         "text": [
          "18"
         ],
         "textposition": "top center",
         "type": "scatter",
         "x": [
          31966.6667
         ],
         "y": [
          16700
         ]
        },
        {
         "mode": "text",
         "text": [
          "19"
         ],
         "textposition": "top center",
         "type": "scatter",
         "x": [
          31783.3333
         ],
         "y": [
          16733.3333
         ]
        },
        {
         "mode": "text",
         "text": [
          "20"
         ],
         "textposition": "top center",
         "type": "scatter",
         "x": [
          31716.6667
         ],
         "y": [
          16933.3333
         ]
        },
        {
         "mode": "text",
         "text": [
          "21"
         ],
         "textposition": "top center",
         "type": "scatter",
         "x": [
          31533.3333
         ],
         "y": [
          16916.6667
         ]
        },
        {
         "mode": "text",
         "text": [
          "22"
         ],
         "textposition": "top center",
         "type": "scatter",
         "x": [
          31450
         ],
         "y": [
          17016.6667
         ]
        },
        {
         "mode": "text",
         "text": [
          "23"
         ],
         "textposition": "top center",
         "type": "scatter",
         "x": [
          31333.3333
         ],
         "y": [
          16950
         ]
        },
        {
         "mode": "text",
         "text": [
          "24"
         ],
         "textposition": "top center",
         "type": "scatter",
         "x": [
          31583.3333
         ],
         "y": [
          16783.3333
         ]
        },
        {
         "mode": "text",
         "text": [
          "25"
         ],
         "textposition": "top center",
         "type": "scatter",
         "x": [
          31583.3333
         ],
         "y": [
          16566.6667
         ]
        },
        {
         "mode": "text",
         "text": [
          "26"
         ],
         "textposition": "top center",
         "type": "scatter",
         "x": [
          31583.3333
         ],
         "y": [
          16200
         ]
        },
        {
         "mode": "text",
         "text": [
          "27"
         ],
         "textposition": "top center",
         "type": "scatter",
         "x": [
<<<<<<< HEAD
          31533.3333
         ],
         "y": [
          16233.3333
=======
          51294.7222
         ],
         "y": [
          25377.7778
>>>>>>> 4f4b28a9ae92aa37f201948d18ec63e0dac8012f
         ]
        },
        {
         "mode": "text",
         "text": [
          "28"
         ],
         "textposition": "top center",
         "type": "scatter",
         "x": [
<<<<<<< HEAD
          31516.6667
         ],
         "y": [
          16250
=======
          51281.1111
         ],
         "y": [
          25363.6111
>>>>>>> 4f4b28a9ae92aa37f201948d18ec63e0dac8012f
         ]
        },
        {
         "mode": "text",
         "text": [
          "29"
         ],
         "textposition": "top center",
         "type": "scatter",
         "x": [
<<<<<<< HEAD
          31183.3333
         ],
         "y": [
          16516.6667
         ]
        },
        {
         "mode": "text",
         "text": [
          "30"
         ],
         "textposition": "top center",
         "type": "scatter",
         "x": [
          31116.6667
         ],
         "y": [
          16800
         ]
        },
        {
         "mode": "text",
         "text": [
          "31"
         ],
         "textposition": "top center",
         "type": "scatter",
         "x": [
          30900
         ],
         "y": [
          16716.6667
         ]
        },
        {
         "mode": "text",
         "text": [
          "32"
         ],
         "textposition": "top center",
         "type": "scatter",
         "x": [
          30700
         ],
         "y": [
          16666.6667
         ]
        },
        {
         "mode": "text",
         "text": [
          "33"
         ],
         "textposition": "top center",
         "type": "scatter",
         "x": [
          30700
         ],
         "y": [
          16916.6667
         ]
        },
        {
         "mode": "text",
         "text": [
          "34"
         ],
         "textposition": "top center",
         "type": "scatter",
         "x": [
          30850
=======
          51226.3889
>>>>>>> 4f4b28a9ae92aa37f201948d18ec63e0dac8012f
         ],
         "y": [
          17033.3333
         ]
        },
        {
         "mode": "text",
         "text": [
          "30"
         ],
         "textposition": "top center",
         "type": "scatter",
         "x": [
          51220
         ],
         "y": [
          25433.3333
         ]
        },
        {
         "mode": "text",
         "text": [
          "31"
         ],
         "textposition": "top center",
         "type": "scatter",
         "x": [
          51183.3333
         ],
         "y": [
          25400
         ]
        },
        {
         "mode": "text",
         "text": [
          "32"
         ],
         "textposition": "top center",
         "type": "scatter",
         "x": [
          30866.6667
         ],
         "y": [
          17033.3333
         ]
        },
        {
         "mode": "text",
         "text": [
          "33"
         ],
         "textposition": "top center",
         "type": "scatter",
         "x": [
          30900
         ],
         "y": [
          17133.3333
         ]
        },
        {
         "mode": "text",
         "text": [
          "34"
         ],
         "textposition": "top center",
         "type": "scatter",
         "x": [
          30666.6667
         ],
         "y": [
          17150
         ]
        },
        {
         "mode": "text",
         "text": [
          "35"
         ],
         "textposition": "top center",
         "type": "scatter",
         "x": [
          30433.3333
         ],
         "y": [
          17033.3333
         ]
        },
        {
         "mode": "text",
         "text": [
          "36"
         ],
         "textposition": "top center",
         "type": "scatter",
         "x": [
          30500
         ],
         "y": [
          16950
         ]
        },
        {
         "mode": "text",
         "text": [
          "37"
         ],
         "textposition": "top center",
         "type": "scatter",
         "x": [
          30233.3333
         ],
         "y": [
          16750
         ]
        },
        {
         "mode": "text",
         "text": [
          "38"
         ],
         "textposition": "top center",
         "type": "scatter",
         "x": [
          30150
         ],
         "y": [
          16900
         ]
        },
        {
         "mode": "text",
         "text": [
          "39"
         ],
         "textposition": "top center",
         "type": "scatter",
         "x": [
          30033.3333
         ],
         "y": [
          17266.6667
         ]
        },
        {
         "mode": "text",
         "text": [
          "40"
         ],
         "textposition": "top center",
         "type": "scatter",
         "x": [
          30166.6667
         ],
         "y": [
          17416.6667
         ]
        },
        {
         "mode": "text",
         "text": [
          "41"
         ],
         "textposition": "top center",
         "type": "scatter",
         "x": [
          30200
         ],
         "y": [
          17366.6667
         ]
        },
        {
         "mode": "text",
         "text": [
          "42"
         ],
         "textposition": "top center",
         "type": "scatter",
         "x": [
          30233.3333
         ],
         "y": [
          17350
         ]
        },
        {
         "mode": "text",
         "text": [
          "43"
         ],
         "textposition": "top center",
         "type": "scatter",
         "x": [
          30400
         ],
         "y": [
          17383.3333
         ]
        },
        {
         "mode": "text",
         "text": [
          "44"
         ],
         "textposition": "top center",
         "type": "scatter",
         "x": [
          30516.6667
         ],
         "y": [
          17316.6667
         ]
        },
        {
         "mode": "text",
         "text": [
          "45"
         ],
         "textposition": "top center",
         "type": "scatter",
         "x": [
          30450
         ],
         "y": [
          17533.3333
         ]
        },
        {
         "mode": "text",
         "text": [
          "46"
         ],
         "textposition": "top center",
         "type": "scatter",
         "x": [
          30483.3333
         ],
         "y": [
          17650
         ]
        },
        {
         "mode": "text",
         "text": [
          "47"
         ],
         "textposition": "top center",
         "type": "scatter",
         "x": [
          30550
         ],
         "y": [
          17716.6667
         ]
        },
        {
         "mode": "text",
         "text": [
          "48"
         ],
         "textposition": "top center",
         "type": "scatter",
         "x": [
          30700
         ],
         "y": [
          17883.3333
         ]
        },
        {
         "mode": "text",
         "text": [
          "49"
         ],
         "textposition": "top center",
         "type": "scatter",
         "x": [
          30800
         ],
         "y": [
          17666.6667
         ]
        },
        {
         "mode": "text",
         "text": [
          "50"
         ],
         "textposition": "top center",
         "type": "scatter",
         "x": [
          30950
         ],
         "y": [
          17633.3333
         ]
        },
        {
         "mode": "text",
         "text": [
          "51"
         ],
         "textposition": "top center",
         "type": "scatter",
         "x": [
          30966.6667
         ],
         "y": [
          17516.6667
         ]
        },
        {
         "mode": "text",
         "text": [
          "52"
         ],
         "textposition": "top center",
         "type": "scatter",
         "x": [
          51050
         ],
         "y": [
          25716.6667
         ]
        },
        {
         "mode": "text",
         "text": [
          "53"
         ],
         "textposition": "top center",
         "type": "scatter",
         "x": [
          51057.7778
         ],
         "y": [
          25717.5
         ]
        },
        {
         "mode": "text",
         "text": [
          "54"
         ],
         "textposition": "top center",
         "type": "scatter",
         "x": [
          30916.6667
         ],
         "y": [
          17466.6667
         ]
        },
        {
         "mode": "text",
         "text": [
          "55"
         ],
         "textposition": "top center",
         "type": "scatter",
         "x": [
          30950
         ],
         "y": [
          17383.3333
         ]
        },
        {
         "mode": "text",
         "text": [
          "56"
         ],
         "textposition": "top center",
         "type": "scatter",
         "x": [
          51060.5556
         ],
         "y": [
          25808.3333
         ]
        },
        {
         "mode": "text",
         "text": [
          "57"
         ],
         "textposition": "top center",
         "type": "scatter",
         "x": [
          30950
         ],
         "y": [
          17366.6667
         ]
        },
        {
         "mode": "text",
         "text": [
          "58"
         ],
         "textposition": "top center",
         "type": "scatter",
         "x": [
          31000
         ],
         "y": [
          17233.3333
         ]
        },
        {
         "mode": "text",
         "text": [
          "59"
         ],
         "textposition": "top center",
         "type": "scatter",
         "x": [
          31050
         ],
         "y": [
          17266.6667
         ]
        },
        {
         "mode": "text",
         "text": [
          "60"
         ],
         "textposition": "top center",
         "type": "scatter",
         "x": [
          31066.6667
         ],
         "y": [
<<<<<<< HEAD
          17266.6667
=======
          25866.6667
>>>>>>> 4f4b28a9ae92aa37f201948d18ec63e0dac8012f
         ]
        },
        {
         "mode": "text",
         "text": [
          "61"
         ],
         "textposition": "top center",
         "type": "scatter",
         "x": [
<<<<<<< HEAD
          31066.6667
         ],
         "y": [
          17283.3333
=======
          51083.3333
         ],
         "y": [
          25856.6667
>>>>>>> 4f4b28a9ae92aa37f201948d18ec63e0dac8012f
         ]
        },
        {
         "mode": "text",
         "text": [
          "62"
         ],
         "textposition": "top center",
         "type": "scatter",
         "x": [
<<<<<<< HEAD
          31050
         ],
         "y": [
          17283.3333
=======
          51072.2222
         ],
         "y": [
          25833.3333
>>>>>>> 4f4b28a9ae92aa37f201948d18ec63e0dac8012f
         ]
        },
        {
         "mode": "text",
         "text": [
          "63"
         ],
         "textposition": "top center",
         "type": "scatter",
         "x": [
<<<<<<< HEAD
          31033.3333
         ],
         "y": [
          17316.6667
=======
          51133.3333
         ],
         "y": [
          25816.6667
>>>>>>> 4f4b28a9ae92aa37f201948d18ec63e0dac8012f
         ]
        },
        {
         "mode": "text",
         "text": [
          "64"
         ],
         "textposition": "top center",
         "type": "scatter",
         "x": [
<<<<<<< HEAD
          31033.3333
         ],
         "y": [
          17333.3333
=======
          51152.5
         ],
         "y": [
          25823.6111
>>>>>>> 4f4b28a9ae92aa37f201948d18ec63e0dac8012f
         ]
        },
        {
         "mode": "text",
         "text": [
          "65"
         ],
         "textposition": "top center",
         "type": "scatter",
         "x": [
<<<<<<< HEAD
          31033.3333
         ],
         "y": [
          17366.6667
=======
          51185.2778
         ],
         "y": [
          25883.0556
>>>>>>> 4f4b28a9ae92aa37f201948d18ec63e0dac8012f
         ]
        },
        {
         "mode": "text",
         "text": [
          "66"
         ],
         "textposition": "top center",
         "type": "scatter",
         "x": [
<<<<<<< HEAD
          31033.3333
         ],
         "y": [
          17383.3333
=======
          51201.6667
         ],
         "y": [
          25904.1667
>>>>>>> 4f4b28a9ae92aa37f201948d18ec63e0dac8012f
         ]
        },
        {
         "mode": "text",
         "text": [
          "67"
         ],
         "textposition": "top center",
         "type": "scatter",
         "x": [
<<<<<<< HEAD
          31066.6667
         ],
         "y": [
          17350
=======
          51221.3889
         ],
         "y": [
          25880.8333
>>>>>>> 4f4b28a9ae92aa37f201948d18ec63e0dac8012f
         ]
        },
        {
         "mode": "text",
         "text": [
          "68"
         ],
         "textposition": "top center",
         "type": "scatter",
         "x": [
<<<<<<< HEAD
          31100
         ],
         "y": [
          17366.6667
=======
          51205.5556
         ],
         "y": [
          25867.7778
>>>>>>> 4f4b28a9ae92aa37f201948d18ec63e0dac8012f
         ]
        },
        {
         "mode": "text",
         "text": [
          "69"
         ],
         "textposition": "top center",
         "type": "scatter",
         "x": [
<<<<<<< HEAD
          31333.3333
         ],
         "y": [
          17300
=======
          51205.8333
         ],
         "y": [
          25847.7778
>>>>>>> 4f4b28a9ae92aa37f201948d18ec63e0dac8012f
         ]
        },
        {
         "mode": "text",
         "text": [
          "70"
         ],
         "textposition": "top center",
         "type": "scatter",
         "x": [
<<<<<<< HEAD
          31566.6667
         ],
         "y": [
          17316.6667
=======
          51245.2778
         ],
         "y": [
          25829.7222
>>>>>>> 4f4b28a9ae92aa37f201948d18ec63e0dac8012f
         ]
        },
        {
         "mode": "text",
         "text": [
          "71"
         ],
         "textposition": "top center",
         "type": "scatter",
         "x": [
<<<<<<< HEAD
          31566.6667
         ],
         "y": [
          17683.3333
=======
          51258.3333
         ],
         "y": [
          25872.5
>>>>>>> 4f4b28a9ae92aa37f201948d18ec63e0dac8012f
         ]
        },
        {
         "mode": "text",
         "text": [
          "72"
         ],
         "textposition": "top center",
         "type": "scatter",
         "x": [
<<<<<<< HEAD
          31783.3333
         ],
         "y": [
          17650
=======
          51298.8889
         ],
         "y": [
          25857.5
>>>>>>> 4f4b28a9ae92aa37f201948d18ec63e0dac8012f
         ]
        },
        {
         "mode": "text",
         "text": [
          "73"
         ],
         "textposition": "top center",
         "type": "scatter",
         "x": [
<<<<<<< HEAD
          31816.6667
         ],
         "y": [
          17550
=======
          51313.3333
         ],
         "y": [
          25937.5
>>>>>>> 4f4b28a9ae92aa37f201948d18ec63e0dac8012f
         ]
        },
        {
         "mode": "text",
         "text": [
          "74"
         ],
         "textposition": "top center",
         "type": "scatter",
         "x": [
<<<<<<< HEAD
          32216.6667
         ],
         "y": [
          17400
=======
          51337.5
         ],
         "y": [
          25928.3333
>>>>>>> 4f4b28a9ae92aa37f201948d18ec63e0dac8012f
         ]
        },
        {
         "mode": "text",
         "text": [
          "75"
         ],
         "textposition": "top center",
         "type": "scatter",
         "x": [
<<<<<<< HEAD
          32016.6667
         ],
         "y": [
          17616.6667
=======
          51349.7222
         ],
         "y": [
          25951.6667
>>>>>>> 4f4b28a9ae92aa37f201948d18ec63e0dac8012f
         ]
        },
        {
         "mode": "text",
         "text": [
          "76"
         ],
         "textposition": "top center",
         "type": "scatter",
         "x": [
<<<<<<< HEAD
          31850
         ],
         "y": [
          18150
=======
          51328.0556
         ],
         "y": [
          25983.6111
>>>>>>> 4f4b28a9ae92aa37f201948d18ec63e0dac8012f
         ]
        },
        {
         "mode": "text",
         "text": [
          "77"
         ],
         "textposition": "top center",
         "type": "scatter",
         "x": [
<<<<<<< HEAD
          31683.3333
         ],
         "y": [
          18166.6667
=======
          51283.3333
         ],
         "y": [
          25966.6667
>>>>>>> 4f4b28a9ae92aa37f201948d18ec63e0dac8012f
         ]
        },
        {
         "mode": "text",
         "text": [
          "78"
         ],
         "textposition": "top center",
         "type": "scatter",
         "x": [
<<<<<<< HEAD
          31766.6667
         ],
         "y": [
          18400
=======
          51294.4444
         ],
         "y": [
          26000.2778
>>>>>>> 4f4b28a9ae92aa37f201948d18ec63e0dac8012f
         ]
        },
        {
         "mode": "text",
         "text": [
          "79"
         ],
         "textposition": "top center",
         "type": "scatter",
         "x": [
<<<<<<< HEAD
          32050
         ],
         "y": [
          18283.3333
=======
          51250
         ],
         "y": [
          26050
>>>>>>> 4f4b28a9ae92aa37f201948d18ec63e0dac8012f
         ]
        },
        {
         "mode": "text",
         "text": [
          "80"
         ],
         "textposition": "top center",
         "type": "scatter",
         "x": [
<<<<<<< HEAD
          32116.6667
         ],
         "y": [
          18533.3333
=======
          51258.6111
         ],
         "y": [
          26067.2222
>>>>>>> 4f4b28a9ae92aa37f201948d18ec63e0dac8012f
         ]
        },
        {
         "mode": "text",
         "text": [
          "81"
         ],
         "textposition": "top center",
         "type": "scatter",
         "x": [
          32116.6667
         ],
         "y": [
          18550
         ]
        },
        {
         "mode": "text",
         "text": [
          "82"
         ],
         "textposition": "top center",
         "type": "scatter",
         "x": [
<<<<<<< HEAD
          32166.6667
         ],
         "y": [
          18716.6667
=======
          51200.2778
         ],
         "y": [
          26033.6111
>>>>>>> 4f4b28a9ae92aa37f201948d18ec63e0dac8012f
         ]
        },
        {
         "mode": "text",
         "text": [
          "83"
         ],
         "textposition": "top center",
         "type": "scatter",
         "x": [
<<<<<<< HEAD
          32383.3333
         ],
         "y": [
          18966.6667
=======
          51166.6667
         ],
         "y": [
          26033.3333
>>>>>>> 4f4b28a9ae92aa37f201948d18ec63e0dac8012f
         ]
        },
        {
         "mode": "text",
         "text": [
          "84"
         ],
         "textposition": "top center",
         "type": "scatter",
         "x": [
<<<<<<< HEAD
          31983.3333
         ],
         "y": [
          18716.6667
=======
          51163.8889
         ],
         "y": [
          26033.6111
>>>>>>> 4f4b28a9ae92aa37f201948d18ec63e0dac8012f
         ]
        },
        {
         "mode": "text",
         "text": [
          "85"
         ],
         "textposition": "top center",
         "type": "scatter",
         "x": [
<<<<<<< HEAD
          31750
         ],
         "y": [
          19066.6667
=======
          51135.8333
         ],
         "y": [
          26050.5556
>>>>>>> 4f4b28a9ae92aa37f201948d18ec63e0dac8012f
         ]
        },
        {
         "mode": "text",
         "text": [
          "86"
         ],
         "textposition": "top center",
         "type": "scatter",
         "x": [
<<<<<<< HEAD
          31833.3333
=======
          51116.6667
         ],
         "y": [
          26033.3333
         ]
        },
        {
         "mode": "text",
         "text": [
          "87"
         ],
         "textposition": "top center",
         "type": "scatter",
         "x": [
          51099.4444
         ],
         "y": [
          25958.3333
         ]
        },
        {
         "mode": "text",
         "text": [
          "88"
         ],
         "textposition": "top center",
         "type": "scatter",
         "x": [
          51075.2778
         ],
         "y": [
          25957.7778
         ]
        },
        {
         "mode": "text",
         "text": [
          "89"
         ],
         "textposition": "top center",
         "type": "scatter",
         "x": [
          51066.6667
         ],
         "y": [
          25950
         ]
        },
        {
         "mode": "text",
         "text": [
          "90"
         ],
         "textposition": "top center",
         "type": "scatter",
         "x": [
          51083.6111
         ],
         "y": [
          26008.6111
         ]
        },
        {
         "mode": "text",
         "text": [
          "91"
         ],
         "textposition": "top center",
         "type": "scatter",
         "x": [
          51056.9444
         ],
         "y": [
          26048.8889
         ]
        },
        {
         "mode": "text",
         "text": [
          "92"
         ],
         "textposition": "top center",
         "type": "scatter",
         "x": [
          51083.6111
         ],
         "y": [
          26074.7222
         ]
        },
        {
         "mode": "text",
         "text": [
          "93"
         ],
         "textposition": "top center",
         "type": "scatter",
         "x": [
          51108.0556
         ],
         "y": [
          26150.2778
         ]
        },
        {
         "mode": "text",
         "text": [
          "94"
         ],
         "textposition": "top center",
         "type": "scatter",
         "x": [
          51147.2222
         ],
         "y": [
          26083.6111
         ]
        },
        {
         "mode": "text",
         "text": [
          "95"
         ],
         "textposition": "top center",
         "type": "scatter",
         "x": [
          51166.9444
         ],
         "y": [
          26076.6667
         ]
        },
        {
         "mode": "text",
         "text": [
          "96"
         ],
         "textposition": "top center",
         "type": "scatter",
         "x": [
          51161.1111
         ],
         "y": [
          26099.7222
         ]
        },
        {
         "mode": "text",
         "text": [
          "97"
         ],
         "textposition": "top center",
         "type": "scatter",
         "x": [
          51169.1667
         ],
         "y": [
          26123.6111
         ]
        },
        {
         "mode": "text",
         "text": [
          "98"
         ],
         "textposition": "top center",
         "type": "scatter",
         "x": [
          51216.6667
         ],
         "y": [
          26133.3333
         ]
        },
        {
         "mode": "text",
         "text": [
          "99"
         ],
         "textposition": "top center",
         "type": "scatter",
         "x": [
          51222.7778
         ],
         "y": [
          26123.6111
         ]
        },
        {
         "mode": "text",
         "text": [
          "100"
         ],
         "textposition": "top center",
         "type": "scatter",
         "x": [
          51216.6667
         ],
         "y": [
          26116.6667
         ]
        },
        {
         "mode": "text",
         "text": [
          "101"
         ],
         "textposition": "top center",
         "type": "scatter",
         "x": [
          51244.7222
         ],
         "y": [
          26108.0556
         ]
        },
        {
         "mode": "text",
         "text": [
          "102"
         ],
         "textposition": "top center",
         "type": "scatter",
         "x": [
          51300
         ],
         "y": [
          26133.3333
         ]
        },
        {
         "mode": "text",
         "text": [
          "103"
         ],
         "textposition": "top center",
         "type": "scatter",
         "x": [
          51361.6667
>>>>>>> 4f4b28a9ae92aa37f201948d18ec63e0dac8012f
         ],
         "y": [
          19716.6667
         ]
        },
        {
         "mode": "text",
         "text": [
          "104"
         ],
         "textposition": "top center",
         "type": "scatter",
         "x": [
<<<<<<< HEAD
          31636.1111
         ],
         "y": [
          19936.1111
=======
          51316.1111
         ],
         "y": [
          26055
>>>>>>> 4f4b28a9ae92aa37f201948d18ec63e0dac8012f
         ]
        },
        {
         "mode": "text",
         "text": [
          "105"
         ],
         "textposition": "top center",
         "type": "scatter",
         "x": [
          51297.5
         ],
         "y": [
          26050.2778
         ]
        },
        {
         "mode": "text",
         "text": [
          "106"
         ],
         "textposition": "top center",
         "type": "scatter",
         "x": [
          31466.6667
         ],
         "y": [
          20016.6667
         ]
        },
        {
         "mode": "text",
         "text": [
          "107"
         ],
         "textposition": "top center",
         "type": "scatter",
         "x": [
<<<<<<< HEAD
          31433.3333
         ],
         "y": [
          19966.6667
=======
          51366.9444
         ],
         "y": [
          26021.6667
>>>>>>> 4f4b28a9ae92aa37f201948d18ec63e0dac8012f
         ]
        },
        {
         "mode": "text",
         "text": [
<<<<<<< HEAD
          "90"
         ],
         "textposition": "top center",
         "type": "scatter",
         "x": [
          31266.6667
         ],
         "y": [
          20050
         ]
        },
        {
         "mode": "text",
         "text": [
          "91"
         ],
         "textposition": "top center",
         "type": "scatter",
         "x": [
          31083.3333
         ],
         "y": [
          20166.6667
         ]
        },
        {
         "mode": "text",
         "text": [
          "92"
         ],
         "textposition": "top center",
         "type": "scatter",
         "x": [
          30833.3333
         ],
         "y": [
          20083.3333
         ]
        },
        {
         "mode": "text",
         "text": [
          "93"
         ],
         "textposition": "top center",
         "type": "scatter",
         "x": [
          30800
         ],
         "y": [
          20050
         ]
        },
        {
         "mode": "text",
         "text": [
          "94"
         ],
         "textposition": "top center",
         "type": "scatter",
         "x": [
          30816.6667
         ],
         "y": [
          20083.3333
         ]
        },
        {
         "mode": "text",
         "text": [
          "95"
=======
          "108"
>>>>>>> 4f4b28a9ae92aa37f201948d18ec63e0dac8012f
         ],
         "textposition": "top center",
         "type": "scatter",
         "x": [
          30836.1111
         ],
         "y": [
          20177.7778
         ]
        },
        {
         "mode": "text",
         "text": [
          "109"
         ],
         "textposition": "top center",
         "type": "scatter",
         "x": [
          30916.6667
         ],
         "y": [
          20266.6667
         ]
        },
        {
         "mode": "text",
         "text": [
<<<<<<< HEAD
          "97"
         ],
         "textposition": "top center",
         "type": "scatter",
         "x": [
          30733.3333
         ],
         "y": [
          20433.3333
         ]
        },
        {
         "mode": "text",
         "text": [
          "98"
         ],
         "textposition": "top center",
         "type": "scatter",
         "x": [
          30800
         ],
         "y": [
          20800
         ]
        },
        {
         "mode": "text",
         "text": [
          "99"
=======
          "110"
>>>>>>> 4f4b28a9ae92aa37f201948d18ec63e0dac8012f
         ],
         "textposition": "top center",
         "type": "scatter",
         "x": [
          30786.1111
         ],
         "y": [
          20899.4444
         ]
        },
        {
         "mode": "text",
         "text": [
          "111"
         ],
         "textposition": "top center",
         "type": "scatter",
         "x": [
          30266.6667
         ],
         "y": [
          20966.6667
         ]
        },
        {
         "mode": "text",
         "text": [
<<<<<<< HEAD
          "101"
         ],
         "textposition": "top center",
         "type": "scatter",
         "x": [
          30200
         ],
         "y": [
          20850
         ]
        },
        {
         "mode": "text",
         "text": [
          "102"
         ],
         "textposition": "top center",
         "type": "scatter",
         "x": [
          30050
         ],
         "y": [
          20616.6667
         ]
        },
        {
         "mode": "text",
         "text": [
          "103"
         ],
         "textposition": "top center",
         "type": "scatter",
         "x": [
          29916.6667
         ],
         "y": [
          20483.3333
         ]
        },
        {
         "mode": "text",
         "text": [
          "104"
         ],
         "textposition": "top center",
         "type": "scatter",
         "x": [
          29884.7222
         ],
         "y": [
          20280.5556
         ]
        },
        {
         "mode": "text",
         "text": [
          "105"
         ],
         "textposition": "top center",
         "type": "scatter",
         "x": [
          30033.3333
         ],
         "y": [
          20333.3333
         ]
        },
        {
         "mode": "text",
         "text": [
          "106"
         ],
         "textposition": "top center",
         "type": "scatter",
         "x": [
          30400
         ],
         "y": [
          20566.6667
         ]
        },
        {
         "mode": "text",
         "text": [
          "107"
         ],
         "textposition": "top center",
         "type": "scatter",
         "x": [
          30533.3333
         ],
         "y": [
          20550
         ]
        },
        {
         "mode": "text",
         "text": [
          "108"
         ],
         "textposition": "top center",
         "type": "scatter",
         "x": [
          30516.6667
         ],
         "y": [
          20316.6667
         ]
        },
        {
         "mode": "text",
         "text": [
          "109"
         ],
         "textposition": "top center",
         "type": "scatter",
         "x": [
          30366.6667
         ],
         "y": [
          20116.6667
         ]
        },
        {
         "mode": "text",
         "text": [
          "110"
         ],
         "textposition": "top center",
         "type": "scatter",
         "x": [
          30483.3333
         ],
         "y": [
          20050
         ]
        },
        {
         "mode": "text",
         "text": [
          "111"
         ],
         "textposition": "top center",
         "type": "scatter",
         "x": [
          30533.3333
         ],
         "y": [
          20083.3333
         ]
        },
        {
         "mode": "text",
         "text": [
=======
>>>>>>> 4f4b28a9ae92aa37f201948d18ec63e0dac8012f
          "112"
         ],
         "textposition": "top center",
         "type": "scatter",
         "x": [
<<<<<<< HEAD
          30516.6667
         ],
         "y": [
          20016.6667
=======
          51441.3889
         ],
         "y": [
          25857.5
>>>>>>> 4f4b28a9ae92aa37f201948d18ec63e0dac8012f
         ]
        },
        {
         "mode": "text",
         "text": [
          "113"
         ],
         "textposition": "top center",
         "type": "scatter",
         "x": [
<<<<<<< HEAD
          30758.3333
         ],
         "y": [
          19894.4444
=======
          51465.2778
         ],
         "y": [
          25839.1667
>>>>>>> 4f4b28a9ae92aa37f201948d18ec63e0dac8012f
         ]
        },
        {
         "mode": "text",
         "text": [
          "114"
         ],
         "textposition": "top center",
         "type": "scatter",
         "x": [
<<<<<<< HEAD
          30666.6667
         ],
         "y": [
          19733.3333
         ]
        },
        {
         "mode": "text",
         "text": [
          "115"
         ],
         "textposition": "top center",
         "type": "scatter",
         "x": [
          30833.3333
         ],
         "y": [
          19633.3333
         ]
        },
        {
         "mode": "text",
         "text": [
          "116"
         ],
         "textposition": "top center",
         "type": "scatter",
         "x": [
          30750
         ],
         "y": [
          19583.3333
         ]
        },
        {
         "mode": "text",
         "text": [
          "117"
         ],
         "textposition": "top center",
         "type": "scatter",
         "x": [
          30783.3333
         ],
         "y": [
          19483.3333
         ]
        },
        {
         "mode": "text",
         "text": [
          "118"
         ],
         "textposition": "top center",
         "type": "scatter",
         "x": [
          30833.3333
         ],
         "y": [
          19433.3333
         ]
        },
        {
         "mode": "text",
         "text": [
          "119"
         ],
         "textposition": "top center",
         "type": "scatter",
         "x": [
          31166.6667
         ],
         "y": [
          19650
         ]
        },
        {
         "mode": "text",
         "text": [
          "120"
         ],
         "textposition": "top center",
         "type": "scatter",
         "x": [
          31216.6667
         ],
         "y": [
          19466.6667
         ]
        },
        {
         "mode": "text",
         "text": [
          "121"
         ],
         "textposition": "top center",
         "type": "scatter",
         "x": [
          31433.3333
         ],
         "y": [
          19333.3333
         ]
        },
        {
         "mode": "text",
         "text": [
          "122"
         ],
         "textposition": "top center",
         "type": "scatter",
         "x": [
          31166.6667
         ],
         "y": [
          19083.3333
         ]
        },
        {
         "mode": "text",
         "text": [
          "123"
         ],
         "textposition": "top center",
         "type": "scatter",
         "x": [
          31033.3333
         ],
         "y": [
          19000
         ]
        },
        {
         "mode": "text",
         "text": [
          "124"
         ],
         "textposition": "top center",
         "type": "scatter",
         "x": [
          30900
=======
          51409.4444
>>>>>>> 4f4b28a9ae92aa37f201948d18ec63e0dac8012f
         ],
         "y": [
          19016.6667
         ]
        },
        {
         "mode": "text",
         "text": [
          "115"
         ],
         "textposition": "top center",
         "type": "scatter",
         "x": [
<<<<<<< HEAD
          30533.3333
         ],
         "y": [
          19283.3333
=======
          51395.8333
         ],
         "y": [
          25758.3333
>>>>>>> 4f4b28a9ae92aa37f201948d18ec63e0dac8012f
         ]
        },
        {
         "mode": "text",
         "text": [
          "116"
         ],
         "textposition": "top center",
         "type": "scatter",
         "x": [
          30183.3333
         ],
         "y": [
          19333.3333
         ]
        },
        {
         "mode": "text",
         "text": [
          "117"
         ],
         "textposition": "top center",
         "type": "scatter",
         "x": [
          51449.7222
         ],
         "y": [
          25779.1667
         ]
        },
        {
         "mode": "text",
         "text": [
          "118"
         ],
         "textposition": "top center",
         "type": "scatter",
         "x": [
          30016.6667
         ],
         "y": [
          19366.6667
         ]
        },
        {
         "mode": "text",
         "text": [
          "119"
         ],
         "textposition": "top center",
         "type": "scatter",
         "x": [
          29933.3333
         ],
         "y": [
          19533.3333
         ]
        },
        {
         "mode": "text",
         "text": [
          "120"
         ],
         "textposition": "top center",
         "type": "scatter",
         "x": [
          30000
         ],
         "y": [
          19666.6667
         ]
        },
        {
         "mode": "text",
         "text": [
          "121"
         ],
         "textposition": "top center",
         "type": "scatter",
         "x": [
          30050
         ],
         "y": [
          19916.6667
         ]
        },
        {
         "mode": "text",
         "text": [
          "122"
         ],
         "textposition": "top center",
         "type": "scatter",
         "x": [
          29884.7222
         ],
         "y": [
          20032.7778
         ]
        },
        {
         "mode": "text",
         "text": [
          "123"
         ],
         "textposition": "top center",
         "type": "scatter",
         "x": [
          29691.6667
         ],
         "y": [
          19911.1111
         ]
        },
        {
         "mode": "text",
         "text": [
          "124"
         ],
         "textposition": "top center",
         "type": "scatter",
         "x": [
          29533.3333
         ],
         "y": [
          20150
         ]
        },
        {
         "mode": "text",
         "text": [
          "125"
         ],
         "textposition": "top center",
         "type": "scatter",
         "x": [
          29266.6667
         ],
         "y": [
          20016.6667
         ]
        },
        {
         "mode": "text",
         "text": [
          "126"
         ],
         "textposition": "top center",
         "type": "scatter",
         "x": [
          29300
         ],
         "y": [
          20216.6667
         ]
        },
        {
         "mode": "text",
         "text": [
          "127"
         ],
         "textposition": "top center",
         "type": "scatter",
         "x": [
          28933.3333
         ],
         "y": [
          20300
         ]
        },
        {
         "mode": "text",
         "text": [
          "128"
         ],
         "textposition": "top center",
         "type": "scatter",
         "x": [
          28916.6667
         ],
         "y": [
          20233.3333
         ]
        },
        {
         "mode": "text",
         "text": [
          "129"
         ],
         "textposition": "top center",
         "type": "scatter",
         "x": [
          28746.6667
         ],
         "y": [
          20233.6111
         ]
        },
        {
         "mode": "text",
         "text": [
          "130"
         ],
         "textposition": "top center",
         "type": "scatter",
         "x": [
          28746.1111
         ],
         "y": [
          20237.2222
         ]
        },
        {
         "mode": "text",
         "text": [
          "131"
         ],
         "textposition": "top center",
         "type": "scatter",
         "x": [
          28719.7222
         ],
         "y": [
          20233.6111
         ]
        },
        {
         "mode": "text",
         "text": [
          "132"
         ],
         "textposition": "top center",
         "type": "scatter",
         "x": [
          28702.5
         ],
         "y": [
          20224.4444
         ]
        },
        {
         "mode": "text",
         "text": [
          "133"
         ],
         "textposition": "top center",
         "type": "scatter",
         "x": [
          28659.4444
         ],
         "y": [
          20228.0556
         ]
        },
        {
         "mode": "text",
         "text": [
          "134"
         ],
         "textposition": "top center",
         "type": "scatter",
         "x": [
          51372.2222
         ],
         "y": [
          25650
         ]
        },
        {
         "mode": "text",
         "text": [
          "135"
         ],
         "textposition": "top center",
         "type": "scatter",
         "x": [
          51260.8333
         ],
         "y": [
          25696.1111
         ]
        },
        {
         "mode": "text",
         "text": [
          "136"
         ],
         "textposition": "top center",
         "type": "scatter",
         "x": [
          51174.4444
         ],
         "y": [
          25666.9444
         ]
        },
        {
         "mode": "text",
         "text": [
          "137"
         ],
         "textposition": "top center",
         "type": "scatter",
         "x": [
          51092.2222
         ],
         "y": [
          25609.4444
         ]
        },
        {
         "mode": "text",
         "text": [
          "138"
         ],
         "textposition": "top center",
         "type": "scatter",
         "x": [
          51151.3889
         ],
         "y": [
          25585.5556
         ]
        },
        {
         "mode": "text",
         "text": [
          "139"
         ],
         "textposition": "top center",
         "type": "scatter",
         "x": [
          51158.6111
         ],
         "y": [
          25560.2778
         ]
        },
        {
         "mode": "text",
         "text": [
          "140"
         ],
         "textposition": "top center",
         "type": "scatter",
         "x": [
          51242.2222
         ],
         "y": [
          25510.5556
         ]
        },
        {
         "mode": "text",
         "text": [
          "141"
         ],
         "textposition": "top center",
         "type": "scatter",
         "x": [
          51304.4444
         ],
         "y": [
          25531.9444
         ]
        },
        {
         "mode": "text",
         "text": [
          "142"
         ],
         "textposition": "top center",
         "type": "scatter",
         "x": [
          51316.6667
         ],
         "y": [
          25459.1667
         ]
        },
        {
         "mode": "text",
         "text": [
          "143"
         ],
         "textposition": "top center",
         "type": "scatter",
         "x": [
<<<<<<< HEAD
          28641.9444
         ],
         "y": [
          20240
=======
          51362.5
         ],
         "y": [
          25478.0556
>>>>>>> 4f4b28a9ae92aa37f201948d18ec63e0dac8012f
         ]
        },
        {
         "mode": "text",
         "text": [
          "144"
         ],
         "textposition": "top center",
         "type": "scatter",
         "x": [
<<<<<<< HEAD
          28638.0556
         ],
         "y": [
          20227.7778
=======
          51373.6111
         ],
         "y": [
          25490.5556
>>>>>>> 4f4b28a9ae92aa37f201948d18ec63e0dac8012f
         ]
        },
        {
         "mode": "text",
         "text": [
          "145"
         ],
         "textposition": "top center",
         "type": "scatter",
         "x": [
          28629.4444
         ],
         "y": [
          20228.0556
         ]
        },
        {
         "mode": "text",
         "text": [
          "146"
         ],
         "textposition": "top center",
         "type": "scatter",
         "x": [
<<<<<<< HEAD
          28618.3333
         ],
         "y": [
          20228.6111
=======
          51400.2778
         ],
         "y": [
          25492.2222
>>>>>>> 4f4b28a9ae92aa37f201948d18ec63e0dac8012f
         ]
        },
        {
         "mode": "text",
         "text": [
          "147"
         ],
         "textposition": "top center",
         "type": "scatter",
         "x": [
<<<<<<< HEAD
          28611.1111
         ],
         "y": [
          20229.4444
=======
          51397.5
         ],
         "y": [
          25469.7222
>>>>>>> 4f4b28a9ae92aa37f201948d18ec63e0dac8012f
         ]
        },
        {
         "mode": "text",
         "text": [
          "148"
         ],
         "textposition": "top center",
         "type": "scatter",
         "x": [
          28615.5556
         ],
         "y": [
          20217.5
         ]
        },
        {
         "mode": "text",
         "text": [
          "149"
         ],
         "textposition": "top center",
         "type": "scatter",
         "x": [
          28609.7222
         ],
         "y": [
          20206.9444
         ]
        },
        {
         "mode": "text",
         "text": [
          "150"
         ],
         "textposition": "top center",
         "type": "scatter",
         "x": [
          28600
         ],
         "y": [
          20199.1667
         ]
        },
        {
         "mode": "text",
         "text": [
          "151"
         ],
         "textposition": "top center",
         "type": "scatter",
         "x": [
          28595
         ],
         "y": [
          20205
         ]
        },
        {
         "mode": "text",
         "text": [
          "152"
         ],
         "textposition": "top center",
         "type": "scatter",
         "x": [
          28595.2778
         ],
         "y": [
          20214.7222
         ]
        },
        {
         "mode": "text",
         "text": [
          "153"
         ],
         "textposition": "top center",
         "type": "scatter",
         "x": [
          28589.1667
         ],
         "y": [
          20218.6111
         ]
        },
        {
         "mode": "text",
         "text": [
          "154"
         ],
         "textposition": "top center",
         "type": "scatter",
         "x": [
          28583.6111
         ],
         "y": [
          20222.2222
         ]
        },
        {
         "mode": "text",
         "text": [
          "155"
         ],
         "textposition": "top center",
         "type": "scatter",
         "x": [
          28578.6111
         ],
         "y": [
          20220
         ]
        },
        {
         "mode": "text",
         "text": [
          "156"
         ],
         "textposition": "top center",
         "type": "scatter",
         "x": [
          28573.8889
         ],
         "y": [
          20221.6667
         ]
        },
        {
         "mode": "text",
         "text": [
          "157"
         ],
         "textposition": "top center",
         "type": "scatter",
         "x": [
          28558.3333
         ],
         "y": [
          20214.1667
         ]
        },
        {
         "mode": "text",
         "text": [
          "158"
         ],
         "textposition": "top center",
         "type": "scatter",
         "x": [
          28558.6111
         ],
         "y": [
          20198.0556
         ]
        },
        {
         "mode": "text",
         "text": [
          "159"
         ],
         "textposition": "top center",
         "type": "scatter",
         "x": [
          28567.5
         ],
         "y": [
          20200.8333
         ]
        },
        {
         "mode": "text",
         "text": [
          "160"
         ],
         "textposition": "top center",
         "type": "scatter",
         "x": [
          28577.2222
         ],
         "y": [
          20201.9444
         ]
        },
        {
         "mode": "text",
         "text": [
          "161"
         ],
         "textposition": "top center",
         "type": "scatter",
         "x": [
          28581.9444
         ],
         "y": [
          20206.3889
         ]
        },
        {
         "mode": "text",
         "text": [
          "162"
         ],
         "textposition": "top center",
         "type": "scatter",
         "x": [
<<<<<<< HEAD
          28581.6667
         ],
         "y": [
          20194.4444
         ]
        },
        {
         "mode": "text",
         "text": [
          "163"
         ],
         "textposition": "top center",
         "type": "scatter",
         "x": [
          28568.3333
         ],
         "y": [
          20191.6667
         ]
        },
        {
         "mode": "text",
         "text": [
          "164"
         ],
         "textposition": "top center",
         "type": "scatter",
         "x": [
          28559.1667
=======
          51512.5
>>>>>>> 4f4b28a9ae92aa37f201948d18ec63e0dac8012f
         ],
         "y": [
          20185.5556
         ]
        },
        {
         "mode": "text",
         "text": [
          "163"
         ],
         "textposition": "top center",
         "type": "scatter",
         "x": [
          28550
         ],
         "y": [
          20200
         ]
        },
        {
         "mode": "text",
         "text": [
          "164"
         ],
         "textposition": "top center",
         "type": "scatter",
         "x": [
          28534.4444
         ],
         "y": [
          20201.6667
         ]
        },
        {
         "mode": "text",
         "text": [
          "165"
         ],
         "textposition": "top center",
         "type": "scatter",
         "x": [
          28531.9444
         ],
         "y": [
          20197.5
         ]
        },
        {
         "mode": "text",
         "text": [
          "166"
         ],
         "textposition": "top center",
         "type": "scatter",
         "x": [
          28495
         ],
         "y": [
          20185.2778
         ]
        },
        {
         "mode": "text",
         "text": [
          "167"
         ],
         "textposition": "top center",
         "type": "scatter",
         "x": [
          51525.5556
         ],
         "y": [
          25278.3333
         ]
        },
        {
         "mode": "text",
         "text": [
          "168"
         ],
         "textposition": "top center",
         "type": "scatter",
         "x": [
          28516.9444
         ],
         "y": [
          20185
         ]
        },
        {
         "mode": "text",
         "text": [
          "169"
         ],
         "textposition": "top center",
         "type": "scatter",
         "x": [
          28534.1667
         ],
         "y": [
          20178.8889
         ]
        },
        {
         "mode": "text",
         "text": [
<<<<<<< HEAD
          "171"
         ],
         "textposition": "top center",
         "type": "scatter",
         "x": [
          28542.7778
         ],
         "y": [
          20172.7778
         ]
        },
        {
         "mode": "text",
         "text": [
          "172"
=======
          "170"
>>>>>>> 4f4b28a9ae92aa37f201948d18ec63e0dac8012f
         ],
         "textposition": "top center",
         "type": "scatter",
         "x": [
          28556.3889
         ],
         "y": [
          20167.5
         ]
        },
        {
         "mode": "text",
         "text": [
          "171"
         ],
         "textposition": "top center",
         "type": "scatter",
         "x": [
          28560
         ],
         "y": [
          20159.1667
         ]
        },
        {
         "mode": "text",
         "text": [
<<<<<<< HEAD
          "174"
         ],
         "textposition": "top center",
         "type": "scatter",
         "x": [
          28553.8889
         ],
         "y": [
          20155.5556
         ]
        },
        {
         "mode": "text",
         "text": [
          "175"
=======
          "172"
>>>>>>> 4f4b28a9ae92aa37f201948d18ec63e0dac8012f
         ],
         "textposition": "top center",
         "type": "scatter",
         "x": [
          28564.4444
         ],
         "y": [
          20147.2222
         ]
        },
        {
         "mode": "text",
         "text": [
          "173"
         ],
         "textposition": "top center",
         "type": "scatter",
         "x": [
          51533.3333
         ],
         "y": [
          25286.6667
         ]
        },
        {
         "mode": "text",
         "text": [
          "174"
         ],
         "textposition": "top center",
         "type": "scatter",
         "x": [
          51528.3333
         ],
         "y": [
          25290.8333
         ]
        },
        {
         "mode": "text",
         "text": [
          "175"
         ],
         "textposition": "top center",
         "type": "scatter",
         "x": [
          28568.6111
         ],
         "y": [
          20162.7778
         ]
        },
        {
         "mode": "text",
         "text": [
          "176"
         ],
         "textposition": "top center",
         "type": "scatter",
         "x": [
          28571.3889
         ],
         "y": [
          20171.6667
         ]
        },
        {
         "mode": "text",
         "text": [
          "177"
         ],
         "textposition": "top center",
         "type": "scatter",
         "x": [
          51546.6667
         ],
         "y": [
          25283.6111
         ]
        },
        {
         "mode": "text",
         "text": [
          "178"
         ],
         "textposition": "top center",
         "type": "scatter",
         "x": [
          28578.6111
         ],
         "y": [
          20172.2222
         ]
        },
        {
         "mode": "text",
         "text": [
          "179"
         ],
         "textposition": "top center",
         "type": "scatter",
         "x": [
<<<<<<< HEAD
          28586.1111
         ],
         "y": [
          20184.4444
=======
          51547.7778
         ],
         "y": [
          25277.2222
>>>>>>> 4f4b28a9ae92aa37f201948d18ec63e0dac8012f
         ]
        },
        {
         "mode": "text",
         "text": [
          "180"
         ],
         "textposition": "top center",
         "type": "scatter",
         "x": [
<<<<<<< HEAD
          28593.8889
         ],
         "y": [
          20187.7778
=======
          51541.3889
         ],
         "y": [
          25278.3333
>>>>>>> 4f4b28a9ae92aa37f201948d18ec63e0dac8012f
         ]
        },
        {
         "mode": "text",
         "text": [
          "181"
         ],
         "textposition": "top center",
         "type": "scatter",
         "x": [
          28601.1111
         ],
         "y": [
          20185
         ]
        },
        {
         "mode": "text",
         "text": [
          "182"
         ],
         "textposition": "top center",
         "type": "scatter",
         "x": [
          28609.7222
         ],
         "y": [
          20179.4444
         ]
        },
        {
         "mode": "text",
         "text": [
          "183"
         ],
         "textposition": "top center",
         "type": "scatter",
         "x": [
          28618.0556
         ],
         "y": [
          20170.8333
         ]
        },
        {
         "mode": "text",
         "text": [
          "184"
         ],
         "textposition": "top center",
         "type": "scatter",
         "x": [
          28610
         ],
         "y": [
          20161.3889
         ]
        },
        {
         "mode": "text",
         "text": [
          "185"
         ],
         "textposition": "top center",
         "type": "scatter",
         "x": [
          28601.1111
         ],
         "y": [
          20158.3333
         ]
        },
        {
         "mode": "text",
         "text": [
          "186"
         ],
         "textposition": "top center",
         "type": "scatter",
         "x": [
          28584.7222
         ],
         "y": [
          20152.5
         ]
        },
        {
         "mode": "text",
         "text": [
          "187"
         ],
         "textposition": "top center",
         "type": "scatter",
         "x": [
          28583.3333
         ],
         "y": [
          20150
         ]
        },
        {
         "mode": "text",
         "text": [
          "188"
         ],
         "textposition": "top center",
         "type": "scatter",
         "x": [
          28575.2778
         ],
         "y": [
          20141.9444
         ]
        },
        {
         "mode": "text",
         "text": [
          "189"
         ],
         "textposition": "top center",
         "type": "scatter",
         "x": [
          28564.4444
         ],
         "y": [
          20140.2778
         ]
        },
        {
         "mode": "text",
         "text": [
          "190"
         ],
         "textposition": "top center",
         "type": "scatter",
         "x": [
          28552.5
         ],
         "y": [
          20138.0556
         ]
        },
        {
         "mode": "text",
         "text": [
          "191"
         ],
         "textposition": "top center",
         "type": "scatter",
         "x": [
          28543.8889
         ],
         "y": [
          20125.2778
         ]
        },
        {
         "mode": "text",
         "text": [
          "192"
         ],
         "textposition": "top center",
         "type": "scatter",
         "x": [
          28528.6111
         ],
         "y": [
          20121.6667
         ]
        },
        {
         "mode": "text",
         "text": [
          "193"
         ],
         "textposition": "top center",
         "type": "scatter",
         "x": [
          28532.5
         ],
         "y": [
          20136.1111
         ]
        },
        {
         "mode": "text",
         "text": [
          "194"
         ],
         "textposition": "top center",
         "type": "scatter",
         "x": [
          28531.6667
         ],
         "y": [
          20142.5
         ]
        },
        {
         "mode": "text",
         "text": [
          "195"
         ],
         "textposition": "top center",
         "type": "scatter",
         "x": [
          28540.8333
         ],
         "y": [
          20145
         ]
        },
        {
         "mode": "text",
         "text": [
          "196"
         ],
         "textposition": "top center",
         "type": "scatter",
         "x": [
          28529.4444
         ],
         "y": [
          20149.1667
         ]
        },
        {
         "mode": "text",
         "text": [
          "197"
         ],
         "textposition": "top center",
         "type": "scatter",
         "x": [
          28521.1111
         ],
         "y": [
          20148.3333
         ]
        },
        {
         "mode": "text",
         "text": [
          "198"
         ],
         "textposition": "top center",
         "type": "scatter",
         "x": [
          28525.2778
         ],
         "y": [
          20154.7222
         ]
        },
        {
         "mode": "text",
         "text": [
          "199"
         ],
         "textposition": "top center",
         "type": "scatter",
         "x": [
          28536.6667
         ],
         "y": [
          20152.5
         ]
        },
        {
         "mode": "text",
         "text": [
          "200"
         ],
         "textposition": "top center",
         "type": "scatter",
         "x": [
          28538.8889
         ],
         "y": [
          20162.5
         ]
        },
        {
         "mode": "text",
         "text": [
          "201"
         ],
         "textposition": "top center",
         "type": "scatter",
         "x": [
          28525
         ],
         "y": [
          20164.1667
         ]
        },
        {
         "mode": "text",
         "text": [
          "202"
         ],
         "textposition": "top center",
         "type": "scatter",
         "x": [
          28508.0556
         ],
         "y": [
          20160.5556
         ]
        },
        {
         "mode": "text",
         "text": [
          "203"
         ],
         "textposition": "top center",
         "type": "scatter",
         "x": [
          28492.2222
         ],
         "y": [
          20146.9444
         ]
        },
        {
         "mode": "text",
         "text": [
          "204"
         ],
         "textposition": "top center",
         "type": "scatter",
         "x": [
          28517.2222
         ],
         "y": [
          20136.1111
         ]
        },
        {
         "mode": "text",
         "text": [
          "205"
         ],
         "textposition": "top center",
         "type": "scatter",
         "x": [
          28505.8333
         ],
         "y": [
          20136.9444
         ]
        },
        {
         "mode": "text",
         "text": [
          "206"
         ],
         "textposition": "top center",
         "type": "scatter",
         "x": [
          28494.7222
         ],
         "y": [
          20131.6667
         ]
        },
        {
         "mode": "text",
         "text": [
          "207"
         ],
         "textposition": "top center",
         "type": "scatter",
         "x": [
          28485.8333
         ],
         "y": [
          20137.5
         ]
        },
        {
         "mode": "text",
         "text": [
          "208"
         ],
         "textposition": "top center",
         "type": "scatter",
         "x": [
          28473.3333
         ],
         "y": [
          20144.4444
         ]
        },
        {
         "mode": "text",
         "text": [
          "209"
         ],
         "textposition": "top center",
         "type": "scatter",
         "x": [
          28456.9444
         ],
         "y": [
          20136.6667
         ]
        },
        {
         "mode": "text",
         "text": [
          "210"
         ],
         "textposition": "top center",
         "type": "scatter",
         "x": [
          28406.6667
         ],
         "y": [
          20075.8333
         ]
        },
        {
         "mode": "text",
         "text": [
          "211"
         ],
         "textposition": "top center",
         "type": "scatter",
         "x": [
          28429.4444
         ],
         "y": [
          20077.7778
         ]
        },
        {
         "mode": "text",
         "text": [
          "212"
         ],
         "textposition": "top center",
         "type": "scatter",
         "x": [
          28475
         ],
         "y": [
          20103.3333
         ]
        },
        {
         "mode": "text",
         "text": [
          "213"
         ],
         "textposition": "top center",
         "type": "scatter",
         "x": [
          28495.5556
         ],
         "y": [
          20122.5
         ]
        },
        {
         "mode": "text",
         "text": [
          "214"
         ],
         "textposition": "top center",
         "type": "scatter",
         "x": [
          28498.8889
         ],
         "y": [
          20108.3333
         ]
        },
        {
         "mode": "text",
         "text": [
          "215"
         ],
         "textposition": "top center",
         "type": "scatter",
         "x": [
          28500
         ],
         "y": [
          20100
         ]
        },
        {
         "mode": "text",
         "text": [
          "216"
         ],
         "textposition": "top center",
         "type": "scatter",
         "x": [
          28517.5
         ],
         "y": [
          20104.1667
         ]
        },
        {
         "mode": "text",
         "text": [
          "217"
         ],
         "textposition": "top center",
         "type": "scatter",
         "x": [
          28511.1111
         ],
         "y": [
          20120.2778
         ]
        },
        {
         "mode": "text",
         "text": [
          "218"
         ],
         "textposition": "top center",
         "type": "scatter",
         "x": [
          28527.7778
         ],
         "y": [
          20113.8889
         ]
        },
        {
         "mode": "text",
         "text": [
          "219"
         ],
         "textposition": "top center",
         "type": "scatter",
         "x": [
          28550
         ],
         "y": [
          20100
         ]
        },
        {
         "mode": "text",
         "text": [
          "220"
         ],
         "textposition": "top center",
         "type": "scatter",
         "x": [
          28558.8889
         ],
         "y": [
          20098.8889
         ]
        },
        {
         "mode": "text",
         "text": [
          "221"
         ],
         "textposition": "top center",
         "type": "scatter",
         "x": [
          28553.8889
         ],
         "y": [
          20093.0556
         ]
        },
        {
         "mode": "text",
         "text": [
          "222"
         ],
         "textposition": "top center",
         "type": "scatter",
         "x": [
          28551.9444
         ],
         "y": [
          20085
         ]
        },
        {
         "mode": "text",
         "text": [
          "223"
         ],
         "textposition": "top center",
         "type": "scatter",
         "x": [
          28568.8889
         ],
         "y": [
          20081.1111
         ]
        },
        {
         "mode": "text",
         "text": [
          "224"
         ],
         "textposition": "top center",
         "type": "scatter",
         "x": [
          28574.4444
         ],
         "y": [
          20092.7778
         ]
        },
        {
         "mode": "text",
         "text": [
          "225"
         ],
         "textposition": "top center",
         "type": "scatter",
         "x": [
          28578.0556
         ],
         "y": [
          20101.9444
         ]
        },
        {
         "mode": "text",
         "text": [
          "226"
         ],
         "textposition": "top center",
         "type": "scatter",
         "x": [
          28570
         ],
         "y": [
          20128.8889
         ]
        },
        {
         "mode": "text",
         "text": [
          "227"
         ],
         "textposition": "top center",
         "type": "scatter",
         "x": [
          28568.8889
         ],
         "y": [
          20135.5556
         ]
        },
        {
         "mode": "text",
         "text": [
          "228"
         ],
         "textposition": "top center",
         "type": "scatter",
         "x": [
          28578.6111
         ],
         "y": [
          20127.7778
         ]
        },
        {
         "mode": "text",
         "text": [
          "229"
         ],
         "textposition": "top center",
         "type": "scatter",
         "x": [
          28583.8889
         ],
         "y": [
          20119.4444
         ]
        },
        {
         "mode": "text",
         "text": [
          "230"
         ],
         "textposition": "top center",
         "type": "scatter",
         "x": [
          28589.4444
         ],
         "y": [
          20119.4444
         ]
        },
        {
         "mode": "text",
         "text": [
          "231"
         ],
         "textposition": "top center",
         "type": "scatter",
         "x": [
          28596.9444
         ],
         "y": [
          20111.1111
         ]
        },
        {
         "mode": "text",
         "text": [
          "232"
         ],
         "textposition": "top center",
         "type": "scatter",
         "x": [
          28591.9444
         ],
         "y": [
          20107.5
         ]
        },
        {
         "mode": "text",
         "text": [
          "233"
         ],
         "textposition": "top center",
         "type": "scatter",
         "x": [
          28596.3889
         ],
         "y": [
          20100.2778
         ]
        },
        {
         "mode": "text",
         "text": [
          "234"
         ],
         "textposition": "top center",
         "type": "scatter",
         "x": [
          28586.1111
         ],
         "y": [
          20093.3333
         ]
        },
        {
         "mode": "text",
         "text": [
          "235"
         ],
         "textposition": "top center",
         "type": "scatter",
         "x": [
          28582.2222
         ],
         "y": [
          20090.5556
         ]
        },
        {
         "mode": "text",
         "text": [
          "236"
         ],
         "textposition": "top center",
         "type": "scatter",
         "x": [
          28585.2778
         ],
         "y": [
          20075
         ]
        },
        {
         "mode": "text",
         "text": [
          "237"
         ],
         "textposition": "top center",
         "type": "scatter",
         "x": [
          28590.5556
         ],
         "y": [
          20083.3333
         ]
        },
        {
         "mode": "text",
         "text": [
          "238"
         ],
         "textposition": "top center",
         "type": "scatter",
         "x": [
          28597.7778
         ],
         "y": [
          20093.6111
         ]
        },
        {
         "mode": "text",
         "text": [
          "239"
         ],
         "textposition": "top center",
         "type": "scatter",
         "x": [
          28606.6667
         ],
         "y": [
          20103.3333
         ]
        },
        {
         "mode": "text",
         "text": [
          "240"
         ],
         "textposition": "top center",
         "type": "scatter",
         "x": [
          28610.2778
         ],
         "y": [
          20100.8333
         ]
        },
        {
         "mode": "text",
         "text": [
          "241"
         ],
         "textposition": "top center",
         "type": "scatter",
         "x": [
          28611.6667
         ],
         "y": [
          20098.6111
         ]
        },
        {
         "mode": "text",
         "text": [
          "242"
         ],
         "textposition": "top center",
         "type": "scatter",
         "x": [
          28612.7778
         ],
         "y": [
          20095
         ]
        },
        {
         "mode": "text",
         "text": [
          "243"
         ],
         "textposition": "top center",
         "type": "scatter",
         "x": [
          28622.7778
         ],
         "y": [
          20096.1111
         ]
        },
        {
         "mode": "text",
         "text": [
          "244"
         ],
         "textposition": "top center",
         "type": "scatter",
         "x": [
          28621.9444
         ],
         "y": [
          20103.3333
         ]
        },
        {
         "mode": "text",
         "text": [
          "245"
         ],
         "textposition": "top center",
         "type": "scatter",
         "x": [
          28638.3333
         ],
         "y": [
          20100
         ]
        },
        {
         "mode": "text",
         "text": [
          "246"
         ],
         "textposition": "top center",
         "type": "scatter",
         "x": [
          28645.2778
         ],
         "y": [
          20101.3889
         ]
        },
        {
         "mode": "text",
         "text": [
          "247"
         ],
         "textposition": "top center",
         "type": "scatter",
         "x": [
          28652.7778
         ],
         "y": [
          20106.3889
         ]
        },
        {
         "mode": "text",
         "text": [
          "248"
         ],
         "textposition": "top center",
         "type": "scatter",
         "x": [
          28652.7778
         ],
         "y": [
          20100.5556
         ]
        },
        {
         "mode": "text",
         "text": [
          "249"
         ],
         "textposition": "top center",
         "type": "scatter",
         "x": [
          28658.3333
         ],
         "y": [
          20080
         ]
        },
        {
         "mode": "text",
         "text": [
          "250"
         ],
         "textposition": "top center",
         "type": "scatter",
         "x": [
          28680.8333
         ],
         "y": [
          20097.7778
         ]
        },
        {
         "mode": "text",
         "text": [
          "251"
         ],
         "textposition": "top center",
         "type": "scatter",
         "x": [
          28685.5556
         ],
         "y": [
          20113.8889
         ]
        },
        {
         "mode": "text",
         "text": [
          "252"
         ],
         "textposition": "top center",
         "type": "scatter",
         "x": [
          28679.4444
         ],
         "y": [
          20165.2778
         ]
        },
        {
         "mode": "text",
         "text": [
          "253"
         ],
         "textposition": "top center",
         "type": "scatter",
         "x": [
          28671.3889
         ],
         "y": [
          20168.3333
         ]
        },
        {
         "mode": "text",
         "text": [
          "254"
         ],
         "textposition": "top center",
         "type": "scatter",
         "x": [
          28650.5556
         ],
         "y": [
          20133.8889
         ]
        },
        {
         "mode": "text",
         "text": [
          "255"
         ],
         "textposition": "top center",
         "type": "scatter",
         "x": [
          28631.1111
         ],
         "y": [
          20128.3333
         ]
        },
        {
         "mode": "text",
         "text": [
          "256"
         ],
         "textposition": "top center",
         "type": "scatter",
         "x": [
          28615.2778
         ],
         "y": [
          20116.3889
         ]
        },
        {
         "mode": "text",
         "text": [
          "257"
         ],
         "textposition": "top center",
         "type": "scatter",
         "x": [
          28605.8333
         ],
         "y": [
          20106.3889
         ]
        },
        {
         "mode": "text",
         "text": [
          "258"
         ],
         "textposition": "top center",
         "type": "scatter",
         "x": [
          28604.7222
         ],
         "y": [
          20113.6111
         ]
        },
        {
         "mode": "text",
         "text": [
          "259"
         ],
         "textposition": "top center",
         "type": "scatter",
         "x": [
          28609.7222
         ],
         "y": [
          20123.0556
         ]
        },
        {
         "mode": "text",
         "text": [
          "260"
         ],
         "textposition": "top center",
         "type": "scatter",
         "x": [
          28602.7778
         ],
         "y": [
          20123.0556
         ]
        },
        {
         "mode": "text",
         "text": [
          "261"
         ],
         "textposition": "top center",
         "type": "scatter",
         "x": [
          28603.0556
         ],
         "y": [
          20131.1111
         ]
        },
        {
         "mode": "text",
         "text": [
          "262"
         ],
         "textposition": "top center",
         "type": "scatter",
         "x": [
          28591.1111
         ],
         "y": [
          20131.6667
         ]
        },
        {
         "mode": "text",
         "text": [
          "263"
         ],
         "textposition": "top center",
         "type": "scatter",
         "x": [
          28600
         ],
         "y": [
          20141.1111
         ]
        },
        {
         "mode": "text",
         "text": [
          "264"
         ],
         "textposition": "top center",
         "type": "scatter",
         "x": [
          28594.7222
         ],
         "y": [
          20145.8333
         ]
        },
        {
         "mode": "text",
         "text": [
          "265"
         ],
         "textposition": "top center",
         "type": "scatter",
         "x": [
          28595.2778
         ],
         "y": [
          20149.4444
         ]
        },
        {
         "mode": "text",
         "text": [
          "266"
         ],
         "textposition": "top center",
         "type": "scatter",
         "x": [
          28616.6667
         ],
         "y": [
          20150
         ]
        },
        {
         "mode": "text",
         "text": [
          "267"
         ],
         "textposition": "top center",
         "type": "scatter",
         "x": [
          28616.1111
         ],
         "y": [
          20143.3333
         ]
        },
        {
         "mode": "text",
         "text": [
          "268"
         ],
         "textposition": "top center",
         "type": "scatter",
         "x": [
          28622.7778
         ],
         "y": [
          20142.2222
         ]
        },
        {
         "mode": "text",
         "text": [
          "269"
         ],
         "textposition": "top center",
         "type": "scatter",
         "x": [
          28652.5
         ],
         "y": [
          20163.8889
         ]
        },
        {
         "mode": "text",
         "text": [
          "270"
         ],
         "textposition": "top center",
         "type": "scatter",
         "x": [
          28662.7778
         ],
         "y": [
          20174.7222
         ]
        },
        {
         "mode": "text",
         "text": [
          "271"
         ],
         "textposition": "top center",
         "type": "scatter",
         "x": [
          28667.7778
         ],
         "y": [
          20187.2222
         ]
        },
        {
         "mode": "text",
         "text": [
          "272"
         ],
         "textposition": "top center",
         "type": "scatter",
         "x": [
          28649.1667
         ],
         "y": [
          20180.8333
         ]
        },
        {
         "mode": "text",
         "text": [
          "273"
         ],
         "textposition": "top center",
         "type": "scatter",
         "x": [
          28630.2778
         ],
         "y": [
          20173.0556
         ]
        },
        {
         "mode": "text",
         "text": [
          "274"
         ],
         "textposition": "top center",
         "type": "scatter",
         "x": [
          28633.3333
         ],
         "y": [
          20183.3333
         ]
        },
        {
         "mode": "text",
         "text": [
          "275"
         ],
         "textposition": "top center",
         "type": "scatter",
         "x": [
          28636.1111
         ],
         "y": [
          20193.0556
         ]
        },
        {
         "mode": "text",
         "text": [
          "276"
         ],
         "textposition": "top center",
         "type": "scatter",
         "x": [
          28620.5556
         ],
         "y": [
          20190
         ]
        },
        {
         "mode": "text",
         "text": [
          "277"
         ],
         "textposition": "top center",
         "type": "scatter",
         "x": [
          28620
         ],
         "y": [
          20198.8889
         ]
        },
        {
         "mode": "text",
         "text": [
          "278"
         ],
         "textposition": "top center",
         "type": "scatter",
         "x": [
          28631.9444
         ],
         "y": [
          20199.4444
         ]
        },
        {
         "mode": "text",
         "text": [
          "279"
         ],
         "textposition": "top center",
         "type": "scatter",
         "x": [
          28652.5
         ],
         "y": [
          20214.4444
         ]
        },
        {
         "mode": "text",
         "text": [
          "280"
         ],
         "textposition": "top center",
         "type": "scatter",
         "x": [
          28664.7222
         ],
         "y": [
          20215.8333
         ]
        },
        {
         "mode": "text",
         "text": [
          "281"
         ],
         "textposition": "top center",
         "type": "scatter",
         "x": [
          28681.6667
         ],
         "y": [
          20212.2222
         ]
        },
        {
         "mode": "text",
         "text": [
          "282"
         ],
         "textposition": "top center",
         "type": "scatter",
         "x": [
          28711.1111
         ],
         "y": [
          20222.2222
         ]
        },
        {
         "mode": "text",
         "text": [
          "283"
         ],
         "textposition": "top center",
         "type": "scatter",
         "x": [
          28721.3889
         ],
         "y": [
          20208.6111
         ]
        },
        {
         "mode": "text",
         "text": [
          "284"
         ],
         "textposition": "top center",
         "type": "scatter",
         "x": [
          28714.7222
         ],
         "y": [
          20204.1667
         ]
        },
        {
         "mode": "text",
         "text": [
          "285"
         ],
         "textposition": "top center",
         "type": "scatter",
         "x": [
          28735.5556
         ],
         "y": [
          20185.8333
         ]
        },
        {
         "mode": "text",
         "text": [
          "286"
         ],
         "textposition": "top center",
         "type": "scatter",
         "x": [
          28737.2222
         ],
         "y": [
          20149.1667
         ]
        },
        {
         "mode": "text",
         "text": [
          "287"
         ],
         "textposition": "top center",
         "type": "scatter",
         "x": [
          28783.3333
         ],
         "y": [
          20083.3333
         ]
        },
        {
         "mode": "text",
         "text": [
          "288"
         ],
         "textposition": "top center",
         "type": "scatter",
         "x": [
          28850
         ],
         "y": [
          20016.6667
         ]
        },
        {
         "mode": "text",
         "text": [
          "289"
         ],
         "textposition": "top center",
         "type": "scatter",
         "x": [
          28933.3333
         ],
         "y": [
          20000
         ]
        },
        {
         "mode": "text",
         "text": [
          "290"
         ],
         "textposition": "top center",
         "type": "scatter",
         "x": [
          28750
         ],
         "y": [
          19800
         ]
        },
        {
         "mode": "text",
         "text": [
          "291"
         ],
         "textposition": "top center",
         "type": "scatter",
         "x": [
          28766.6667
         ],
         "y": [
          19766.6667
         ]
        },
        {
         "mode": "text",
         "text": [
          "292"
         ],
         "textposition": "top center",
         "type": "scatter",
         "x": [
          28800
         ],
         "y": [
          19716.6667
         ]
        },
        {
         "mode": "text",
         "text": [
          "293"
         ],
         "textposition": "top center",
         "type": "scatter",
         "x": [
          28850
         ],
         "y": [
          19683.3333
         ]
        },
        {
         "mode": "text",
         "text": [
          "294"
         ],
         "textposition": "top center",
         "type": "scatter",
         "x": [
          29200
         ],
         "y": [
          19783.3333
         ]
        },
        {
         "mode": "text",
         "text": [
          "295"
         ],
         "textposition": "top center",
         "type": "scatter",
         "x": [
          29366.6667
         ],
         "y": [
          19783.3333
         ]
        },
        {
         "mode": "text",
         "text": [
          "296"
         ],
         "textposition": "top center",
         "type": "scatter",
         "x": [
          29500
         ],
         "y": [
          19716.6667
         ]
        },
        {
         "mode": "text",
         "text": [
          "297"
         ],
         "textposition": "top center",
         "type": "scatter",
         "x": [
          29666.6667
         ],
         "y": [
          19700
         ]
        },
        {
         "mode": "text",
         "text": [
          "298"
         ],
         "textposition": "top center",
         "type": "scatter",
         "x": [
          29750
         ],
         "y": [
          19500
         ]
        },
        {
         "mode": "text",
         "text": [
          "299"
         ],
         "textposition": "top center",
         "type": "scatter",
         "x": [
          29816.6667
         ],
         "y": [
          19450
         ]
        },
        {
         "mode": "text",
         "text": [
          "300"
         ],
         "textposition": "top center",
         "type": "scatter",
         "x": [
          29766.6667
         ],
         "y": [
          19466.6667
         ]
        },
        {
         "mode": "text",
         "text": [
          "301"
         ],
         "textposition": "top center",
         "type": "scatter",
         "x": [
          29750
         ],
         "y": [
          19466.6667
         ]
        },
        {
         "mode": "text",
         "text": [
          "302"
         ],
         "textposition": "top center",
         "type": "scatter",
         "x": [
          29600
         ],
         "y": [
          19383.3333
         ]
        },
        {
         "mode": "text",
         "text": [
          "303"
         ],
         "textposition": "top center",
         "type": "scatter",
         "x": [
          29566.6667
         ],
         "y": [
          19366.6667
         ]
        },
        {
         "mode": "text",
         "text": [
          "304"
         ],
         "textposition": "top center",
         "type": "scatter",
         "x": [
          29616.6667
         ],
         "y": [
          19283.3333
         ]
        },
        {
         "mode": "text",
         "text": [
          "305"
         ],
         "textposition": "top center",
         "type": "scatter",
         "x": [
          29816.6667
         ],
         "y": [
          19200
         ]
        },
        {
         "mode": "text",
         "text": [
          "306"
         ],
         "textposition": "top center",
         "type": "scatter",
         "x": [
          29800
         ],
         "y": [
          19150
         ]
        },
        {
         "mode": "text",
         "text": [
          "307"
         ],
         "textposition": "top center",
         "type": "scatter",
         "x": [
          29783.3333
         ],
         "y": [
          19033.3333
         ]
        },
        {
         "mode": "text",
         "text": [
          "308"
         ],
         "textposition": "top center",
         "type": "scatter",
         "x": [
          29733.3333
         ],
         "y": [
          19016.6667
         ]
        },
        {
         "mode": "text",
         "text": [
          "309"
         ],
         "textposition": "top center",
         "type": "scatter",
         "x": [
          29816.6667
         ],
         "y": [
          18916.6667
         ]
        },
        {
         "mode": "text",
         "text": [
          "310"
         ],
         "textposition": "top center",
         "type": "scatter",
         "x": [
          29833.3333
         ],
         "y": [
          18916.6667
         ]
        },
        {
         "mode": "text",
         "text": [
          "311"
         ],
         "textposition": "top center",
         "type": "scatter",
         "x": [
          30050
         ],
         "y": [
          18933.3333
         ]
        },
        {
         "mode": "text",
         "text": [
          "312"
         ],
         "textposition": "top center",
         "type": "scatter",
         "x": [
          30100
         ],
         "y": [
          18983.3333
         ]
        },
        {
         "mode": "text",
         "text": [
          "313"
         ],
         "textposition": "top center",
         "type": "scatter",
         "x": [
          30283.3333
         ],
         "y": [
          18950
         ]
        },
        {
         "mode": "text",
         "text": [
          "314"
         ],
         "textposition": "top center",
         "type": "scatter",
         "x": [
          30533.3333
         ],
         "y": [
          18533.3333
         ]
        },
        {
         "mode": "text",
         "text": [
          "315"
         ],
         "textposition": "top center",
         "type": "scatter",
         "x": [
          30700
         ],
         "y": [
          18466.6667
         ]
        },
        {
         "mode": "text",
         "text": [
          "316"
         ],
         "textposition": "top center",
         "type": "scatter",
         "x": [
          30816.6667
         ],
         "y": [
          18716.6667
         ]
        },
        {
         "mode": "text",
         "text": [
          "317"
         ],
         "textposition": "top center",
         "type": "scatter",
         "x": [
          31050
         ],
         "y": [
          18566.6667
         ]
        },
        {
         "mode": "text",
         "text": [
          "318"
         ],
         "textposition": "top center",
         "type": "scatter",
         "x": [
          31283.3333
         ],
         "y": [
          18900
         ]
        },
        {
         "mode": "text",
         "text": [
          "319"
         ],
         "textposition": "top center",
         "type": "scatter",
         "x": [
          31566.6667
         ],
         "y": [
          18616.6667
         ]
        },
        {
         "mode": "text",
         "text": [
          "320"
         ],
         "textposition": "top center",
         "type": "scatter",
         "x": [
          31516.6667
         ],
         "y": [
          18466.6667
         ]
        },
        {
         "mode": "text",
         "text": [
          "321"
         ],
         "textposition": "top center",
         "type": "scatter",
         "x": [
          31400
         ],
         "y": [
          18516.6667
         ]
        },
        {
         "mode": "text",
         "text": [
          "322"
         ],
         "textposition": "top center",
         "type": "scatter",
         "x": [
          31350
         ],
         "y": [
          18383.3333
         ]
        },
        {
         "mode": "text",
         "text": [
          "323"
         ],
         "textposition": "top center",
         "type": "scatter",
         "x": [
          31366.6667
         ],
         "y": [
          18300
         ]
        },
        {
         "mode": "text",
         "text": [
          "324"
         ],
         "textposition": "top center",
         "type": "scatter",
         "x": [
          31550
         ],
         "y": [
          18183.3333
         ]
        },
        {
         "mode": "text",
         "text": [
          "325"
         ],
         "textposition": "top center",
         "type": "scatter",
         "x": [
          31400
         ],
         "y": [
          18183.3333
         ]
        },
        {
         "mode": "text",
         "text": [
          "326"
         ],
         "textposition": "top center",
         "type": "scatter",
         "x": [
          31333.3333
         ],
         "y": [
          18083.3333
         ]
        },
        {
         "mode": "text",
         "text": [
          "327"
         ],
         "textposition": "top center",
         "type": "scatter",
         "x": [
          31316.6667
         ],
         "y": [
          18033.3333
         ]
        },
        {
         "mode": "text",
         "text": [
          "328"
         ],
         "textposition": "top center",
         "type": "scatter",
         "x": [
          31216.6667
         ],
         "y": [
          18083.3333
         ]
        },
        {
         "mode": "text",
         "text": [
          "329"
         ],
         "textposition": "top center",
         "type": "scatter",
         "x": [
          31233.3333
         ],
         "y": [
          18166.6667
         ]
        },
        {
         "mode": "text",
         "text": [
          "330"
         ],
         "textposition": "top center",
         "type": "scatter",
         "x": [
          31200
         ],
         "y": [
          18316.6667
         ]
        },
        {
         "mode": "text",
         "text": [
          "331"
         ],
         "textposition": "top center",
         "type": "scatter",
         "x": [
          31133.3333
         ],
         "y": [
          18316.6667
         ]
        },
        {
         "mode": "text",
         "text": [
          "332"
         ],
         "textposition": "top center",
         "type": "scatter",
         "x": [
          31100
         ],
         "y": [
          18266.6667
         ]
        },
        {
         "mode": "text",
         "text": [
          "333"
         ],
         "textposition": "top center",
         "type": "scatter",
         "x": [
          31166.6667
         ],
         "y": [
          18100
         ]
        },
        {
         "mode": "text",
         "text": [
          "334"
         ],
         "textposition": "top center",
         "type": "scatter",
         "x": [
          31100
         ],
         "y": [
          18033.3333
         ]
        },
        {
         "mode": "text",
         "text": [
          "335"
         ],
         "textposition": "top center",
         "type": "scatter",
         "x": [
          31100
         ],
         "y": [
          18016.6667
         ]
        },
        {
         "mode": "text",
         "text": [
          "336"
         ],
         "textposition": "top center",
         "type": "scatter",
         "x": [
          31066.6667
         ],
         "y": [
          17983.3333
         ]
        },
        {
         "mode": "text",
         "text": [
          "337"
         ],
         "textposition": "top center",
         "type": "scatter",
         "x": [
          31250
         ],
         "y": [
          17900
         ]
        },
        {
         "mode": "text",
         "text": [
          "338"
         ],
         "textposition": "top center",
         "type": "scatter",
         "x": [
          31383.3333
         ],
         "y": [
          17850
         ]
        },
        {
         "mode": "text",
         "text": [
          "339"
         ],
         "textposition": "top center",
         "type": "scatter",
         "x": [
          31316.6667
         ],
         "y": [
          17783.3333
         ]
        },
        {
         "mode": "text",
         "text": [
          "340"
         ],
         "textposition": "top center",
         "type": "scatter",
         "x": [
          31183.3333
         ],
         "y": [
          17850
         ]
        },
        {
         "mode": "text",
         "text": [
          "341"
         ],
         "textposition": "top center",
         "type": "scatter",
         "x": [
          31145.2778
         ],
         "y": [
          17820
         ]
        },
        {
         "mode": "text",
         "text": [
          "342"
         ],
         "textposition": "top center",
         "type": "scatter",
         "x": [
          31130
         ],
         "y": [
          17820.8333
         ]
        },
        {
         "mode": "text",
         "text": [
          "343"
         ],
         "textposition": "top center",
         "type": "scatter",
         "x": [
          31123.0556
         ],
         "y": [
          17812.5
         ]
        },
        {
         "mode": "text",
         "text": [
          "344"
         ],
         "textposition": "top center",
         "type": "scatter",
         "x": [
          31141.1111
         ],
         "y": [
          17798.0556
         ]
        },
        {
         "mode": "text",
         "text": [
          "345"
         ],
         "textposition": "top center",
         "type": "scatter",
         "x": [
          31140.2778
         ],
         "y": [
          17793.6111
         ]
        },
        {
         "mode": "text",
         "text": [
          "346"
         ],
         "textposition": "top center",
         "type": "scatter",
         "x": [
          31152.2222
         ],
         "y": [
          17781.9444
         ]
        },
        {
         "mode": "text",
         "text": [
          "347"
         ],
         "textposition": "top center",
         "type": "scatter",
         "x": [
          31142.7778
         ],
         "y": [
          17776.6667
         ]
        },
        {
         "mode": "text",
         "text": [
          "348"
         ],
         "textposition": "top center",
         "type": "scatter",
         "x": [
          31136.6667
         ],
         "y": [
          17760.2778
         ]
        },
        {
         "mode": "text",
         "text": [
          "349"
         ],
         "textposition": "top center",
         "type": "scatter",
         "x": [
          31136.1111
         ],
         "y": [
          17741.1111
         ]
        },
        {
         "mode": "text",
         "text": [
          "350"
         ],
         "textposition": "top center",
         "type": "scatter",
         "x": [
          31133.3333
         ],
         "y": [
          17733.3333
         ]
        },
        {
         "mode": "text",
         "text": [
          "351"
         ],
         "textposition": "top center",
         "type": "scatter",
         "x": [
          31129.1667
         ],
         "y": [
          17735.5556
         ]
        },
        {
         "mode": "text",
         "text": [
          "352"
         ],
         "textposition": "top center",
         "type": "scatter",
         "x": [
          31116.6667
         ],
         "y": [
          17733.3333
         ]
        },
        {
         "mode": "text",
         "text": [
          "353"
         ],
         "textposition": "top center",
         "type": "scatter",
         "x": [
          31121.3889
         ],
         "y": [
          17753.0556
         ]
        },
        {
         "mode": "text",
         "text": [
          "354"
         ],
         "textposition": "top center",
         "type": "scatter",
         "x": [
          31113.3333
         ],
         "y": [
          17766.9444
         ]
        },
        {
         "mode": "text",
         "text": [
          "355"
         ],
         "textposition": "top center",
         "type": "scatter",
         "x": [
          31111.9444
         ],
         "y": [
          17756.6667
         ]
        },
        {
         "mode": "text",
         "text": [
          "356"
         ],
         "textposition": "top center",
         "type": "scatter",
         "x": [
          31102.5
         ],
         "y": [
          17756.9444
         ]
        },
        {
         "mode": "text",
         "text": [
          "357"
         ],
         "textposition": "top center",
         "type": "scatter",
         "x": [
          31093.0556
         ],
         "y": [
          17756.3889
         ]
        },
        {
         "mode": "text",
         "text": [
          "358"
         ],
         "textposition": "top center",
         "type": "scatter",
         "x": [
          31100
         ],
         "y": [
          17750.5556
         ]
        },
        {
         "mode": "text",
         "text": [
          "359"
         ],
         "textposition": "top center",
         "type": "scatter",
         "x": [
          31096.6667
         ],
         "y": [
          17750.2778
         ]
        },
        {
         "mode": "text",
         "text": [
          "360"
         ],
         "textposition": "top center",
         "type": "scatter",
         "x": [
          31093.3333
         ],
         "y": [
          17745
         ]
        },
        {
         "mode": "text",
         "text": [
          "361"
         ],
         "textposition": "top center",
         "type": "scatter",
         "x": [
          31091.6667
         ],
         "y": [
          17749.1667
         ]
        },
        {
         "mode": "text",
         "text": [
          "362"
         ],
         "textposition": "top center",
         "type": "scatter",
         "x": [
          31082.2222
         ],
         "y": [
          17757.2222
         ]
        },
        {
         "mode": "text",
         "text": [
          "363"
         ],
         "textposition": "top center",
         "type": "scatter",
         "x": [
          31074.1667
         ],
         "y": [
          17756.9444
         ]
        },
        {
         "mode": "text",
         "text": [
          "364"
         ],
         "textposition": "top center",
         "type": "scatter",
         "x": [
          31066.6667
         ],
         "y": [
          17783.3333
         ]
        },
        {
         "mode": "text",
         "text": [
          "365"
         ],
         "textposition": "top center",
         "type": "scatter",
         "x": [
          31048.3333
         ],
         "y": [
          17789.7222
         ]
        },
        {
         "mode": "text",
         "text": [
          "366"
         ],
         "textposition": "top center",
         "type": "scatter",
         "x": [
          31041.6667
         ],
         "y": [
          17782.5
         ]
        },
        {
         "mode": "text",
         "text": [
          "367"
         ],
         "textposition": "top center",
         "type": "scatter",
         "x": [
          31048.6111
         ],
         "y": [
          17776.6667
         ]
        },
        {
         "mode": "text",
         "text": [
          "368"
         ],
         "textposition": "top center",
         "type": "scatter",
         "x": [
          31053.6111
         ],
         "y": [
          17768.3333
         ]
        },
        {
         "mode": "text",
         "text": [
          "369"
         ],
         "textposition": "top center",
         "type": "scatter",
         "x": [
          31047.5
         ],
         "y": [
          17768.0556
         ]
        },
        {
         "mode": "text",
         "text": [
          "370"
         ],
         "textposition": "top center",
         "type": "scatter",
         "x": [
          31043.6111
         ],
         "y": [
          17768.6111
         ]
        },
        {
         "mode": "text",
         "text": [
          "371"
         ],
         "textposition": "top center",
         "type": "scatter",
         "x": [
          31036.9444
         ],
         "y": [
          17771.6667
         ]
        },
        {
         "mode": "text",
         "text": [
          "372"
         ],
         "textposition": "top center",
         "type": "scatter",
         "x": [
          31031.1111
         ],
         "y": [
          17775
         ]
        },
        {
         "mode": "text",
         "text": [
          "373"
         ],
         "textposition": "top center",
         "type": "scatter",
         "x": [
          31030.5556
         ],
         "y": [
          17769.1667
         ]
        },
        {
         "mode": "text",
         "text": [
          "374"
         ],
         "textposition": "top center",
         "type": "scatter",
         "x": [
          31041.9444
         ],
         "y": [
          17756.6667
         ]
        },
        {
         "mode": "text",
         "text": [
          "375"
         ],
         "textposition": "top center",
         "type": "scatter",
         "x": [
          31046.1111
         ],
         "y": [
          17748.6111
         ]
        },
        {
         "mode": "text",
         "text": [
          "376"
         ],
         "textposition": "top center",
         "type": "scatter",
         "x": [
          31051.6667
         ],
         "y": [
          17752.5
         ]
        },
        {
         "mode": "text",
         "text": [
          "377"
         ],
         "textposition": "top center",
         "type": "scatter",
         "x": [
          31083.3333
         ],
         "y": [
          17683.3333
         ]
        },
        {
         "mode": "text",
         "text": [
          "378"
         ],
         "textposition": "top center",
         "type": "scatter",
         "x": [
          31133.3333
         ],
         "y": [
          17600
         ]
        },
        {
         "mode": "text",
         "text": [
          "379"
         ],
         "textposition": "top center",
         "type": "scatter",
         "x": [
          31048.0556
         ],
         "y": [
          17733.0556
         ]
        },
        {
         "mode": "text",
         "text": [
          "380"
         ],
         "textposition": "top center",
         "type": "scatter",
         "x": [
          31026.9444
         ],
         "y": [
          17748.3333
         ]
        },
        {
         "mode": "text",
         "text": [
          "381"
         ],
         "textposition": "top center",
         "type": "scatter",
         "x": [
          31010.5556
         ],
         "y": [
          17758.8889
         ]
        },
        {
         "mode": "text",
         "text": [
          "382"
         ],
         "textposition": "top center",
         "type": "scatter",
         "x": [
          30992.2222
         ],
         "y": [
          17750
         ]
        },
        {
         "mode": "text",
         "text": [
          "383"
         ],
         "textposition": "top center",
         "type": "scatter",
         "x": [
          31006.3889
         ],
         "y": [
          17774.1667
         ]
        },
        {
         "mode": "text",
         "text": [
          "384"
         ],
         "textposition": "top center",
         "type": "scatter",
         "x": [
          31016.6667
         ],
         "y": [
          17783.3333
         ]
        },
        {
         "mode": "text",
         "text": [
          "385"
         ],
         "textposition": "top center",
         "type": "scatter",
         "x": [
          31018.6111
         ],
         "y": [
          17780
         ]
        },
        {
         "mode": "text",
         "text": [
          "386"
         ],
         "textposition": "top center",
         "type": "scatter",
         "x": [
          31024.1667
         ],
         "y": [
          17782.5
         ]
        },
        {
         "mode": "text",
         "text": [
          "387"
         ],
         "textposition": "top center",
         "type": "scatter",
         "x": [
          31030.5556
         ],
         "y": [
          17796.3889
         ]
        },
        {
         "mode": "text",
         "text": [
          "388"
         ],
         "textposition": "top center",
         "type": "scatter",
         "x": [
          31030.8333
         ],
         "y": [
          17801.6667
         ]
        },
        {
         "mode": "text",
         "text": [
          "389"
         ],
         "textposition": "top center",
         "type": "scatter",
         "x": [
          31022.5
         ],
         "y": [
          17793.6111
         ]
        },
        {
         "mode": "text",
         "text": [
          "390"
         ],
         "textposition": "top center",
         "type": "scatter",
         "x": [
          31009.1667
         ],
         "y": [
          17794.1667
         ]
        },
        {
         "mode": "text",
         "text": [
          "391"
         ],
         "textposition": "top center",
         "type": "scatter",
         "x": [
          31009.1667
         ],
         "y": [
          17789.4444
         ]
        },
        {
         "mode": "text",
         "text": [
          "392"
         ],
         "textposition": "top center",
         "type": "scatter",
         "x": [
          31001.9444
         ],
         "y": [
          17785
         ]
        },
        {
         "mode": "text",
         "text": [
          "393"
         ],
         "textposition": "top center",
         "type": "scatter",
         "x": [
          30981.3889
         ],
         "y": [
          17770
         ]
        },
        {
         "mode": "text",
         "text": [
          "394"
         ],
         "textposition": "top center",
         "type": "scatter",
         "x": [
          30982.7778
         ],
         "y": [
          17757.7778
         ]
        },
        {
         "mode": "text",
         "text": [
          "395"
         ],
         "textposition": "top center",
         "type": "scatter",
         "x": [
          30955.2778
         ],
         "y": [
          17735.5556
         ]
        },
        {
         "mode": "text",
         "text": [
          "396"
         ],
         "textposition": "top center",
         "type": "scatter",
         "x": [
          30936.6667
         ],
         "y": [
          17753.6111
         ]
        },
        {
         "mode": "text",
         "text": [
          "397"
         ],
         "textposition": "top center",
         "type": "scatter",
         "x": [
          30931.3889
         ],
         "y": [
          17745.5556
         ]
        },
        {
         "mode": "text",
         "text": [
          "398"
         ],
         "textposition": "top center",
         "type": "scatter",
         "x": [
          30921.9444
         ],
         "y": [
          17746.1111
         ]
        },
        {
         "mode": "text",
         "text": [
          "399"
         ],
         "textposition": "top center",
         "type": "scatter",
         "x": [
          30915.2778
         ],
         "y": [
          17735.2778
         ]
        },
        {
         "mode": "text",
         "text": [
          "400"
         ],
         "textposition": "top center",
         "type": "scatter",
         "x": [
          30900
         ],
         "y": [
          17783.3333
         ]
        },
        {
         "mode": "text",
         "text": [
          "401"
         ],
         "textposition": "top center",
         "type": "scatter",
         "x": [
          30925.2778
         ],
         "y": [
          17806.1111
         ]
        },
        {
         "mode": "text",
         "text": [
          "402"
         ],
         "textposition": "top center",
         "type": "scatter",
         "x": [
          30965.5556
         ],
         "y": [
          17797.7778
         ]
        },
        {
         "mode": "text",
         "text": [
          "403"
         ],
         "textposition": "top center",
         "type": "scatter",
         "x": [
          30983.0556
         ],
         "y": [
          17825.2778
         ]
        },
        {
         "mode": "text",
         "text": [
          "404"
         ],
         "textposition": "top center",
         "type": "scatter",
         "x": [
          30987.5
         ],
         "y": [
          17799.1667
         ]
        },
        {
         "mode": "text",
         "text": [
          "405"
         ],
         "textposition": "top center",
         "type": "scatter",
         "x": [
          31003.3333
         ],
         "y": [
          17802.2222
         ]
        },
        {
         "mode": "text",
         "text": [
          "406"
         ],
         "textposition": "top center",
         "type": "scatter",
         "x": [
          31014.1667
         ],
         "y": [
          17806.6667
         ]
        },
        {
         "mode": "text",
         "text": [
          "407"
         ],
         "textposition": "top center",
         "type": "scatter",
         "x": [
          31016.6667
         ],
         "y": [
          17816.6667
         ]
        },
        {
         "mode": "text",
         "text": [
          "408"
         ],
         "textposition": "top center",
         "type": "scatter",
         "x": [
          31024.7222
         ],
         "y": [
          17814.4444
         ]
        },
        {
         "mode": "text",
         "text": [
          "409"
         ],
         "textposition": "top center",
         "type": "scatter",
         "x": [
          31044.1667
         ],
         "y": [
          17804.7222
         ]
        },
        {
         "mode": "text",
         "text": [
          "410"
         ],
         "textposition": "top center",
         "type": "scatter",
         "x": [
          31050
         ],
         "y": [
          17833.3333
         ]
        },
        {
         "mode": "text",
         "text": [
          "411"
         ],
         "textposition": "top center",
         "type": "scatter",
         "x": [
          31054.7222
         ],
         "y": [
          17845.8333
         ]
        },
        {
         "mode": "text",
         "text": [
          "412"
         ],
         "textposition": "top center",
         "type": "scatter",
         "x": [
          31060.5556
         ],
         "y": [
          17841.9444
         ]
        },
        {
         "mode": "text",
         "text": [
          "413"
         ],
         "textposition": "top center",
         "type": "scatter",
         "x": [
          31070.8333
         ],
         "y": [
          17839.7222
         ]
        },
        {
         "mode": "text",
         "text": [
          "414"
         ],
         "textposition": "top center",
         "type": "scatter",
         "x": [
          31075.5556
         ],
         "y": [
          17830
         ]
        },
        {
         "mode": "text",
         "text": [
          "415"
         ],
         "textposition": "top center",
         "type": "scatter",
         "x": [
          31078.0556
         ],
         "y": [
          17820.8333
         ]
        },
        {
         "mode": "text",
         "text": [
          "416"
         ],
         "textposition": "top center",
         "type": "scatter",
         "x": [
          31093.3333
         ],
         "y": [
          17818.3333
         ]
        },
        {
         "mode": "text",
         "text": [
          "417"
         ],
         "textposition": "top center",
         "type": "scatter",
         "x": [
          31081.6667
         ],
         "y": [
          17808.0556
         ]
        },
        {
         "mode": "text",
         "text": [
          "418"
         ],
         "textposition": "top center",
         "type": "scatter",
         "x": [
          31092.5
         ],
         "y": [
          17787.7778
         ]
        },
        {
         "mode": "text",
         "text": [
          "419"
         ],
         "textposition": "top center",
         "type": "scatter",
         "x": [
          31101.9444
         ],
         "y": [
          17780.5556
         ]
        },
        {
         "mode": "text",
         "text": [
          "420"
         ],
         "textposition": "top center",
         "type": "scatter",
         "x": [
          31113.6111
         ],
         "y": [
          17781.3889
         ]
        },
        {
         "mode": "text",
         "text": [
          "421"
         ],
         "textposition": "top center",
         "type": "scatter",
         "x": [
          31121.6667
         ],
         "y": [
          17783.8889
         ]
        },
        {
         "mode": "text",
         "text": [
          "422"
         ],
         "textposition": "top center",
         "type": "scatter",
         "x": [
          31118.0556
         ],
         "y": [
          17791.3889
         ]
        },
        {
         "mode": "text",
         "text": [
          "423"
         ],
         "textposition": "top center",
         "type": "scatter",
         "x": [
          31099.4444
         ],
         "y": [
          17808.6111
         ]
        },
        {
         "mode": "text",
         "text": [
          "424"
         ],
         "textposition": "top center",
         "type": "scatter",
         "x": [
          31100.2778
         ],
         "y": [
          17815.2778
         ]
        },
        {
         "mode": "text",
         "text": [
          "425"
         ],
         "textposition": "top center",
         "type": "scatter",
         "x": [
          31098.8889
         ],
         "y": [
          17830.8333
         ]
        },
        {
         "mode": "text",
         "text": [
          "426"
         ],
         "textposition": "top center",
         "type": "scatter",
         "x": [
          31110.2778
         ],
         "y": [
          17835.5556
         ]
        },
        {
         "mode": "text",
         "text": [
          "427"
         ],
         "textposition": "top center",
         "type": "scatter",
         "x": [
          31115.5556
         ],
         "y": [
          17841.3889
         ]
        },
        {
         "mode": "text",
         "text": [
          "428"
         ],
         "textposition": "top center",
         "type": "scatter",
         "x": [
          31122.7778
         ],
         "y": [
          17830.2778
         ]
        },
        {
         "mode": "text",
         "text": [
          "429"
         ],
         "textposition": "top center",
         "type": "scatter",
         "x": [
          31133.3333
         ],
         "y": [
          17833.0556
         ]
        },
        {
         "mode": "text",
         "text": [
          "430"
         ],
         "textposition": "top center",
         "type": "scatter",
         "x": [
          31128.8889
         ],
         "y": [
          17848.8889
         ]
        },
        {
         "mode": "text",
         "text": [
          "431"
         ],
         "textposition": "top center",
         "type": "scatter",
         "x": [
          31122.7778
         ],
         "y": [
          17859.7222
         ]
        },
        {
         "mode": "text",
         "text": [
          "432"
         ],
         "textposition": "top center",
         "type": "scatter",
         "x": [
          31124.4444
         ],
         "y": [
          17879.4444
         ]
        },
        {
         "mode": "text",
         "text": [
          "433"
         ],
         "textposition": "top center",
         "type": "scatter",
         "x": [
          31116.6667
         ],
         "y": [
          17891.3889
         ]
        },
        {
         "mode": "text",
         "text": [
          "434"
         ],
         "textposition": "top center",
         "type": "scatter",
         "x": [
          31112.5
         ],
         "y": [
          17869.1667
         ]
        },
        {
         "mode": "text",
         "text": [
          "435"
         ],
         "textposition": "top center",
         "type": "scatter",
         "x": [
          31090.8333
         ],
         "y": [
          17878.3333
         ]
        },
        {
         "mode": "text",
         "text": [
          "436"
         ],
         "textposition": "top center",
         "type": "scatter",
         "x": [
          31071.3889
         ],
         "y": [
          17892.7778
         ]
        },
        {
         "mode": "text",
         "text": [
          "437"
         ],
         "textposition": "top center",
         "type": "scatter",
         "x": [
          31095.2778
         ],
         "y": [
          17857.2222
         ]
        },
        {
         "mode": "text",
         "text": [
          "438"
         ],
         "textposition": "top center",
         "type": "scatter",
         "x": [
          31084.7222
         ],
         "y": [
          17852.7778
         ]
        },
        {
         "mode": "text",
         "text": [
          "439"
         ],
         "textposition": "top center",
         "type": "scatter",
         "x": [
          31083.8889
         ],
         "y": [
          17850.2778
         ]
        },
        {
         "mode": "text",
         "text": [
          "440"
         ],
         "textposition": "top center",
         "type": "scatter",
         "x": [
          31070.5556
         ],
         "y": [
          17850.2778
         ]
        },
        {
         "mode": "text",
         "text": [
          "441"
         ],
         "textposition": "top center",
         "type": "scatter",
         "x": [
          31066.6667
         ],
         "y": [
          17850
         ]
        },
        {
         "mode": "text",
         "text": [
          "442"
         ],
         "textposition": "top center",
         "type": "scatter",
         "x": [
          31066.6667
         ],
         "y": [
          17866.6667
         ]
        },
        {
         "mode": "text",
         "text": [
          "443"
         ],
         "textposition": "top center",
         "type": "scatter",
         "x": [
          31056.6667
         ],
         "y": [
          17864.4444
         ]
        },
        {
         "mode": "text",
         "text": [
          "444"
         ],
         "textposition": "top center",
         "type": "scatter",
         "x": [
          31060.8333
         ],
         "y": [
          17860
         ]
        },
        {
         "mode": "text",
         "text": [
          "445"
         ],
         "textposition": "top center",
         "type": "scatter",
         "x": [
          31051.3889
         ],
         "y": [
          17850.5556
         ]
        },
        {
         "mode": "text",
         "text": [
          "446"
         ],
         "textposition": "top center",
         "type": "scatter",
         "x": [
          31033.3333
         ],
         "y": [
          17850
         ]
        },
        {
         "mode": "text",
         "text": [
          "447"
         ],
         "textposition": "top center",
         "type": "scatter",
         "x": [
          31023.0556
         ],
         "y": [
          17859.1667
         ]
        },
        {
         "mode": "text",
         "text": [
          "448"
         ],
         "textposition": "top center",
         "type": "scatter",
         "x": [
          31029.7222
         ],
         "y": [
          17863.8889
         ]
        },
        {
         "mode": "text",
         "text": [
          "449"
         ],
         "textposition": "top center",
         "type": "scatter",
         "x": [
          31042.2222
         ],
         "y": [
          17882.7778
         ]
        },
        {
         "mode": "text",
         "text": [
          "450"
         ],
         "textposition": "top center",
         "type": "scatter",
         "x": [
          31016.6667
         ],
         "y": [
          17879.4444
         ]
        },
        {
         "mode": "text",
         "text": [
          "451"
         ],
         "textposition": "top center",
         "type": "scatter",
         "x": [
          31002.2222
         ],
         "y": [
          17877.2222
         ]
        },
        {
         "mode": "text",
         "text": [
          "452"
         ],
         "textposition": "top center",
         "type": "scatter",
         "x": [
          31009.1667
         ],
         "y": [
          17884.4444
         ]
        },
        {
         "mode": "text",
         "text": [
          "453"
         ],
         "textposition": "top center",
         "type": "scatter",
         "x": [
          31019.7222
         ],
         "y": [
          17893.6111
         ]
        },
        {
         "mode": "text",
         "text": [
          "454"
         ],
         "textposition": "top center",
         "type": "scatter",
         "x": [
          31011.1111
         ],
         "y": [
          17912.7778
         ]
        },
        {
         "mode": "text",
         "text": [
          "455"
         ],
         "textposition": "top center",
         "type": "scatter",
         "x": [
          31008.6111
         ],
         "y": [
          17927.5
         ]
        },
        {
         "mode": "text",
         "text": [
          "456"
         ],
         "textposition": "top center",
         "type": "scatter",
         "x": [
          31010.5556
         ],
         "y": [
          17934.4444
         ]
        },
        {
         "mode": "text",
         "text": [
          "457"
         ],
         "textposition": "top center",
         "type": "scatter",
         "x": [
          31002.5
         ],
         "y": [
          17936.1111
         ]
        },
        {
         "mode": "text",
         "text": [
          "458"
         ],
         "textposition": "top center",
         "type": "scatter",
         "x": [
          30977.5
         ],
         "y": [
          17944.1667
         ]
        },
        {
         "mode": "text",
         "text": [
          "459"
         ],
         "textposition": "top center",
         "type": "scatter",
         "x": [
          30958.3333
         ],
         "y": [
          17938.8889
         ]
        },
        {
         "mode": "text",
         "text": [
          "460"
         ],
         "textposition": "top center",
         "type": "scatter",
         "x": [
          30974.4444
         ],
         "y": [
          17933.6111
         ]
        },
        {
         "mode": "text",
         "text": [
          "461"
         ],
         "textposition": "top center",
         "type": "scatter",
         "x": [
          30983.3333
         ],
         "y": [
          17916.6667
         ]
        },
        {
         "mode": "text",
         "text": [
          "462"
         ],
         "textposition": "top center",
         "type": "scatter",
         "x": [
          30992.2222
         ],
         "y": [
          17910.5556
         ]
        },
        {
         "mode": "text",
         "text": [
          "463"
         ],
         "textposition": "top center",
         "type": "scatter",
         "x": [
          31005.5556
         ],
         "y": [
          17915.2778
         ]
        },
        {
         "mode": "text",
         "text": [
          "464"
         ],
         "textposition": "top center",
         "type": "scatter",
         "x": [
          30991.9444
         ],
         "y": [
          17885.8333
         ]
        },
        {
         "mode": "text",
         "text": [
          "465"
         ],
         "textposition": "top center",
         "type": "scatter",
         "x": [
          30987.7778
         ],
         "y": [
          17869.4444
         ]
        },
        {
         "mode": "text",
         "text": [
          "466"
         ],
         "textposition": "top center",
         "type": "scatter",
         "x": [
          30993.8889
         ],
         "y": [
          17856.6667
         ]
        },
        {
         "mode": "text",
         "text": [
          "467"
         ],
         "textposition": "top center",
         "type": "scatter",
         "x": [
          31015
         ],
         "y": [
          17848.0556
         ]
        },
        {
         "mode": "text",
         "text": [
          "468"
         ],
         "textposition": "top center",
         "type": "scatter",
         "x": [
          31016.6667
         ],
         "y": [
          17833.3333
         ]
        },
        {
         "mode": "text",
         "text": [
          "469"
         ],
         "textposition": "top center",
         "type": "scatter",
         "x": [
          30979.1667
         ],
         "y": [
          17843.8889
         ]
        },
        {
         "mode": "text",
         "text": [
          "470"
         ],
         "textposition": "top center",
         "type": "scatter",
         "x": [
          30967.2222
         ],
         "y": [
          17855.2778
         ]
        },
        {
         "mode": "text",
         "text": [
          "471"
         ],
         "textposition": "top center",
         "type": "scatter",
         "x": [
          30950
         ],
         "y": [
          17858.6111
         ]
        },
        {
         "mode": "text",
         "text": [
          "472"
         ],
         "textposition": "top center",
         "type": "scatter",
         "x": [
          30941.6667
         ],
         "y": [
          17865.2778
         ]
        },
        {
         "mode": "text",
         "text": [
          "473"
         ],
         "textposition": "top center",
         "type": "scatter",
         "x": [
          30945.5556
         ],
         "y": [
          17846.3889
         ]
        },
        {
         "mode": "text",
         "text": [
          "474"
         ],
         "textposition": "top center",
         "type": "scatter",
         "x": [
          30915.8333
         ],
         "y": [
          17838.3333
         ]
        },
        {
         "mode": "text",
         "text": [
          "475"
         ],
         "textposition": "top center",
         "type": "scatter",
         "x": [
          30905.2778
         ],
         "y": [
          17865.8333
         ]
        },
        {
         "mode": "text",
         "text": [
          "476"
         ],
         "textposition": "top center",
         "type": "scatter",
         "x": [
          30927.2222
         ],
         "y": [
          17866.3889
         ]
        },
        {
         "mode": "text",
         "text": [
          "477"
         ],
         "textposition": "top center",
         "type": "scatter",
         "x": [
          30920.8333
         ],
         "y": [
          17884.7222
         ]
        },
        {
         "mode": "text",
         "text": [
          "478"
         ],
         "textposition": "top center",
         "type": "scatter",
         "x": [
          30929.7222
         ],
         "y": [
          17932.5
         ]
        },
        {
         "mode": "text",
         "text": [
          "479"
         ],
         "textposition": "top center",
         "type": "scatter",
         "x": [
          30900
         ],
         "y": [
          18100
         ]
        },
        {
         "mode": "text",
         "text": [
          "480"
         ],
         "textposition": "top center",
         "type": "scatter",
         "x": [
          30933.3333
         ],
         "y": [
          18216.6667
         ]
        },
        {
         "mode": "text",
         "text": [
          "481"
         ],
         "textposition": "top center",
         "type": "scatter",
         "x": [
          30866.6667
         ],
         "y": [
          18266.6667
         ]
        },
        {
         "mode": "text",
         "text": [
          "482"
         ],
         "textposition": "top center",
         "type": "scatter",
         "x": [
          30700
         ],
         "y": [
          18183.3333
         ]
        },
        {
         "mode": "text",
         "text": [
          "483"
         ],
         "textposition": "top center",
         "type": "scatter",
         "x": [
          30683.3333
         ],
         "y": [
          18300
         ]
        },
        {
         "mode": "text",
         "text": [
          "484"
         ],
         "textposition": "top center",
         "type": "scatter",
         "x": [
          30683.3333
         ],
         "y": [
          18383.3333
         ]
        },
        {
         "mode": "text",
         "text": [
          "485"
         ],
         "textposition": "top center",
         "type": "scatter",
         "x": [
          30600
         ],
         "y": [
          18333.3333
         ]
        },
        {
         "mode": "text",
         "text": [
          "486"
         ],
         "textposition": "top center",
         "type": "scatter",
         "x": [
          30600
         ],
         "y": [
          18316.6667
         ]
        },
        {
         "mode": "text",
         "text": [
          "487"
         ],
         "textposition": "top center",
         "type": "scatter",
         "x": [
          30583.3333
         ],
         "y": [
          18316.6667
         ]
        },
        {
         "mode": "text",
         "text": [
          "488"
         ],
         "textposition": "top center",
         "type": "scatter",
         "x": [
          30566.6667
         ],
         "y": [
          18266.6667
         ]
        },
        {
         "mode": "text",
         "text": [
          "489"
         ],
         "textposition": "top center",
         "type": "scatter",
         "x": [
          30450
         ],
         "y": [
          18083.3333
         ]
        },
        {
         "mode": "text",
         "text": [
          "490"
         ],
         "textposition": "top center",
         "type": "scatter",
         "x": [
          30433.3333
         ],
         "y": [
          17966.6667
         ]
        },
        {
         "mode": "text",
         "text": [
          "491"
         ],
         "textposition": "top center",
         "type": "scatter",
         "x": [
          30400
         ],
         "y": [
          17766.6667
         ]
        },
        {
         "mode": "text",
         "text": [
          "492"
         ],
         "textposition": "top center",
         "type": "scatter",
         "x": [
          30166.6667
         ],
         "y": [
          17766.6667
         ]
        },
        {
         "mode": "text",
         "text": [
          "493"
         ],
         "textposition": "top center",
         "type": "scatter",
         "x": [
          30150
         ],
         "y": [
          18033.3333
         ]
        },
        {
         "mode": "text",
         "text": [
          "494"
         ],
         "textposition": "top center",
         "type": "scatter",
         "x": [
          30133.3333
         ],
         "y": [
          18133.3333
         ]
        },
        {
         "mode": "text",
         "text": [
          "495"
         ],
         "textposition": "top center",
         "type": "scatter",
         "x": [
          30150
         ],
         "y": [
          18133.3333
         ]
        },
        {
         "mode": "text",
         "text": [
          "496"
         ],
         "textposition": "top center",
         "type": "scatter",
         "x": [
          30216.6667
         ],
         "y": [
          18300
         ]
        },
        {
         "mode": "text",
         "text": [
          "497"
         ],
         "textposition": "top center",
         "type": "scatter",
         "x": [
          30083.3333
         ],
         "y": [
          18366.6667
         ]
        },
        {
         "mode": "text",
         "text": [
          "498"
         ],
         "textposition": "top center",
         "type": "scatter",
         "x": [
          29983.3333
         ],
         "y": [
          18316.6667
         ]
        },
        {
         "mode": "text",
         "text": [
          "499"
         ],
         "textposition": "top center",
         "type": "scatter",
         "x": [
          29916.6667
         ],
         "y": [
          18350
         ]
        },
        {
         "mode": "text",
         "text": [
          "500"
         ],
         "textposition": "top center",
         "type": "scatter",
         "x": [
          29916.6667
         ],
         "y": [
          18200
         ]
        },
        {
         "mode": "text",
         "text": [
          "501"
         ],
         "textposition": "top center",
         "type": "scatter",
         "x": [
          29916.6667
         ],
         "y": [
          18133.3333
         ]
        },
        {
         "mode": "text",
         "text": [
          "502"
         ],
         "textposition": "top center",
         "type": "scatter",
         "x": [
          29933.3333
         ],
         "y": [
          18100
         ]
        },
        {
         "mode": "text",
         "text": [
          "503"
         ],
         "textposition": "top center",
         "type": "scatter",
         "x": [
          29900
         ],
         "y": [
          18100
         ]
        },
        {
         "mode": "text",
         "text": [
          "504"
         ],
         "textposition": "top center",
         "type": "scatter",
         "x": [
          29850
         ],
         "y": [
          18066.6667
         ]
        },
        {
         "mode": "text",
         "text": [
          "505"
         ],
         "textposition": "top center",
         "type": "scatter",
         "x": [
          29850
         ],
         "y": [
          18116.6667
         ]
        },
        {
         "mode": "text",
         "text": [
          "506"
         ],
         "textposition": "top center",
         "type": "scatter",
         "x": [
          29600
         ],
         "y": [
          18133.3333
         ]
        },
        {
         "mode": "text",
         "text": [
          "507"
         ],
         "textposition": "top center",
         "type": "scatter",
         "x": [
          29800
         ],
         "y": [
          18216.6667
         ]
        },
        {
         "mode": "text",
         "text": [
          "508"
         ],
         "textposition": "top center",
         "type": "scatter",
         "x": [
          29883.3333
         ],
         "y": [
          18350
         ]
        },
        {
         "mode": "text",
         "text": [
          "509"
         ],
         "textposition": "top center",
         "type": "scatter",
         "x": [
          29866.6667
         ],
         "y": [
          18383.3333
         ]
        },
        {
         "mode": "text",
         "text": [
          "510"
         ],
         "textposition": "top center",
         "type": "scatter",
         "x": [
          29816.6667
         ],
         "y": [
          18450
         ]
        },
        {
         "mode": "text",
         "text": [
          "511"
         ],
         "textposition": "top center",
         "type": "scatter",
         "x": [
          29833.3333
         ],
         "y": [
          18600
         ]
        },
        {
         "mode": "text",
         "text": [
          "512"
         ],
         "textposition": "top center",
         "type": "scatter",
         "x": [
          29783.3333
         ],
         "y": [
          18650
         ]
        },
        {
         "mode": "text",
         "text": [
          "513"
         ],
         "textposition": "top center",
         "type": "scatter",
         "x": [
          29450
         ],
         "y": [
          18450
         ]
        },
        {
         "mode": "text",
         "text": [
          "514"
         ],
         "textposition": "top center",
         "type": "scatter",
         "x": [
          29416.6667
         ],
         "y": [
          18483.3333
         ]
        },
        {
         "mode": "text",
         "text": [
          "515"
         ],
         "textposition": "top center",
         "type": "scatter",
         "x": [
          29300
         ],
         "y": [
          18983.3333
         ]
        },
        {
         "mode": "text",
         "text": [
          "516"
         ],
         "textposition": "top center",
         "type": "scatter",
         "x": [
          29250
         ],
         "y": [
          19233.3333
         ]
        },
        {
         "mode": "text",
         "text": [
          "517"
         ],
         "textposition": "top center",
         "type": "scatter",
         "x": [
          28900
         ],
         "y": [
          19000
         ]
        },
        {
         "mode": "text",
         "text": [
          "518"
         ],
         "textposition": "top center",
         "type": "scatter",
         "x": [
          28816.6667
         ],
         "y": [
          18733.3333
         ]
        },
        {
         "mode": "text",
         "text": [
          "519"
         ],
         "textposition": "top center",
         "type": "scatter",
         "x": [
          28683.3333
         ],
         "y": [
          18666.6667
         ]
        },
        {
         "mode": "text",
         "text": [
          "520"
         ],
         "textposition": "top center",
         "type": "scatter",
         "x": [
          28666.6667
         ],
         "y": [
          18783.3333
         ]
        },
        {
         "mode": "text",
         "text": [
          "521"
         ],
         "textposition": "top center",
         "type": "scatter",
         "x": [
          28650
         ],
         "y": [
          18816.6667
         ]
        },
        {
         "mode": "text",
         "text": [
          "522"
         ],
         "textposition": "top center",
         "type": "scatter",
         "x": [
          28500
         ],
         "y": [
          18766.6667
         ]
        },
        {
         "mode": "text",
         "text": [
          "523"
         ],
         "textposition": "top center",
         "type": "scatter",
         "x": [
          28466.6667
         ],
         "y": [
          18800
         ]
        },
        {
         "mode": "text",
         "text": [
          "524"
         ],
         "textposition": "top center",
         "type": "scatter",
         "x": [
          28333.3333
         ],
         "y": [
          18800
         ]
        },
        {
         "mode": "text",
         "text": [
          "525"
         ],
         "textposition": "top center",
         "type": "scatter",
         "x": [
          28533.3333
         ],
         "y": [
          19016.6667
         ]
        },
        {
         "mode": "text",
         "text": [
          "526"
         ],
         "textposition": "top center",
         "type": "scatter",
         "x": [
          28550
         ],
         "y": [
          19016.6667
         ]
        },
        {
         "mode": "text",
         "text": [
          "527"
         ],
         "textposition": "top center",
         "type": "scatter",
         "x": [
          28600
         ],
         "y": [
          19033.3333
         ]
        },
        {
         "mode": "text",
         "text": [
          "528"
         ],
         "textposition": "top center",
         "type": "scatter",
         "x": [
          28716.6667
         ],
         "y": [
          19083.3333
         ]
        },
        {
         "mode": "text",
         "text": [
          "529"
         ],
         "textposition": "top center",
         "type": "scatter",
         "x": [
          28666.6667
         ],
         "y": [
          19150
         ]
        },
        {
         "mode": "text",
         "text": [
          "530"
         ],
         "textposition": "top center",
         "type": "scatter",
         "x": [
          28950
         ],
         "y": [
          19433.3333
         ]
        },
        {
         "mode": "text",
         "text": [
          "531"
         ],
         "textposition": "top center",
         "type": "scatter",
         "x": [
          28750
         ],
         "y": [
          19500
         ]
        },
        {
         "mode": "text",
         "text": [
          "532"
         ],
         "textposition": "top center",
         "type": "scatter",
         "x": [
          28566.6667
         ],
         "y": [
          19483.3333
         ]
        },
        {
         "mode": "text",
         "text": [
          "533"
         ],
         "textposition": "top center",
         "type": "scatter",
         "x": [
          28466.6667
         ],
         "y": [
          19350
         ]
        },
        {
         "mode": "text",
         "text": [
          "534"
         ],
         "textposition": "top center",
         "type": "scatter",
         "x": [
          28450
         ],
         "y": [
          19400
         ]
        },
        {
         "mode": "text",
         "text": [
          "535"
         ],
         "textposition": "top center",
         "type": "scatter",
         "x": [
          28400
         ],
         "y": [
          19400
         ]
        },
        {
         "mode": "text",
         "text": [
          "536"
         ],
         "textposition": "top center",
         "type": "scatter",
         "x": [
          28033.3333
         ],
         "y": [
          19583.3333
         ]
        },
        {
         "mode": "text",
         "text": [
          "537"
         ],
         "textposition": "top center",
         "type": "scatter",
         "x": [
          27766.6667
         ],
         "y": [
          19600
         ]
        },
        {
         "mode": "text",
         "text": [
          "538"
         ],
         "textposition": "top center",
         "type": "scatter",
         "x": [
          27733.3333
         ],
         "y": [
          19583.3333
         ]
        },
        {
         "mode": "text",
         "text": [
          "539"
         ],
         "textposition": "top center",
         "type": "scatter",
         "x": [
          27750
         ],
         "y": [
          19550
         ]
        },
        {
         "mode": "text",
         "text": [
          "540"
         ],
         "textposition": "top center",
         "type": "scatter",
         "x": [
          27750
         ],
         "y": [
          19516.6667
         ]
        },
        {
         "mode": "text",
         "text": [
          "541"
         ],
         "textposition": "top center",
         "type": "scatter",
         "x": [
          27733.3333
         ],
         "y": [
          19500
         ]
        },
        {
         "mode": "text",
         "text": [
          "542"
         ],
         "textposition": "top center",
         "type": "scatter",
         "x": [
          27716.6667
         ],
         "y": [
          19500
         ]
        },
        {
         "mode": "text",
         "text": [
          "543"
         ],
         "textposition": "top center",
         "type": "scatter",
         "x": [
          27650
         ],
         "y": [
          19516.6667
         ]
        },
        {
         "mode": "text",
         "text": [
          "544"
         ],
         "textposition": "top center",
         "type": "scatter",
         "x": [
          27616.6667
         ],
         "y": [
          19483.3333
         ]
        },
        {
         "mode": "text",
         "text": [
          "545"
         ],
         "textposition": "top center",
         "type": "scatter",
         "x": [
          27550
         ],
         "y": [
          19483.3333
         ]
        },
        {
         "mode": "text",
         "text": [
          "546"
         ],
         "textposition": "top center",
         "type": "scatter",
         "x": [
          27550
         ],
         "y": [
          19433.3333
         ]
        },
        {
         "mode": "text",
         "text": [
          "547"
         ],
         "textposition": "top center",
         "type": "scatter",
         "x": [
          27516.6667
         ],
         "y": [
          19450
         ]
        },
        {
         "mode": "text",
         "text": [
          "548"
         ],
         "textposition": "top center",
         "type": "scatter",
         "x": [
          27516.6667
         ],
         "y": [
          19433.3333
         ]
        },
        {
         "mode": "text",
         "text": [
          "549"
         ],
         "textposition": "top center",
         "type": "scatter",
         "x": [
          27500
         ],
         "y": [
          19433.3333
         ]
        },
        {
         "mode": "text",
         "text": [
          "550"
         ],
         "textposition": "top center",
         "type": "scatter",
         "x": [
          27466.6667
         ],
         "y": [
          19383.3333
         ]
        },
        {
         "mode": "text",
         "text": [
          "551"
         ],
         "textposition": "top center",
         "type": "scatter",
         "x": [
          27433.3333
         ],
         "y": [
          19366.6667
         ]
        },
        {
         "mode": "text",
         "text": [
          "552"
         ],
         "textposition": "top center",
         "type": "scatter",
         "x": [
          27500
         ],
         "y": [
          19333.3333
         ]
        },
        {
         "mode": "text",
         "text": [
          "553"
         ],
         "textposition": "top center",
         "type": "scatter",
         "x": [
          27533.3333
         ],
         "y": [
          19333.3333
         ]
        },
        {
         "mode": "text",
         "text": [
          "554"
         ],
         "textposition": "top center",
         "type": "scatter",
         "x": [
          27600
         ],
         "y": [
          19350
         ]
        },
        {
         "mode": "text",
         "text": [
          "555"
         ],
         "textposition": "top center",
         "type": "scatter",
         "x": [
          27633.3333
         ],
         "y": [
          19350
         ]
        },
        {
         "mode": "text",
         "text": [
          "556"
         ],
         "textposition": "top center",
         "type": "scatter",
         "x": [
          27633.3333
         ],
         "y": [
          19383.3333
         ]
        },
        {
         "mode": "text",
         "text": [
          "557"
         ],
         "textposition": "top center",
         "type": "scatter",
         "x": [
          27633.3333
         ],
         "y": [
          19416.6667
         ]
        },
        {
         "mode": "text",
         "text": [
          "558"
         ],
         "textposition": "top center",
         "type": "scatter",
         "x": [
          27633.3333
         ],
         "y": [
          19433.3333
         ]
        },
        {
         "mode": "text",
         "text": [
          "559"
         ],
         "textposition": "top center",
         "type": "scatter",
         "x": [
          27666.6667
         ],
         "y": [
          19466.6667
         ]
        },
        {
         "mode": "text",
         "text": [
          "560"
         ],
         "textposition": "top center",
         "type": "scatter",
         "x": [
          27700
         ],
         "y": [
          19450
         ]
        },
        {
         "mode": "text",
         "text": [
          "561"
         ],
         "textposition": "top center",
         "type": "scatter",
         "x": [
          27700
         ],
         "y": [
          19433.3333
         ]
        },
        {
         "mode": "text",
         "text": [
          "562"
         ],
         "textposition": "top center",
         "type": "scatter",
         "x": [
          27716.6667
         ],
         "y": [
          19416.6667
         ]
        },
        {
         "mode": "text",
         "text": [
          "563"
         ],
         "textposition": "top center",
         "type": "scatter",
         "x": [
          27666.6667
         ],
         "y": [
          19400
         ]
        },
        {
         "mode": "text",
         "text": [
          "564"
         ],
         "textposition": "top center",
         "type": "scatter",
         "x": [
          27650
         ],
         "y": [
          19350
         ]
        },
        {
         "mode": "text",
         "text": [
          "565"
         ],
         "textposition": "top center",
         "type": "scatter",
         "x": [
          27633.3333
         ],
         "y": [
          19333.3333
         ]
        },
        {
         "mode": "text",
         "text": [
          "566"
         ],
         "textposition": "top center",
         "type": "scatter",
         "x": [
          27650
         ],
         "y": [
          19333.3333
         ]
        },
        {
         "mode": "text",
         "text": [
          "567"
         ],
         "textposition": "top center",
         "type": "scatter",
         "x": [
          27683.3333
         ],
         "y": [
          19316.6667
         ]
        },
        {
         "mode": "text",
         "text": [
          "568"
         ],
         "textposition": "top center",
         "type": "scatter",
         "x": [
          27633.3333
         ],
         "y": [
          19300
         ]
        },
        {
         "mode": "text",
         "text": [
          "569"
         ],
         "textposition": "top center",
         "type": "scatter",
         "x": [
          27633.3333
         ],
         "y": [
          19283.3333
         ]
        },
        {
         "mode": "text",
         "text": [
          "570"
         ],
         "textposition": "top center",
         "type": "scatter",
         "x": [
          27600
         ],
         "y": [
          19266.6667
         ]
        },
        {
         "mode": "text",
         "text": [
          "571"
         ],
         "textposition": "top center",
         "type": "scatter",
         "x": [
          27600
         ],
         "y": [
          19233.3333
         ]
        },
        {
         "mode": "text",
         "text": [
          "572"
         ],
         "textposition": "top center",
         "type": "scatter",
         "x": [
          27566.6667
         ],
         "y": [
          19216.6667
         ]
        },
        {
         "mode": "text",
         "text": [
          "573"
         ],
         "textposition": "top center",
         "type": "scatter",
         "x": [
          27550
         ],
         "y": [
          19266.6667
         ]
        },
        {
         "mode": "text",
         "text": [
          "574"
         ],
         "textposition": "top center",
         "type": "scatter",
         "x": [
          27533.3333
         ],
         "y": [
          19300
         ]
        },
        {
         "mode": "text",
         "text": [
          "575"
         ],
         "textposition": "top center",
         "type": "scatter",
         "x": [
          27516.6667
         ],
         "y": [
          19300
         ]
        },
        {
         "mode": "text",
         "text": [
          "576"
         ],
         "textposition": "top center",
         "type": "scatter",
         "x": [
          27516.6667
         ],
         "y": [
          19266.6667
         ]
        },
        {
         "mode": "text",
         "text": [
          "577"
         ],
         "textposition": "top center",
         "type": "scatter",
         "x": [
          27533.3333
         ],
         "y": [
          19216.6667
         ]
        },
        {
         "mode": "text",
         "text": [
          "578"
         ],
         "textposition": "top center",
         "type": "scatter",
         "x": [
          27516.6667
         ],
         "y": [
          19216.6667
         ]
        },
        {
         "mode": "text",
         "text": [
          "579"
         ],
         "textposition": "top center",
         "type": "scatter",
         "x": [
          27483.3333
         ],
         "y": [
          19216.6667
         ]
        },
        {
         "mode": "text",
         "text": [
          "580"
         ],
         "textposition": "top center",
         "type": "scatter",
         "x": [
          27433.3333
         ],
         "y": [
          19266.6667
         ]
        },
        {
         "mode": "text",
         "text": [
          "581"
         ],
         "textposition": "top center",
         "type": "scatter",
         "x": [
          27450
         ],
         "y": [
          19283.3333
         ]
        },
        {
         "mode": "text",
         "text": [
          "582"
         ],
         "textposition": "top center",
         "type": "scatter",
         "x": [
          27416.6667
         ],
         "y": [
          19300
         ]
        },
        {
         "mode": "text",
         "text": [
          "583"
         ],
         "textposition": "top center",
         "type": "scatter",
         "x": [
          27366.6667
         ],
         "y": [
          19266.6667
         ]
        },
        {
         "mode": "text",
         "text": [
          "584"
         ],
         "textposition": "top center",
         "type": "scatter",
         "x": [
          27400
         ],
         "y": [
          19266.6667
         ]
        },
        {
         "mode": "text",
         "text": [
          "585"
         ],
         "textposition": "top center",
         "type": "scatter",
         "x": [
          27466.6667
         ],
         "y": [
          19183.3333
         ]
        },
        {
         "mode": "text",
         "text": [
          "586"
         ],
         "textposition": "top center",
         "type": "scatter",
         "x": [
          27516.6667
         ],
         "y": [
          19183.3333
         ]
        },
        {
         "mode": "text",
         "text": [
          "587"
         ],
         "textposition": "top center",
         "type": "scatter",
         "x": [
          27516.6667
         ],
         "y": [
          19166.6667
         ]
        },
        {
         "mode": "text",
         "text": [
          "588"
         ],
         "textposition": "top center",
         "type": "scatter",
         "x": [
          27533.3333
         ],
         "y": [
          19133.3333
         ]
        },
        {
         "mode": "text",
         "text": [
          "589"
         ],
         "textposition": "top center",
         "type": "scatter",
         "x": [
          27583.3333
         ],
         "y": [
          19166.6667
         ]
        },
        {
         "mode": "text",
         "text": [
          "590"
         ],
         "textposition": "top center",
         "type": "scatter",
         "x": [
          27600
         ],
         "y": [
          19183.3333
         ]
        },
        {
         "mode": "text",
         "text": [
          "591"
         ],
         "textposition": "top center",
         "type": "scatter",
         "x": [
          27616.6667
         ],
         "y": [
          19200
         ]
        },
        {
         "mode": "text",
         "text": [
          "592"
         ],
         "textposition": "top center",
         "type": "scatter",
         "x": [
          27650
         ],
         "y": [
          19133.3333
         ]
        },
        {
         "mode": "text",
         "text": [
          "593"
         ],
         "textposition": "top center",
         "type": "scatter",
         "x": [
          27683.3333
         ],
         "y": [
          19116.6667
         ]
        },
        {
         "mode": "text",
         "text": [
          "594"
         ],
         "textposition": "top center",
         "type": "scatter",
         "x": [
          27683.3333
         ],
         "y": [
          19183.3333
         ]
        },
        {
         "mode": "text",
         "text": [
          "595"
         ],
         "textposition": "top center",
         "type": "scatter",
         "x": [
          27666.6667
         ],
         "y": [
          19200
         ]
        },
        {
         "mode": "text",
         "text": [
          "596"
         ],
         "textposition": "top center",
         "type": "scatter",
         "x": [
          27633.3333
         ],
         "y": [
          19250
         ]
        },
        {
         "mode": "text",
         "text": [
          "597"
         ],
         "textposition": "top center",
         "type": "scatter",
         "x": [
          27650
         ],
         "y": [
          19283.3333
         ]
        },
        {
         "mode": "text",
         "text": [
          "598"
         ],
         "textposition": "top center",
         "type": "scatter",
         "x": [
          27666.6667
         ],
         "y": [
          19283.3333
         ]
        },
        {
         "mode": "text",
         "text": [
          "599"
         ],
         "textposition": "top center",
         "type": "scatter",
         "x": [
          27716.6667
         ],
         "y": [
          19250
         ]
        },
        {
         "mode": "text",
         "text": [
          "600"
         ],
         "textposition": "top center",
         "type": "scatter",
         "x": [
          27700
         ],
         "y": [
          19216.6667
         ]
        },
        {
         "mode": "text",
         "text": [
          "601"
         ],
         "textposition": "top center",
         "type": "scatter",
         "x": [
          27966.6667
         ],
         "y": [
          19100
         ]
        },
        {
         "mode": "text",
         "text": [
          "602"
         ],
         "textposition": "top center",
         "type": "scatter",
         "x": [
          27766.6667
         ],
         "y": [
          18933.3333
         ]
        },
        {
         "mode": "text",
         "text": [
          "603"
         ],
         "textposition": "top center",
         "type": "scatter",
         "x": [
          27516.6667
         ],
         "y": [
          18950
         ]
        },
        {
         "mode": "text",
         "text": [
          "604"
         ],
         "textposition": "top center",
         "type": "scatter",
         "x": [
          27416.6667
         ],
         "y": [
          18966.6667
         ]
        },
        {
         "mode": "text",
         "text": [
          "605"
         ],
         "textposition": "top center",
         "type": "scatter",
         "x": [
          27416.6667
         ],
         "y": [
          18883.3333
         ]
        },
        {
         "mode": "text",
         "text": [
          "606"
         ],
         "textposition": "top center",
         "type": "scatter",
         "x": [
          27433.3333
         ],
         "y": [
          18866.6667
         ]
        },
        {
         "mode": "text",
         "text": [
          "607"
         ],
         "textposition": "top center",
         "type": "scatter",
         "x": [
          27466.6667
         ],
         "y": [
          18900
         ]
        },
        {
         "mode": "text",
         "text": [
          "608"
         ],
         "textposition": "top center",
         "type": "scatter",
         "x": [
          27550
         ],
         "y": [
          18716.6667
         ]
        },
        {
         "mode": "text",
         "text": [
          "609"
         ],
         "textposition": "top center",
         "type": "scatter",
         "x": [
          28016.6667
         ],
         "y": [
          18416.6667
         ]
        },
        {
         "mode": "text",
         "text": [
          "610"
         ],
         "textposition": "top center",
         "type": "scatter",
         "x": [
          27983.3333
         ],
         "y": [
          18300
         ]
        },
        {
         "mode": "text",
         "text": [
          "611"
         ],
         "textposition": "top center",
         "type": "scatter",
         "x": [
          27950
         ],
         "y": [
          18216.6667
         ]
        },
        {
         "mode": "text",
         "text": [
          "612"
         ],
         "textposition": "top center",
         "type": "scatter",
         "x": [
          27833.3333
         ],
         "y": [
          18066.6667
         ]
        },
        {
         "mode": "text",
         "text": [
          "613"
         ],
         "textposition": "top center",
         "type": "scatter",
         "x": [
          28383.3333
         ],
         "y": [
          18150
         ]
        },
        {
         "mode": "text",
         "text": [
          "614"
         ],
         "textposition": "top center",
         "type": "scatter",
         "x": [
          28933.3333
         ],
         "y": [
          18216.6667
         ]
        },
        {
         "mode": "text",
         "text": [
          "615"
         ],
         "textposition": "top center",
         "type": "scatter",
         "x": [
          28900
         ],
         "y": [
          17850
         ]
        },
        {
         "mode": "text",
         "text": [
          "616"
         ],
         "textposition": "top center",
         "type": "scatter",
         "x": [
          29016.6667
         ],
         "y": [
          17683.3333
         ]
        },
        {
         "mode": "text",
         "text": [
          "617"
         ],
         "textposition": "top center",
         "type": "scatter",
         "x": [
          28933.3333
         ],
         "y": [
          17333.3333
         ]
        },
        {
         "mode": "text",
         "text": [
          "618"
         ],
         "textposition": "top center",
         "type": "scatter",
         "x": [
          29200
         ],
         "y": [
          17133.3333
         ]
        },
        {
         "mode": "text",
         "text": [
          "619"
         ],
         "textposition": "top center",
         "type": "scatter",
         "x": [
          29300
         ],
         "y": [
          16950
         ]
        },
        {
         "mode": "text",
         "text": [
          "620"
         ],
         "textposition": "top center",
         "type": "scatter",
         "x": [
          29416.6667
         ],
         "y": [
          16900
         ]
        },
        {
         "mode": "text",
         "text": [
          "621"
         ],
         "textposition": "top center",
         "type": "scatter",
         "x": [
          29416.6667
         ],
         "y": [
          16850
         ]
        },
        {
         "mode": "text",
         "text": [
          "622"
         ],
         "textposition": "top center",
         "type": "scatter",
         "x": [
          29683.3333
         ],
         "y": [
          16816.6667
         ]
        },
        {
         "mode": "text",
         "text": [
          "623"
         ],
         "textposition": "top center",
         "type": "scatter",
         "x": [
          29750
         ],
         "y": [
          16900
         ]
        },
        {
         "mode": "text",
         "text": [
          "624"
         ],
         "textposition": "top center",
         "type": "scatter",
         "x": [
          29883.3333
         ],
         "y": [
          16733.3333
         ]
        },
        {
         "mode": "text",
         "text": [
          "625"
         ],
         "textposition": "top center",
         "type": "scatter",
         "x": [
          29766.6667
         ],
         "y": [
          16666.6667
         ]
        },
        {
         "mode": "text",
         "text": [
          "626"
         ],
         "textposition": "top center",
         "type": "scatter",
         "x": [
          29933.3333
         ],
         "y": [
          16500
         ]
        },
        {
         "mode": "text",
         "text": [
          "627"
         ],
         "textposition": "top center",
         "type": "scatter",
         "x": [
          29983.3333
         ],
         "y": [
          16516.6667
         ]
        },
        {
         "mode": "text",
         "text": [
          "628"
         ],
         "textposition": "top center",
         "type": "scatter",
         "x": [
          30316.6667
         ],
         "y": [
          15700
         ]
        },
        {
         "mode": "text",
         "text": [
          "629"
         ],
         "textposition": "top center",
         "type": "scatter",
         "x": [
          29250
         ],
         "y": [
          16300
         ]
        },
        {
         "mode": "text",
         "text": [
          "630"
         ],
         "textposition": "top center",
         "type": "scatter",
         "x": [
          28850
         ],
         "y": [
          16033.3333
         ]
        },
        {
         "mode": "text",
         "text": [
          "631"
         ],
         "textposition": "top center",
         "type": "scatter",
         "x": [
          28800
         ],
         "y": [
          16516.6667
         ]
        },
        {
         "mode": "text",
         "text": [
          "632"
         ],
         "textposition": "top center",
         "type": "scatter",
         "x": [
          28800
         ],
         "y": [
          17066.6667
         ]
        },
        {
         "mode": "text",
         "text": [
          "633"
         ],
         "textposition": "top center",
         "type": "scatter",
         "x": [
          28350
         ],
         "y": [
          16816.6667
         ]
        },
        {
         "mode": "text",
         "text": [
          "634"
         ],
         "textposition": "top center",
         "type": "scatter",
         "x": [
          28400
         ],
         "y": [
          17083.3333
         ]
        },
        {
         "mode": "text",
         "text": [
          "635"
         ],
         "textposition": "top center",
         "type": "scatter",
         "x": [
          28400
         ],
         "y": [
          17100
         ]
        },
        {
         "mode": "text",
         "text": [
          "636"
         ],
         "textposition": "top center",
         "type": "scatter",
         "x": [
          28600
         ],
         "y": [
          17550
         ]
        },
        {
         "mode": "text",
         "text": [
          "637"
         ],
         "textposition": "top center",
         "type": "scatter",
         "x": [
          28433.3333
         ],
         "y": [
          17416.6667
         ]
        },
        {
         "mode": "text",
         "text": [
          "638"
         ],
         "textposition": "top center",
         "type": "scatter",
         "x": [
          28266.6667
         ],
         "y": [
          17450
         ]
        },
        {
         "mode": "text",
         "text": [
          "639"
         ],
         "textposition": "top center",
         "type": "scatter",
         "x": [
          28116.6667
         ],
         "y": [
          17150
         ]
        },
        {
         "mode": "text",
         "text": [
          "640"
         ],
         "textposition": "top center",
         "type": "scatter",
         "x": [
          28066.6667
         ],
         "y": [
          17183.3333
         ]
        },
        {
         "mode": "text",
         "text": [
          "641"
         ],
         "textposition": "top center",
         "type": "scatter",
         "x": [
          28050
         ],
         "y": [
          17466.6667
         ]
        },
        {
         "mode": "text",
         "text": [
          "642"
         ],
         "textposition": "top center",
         "type": "scatter",
         "x": [
          27983.3333
         ],
         "y": [
          17483.3333
         ]
        },
        {
         "mode": "text",
         "text": [
          "643"
         ],
         "textposition": "top center",
         "type": "scatter",
         "x": [
          27950
         ],
         "y": [
          17483.3333
         ]
        },
        {
         "mode": "text",
         "text": [
          "644"
         ],
         "textposition": "top center",
         "type": "scatter",
         "x": [
          27883.3333
         ],
         "y": [
          17483.3333
         ]
        },
        {
         "mode": "text",
         "text": [
          "645"
         ],
         "textposition": "top center",
         "type": "scatter",
         "x": [
          27900
         ],
         "y": [
          17533.3333
         ]
        },
        {
         "mode": "text",
         "text": [
          "646"
         ],
         "textposition": "top center",
         "type": "scatter",
         "x": [
          27716.6667
         ],
         "y": [
          17616.6667
         ]
        },
        {
         "mode": "text",
         "text": [
          "647"
         ],
         "textposition": "top center",
         "type": "scatter",
         "x": [
          27333.3333
         ],
         "y": [
          17616.6667
         ]
        },
        {
         "mode": "text",
         "text": [
          "648"
         ],
         "textposition": "top center",
         "type": "scatter",
         "x": [
          27300
         ],
         "y": [
          17900
         ]
        },
        {
         "mode": "text",
         "text": [
          "649"
         ],
         "textposition": "top center",
         "type": "scatter",
         "x": [
          27133.3333
         ],
         "y": [
          18016.6667
         ]
        },
        {
         "mode": "text",
         "text": [
          "650"
         ],
         "textposition": "top center",
         "type": "scatter",
         "x": [
          27500
         ],
         "y": [
          17966.6667
         ]
        },
        {
         "mode": "text",
         "text": [
          "651"
         ],
         "textposition": "top center",
         "type": "scatter",
         "x": [
          27566.6667
         ],
         "y": [
          18000
         ]
        },
        {
         "mode": "text",
         "text": [
          "652"
         ],
         "textposition": "top center",
         "type": "scatter",
         "x": [
          27450
         ],
         "y": [
          18116.6667
         ]
        },
        {
         "mode": "text",
         "text": [
          "653"
         ],
         "textposition": "top center",
         "type": "scatter",
         "x": [
          27400
         ],
         "y": [
          18216.6667
         ]
        },
        {
         "mode": "text",
         "text": [
          "654"
         ],
         "textposition": "top center",
         "type": "scatter",
         "x": [
          27066.6667
         ],
         "y": [
          18316.6667
         ]
        },
        {
         "mode": "text",
         "text": [
          "655"
         ],
         "textposition": "top center",
         "type": "scatter",
         "x": [
          26483.3333
         ],
         "y": [
          18366.6667
         ]
        },
        {
         "mode": "text",
         "text": [
          "656"
         ],
         "textposition": "top center",
         "type": "scatter",
         "x": [
          25833.3333
         ],
         "y": [
          17933.3333
         ]
        },
        {
         "mode": "text",
         "text": [
          "657"
         ],
         "textposition": "top center",
         "type": "scatter",
         "x": [
          26316.6667
         ],
         "y": [
          18583.3333
         ]
        },
        {
         "mode": "text",
         "text": [
          "658"
         ],
         "textposition": "top center",
         "type": "scatter",
         "x": [
          26866.6667
         ],
         "y": [
          18616.6667
         ]
        },
        {
         "mode": "text",
         "text": [
          "659"
         ],
         "textposition": "top center",
         "type": "scatter",
         "x": [
          27166.6667
         ],
         "y": [
          18616.6667
         ]
        },
        {
         "mode": "text",
         "text": [
          "660"
         ],
         "textposition": "top center",
         "type": "scatter",
         "x": [
          27166.6667
         ],
         "y": [
          18816.6667
         ]
        },
        {
         "mode": "text",
         "text": [
          "661"
         ],
         "textposition": "top center",
         "type": "scatter",
         "x": [
          27333.3333
         ],
         "y": [
          19283.3333
         ]
        },
        {
         "mode": "text",
         "text": [
          "662"
         ],
         "textposition": "top center",
         "type": "scatter",
         "x": [
          27333.3333
         ],
         "y": [
          19316.6667
         ]
        },
        {
         "mode": "text",
         "text": [
          "663"
         ],
         "textposition": "top center",
         "type": "scatter",
         "x": [
          27366.6667
         ],
         "y": [
          19316.6667
         ]
        },
        {
         "mode": "text",
         "text": [
          "664"
         ],
         "textposition": "top center",
         "type": "scatter",
         "x": [
          27383.3333
         ],
         "y": [
          19350
         ]
        },
        {
         "mode": "text",
         "text": [
          "665"
         ],
         "textposition": "top center",
         "type": "scatter",
         "x": [
          27400
         ],
         "y": [
          19350
         ]
        },
        {
         "mode": "text",
         "text": [
          "666"
         ],
         "textposition": "top center",
         "type": "scatter",
         "x": [
          27400
         ],
         "y": [
          19433.3333
         ]
        },
        {
         "mode": "text",
         "text": [
          "667"
         ],
         "textposition": "top center",
         "type": "scatter",
         "x": [
          27366.6667
         ],
         "y": [
          19466.6667
         ]
        },
        {
         "mode": "text",
         "text": [
          "668"
         ],
         "textposition": "top center",
         "type": "scatter",
         "x": [
          27366.6667
         ],
         "y": [
          19483.3333
         ]
        },
        {
         "mode": "text",
         "text": [
          "669"
         ],
         "textposition": "top center",
         "type": "scatter",
         "x": [
          27283.3333
         ],
         "y": [
          19533.3333
         ]
        },
        {
         "mode": "text",
         "text": [
          "670"
         ],
         "textposition": "top center",
         "type": "scatter",
         "x": [
          27283.3333
         ],
         "y": [
          19483.3333
         ]
        },
        {
         "mode": "text",
         "text": [
          "671"
         ],
         "textposition": "top center",
         "type": "scatter",
         "x": [
          27283.3333
         ],
         "y": [
          19450
         ]
        },
        {
         "mode": "text",
         "text": [
          "672"
         ],
         "textposition": "top center",
         "type": "scatter",
         "x": [
          27316.6667
         ],
         "y": [
          19466.6667
         ]
        },
        {
         "mode": "text",
         "text": [
          "673"
         ],
         "textposition": "top center",
         "type": "scatter",
         "x": [
          27333.3333
         ],
         "y": [
          19416.6667
         ]
        },
        {
         "mode": "text",
         "text": [
          "674"
         ],
         "textposition": "top center",
         "type": "scatter",
         "x": [
          27283.3333
         ],
         "y": [
          19400
         ]
        },
        {
         "mode": "text",
         "text": [
          "675"
         ],
         "textposition": "top center",
         "type": "scatter",
         "x": [
          27200
         ],
         "y": [
          19400
         ]
        },
        {
         "mode": "text",
         "text": [
          "676"
         ],
         "textposition": "top center",
         "type": "scatter",
         "x": [
          27233.3333
         ],
         "y": [
          19433.3333
         ]
        },
        {
         "mode": "text",
         "text": [
          "677"
         ],
         "textposition": "top center",
         "type": "scatter",
         "x": [
          27250
         ],
         "y": [
          19450
         ]
        },
        {
         "mode": "text",
         "text": [
          "678"
         ],
         "textposition": "top center",
         "type": "scatter",
         "x": [
          27233.3333
         ],
         "y": [
          19483.3333
         ]
        },
        {
         "mode": "text",
         "text": [
          "679"
         ],
         "textposition": "top center",
         "type": "scatter",
         "x": [
          27200
         ],
         "y": [
          19466.6667
         ]
        },
        {
         "mode": "text",
         "text": [
          "680"
         ],
         "textposition": "top center",
         "type": "scatter",
         "x": [
          27183.3333
         ],
         "y": [
          19483.3333
         ]
        },
        {
         "mode": "text",
         "text": [
          "681"
         ],
         "textposition": "top center",
         "type": "scatter",
         "x": [
          27150
         ],
         "y": [
          19466.6667
         ]
        },
        {
         "mode": "text",
         "text": [
          "682"
         ],
         "textposition": "top center",
         "type": "scatter",
         "x": [
          27166.6667
         ],
         "y": [
          19416.6667
         ]
        },
        {
         "mode": "text",
         "text": [
          "683"
         ],
         "textposition": "top center",
         "type": "scatter",
         "x": [
          27133.3333
         ],
         "y": [
          19433.3333
         ]
        },
        {
         "mode": "text",
         "text": [
          "684"
         ],
         "textposition": "top center",
         "type": "scatter",
         "x": [
          27083.3333
         ],
         "y": [
          19400
         ]
        },
        {
         "mode": "text",
         "text": [
          "685"
         ],
         "textposition": "top center",
         "type": "scatter",
         "x": [
          27066.6667
         ],
         "y": [
          19400
         ]
        },
        {
         "mode": "text",
         "text": [
          "686"
         ],
         "textposition": "top center",
         "type": "scatter",
         "x": [
          27066.6667
         ],
         "y": [
          19450
         ]
        },
        {
         "mode": "text",
         "text": [
          "687"
         ],
         "textposition": "top center",
         "type": "scatter",
         "x": [
          27066.6667
         ],
         "y": [
          19466.6667
         ]
        },
        {
         "mode": "text",
         "text": [
          "688"
         ],
         "textposition": "top center",
         "type": "scatter",
         "x": [
          27050
         ],
         "y": [
          19483.3333
         ]
        },
        {
         "mode": "text",
         "text": [
          "689"
         ],
         "textposition": "top center",
         "type": "scatter",
         "x": [
          27033.3333
         ],
         "y": [
          19466.6667
         ]
        },
        {
         "mode": "text",
         "text": [
          "690"
         ],
         "textposition": "top center",
         "type": "scatter",
         "x": [
          27016.6667
         ],
         "y": [
          19450
         ]
        },
        {
         "mode": "text",
         "text": [
          "691"
         ],
         "textposition": "top center",
         "type": "scatter",
         "x": [
          27033.3333
         ],
         "y": [
          19416.6667
         ]
        },
        {
         "mode": "text",
         "text": [
          "692"
         ],
         "textposition": "top center",
         "type": "scatter",
         "x": [
          27050
         ],
         "y": [
          19366.6667
         ]
        },
        {
         "mode": "text",
         "text": [
          "693"
         ],
         "textposition": "top center",
         "type": "scatter",
         "x": [
          27016.6667
         ],
         "y": [
          19350
         ]
        },
        {
         "mode": "text",
         "text": [
          "694"
         ],
         "textposition": "top center",
         "type": "scatter",
         "x": [
          27016.6667
         ],
         "y": [
          19383.3333
         ]
        },
        {
         "mode": "text",
         "text": [
          "695"
         ],
         "textposition": "top center",
         "type": "scatter",
         "x": [
          26983.3333
         ],
         "y": [
          19366.6667
         ]
        },
        {
         "mode": "text",
         "text": [
          "696"
         ],
         "textposition": "top center",
         "type": "scatter",
         "x": [
          26966.6667
         ],
         "y": [
          19400
         ]
        },
        {
         "mode": "text",
         "text": [
          "697"
         ],
         "textposition": "top center",
         "type": "scatter",
         "x": [
          26916.6667
         ],
         "y": [
          19383.3333
         ]
        },
        {
         "mode": "text",
         "text": [
          "698"
         ],
         "textposition": "top center",
         "type": "scatter",
         "x": [
          26916.6667
         ],
         "y": [
          19533.3333
         ]
        },
        {
         "mode": "text",
         "text": [
          "699"
         ],
         "textposition": "top center",
         "type": "scatter",
         "x": [
          27033.3333
         ],
         "y": [
          19566.6667
         ]
        },
        {
         "mode": "text",
         "text": [
          "700"
         ],
         "textposition": "top center",
         "type": "scatter",
         "x": [
          27050
         ],
         "y": [
          19550
         ]
        },
        {
         "mode": "text",
         "text": [
          "701"
         ],
         "textposition": "top center",
         "type": "scatter",
         "x": [
          27066.6667
         ],
         "y": [
          19566.6667
         ]
        },
        {
         "mode": "text",
         "text": [
          "702"
         ],
         "textposition": "top center",
         "type": "scatter",
         "x": [
          27083.3333
         ],
         "y": [
          19533.3333
         ]
        },
        {
         "mode": "text",
         "text": [
          "703"
         ],
         "textposition": "top center",
         "type": "scatter",
         "x": [
          27066.6667
         ],
         "y": [
          19500
         ]
        },
        {
         "mode": "text",
         "text": [
          "704"
         ],
         "textposition": "top center",
         "type": "scatter",
         "x": [
          27100
         ],
         "y": [
          19500
         ]
        },
        {
         "mode": "text",
         "text": [
          "705"
         ],
         "textposition": "top center",
         "type": "scatter",
         "x": [
          27100
         ],
         "y": [
          19533.3333
         ]
        },
        {
         "mode": "text",
         "text": [
          "706"
         ],
         "textposition": "top center",
         "type": "scatter",
         "x": [
          27133.3333
         ],
         "y": [
          19533.3333
         ]
        },
        {
         "mode": "text",
         "text": [
          "707"
         ],
         "textposition": "top center",
         "type": "scatter",
         "x": [
          27133.3333
         ],
         "y": [
          19566.6667
         ]
        },
        {
         "mode": "text",
         "text": [
          "708"
         ],
         "textposition": "top center",
         "type": "scatter",
         "x": [
          27133.3333
         ],
         "y": [
          19583.3333
         ]
        },
        {
         "mode": "text",
         "text": [
          "709"
         ],
         "textposition": "top center",
         "type": "scatter",
         "x": [
          27116.6667
         ],
         "y": [
          19616.6667
         ]
        },
        {
         "mode": "text",
         "text": [
          "710"
         ],
         "textposition": "top center",
         "type": "scatter",
         "x": [
          27100
         ],
         "y": [
          19633.3333
         ]
        },
        {
         "mode": "text",
         "text": [
          "711"
         ],
         "textposition": "top center",
         "type": "scatter",
         "x": [
          27083.3333
         ],
         "y": [
          19650
         ]
        },
        {
         "mode": "text",
         "text": [
          "712"
         ],
         "textposition": "top center",
         "type": "scatter",
         "x": [
          27066.6667
         ],
         "y": [
          19633.3333
         ]
        },
        {
         "mode": "text",
         "text": [
          "713"
         ],
         "textposition": "top center",
         "type": "scatter",
         "x": [
          27050
         ],
         "y": [
          19650
         ]
        },
        {
         "mode": "text",
         "text": [
          "714"
         ],
         "textposition": "top center",
         "type": "scatter",
         "x": [
          27033.3333
         ],
         "y": [
          19616.6667
         ]
        },
        {
         "mode": "text",
         "text": [
          "715"
         ],
         "textposition": "top center",
         "type": "scatter",
         "x": [
          26966.6667
         ],
         "y": [
          19666.6667
         ]
        },
        {
         "mode": "text",
         "text": [
          "716"
         ],
         "textposition": "top center",
         "type": "scatter",
         "x": [
          27016.6667
         ],
         "y": [
          19683.3333
         ]
        },
        {
         "mode": "text",
         "text": [
          "717"
         ],
         "textposition": "top center",
         "type": "scatter",
         "x": [
          27033.3333
         ],
         "y": [
          19700
         ]
        },
        {
         "mode": "text",
         "text": [
          "718"
         ],
         "textposition": "top center",
         "type": "scatter",
         "x": [
          27066.6667
         ],
         "y": [
          19700
         ]
        },
        {
         "mode": "text",
         "text": [
          "719"
         ],
         "textposition": "top center",
         "type": "scatter",
         "x": [
          27083.3333
         ],
         "y": [
          19700
         ]
        },
        {
         "mode": "text",
         "text": [
          "720"
         ],
         "textposition": "top center",
         "type": "scatter",
         "x": [
          27133.3333
         ],
         "y": [
          19666.6667
         ]
        },
        {
         "mode": "text",
         "text": [
          "721"
         ],
         "textposition": "top center",
         "type": "scatter",
         "x": [
          27150
         ],
         "y": [
          19650
         ]
        },
        {
         "mode": "text",
         "text": [
          "722"
         ],
         "textposition": "top center",
         "type": "scatter",
         "x": [
          27166.6667
         ],
         "y": [
          19600
         ]
        },
        {
         "mode": "text",
         "text": [
          "723"
         ],
         "textposition": "top center",
         "type": "scatter",
         "x": [
          27166.6667
         ],
         "y": [
          19550
         ]
        },
        {
         "mode": "text",
         "text": [
          "724"
         ],
         "textposition": "top center",
         "type": "scatter",
         "x": [
          27233.3333
         ],
         "y": [
          19516.6667
         ]
        },
        {
         "mode": "text",
         "text": [
          "725"
         ],
         "textposition": "top center",
         "type": "scatter",
         "x": [
          27216.6667
         ],
         "y": [
          19533.3333
         ]
        },
        {
         "mode": "text",
         "text": [
          "726"
         ],
         "textposition": "top center",
         "type": "scatter",
         "x": [
          27183.3333
         ],
         "y": [
          19633.3333
         ]
        },
        {
         "mode": "text",
         "text": [
          "727"
         ],
         "textposition": "top center",
         "type": "scatter",
         "x": [
          27250
         ],
         "y": [
          19666.6667
         ]
        },
        {
         "mode": "text",
         "text": [
          "728"
         ],
         "textposition": "top center",
         "type": "scatter",
         "x": [
          27316.6667
         ],
         "y": [
          19766.6667
         ]
        },
        {
         "mode": "text",
         "text": [
          "729"
         ],
         "textposition": "top center",
         "type": "scatter",
         "x": [
          27216.6667
         ],
         "y": [
          19766.6667
         ]
        },
        {
         "mode": "text",
         "text": [
          "730"
         ],
         "textposition": "top center",
         "type": "scatter",
         "x": [
          27216.6667
         ],
         "y": [
          19833.3333
         ]
        },
        {
         "mode": "text",
         "text": [
          "731"
         ],
         "textposition": "top center",
         "type": "scatter",
         "x": [
          27233.3333
         ],
         "y": [
          19933.3333
         ]
        },
        {
         "mode": "text",
         "text": [
          "732"
         ],
         "textposition": "top center",
         "type": "scatter",
         "x": [
          27266.6667
         ],
         "y": [
          19933.3333
         ]
        },
        {
         "mode": "text",
         "text": [
          "733"
         ],
         "textposition": "top center",
         "type": "scatter",
         "x": [
          27333.3333
         ],
         "y": [
          19950
         ]
        },
        {
         "mode": "text",
         "text": [
          "734"
         ],
         "textposition": "top center",
         "type": "scatter",
         "x": [
          27300
         ],
         "y": [
          20150
         ]
        },
        {
         "mode": "text",
         "text": [
          "735"
         ],
         "textposition": "top center",
         "type": "scatter",
         "x": [
          27283.3333
         ],
         "y": [
          20216.6667
         ]
        },
        {
         "mode": "text",
         "text": [
          "736"
         ],
         "textposition": "top center",
         "type": "scatter",
         "x": [
          27300
         ],
         "y": [
          20233.3333
         ]
        },
        {
         "mode": "text",
         "text": [
          "737"
         ],
         "textposition": "top center",
         "type": "scatter",
         "x": [
          27600
         ],
         "y": [
          20166.6667
         ]
        },
        {
         "mode": "text",
         "text": [
          "738"
         ],
         "textposition": "top center",
         "type": "scatter",
         "x": [
          27483.3333
         ],
         "y": [
          20100
         ]
        },
        {
         "mode": "text",
         "text": [
          "739"
         ],
         "textposition": "top center",
         "type": "scatter",
         "x": [
          27416.6667
         ],
         "y": [
          19966.6667
         ]
        },
        {
         "mode": "text",
         "text": [
          "740"
         ],
         "textposition": "top center",
         "type": "scatter",
         "x": [
          27400
         ],
         "y": [
          19966.6667
         ]
        },
        {
         "mode": "text",
         "text": [
          "741"
         ],
         "textposition": "top center",
         "type": "scatter",
         "x": [
          27366.6667
         ],
         "y": [
          19916.6667
         ]
        },
        {
         "mode": "text",
         "text": [
          "742"
         ],
         "textposition": "top center",
         "type": "scatter",
         "x": [
          27383.3333
         ],
         "y": [
          19850
         ]
        },
        {
         "mode": "text",
         "text": [
          "743"
         ],
         "textposition": "top center",
         "type": "scatter",
         "x": [
          27400
         ],
         "y": [
          19833.3333
         ]
        },
        {
         "mode": "text",
         "text": [
          "744"
         ],
         "textposition": "top center",
         "type": "scatter",
         "x": [
          27416.6667
         ],
         "y": [
          19850
         ]
        },
        {
         "mode": "text",
         "text": [
          "745"
         ],
         "textposition": "top center",
         "type": "scatter",
         "x": [
          27466.6667
         ],
         "y": [
          19833.3333
         ]
        },
        {
         "mode": "text",
         "text": [
          "746"
         ],
         "textposition": "top center",
         "type": "scatter",
         "x": [
          27400
         ],
         "y": [
          19766.6667
         ]
        },
        {
         "mode": "text",
         "text": [
          "747"
         ],
         "textposition": "top center",
         "type": "scatter",
         "x": [
          27333.3333
         ],
         "y": [
          19666.6667
         ]
        },
        {
         "mode": "text",
         "text": [
          "748"
         ],
         "textposition": "top center",
         "type": "scatter",
         "x": [
          27383.3333
         ],
         "y": [
          19683.3333
         ]
        },
        {
         "mode": "text",
         "text": [
          "749"
         ],
         "textposition": "top center",
         "type": "scatter",
         "x": [
          27416.6667
         ],
         "y": [
          19666.6667
         ]
        },
        {
         "mode": "text",
         "text": [
          "750"
         ],
         "textposition": "top center",
         "type": "scatter",
         "x": [
          27433.3333
         ],
         "y": [
          19683.3333
         ]
        },
        {
         "mode": "text",
         "text": [
          "751"
         ],
         "textposition": "top center",
         "type": "scatter",
         "x": [
          27466.6667
         ],
         "y": [
          19700
         ]
        },
        {
         "mode": "text",
         "text": [
          "752"
         ],
         "textposition": "top center",
         "type": "scatter",
         "x": [
          27500
         ],
         "y": [
          19700
         ]
        },
        {
         "mode": "text",
         "text": [
          "753"
         ],
         "textposition": "top center",
         "type": "scatter",
         "x": [
          27566.6667
         ],
         "y": [
          19666.6667
         ]
        },
        {
         "mode": "text",
         "text": [
          "754"
         ],
         "textposition": "top center",
         "type": "scatter",
         "x": [
          27550
         ],
         "y": [
          19650
         ]
        },
        {
         "mode": "text",
         "text": [
          "755"
         ],
         "textposition": "top center",
         "type": "scatter",
         "x": [
          27516.6667
         ],
         "y": [
          19616.6667
         ]
        },
        {
         "mode": "text",
         "text": [
          "756"
         ],
         "textposition": "top center",
         "type": "scatter",
         "x": [
          27466.6667
         ],
         "y": [
          19583.3333
         ]
        },
        {
         "mode": "text",
         "text": [
          "757"
         ],
         "textposition": "top center",
         "type": "scatter",
         "x": [
          27416.6667
         ],
         "y": [
          19550
         ]
        },
        {
         "mode": "text",
         "text": [
          "758"
         ],
         "textposition": "top center",
         "type": "scatter",
         "x": [
          27400
         ],
         "y": [
          19500
         ]
        },
        {
         "mode": "text",
         "text": [
          "759"
         ],
         "textposition": "top center",
         "type": "scatter",
         "x": [
          27433.3333
         ],
         "y": [
          19483.3333
         ]
        },
        {
         "mode": "text",
         "text": [
          "760"
         ],
         "textposition": "top center",
         "type": "scatter",
         "x": [
          27450
         ],
         "y": [
          19483.3333
         ]
        },
        {
         "mode": "text",
         "text": [
          "761"
         ],
         "textposition": "top center",
         "type": "scatter",
         "x": [
          27466.6667
         ],
         "y": [
          19466.6667
         ]
        },
        {
         "mode": "text",
         "text": [
          "762"
         ],
         "textposition": "top center",
         "type": "scatter",
         "x": [
          27483.3333
         ],
         "y": [
          19516.6667
         ]
        },
        {
         "mode": "text",
         "text": [
          "763"
         ],
         "textposition": "top center",
         "type": "scatter",
         "x": [
          27533.3333
         ],
         "y": [
          19516.6667
         ]
        },
        {
         "mode": "text",
         "text": [
          "764"
         ],
         "textposition": "top center",
         "type": "scatter",
         "x": [
          27566.6667
         ],
         "y": [
          19600
         ]
        },
        {
         "mode": "text",
         "text": [
          "765"
         ],
         "textposition": "top center",
         "type": "scatter",
         "x": [
          27666.6667
         ],
         "y": [
          19583.3333
         ]
        },
        {
         "mode": "text",
         "text": [
          "766"
         ],
         "textposition": "top center",
         "type": "scatter",
         "x": [
          27716.6667
         ],
         "y": [
          19633.3333
         ]
        },
        {
         "mode": "text",
         "text": [
          "767"
         ],
         "textposition": "top center",
         "type": "scatter",
         "x": [
          27683.3333
         ],
         "y": [
          19633.3333
         ]
        },
        {
         "mode": "text",
         "text": [
          "768"
         ],
         "textposition": "top center",
         "type": "scatter",
         "x": [
          27650
         ],
         "y": [
          19650
         ]
        },
        {
         "mode": "text",
         "text": [
          "769"
         ],
         "textposition": "top center",
         "type": "scatter",
         "x": [
          27616.6667
         ],
         "y": [
          19666.6667
         ]
        },
        {
         "mode": "text",
         "text": [
          "770"
         ],
         "textposition": "top center",
         "type": "scatter",
         "x": [
          27583.3333
         ],
         "y": [
          19716.6667
         ]
        },
        {
         "mode": "text",
         "text": [
          "771"
         ],
         "textposition": "top center",
         "type": "scatter",
         "x": [
          27600
         ],
         "y": [
          19733.3333
         ]
        },
        {
         "mode": "text",
         "text": [
          "772"
         ],
         "textposition": "top center",
         "type": "scatter",
         "x": [
          27616.6667
         ],
         "y": [
          19766.6667
         ]
        },
        {
         "mode": "text",
         "text": [
          "773"
         ],
         "textposition": "top center",
         "type": "scatter",
         "x": [
          27616.6667
         ],
         "y": [
          19800
         ]
        },
        {
         "mode": "text",
         "text": [
          "774"
         ],
         "textposition": "top center",
         "type": "scatter",
         "x": [
          27633.3333
         ],
         "y": [
          19833.3333
         ]
        },
        {
         "mode": "text",
         "text": [
          "775"
         ],
         "textposition": "top center",
         "type": "scatter",
         "x": [
          27650
         ],
         "y": [
          19850
         ]
        },
        {
         "mode": "text",
         "text": [
          "776"
         ],
         "textposition": "top center",
         "type": "scatter",
         "x": [
          27616.6667
         ],
         "y": [
          19883.3333
         ]
        },
        {
         "mode": "text",
         "text": [
          "777"
         ],
         "textposition": "top center",
         "type": "scatter",
         "x": [
          27650
         ],
         "y": [
          19933.3333
         ]
        },
        {
         "mode": "text",
         "text": [
          "778"
         ],
         "textposition": "top center",
         "type": "scatter",
         "x": [
          27716.6667
         ],
         "y": [
          19850
         ]
        },
        {
         "mode": "text",
         "text": [
          "779"
         ],
         "textposition": "top center",
         "type": "scatter",
         "x": [
          27683.3333
         ],
         "y": [
          19816.6667
         ]
        },
        {
         "mode": "text",
         "text": [
          "780"
         ],
         "textposition": "top center",
         "type": "scatter",
         "x": [
          27650
         ],
         "y": [
          19800
         ]
        },
        {
         "mode": "text",
         "text": [
          "781"
         ],
         "textposition": "top center",
         "type": "scatter",
         "x": [
          27683.3333
         ],
         "y": [
          19783.3333
         ]
        },
        {
         "mode": "text",
         "text": [
          "782"
         ],
         "textposition": "top center",
         "type": "scatter",
         "x": [
          27650
         ],
         "y": [
          19700
         ]
        },
        {
         "mode": "text",
         "text": [
          "783"
         ],
         "textposition": "top center",
         "type": "scatter",
         "x": [
          27683.3333
         ],
         "y": [
          19700
         ]
        },
        {
         "mode": "text",
         "text": [
          "784"
         ],
         "textposition": "top center",
         "type": "scatter",
         "x": [
          27700
         ],
         "y": [
          19666.6667
         ]
        },
        {
         "mode": "text",
         "text": [
          "785"
         ],
         "textposition": "top center",
         "type": "scatter",
         "x": [
          27716.6667
         ],
         "y": [
          19733.3333
         ]
        },
        {
         "mode": "text",
         "text": [
          "786"
         ],
         "textposition": "top center",
         "type": "scatter",
         "x": [
          27766.6667
         ],
         "y": [
          19716.6667
         ]
        },
        {
         "mode": "text",
         "text": [
          "787"
         ],
         "textposition": "top center",
         "type": "scatter",
         "x": [
          27766.6667
         ],
         "y": [
          19750
         ]
        },
        {
         "mode": "text",
         "text": [
          "788"
         ],
         "textposition": "top center",
         "type": "scatter",
         "x": [
          27750
         ],
         "y": [
          19766.6667
         ]
        },
        {
         "mode": "text",
         "text": [
          "789"
         ],
         "textposition": "top center",
         "type": "scatter",
         "x": [
          27783.3333
         ],
         "y": [
          19783.3333
         ]
        },
        {
         "mode": "text",
         "text": [
          "790"
         ],
         "textposition": "top center",
         "type": "scatter",
         "x": [
          27783.3333
         ],
         "y": [
          19750
         ]
        },
        {
         "mode": "text",
         "text": [
          "791"
         ],
         "textposition": "top center",
         "type": "scatter",
         "x": [
          27800
         ],
         "y": [
          19766.6667
         ]
        },
        {
         "mode": "text",
         "text": [
          "792"
         ],
         "textposition": "top center",
         "type": "scatter",
         "x": [
          27833.3333
         ],
         "y": [
          19800
         ]
        },
        {
         "mode": "text",
         "text": [
          "793"
         ],
         "textposition": "top center",
         "type": "scatter",
         "x": [
          27866.6667
         ],
         "y": [
          19850
         ]
        },
        {
         "mode": "text",
         "text": [
          "794"
         ],
         "textposition": "top center",
         "type": "scatter",
         "x": [
          27783.3333
         ],
         "y": [
          19833.3333
         ]
        },
        {
         "mode": "text",
         "text": [
          "795"
         ],
         "textposition": "top center",
         "type": "scatter",
         "x": [
          27783.3333
         ],
         "y": [
          19850
         ]
        },
        {
         "mode": "text",
         "text": [
          "796"
         ],
         "textposition": "top center",
         "type": "scatter",
         "x": [
          27783.3333
         ],
         "y": [
          19916.6667
         ]
        },
        {
         "mode": "text",
         "text": [
          "797"
         ],
         "textposition": "top center",
         "type": "scatter",
         "x": [
          27700
         ],
         "y": [
          19933.3333
         ]
        },
        {
         "mode": "text",
         "text": [
          "798"
         ],
         "textposition": "top center",
         "type": "scatter",
         "x": [
          27766.6667
         ],
         "y": [
          20033.3333
         ]
        },
        {
         "mode": "text",
         "text": [
          "799"
         ],
         "textposition": "top center",
         "type": "scatter",
         "x": [
          27766.6667
         ],
         "y": [
          20050
         ]
        },
        {
         "mode": "text",
         "text": [
          "800"
         ],
         "textposition": "top center",
         "type": "scatter",
         "x": [
          27666.6667
         ],
         "y": [
          20100
         ]
        },
        {
         "mode": "text",
         "text": [
          "801"
         ],
         "textposition": "top center",
         "type": "scatter",
         "x": [
          27650
         ],
         "y": [
          20116.6667
         ]
        },
        {
         "mode": "text",
         "text": [
          "802"
         ],
         "textposition": "top center",
         "type": "scatter",
         "x": [
          27700
         ],
         "y": [
          20150
         ]
        },
        {
         "mode": "text",
         "text": [
          "803"
         ],
         "textposition": "top center",
         "type": "scatter",
         "x": [
          27766.6667
         ],
         "y": [
          20200
         ]
        },
        {
         "mode": "text",
         "text": [
          "804"
         ],
         "textposition": "top center",
         "type": "scatter",
         "x": [
          27766.6667
         ],
         "y": [
          20216.6667
         ]
        },
        {
         "mode": "text",
         "text": [
          "805"
         ],
         "textposition": "top center",
         "type": "scatter",
         "x": [
          27900
         ],
         "y": [
          20116.6667
         ]
        },
        {
         "mode": "text",
         "text": [
          "806"
         ],
         "textposition": "top center",
         "type": "scatter",
         "x": [
          27950
         ],
         "y": [
          20100
         ]
        },
        {
         "mode": "text",
         "text": [
          "807"
         ],
         "textposition": "top center",
         "type": "scatter",
         "x": [
          27933.3333
         ],
         "y": [
          20033.3333
         ]
        },
        {
         "mode": "text",
         "text": [
          "808"
         ],
         "textposition": "top center",
         "type": "scatter",
         "x": [
          28266.6667
         ],
         "y": [
          19866.6667
         ]
        },
        {
         "mode": "text",
         "text": [
          "809"
         ],
         "textposition": "top center",
         "type": "scatter",
         "x": [
          28278.8889
         ],
         "y": [
          20225.5556
         ]
        },
        {
         "mode": "text",
         "text": [
          "810"
         ],
         "textposition": "top center",
         "type": "scatter",
         "x": [
          28216.6667
         ],
         "y": [
          20383.3333
         ]
        },
        {
         "mode": "text",
         "text": [
          "811"
         ],
         "textposition": "top center",
         "type": "scatter",
         "x": [
          28333.3333
         ],
         "y": [
          20366.6667
         ]
        },
        {
         "mode": "text",
         "text": [
          "812"
         ],
         "textposition": "top center",
         "type": "scatter",
         "x": [
          28383.3333
         ],
         "y": [
          20600
         ]
        },
        {
         "mode": "text",
         "text": [
          "813"
         ],
         "textposition": "top center",
         "type": "scatter",
         "x": [
          28400
         ],
         "y": [
          20616.6667
         ]
        },
        {
         "mode": "text",
         "text": [
          "814"
         ],
         "textposition": "top center",
         "type": "scatter",
         "x": [
          28416.6667
         ],
         "y": [
          20683.3333
         ]
        },
        {
         "mode": "text",
         "text": [
          "815"
         ],
         "textposition": "top center",
         "type": "scatter",
         "x": [
          28483.3333
         ],
         "y": [
          20416.6667
         ]
        },
        {
         "mode": "text",
         "text": [
          "816"
         ],
         "textposition": "top center",
         "type": "scatter",
         "x": [
          28600
         ],
         "y": [
          20416.6667
         ]
        },
        {
         "mode": "text",
         "text": [
          "817"
         ],
         "textposition": "top center",
         "type": "scatter",
         "x": [
          28900
         ],
         "y": [
          20400
         ]
        },
        {
         "mode": "text",
         "text": [
          "818"
         ],
         "textposition": "top center",
         "type": "scatter",
         "x": [
          28983.3333
         ],
         "y": [
          20366.6667
         ]
        },
        {
         "mode": "text",
         "text": [
          "819"
         ],
         "textposition": "top center",
         "type": "scatter",
         "x": [
          29050
         ],
         "y": [
          20450
         ]
        },
        {
         "mode": "text",
         "text": [
          "820"
         ],
         "textposition": "top center",
         "type": "scatter",
         "x": [
          29055.5556
         ],
         "y": [
          20516.3889
         ]
        },
        {
         "mode": "text",
         "text": [
          "821"
         ],
         "textposition": "top center",
         "type": "scatter",
         "x": [
          29151.3889
         ],
         "y": [
          20649.1667
         ]
        },
        {
         "mode": "text",
         "text": [
          "822"
         ],
         "textposition": "top center",
         "type": "scatter",
         "x": [
          29283.3333
         ],
         "y": [
          20533.3333
         ]
        },
        {
         "mode": "text",
         "text": [
          "823"
         ],
         "textposition": "top center",
         "type": "scatter",
         "x": [
          29316.6667
         ],
         "y": [
          20516.6667
         ]
        },
        {
         "mode": "text",
         "text": [
          "824"
         ],
         "textposition": "top center",
         "type": "scatter",
         "x": [
          29333.3333
         ],
         "y": [
          20566.6667
         ]
        },
        {
         "mode": "text",
         "text": [
          "825"
         ],
         "textposition": "top center",
         "type": "scatter",
         "x": [
          29683.3333
         ],
         "y": [
          20433.3333
         ]
        },
        {
         "mode": "text",
         "text": [
          "826"
         ],
         "textposition": "top center",
         "type": "scatter",
         "x": [
          29701.3889
         ],
         "y": [
          20749.1667
         ]
        },
        {
         "mode": "text",
         "text": [
          "827"
         ],
         "textposition": "top center",
         "type": "scatter",
         "x": [
          29533.3333
         ],
         "y": [
          20800
         ]
        },
        {
         "mode": "text",
         "text": [
          "828"
         ],
         "textposition": "top center",
         "type": "scatter",
         "x": [
          29441.6667
         ],
         "y": [
          20927.7778
         ]
        },
        {
         "mode": "text",
         "text": [
          "829"
         ],
         "textposition": "top center",
         "type": "scatter",
         "x": [
          29366.6667
         ],
         "y": [
          21066.6667
         ]
        },
        {
         "mode": "text",
         "text": [
          "830"
         ],
         "textposition": "top center",
         "type": "scatter",
         "x": [
          29216.6667
         ],
         "y": [
          21000
         ]
        },
        {
         "mode": "text",
         "text": [
          "831"
         ],
         "textposition": "top center",
         "type": "scatter",
         "x": [
          29033.3333
         ],
         "y": [
          20983.3333
         ]
        },
        {
         "mode": "text",
         "text": [
          "832"
         ],
         "textposition": "top center",
         "type": "scatter",
         "x": [
          29000
         ],
         "y": [
          20933.3333
         ]
        },
        {
         "mode": "text",
         "text": [
          "833"
         ],
         "textposition": "top center",
         "type": "scatter",
         "x": [
          28950
         ],
         "y": [
          20916.6667
         ]
        },
        {
         "mode": "text",
         "text": [
          "834"
         ],
         "textposition": "top center",
         "type": "scatter",
         "x": [
          28450
         ],
         "y": [
          21050
         ]
        },
        {
         "mode": "text",
         "text": [
          "835"
         ],
         "textposition": "top center",
         "type": "scatter",
         "x": [
          28466.6667
         ],
         "y": [
          20916.6667
         ]
        },
        {
         "mode": "text",
         "text": [
          "836"
         ],
         "textposition": "top center",
         "type": "scatter",
         "x": [
          28066.6667
         ],
         "y": [
          20700
         ]
        },
        {
         "mode": "text",
         "text": [
          "837"
         ],
         "textposition": "top center",
         "type": "scatter",
         "x": [
          27816.6667
         ],
         "y": [
          20483.3333
         ]
        },
        {
         "mode": "text",
         "text": [
          "838"
         ],
         "textposition": "top center",
         "type": "scatter",
         "x": [
          27850
         ],
         "y": [
          20600
         ]
        },
        {
         "mode": "text",
         "text": [
          "839"
         ],
         "textposition": "top center",
         "type": "scatter",
         "x": [
          27716.6667
         ],
         "y": [
          21083.3333
         ]
        },
        {
         "mode": "text",
         "text": [
          "840"
         ],
         "textposition": "top center",
         "type": "scatter",
         "x": [
          27850
         ],
         "y": [
          21200
         ]
        },
        {
         "mode": "text",
         "text": [
          "841"
         ],
         "textposition": "top center",
         "type": "scatter",
         "x": [
          28083.3333
         ],
         "y": [
          21500
         ]
        },
        {
         "mode": "text",
         "text": [
          "842"
         ],
         "textposition": "top center",
         "type": "scatter",
         "x": [
          28533.3333
         ],
         "y": [
          21416.6667
         ]
        },
        {
         "mode": "text",
         "text": [
          "843"
         ],
         "textposition": "top center",
         "type": "scatter",
         "x": [
          28855.5556
         ],
         "y": [
          21433.3333
         ]
        },
        {
         "mode": "text",
         "text": [
          "844"
         ],
         "textposition": "top center",
         "type": "scatter",
         "x": [
          28866.6667
         ],
         "y": [
          21516.6667
         ]
        },
        {
         "mode": "text",
         "text": [
          "845"
         ],
         "textposition": "top center",
         "type": "scatter",
         "x": [
          28933.3333
         ],
         "y": [
          21650
         ]
        },
        {
         "mode": "text",
         "text": [
          "846"
         ],
         "textposition": "top center",
         "type": "scatter",
         "x": [
          29124.7222
         ],
         "y": [
          21666.9444
         ]
        },
        {
         "mode": "text",
         "text": [
          "847"
         ],
         "textposition": "top center",
         "type": "scatter",
         "x": [
          29200
         ],
         "y": [
          21700
         ]
        },
        {
         "mode": "text",
         "text": [
          "848"
         ],
         "textposition": "top center",
         "type": "scatter",
         "x": [
          29200
         ],
         "y": [
          21916.6667
         ]
        },
        {
         "mode": "text",
         "text": [
          "849"
         ],
         "textposition": "top center",
         "type": "scatter",
         "x": [
          29350
         ],
         "y": [
          21850
         ]
        },
        {
         "mode": "text",
         "text": [
          "850"
         ],
         "textposition": "top center",
         "type": "scatter",
         "x": [
          29400
         ],
         "y": [
          21850
         ]
        },
        {
         "mode": "text",
         "text": [
          "851"
         ],
         "textposition": "top center",
         "type": "scatter",
         "x": [
          29366.6667
         ],
         "y": [
          21916.6667
         ]
        },
        {
         "mode": "text",
         "text": [
          "852"
         ],
         "textposition": "top center",
         "type": "scatter",
         "x": [
          29366.6667
         ],
         "y": [
          21966.6667
         ]
        },
        {
         "mode": "text",
         "text": [
          "853"
         ],
         "textposition": "top center",
         "type": "scatter",
         "x": [
          29366.6667
         ],
         "y": [
          22016.6667
         ]
        },
        {
         "mode": "text",
         "text": [
          "854"
         ],
         "textposition": "top center",
         "type": "scatter",
         "x": [
          29583.3333
         ],
         "y": [
          21966.6667
         ]
        },
        {
         "mode": "text",
         "text": [
          "855"
         ],
         "textposition": "top center",
         "type": "scatter",
         "x": [
          29533.3333
         ],
         "y": [
          21516.6667
         ]
        },
        {
         "mode": "text",
         "text": [
          "856"
         ],
         "textposition": "top center",
         "type": "scatter",
         "x": [
          29900
         ],
         "y": [
          21433.3333
         ]
        },
        {
         "mode": "text",
         "text": [
          "857"
         ],
         "textposition": "top center",
         "type": "scatter",
         "x": [
          29866.6667
         ],
         "y": [
          21733.3333
         ]
        },
        {
         "mode": "text",
         "text": [
          "858"
         ],
         "textposition": "top center",
         "type": "scatter",
         "x": [
          30027.2222
         ],
         "y": [
          21917.2222
         ]
        },
        {
         "mode": "text",
         "text": [
          "859"
         ],
         "textposition": "top center",
         "type": "scatter",
         "x": [
          30166.6667
         ],
         "y": [
          22016.6667
         ]
        },
        {
         "mode": "text",
         "text": [
          "860"
         ],
         "textposition": "top center",
         "type": "scatter",
         "x": [
          30150
         ],
         "y": [
          22083.3333
         ]
        },
        {
         "mode": "text",
         "text": [
          "861"
         ],
         "textposition": "top center",
         "type": "scatter",
         "x": [
          30066.6667
         ],
         "y": [
          22116.6667
         ]
        },
        {
         "mode": "text",
         "text": [
          "862"
         ],
         "textposition": "top center",
         "type": "scatter",
         "x": [
          30000
         ],
         "y": [
          22216.6667
         ]
        },
        {
         "mode": "text",
         "text": [
          "863"
         ],
         "textposition": "top center",
         "type": "scatter",
         "x": [
          30350
         ],
         "y": [
          22200
         ]
        },
        {
         "mode": "text",
         "text": [
          "864"
         ],
         "textposition": "top center",
         "type": "scatter",
         "x": [
          30633.3333
         ],
         "y": [
          22150
         ]
        },
        {
         "mode": "text",
         "text": [
          "865"
         ],
         "textposition": "top center",
         "type": "scatter",
         "x": [
          30650
         ],
         "y": [
          22083.3333
         ]
        },
        {
         "mode": "text",
         "text": [
          "866"
         ],
         "textposition": "top center",
         "type": "scatter",
         "x": [
          30666.6667
         ],
         "y": [
          22133.3333
         ]
        },
        {
         "mode": "text",
         "text": [
          "867"
         ],
         "textposition": "top center",
         "type": "scatter",
         "x": [
          30783.3333
         ],
         "y": [
          22200
         ]
        },
        {
         "mode": "text",
         "text": [
          "868"
         ],
         "textposition": "top center",
         "type": "scatter",
         "x": [
          30933.3333
         ],
         "y": [
          22233.3333
         ]
        },
        {
         "mode": "text",
         "text": [
          "869"
         ],
         "textposition": "top center",
         "type": "scatter",
         "x": [
          31416.6667
         ],
         "y": [
          22066.6667
         ]
        },
        {
         "mode": "text",
         "text": [
          "870"
         ],
         "textposition": "top center",
         "type": "scatter",
         "x": [
          31627.7778
         ],
         "y": [
          21944.7222
         ]
        },
        {
         "mode": "text",
         "text": [
          "871"
         ],
         "textposition": "top center",
         "type": "scatter",
         "x": [
          31570.8333
         ],
         "y": [
          21815.2778
         ]
        },
        {
         "mode": "text",
         "text": [
          "872"
         ],
         "textposition": "top center",
         "type": "scatter",
         "x": [
          32100
         ],
         "y": [
          21633.3333
         ]
        },
        {
         "mode": "text",
         "text": [
          "873"
         ],
         "textposition": "top center",
         "type": "scatter",
         "x": [
          32033.3333
         ],
         "y": [
          21433.3333
         ]
        },
        {
         "mode": "text",
         "text": [
          "874"
         ],
         "textposition": "top center",
         "type": "scatter",
         "x": [
          31583.3333
         ],
         "y": [
          21466.6667
         ]
        },
        {
         "mode": "text",
         "text": [
          "875"
         ],
         "textposition": "top center",
         "type": "scatter",
         "x": [
          31483.3333
         ],
         "y": [
          21533.3333
         ]
        },
        {
         "mode": "text",
         "text": [
          "876"
         ],
         "textposition": "top center",
         "type": "scatter",
         "x": [
          31316.6667
         ],
         "y": [
          21683.3333
         ]
        },
        {
         "mode": "text",
         "text": [
          "877"
         ],
         "textposition": "top center",
         "type": "scatter",
         "x": [
          31250
         ],
         "y": [
          21583.3333
         ]
        },
        {
         "mode": "text",
         "text": [
          "878"
         ],
         "textposition": "top center",
         "type": "scatter",
         "x": [
          30728.8889
         ],
         "y": [
          21423.8889
         ]
        },
        {
         "mode": "text",
         "text": [
          "879"
         ],
         "textposition": "top center",
         "type": "scatter",
         "x": [
          30733.3333
         ],
         "y": [
          21416.6667
         ]
        },
        {
         "mode": "text",
         "text": [
          "880"
         ],
         "textposition": "top center",
         "type": "scatter",
         "x": [
          30733.3333
         ],
         "y": [
          21250
         ]
        },
        {
         "mode": "text",
         "text": [
          "881"
         ],
         "textposition": "top center",
         "type": "scatter",
         "x": [
          31016.6667
         ],
         "y": [
          21383.3333
         ]
        },
        {
         "mode": "text",
         "text": [
          "882"
         ],
         "textposition": "top center",
         "type": "scatter",
         "x": [
          31283.3333
         ],
         "y": [
          21150
         ]
        },
        {
         "mode": "text",
         "text": [
          "883"
         ],
         "textposition": "top center",
         "type": "scatter",
         "x": [
          31366.6667
         ],
         "y": [
          20950
         ]
        },
        {
         "mode": "text",
         "text": [
          "884"
         ],
         "textposition": "top center",
         "type": "scatter",
         "x": [
          31450
         ],
         "y": [
          21033.3333
         ]
        },
        {
         "mode": "text",
         "text": [
          "885"
         ],
         "textposition": "top center",
         "type": "scatter",
         "x": [
          31533.3333
         ],
         "y": [
          21016.6667
         ]
        },
        {
         "mode": "text",
         "text": [
          "886"
         ],
         "textposition": "top center",
         "type": "scatter",
         "x": [
          31550
         ],
         "y": [
          21166.6667
         ]
        },
        {
         "mode": "text",
         "text": [
          "887"
         ],
         "textposition": "top center",
         "type": "scatter",
         "x": [
          31666.6667
         ],
         "y": [
          21050
         ]
        },
        {
         "mode": "text",
         "text": [
          "888"
         ],
         "textposition": "top center",
         "type": "scatter",
         "x": [
          31733.3333
         ],
         "y": [
          20966.6667
         ]
        },
        {
         "mode": "text",
         "text": [
          "889"
         ],
         "textposition": "top center",
         "type": "scatter",
         "x": [
          31625
         ],
         "y": [
          20698.6111
         ]
        },
        {
         "mode": "text",
         "text": [
          "890"
         ],
         "textposition": "top center",
         "type": "scatter",
         "x": [
          31397.2222
         ],
         "y": [
          20602.7778
         ]
        },
        {
         "mode": "text",
         "text": [
          "891"
         ],
         "textposition": "top center",
         "type": "scatter",
         "x": [
          31113.8889
         ],
         "y": [
          20613.8889
         ]
        },
        {
         "mode": "text",
         "text": [
          "892"
         ],
         "textposition": "top center",
         "type": "scatter",
         "x": [
          31316.6667
         ],
         "y": [
          20550
         ]
        },
        {
         "mode": "text",
         "text": [
          "893"
         ],
         "textposition": "top center",
         "type": "scatter",
         "x": [
          31450
         ],
         "y": [
          20400
         ]
        },
        {
         "mode": "text",
         "text": [
          "894"
         ],
         "textposition": "top center",
         "type": "scatter",
         "x": [
          31450
         ],
         "y": [
          20350
         ]
        },
        {
         "mode": "text",
         "text": [
          "895"
         ],
         "textposition": "top center",
         "type": "scatter",
         "x": [
          31416.6667
         ],
         "y": [
          20216.6667
         ]
        },
        {
         "mode": "text",
         "text": [
          "896"
         ],
         "textposition": "top center",
         "type": "scatter",
         "x": [
          31333.3333
         ],
         "y": [
          20183.3333
         ]
        },
        {
         "mode": "text",
         "text": [
          "897"
         ],
         "textposition": "top center",
         "type": "scatter",
         "x": [
          31616.6667
         ],
         "y": [
          20083.3333
         ]
        },
        {
         "mode": "text",
         "text": [
          "898"
         ],
         "textposition": "top center",
         "type": "scatter",
         "x": [
          32333.3333
         ],
         "y": [
          19966.6667
         ]
        },
        {
         "mode": "text",
         "text": [
          "899"
         ],
         "textposition": "top center",
         "type": "scatter",
         "x": [
          32100
         ],
         "y": [
          20416.6667
         ]
        },
        {
         "mode": "text",
         "text": [
          "900"
         ],
         "textposition": "top center",
         "type": "scatter",
         "x": [
          31963.8889
         ],
         "y": [
          20419.4444
         ]
        },
        {
         "mode": "text",
         "text": [
          "901"
         ],
         "textposition": "top center",
         "type": "scatter",
         "x": [
          31866.6667
         ],
         "y": [
          20466.6667
         ]
        },
        {
         "mode": "text",
         "text": [
          "902"
         ],
         "textposition": "top center",
         "type": "scatter",
         "x": [
          32233.3333
         ],
         "y": [
          20800
         ]
        },
        {
         "mode": "text",
         "text": [
          "903"
         ],
         "textposition": "top center",
         "type": "scatter",
         "x": [
          32266.6667
         ],
         "y": [
          20666.6667
         ]
        },
        {
         "mode": "text",
         "text": [
          "904"
         ],
         "textposition": "top center",
         "type": "scatter",
         "x": [
          32400
         ],
         "y": [
          20550
         ]
        },
        {
         "mode": "text",
         "text": [
          "905"
         ],
         "textposition": "top center",
         "type": "scatter",
         "x": [
          32250
         ],
         "y": [
          20383.3333
         ]
        },
        {
         "mode": "text",
         "text": [
          "906"
         ],
         "textposition": "top center",
         "type": "scatter",
         "x": [
          32400
         ],
         "y": [
          20366.6667
         ]
        },
        {
         "mode": "text",
         "text": [
          "907"
         ],
         "textposition": "top center",
         "type": "scatter",
         "x": [
          32483.3333
         ],
         "y": [
          20433.3333
         ]
        },
        {
         "mode": "text",
         "text": [
          "908"
         ],
         "textposition": "top center",
         "type": "scatter",
         "x": [
          32500
         ],
         "y": [
          20333.3333
         ]
        },
        {
         "mode": "text",
         "text": [
          "909"
         ],
         "textposition": "top center",
         "type": "scatter",
         "x": [
          32600
         ],
         "y": [
          20366.6667
         ]
        },
        {
         "mode": "text",
         "text": [
          "910"
         ],
         "textposition": "top center",
         "type": "scatter",
         "x": [
          32616.6667
         ],
         "y": [
          20300
         ]
        },
        {
         "mode": "text",
         "text": [
          "911"
         ],
         "textposition": "top center",
         "type": "scatter",
         "x": [
          32616.6667
         ],
         "y": [
          20200
         ]
        },
        {
         "mode": "text",
         "text": [
          "912"
         ],
         "textposition": "top center",
         "type": "scatter",
         "x": [
          32650
         ],
         "y": [
          20316.6667
         ]
        },
        {
         "mode": "text",
         "text": [
          "913"
         ],
         "textposition": "top center",
         "type": "scatter",
         "x": [
          32733.3333
         ],
         "y": [
          20316.6667
         ]
        },
        {
         "mode": "text",
         "text": [
          "914"
         ],
         "textposition": "top center",
         "type": "scatter",
         "x": [
          32783.3333
         ],
         "y": [
          20166.6667
         ]
        },
        {
         "mode": "text",
         "text": [
          "915"
         ],
         "textposition": "top center",
         "type": "scatter",
         "x": [
          32866.6667
         ],
         "y": [
          19800
         ]
        },
        {
         "mode": "text",
         "text": [
          "916"
         ],
         "textposition": "top center",
         "type": "scatter",
         "x": [
          32800
         ],
         "y": [
          19600
         ]
        },
        {
         "mode": "text",
         "text": [
          "917"
         ],
         "textposition": "top center",
         "type": "scatter",
         "x": [
          32783.3333
         ],
         "y": [
          19550
         ]
        },
        {
         "mode": "text",
         "text": [
          "918"
         ],
         "textposition": "top center",
         "type": "scatter",
         "x": [
          32666.6667
         ],
         "y": [
          19550
         ]
        },
        {
         "mode": "text",
         "text": [
          "919"
         ],
         "textposition": "top center",
         "type": "scatter",
         "x": [
          32416.6667
         ],
         "y": [
          19766.6667
         ]
        },
        {
         "mode": "text",
         "text": [
          "920"
         ],
         "textposition": "top center",
         "type": "scatter",
         "x": [
          32466.6667
         ],
         "y": [
          19650
         ]
        },
        {
         "mode": "text",
         "text": [
          "921"
         ],
         "textposition": "top center",
         "type": "scatter",
         "x": [
          32550
         ],
         "y": [
          19516.6667
         ]
        },
        {
         "mode": "text",
         "text": [
          "922"
         ],
         "textposition": "top center",
         "type": "scatter",
         "x": [
          32616.6667
         ],
         "y": [
          19166.6667
         ]
        },
        {
         "mode": "text",
         "text": [
          "923"
         ],
         "textposition": "top center",
         "type": "scatter",
         "x": [
          32583.3333
         ],
         "y": [
          19000
         ]
        },
        {
         "mode": "text",
         "text": [
          "924"
         ],
         "textposition": "top center",
         "type": "scatter",
         "x": [
          32583.3333
         ],
         "y": [
          18933.3333
         ]
        },
        {
         "mode": "text",
         "text": [
          "925"
         ],
         "textposition": "top center",
         "type": "scatter",
         "x": [
          32616.6667
         ],
         "y": [
          18983.3333
         ]
        },
        {
         "mode": "text",
         "text": [
          "926"
         ],
         "textposition": "top center",
         "type": "scatter",
         "x": [
          32666.6667
         ],
         "y": [
          18966.6667
         ]
        },
        {
         "mode": "text",
         "text": [
          "927"
         ],
         "textposition": "top center",
         "type": "scatter",
         "x": [
          32683.3333
         ],
         "y": [
          18883.3333
         ]
        },
        {
         "mode": "text",
         "text": [
          "928"
         ],
         "textposition": "top center",
         "type": "scatter",
         "x": [
          32800
         ],
         "y": [
          18733.3333
         ]
        }
       ],
       "layout": {
        "height": 700,
        "showlegend": false,
        "template": {
         "data": {
          "bar": [
           {
            "error_x": {
             "color": "#2a3f5f"
            },
            "error_y": {
             "color": "#2a3f5f"
            },
            "marker": {
             "line": {
              "color": "#E5ECF6",
              "width": 0.5
             },
             "pattern": {
              "fillmode": "overlay",
              "size": 10,
              "solidity": 0.2
             }
            },
            "type": "bar"
           }
          ],
          "barpolar": [
           {
            "marker": {
             "line": {
              "color": "#E5ECF6",
              "width": 0.5
             },
             "pattern": {
              "fillmode": "overlay",
              "size": 10,
              "solidity": 0.2
             }
            },
            "type": "barpolar"
           }
          ],
          "carpet": [
           {
            "aaxis": {
             "endlinecolor": "#2a3f5f",
             "gridcolor": "white",
             "linecolor": "white",
             "minorgridcolor": "white",
             "startlinecolor": "#2a3f5f"
            },
            "baxis": {
             "endlinecolor": "#2a3f5f",
             "gridcolor": "white",
             "linecolor": "white",
             "minorgridcolor": "white",
             "startlinecolor": "#2a3f5f"
            },
            "type": "carpet"
           }
          ],
          "choropleth": [
           {
            "colorbar": {
             "outlinewidth": 0,
             "ticks": ""
            },
            "type": "choropleth"
           }
          ],
          "contour": [
           {
            "colorbar": {
             "outlinewidth": 0,
             "ticks": ""
            },
            "colorscale": [
             [
              0,
              "#0d0887"
             ],
             [
              0.1111111111111111,
              "#46039f"
             ],
             [
              0.2222222222222222,
              "#7201a8"
             ],
             [
              0.3333333333333333,
              "#9c179e"
             ],
             [
              0.4444444444444444,
              "#bd3786"
             ],
             [
              0.5555555555555556,
              "#d8576b"
             ],
             [
              0.6666666666666666,
              "#ed7953"
             ],
             [
              0.7777777777777778,
              "#fb9f3a"
             ],
             [
              0.8888888888888888,
              "#fdca26"
             ],
             [
              1,
              "#f0f921"
             ]
            ],
            "type": "contour"
           }
          ],
          "contourcarpet": [
           {
            "colorbar": {
             "outlinewidth": 0,
             "ticks": ""
            },
            "type": "contourcarpet"
           }
          ],
          "heatmap": [
           {
            "colorbar": {
             "outlinewidth": 0,
             "ticks": ""
            },
            "colorscale": [
             [
              0,
              "#0d0887"
             ],
             [
              0.1111111111111111,
              "#46039f"
             ],
             [
              0.2222222222222222,
              "#7201a8"
             ],
             [
              0.3333333333333333,
              "#9c179e"
             ],
             [
              0.4444444444444444,
              "#bd3786"
             ],
             [
              0.5555555555555556,
              "#d8576b"
             ],
             [
              0.6666666666666666,
              "#ed7953"
             ],
             [
              0.7777777777777778,
              "#fb9f3a"
             ],
             [
              0.8888888888888888,
              "#fdca26"
             ],
             [
              1,
              "#f0f921"
             ]
            ],
            "type": "heatmap"
           }
          ],
          "heatmapgl": [
           {
            "colorbar": {
             "outlinewidth": 0,
             "ticks": ""
            },
            "colorscale": [
             [
              0,
              "#0d0887"
             ],
             [
              0.1111111111111111,
              "#46039f"
             ],
             [
              0.2222222222222222,
              "#7201a8"
             ],
             [
              0.3333333333333333,
              "#9c179e"
             ],
             [
              0.4444444444444444,
              "#bd3786"
             ],
             [
              0.5555555555555556,
              "#d8576b"
             ],
             [
              0.6666666666666666,
              "#ed7953"
             ],
             [
              0.7777777777777778,
              "#fb9f3a"
             ],
             [
              0.8888888888888888,
              "#fdca26"
             ],
             [
              1,
              "#f0f921"
             ]
            ],
            "type": "heatmapgl"
           }
          ],
          "histogram": [
           {
            "marker": {
             "pattern": {
              "fillmode": "overlay",
              "size": 10,
              "solidity": 0.2
             }
            },
            "type": "histogram"
           }
          ],
          "histogram2d": [
           {
            "colorbar": {
             "outlinewidth": 0,
             "ticks": ""
            },
            "colorscale": [
             [
              0,
              "#0d0887"
             ],
             [
              0.1111111111111111,
              "#46039f"
             ],
             [
              0.2222222222222222,
              "#7201a8"
             ],
             [
              0.3333333333333333,
              "#9c179e"
             ],
             [
              0.4444444444444444,
              "#bd3786"
             ],
             [
              0.5555555555555556,
              "#d8576b"
             ],
             [
              0.6666666666666666,
              "#ed7953"
             ],
             [
              0.7777777777777778,
              "#fb9f3a"
             ],
             [
              0.8888888888888888,
              "#fdca26"
             ],
             [
              1,
              "#f0f921"
             ]
            ],
            "type": "histogram2d"
           }
          ],
          "histogram2dcontour": [
           {
            "colorbar": {
             "outlinewidth": 0,
             "ticks": ""
            },
            "colorscale": [
             [
              0,
              "#0d0887"
             ],
             [
              0.1111111111111111,
              "#46039f"
             ],
             [
              0.2222222222222222,
              "#7201a8"
             ],
             [
              0.3333333333333333,
              "#9c179e"
             ],
             [
              0.4444444444444444,
              "#bd3786"
             ],
             [
              0.5555555555555556,
              "#d8576b"
             ],
             [
              0.6666666666666666,
              "#ed7953"
             ],
             [
              0.7777777777777778,
              "#fb9f3a"
             ],
             [
              0.8888888888888888,
              "#fdca26"
             ],
             [
              1,
              "#f0f921"
             ]
            ],
            "type": "histogram2dcontour"
           }
          ],
          "mesh3d": [
           {
            "colorbar": {
             "outlinewidth": 0,
             "ticks": ""
            },
            "type": "mesh3d"
           }
          ],
          "parcoords": [
           {
            "line": {
             "colorbar": {
              "outlinewidth": 0,
              "ticks": ""
             }
            },
            "type": "parcoords"
           }
          ],
          "pie": [
           {
            "automargin": true,
            "type": "pie"
           }
          ],
          "scatter": [
           {
            "fillpattern": {
             "fillmode": "overlay",
             "size": 10,
             "solidity": 0.2
            },
            "type": "scatter"
           }
          ],
          "scatter3d": [
           {
            "line": {
             "colorbar": {
              "outlinewidth": 0,
              "ticks": ""
             }
            },
            "marker": {
             "colorbar": {
              "outlinewidth": 0,
              "ticks": ""
             }
            },
            "type": "scatter3d"
           }
          ],
          "scattercarpet": [
           {
            "marker": {
             "colorbar": {
              "outlinewidth": 0,
              "ticks": ""
             }
            },
            "type": "scattercarpet"
           }
          ],
          "scattergeo": [
           {
            "marker": {
             "colorbar": {
              "outlinewidth": 0,
              "ticks": ""
             }
            },
            "type": "scattergeo"
           }
          ],
          "scattergl": [
           {
            "marker": {
             "colorbar": {
              "outlinewidth": 0,
              "ticks": ""
             }
            },
            "type": "scattergl"
           }
          ],
          "scattermapbox": [
           {
            "marker": {
             "colorbar": {
              "outlinewidth": 0,
              "ticks": ""
             }
            },
            "type": "scattermapbox"
           }
          ],
          "scatterpolar": [
           {
            "marker": {
             "colorbar": {
              "outlinewidth": 0,
              "ticks": ""
             }
            },
            "type": "scatterpolar"
           }
          ],
          "scatterpolargl": [
           {
            "marker": {
             "colorbar": {
              "outlinewidth": 0,
              "ticks": ""
             }
            },
            "type": "scatterpolargl"
           }
          ],
          "scatterternary": [
           {
            "marker": {
             "colorbar": {
              "outlinewidth": 0,
              "ticks": ""
             }
            },
            "type": "scatterternary"
           }
          ],
          "surface": [
           {
            "colorbar": {
             "outlinewidth": 0,
             "ticks": ""
            },
            "colorscale": [
             [
              0,
              "#0d0887"
             ],
             [
              0.1111111111111111,
              "#46039f"
             ],
             [
              0.2222222222222222,
              "#7201a8"
             ],
             [
              0.3333333333333333,
              "#9c179e"
             ],
             [
              0.4444444444444444,
              "#bd3786"
             ],
             [
              0.5555555555555556,
              "#d8576b"
             ],
             [
              0.6666666666666666,
              "#ed7953"
             ],
             [
              0.7777777777777778,
              "#fb9f3a"
             ],
             [
              0.8888888888888888,
              "#fdca26"
             ],
             [
              1,
              "#f0f921"
             ]
            ],
            "type": "surface"
           }
          ],
          "table": [
           {
            "cells": {
             "fill": {
              "color": "#EBF0F8"
             },
             "line": {
              "color": "white"
             }
            },
            "header": {
             "fill": {
              "color": "#C8D4E3"
             },
             "line": {
              "color": "white"
             }
            },
            "type": "table"
           }
          ]
         },
         "layout": {
          "annotationdefaults": {
           "arrowcolor": "#2a3f5f",
           "arrowhead": 0,
           "arrowwidth": 1
          },
          "autotypenumbers": "strict",
          "coloraxis": {
           "colorbar": {
            "outlinewidth": 0,
            "ticks": ""
           }
          },
          "colorscale": {
           "diverging": [
            [
             0,
             "#8e0152"
            ],
            [
             0.1,
             "#c51b7d"
            ],
            [
             0.2,
             "#de77ae"
            ],
            [
             0.3,
             "#f1b6da"
            ],
            [
             0.4,
             "#fde0ef"
            ],
            [
             0.5,
             "#f7f7f7"
            ],
            [
             0.6,
             "#e6f5d0"
            ],
            [
             0.7,
             "#b8e186"
            ],
            [
             0.8,
             "#7fbc41"
            ],
            [
             0.9,
             "#4d9221"
            ],
            [
             1,
             "#276419"
            ]
           ],
           "sequential": [
            [
             0,
             "#0d0887"
            ],
            [
             0.1111111111111111,
             "#46039f"
            ],
            [
             0.2222222222222222,
             "#7201a8"
            ],
            [
             0.3333333333333333,
             "#9c179e"
            ],
            [
             0.4444444444444444,
             "#bd3786"
            ],
            [
             0.5555555555555556,
             "#d8576b"
            ],
            [
             0.6666666666666666,
             "#ed7953"
            ],
            [
             0.7777777777777778,
             "#fb9f3a"
            ],
            [
             0.8888888888888888,
             "#fdca26"
            ],
            [
             1,
             "#f0f921"
            ]
           ],
           "sequentialminus": [
            [
             0,
             "#0d0887"
            ],
            [
             0.1111111111111111,
             "#46039f"
            ],
            [
             0.2222222222222222,
             "#7201a8"
            ],
            [
             0.3333333333333333,
             "#9c179e"
            ],
            [
             0.4444444444444444,
             "#bd3786"
            ],
            [
             0.5555555555555556,
             "#d8576b"
            ],
            [
             0.6666666666666666,
             "#ed7953"
            ],
            [
             0.7777777777777778,
             "#fb9f3a"
            ],
            [
             0.8888888888888888,
             "#fdca26"
            ],
            [
             1,
             "#f0f921"
            ]
           ]
          },
          "colorway": [
           "#636efa",
           "#EF553B",
           "#00cc96",
           "#ab63fa",
           "#FFA15A",
           "#19d3f3",
           "#FF6692",
           "#B6E880",
           "#FF97FF",
           "#FECB52"
          ],
          "font": {
           "color": "#2a3f5f"
          },
          "geo": {
           "bgcolor": "white",
           "lakecolor": "white",
           "landcolor": "#E5ECF6",
           "showlakes": true,
           "showland": true,
           "subunitcolor": "white"
          },
          "hoverlabel": {
           "align": "left"
          },
          "hovermode": "closest",
          "mapbox": {
           "style": "light"
          },
          "paper_bgcolor": "white",
          "plot_bgcolor": "#E5ECF6",
          "polar": {
           "angularaxis": {
            "gridcolor": "white",
            "linecolor": "white",
            "ticks": ""
           },
           "bgcolor": "#E5ECF6",
           "radialaxis": {
            "gridcolor": "white",
            "linecolor": "white",
            "ticks": ""
           }
          },
          "scene": {
           "xaxis": {
            "backgroundcolor": "#E5ECF6",
            "gridcolor": "white",
            "gridwidth": 2,
            "linecolor": "white",
            "showbackground": true,
            "ticks": "",
            "zerolinecolor": "white"
           },
           "yaxis": {
            "backgroundcolor": "#E5ECF6",
            "gridcolor": "white",
            "gridwidth": 2,
            "linecolor": "white",
            "showbackground": true,
            "ticks": "",
            "zerolinecolor": "white"
           },
           "zaxis": {
            "backgroundcolor": "#E5ECF6",
            "gridcolor": "white",
            "gridwidth": 2,
            "linecolor": "white",
            "showbackground": true,
            "ticks": "",
            "zerolinecolor": "white"
           }
          },
          "shapedefaults": {
           "line": {
            "color": "#2a3f5f"
           }
          },
          "ternary": {
           "aaxis": {
            "gridcolor": "white",
            "linecolor": "white",
            "ticks": ""
           },
           "baxis": {
            "gridcolor": "white",
            "linecolor": "white",
            "ticks": ""
           },
           "bgcolor": "#E5ECF6",
           "caxis": {
            "gridcolor": "white",
            "linecolor": "white",
            "ticks": ""
           }
          },
          "title": {
           "x": 0.05
          },
          "xaxis": {
           "automargin": true,
           "gridcolor": "white",
           "linecolor": "white",
           "ticks": "",
           "title": {
            "standoff": 15
           },
           "zerolinecolor": "white",
           "zerolinewidth": 2
          },
          "yaxis": {
           "automargin": true,
           "gridcolor": "white",
           "linecolor": "white",
           "ticks": "",
           "title": {
            "standoff": 15
           },
           "zerolinecolor": "white",
           "zerolinewidth": 2
          }
         }
        },
        "title": {
         "text": "TSP Route"
        },
        "width": 800,
        "xaxis": {
         "title": {
          "text": "Coordenada Y"
         }
        },
        "yaxis": {
         "title": {
          "text": "Coordenada X"
         }
        }
       }
      }
     },
     "metadata": {},
     "output_type": "display_data"
    }
   ],
   "source": [
    "plot_route(cities,best_tour)"
   ]
  },
  {
   "cell_type": "code",
   "execution_count": 28,
   "metadata": {},
   "outputs": [
    {
     "name": "stdout",
     "output_type": "stream",
     "text": [
      "Resolviendo clúster 0 con 13 ciudades.\n",
      "Resolviendo clúster 1 con 158 ciudades.\n",
      "Resolviendo clúster 2 con 13 ciudades.\n",
      "Resolviendo clúster 3 con 8 ciudades.\n",
      "Resolviendo clúster 4 con 53 ciudades.\n",
      "Resolviendo clúster 5 con 150 ciudades.\n",
      "Resolviendo clúster 6 con 12 ciudades.\n",
      "Resolviendo clúster 7 con 8 ciudades.\n",
      "Resolviendo clúster 8 con 45 ciudades.\n",
      "Resolviendo clúster 9 con 5 ciudades.\n",
      "Resolviendo clúster 10 con 54 ciudades.\n",
      "Resolviendo clúster 11 con 7 ciudades.\n",
      "Resolviendo clúster 12 con 10 ciudades.\n",
      "Resolviendo clúster 13 con 13 ciudades.\n",
      "Resolviendo clúster 14 con 12 ciudades.\n",
      "Resolviendo clúster 15 con 17 ciudades.\n",
      "Resolviendo clúster 16 con 12 ciudades.\n",
      "Resolviendo clúster 17 con 10 ciudades.\n",
      "Resolviendo clúster 18 con 13 ciudades.\n",
      "Resolviendo clúster 19 con 12 ciudades.\n",
      "Resolviendo clúster 20 con 15 ciudades.\n",
      "Resolviendo clúster 21 con 9 ciudades.\n",
      "Resolviendo clúster 22 con 9 ciudades.\n",
      "Resolviendo clúster 23 con 11 ciudades.\n",
      "Resolviendo clúster 24 con 12 ciudades.\n",
      "Resolviendo clúster 25 con 4 ciudades.\n",
      "Resolviendo clúster 26 con 8 ciudades.\n",
      "Resolviendo clúster 27 con 15 ciudades.\n",
      "Resolviendo clúster 28 con 19 ciudades.\n",
      "Resolviendo clúster 29 con 16 ciudades.\n",
      "Resolviendo clúster 30 con 7 ciudades.\n",
      "Resolviendo clúster 31 con 21 ciudades.\n",
      "Resolviendo clúster 32 con 9 ciudades.\n",
      "Resolviendo clúster 33 con 9 ciudades.\n",
      "Resolviendo clúster 34 con 4 ciudades.\n",
      "Resolviendo clúster 35 con 6 ciudades.\n",
      "Resolviendo clúster 36 con 6 ciudades.\n",
      "Resolviendo clúster 37 con 6 ciudades.\n",
      "Resolviendo clúster 38 con 6 ciudades.\n",
      "Resolviendo clúster 39 con 4 ciudades.\n",
      "Resolviendo clúster 40 con 2 ciudades.\n",
      "Resolviendo clúster 41 con 8 ciudades.\n",
      "Resolviendo clúster 42 con 1 ciudades.\n",
      "Resolviendo clúster 43 con 13 ciudades.\n",
      "Resolviendo clúster 44 con 10 ciudades.\n",
      "Resolviendo clúster 45 con 42 ciudades.\n",
      "Resolviendo clúster 46 con 9 ciudades.\n",
      "Resolviendo clúster 47 con 11 ciudades.\n",
      "Resolviendo clúster 48 con 5 ciudades.\n",
      "Resolviendo clúster 49 con 7 ciudades.\n",
      "Conectando clústeres...\n",
      "Best tour: [332, 330, 307, 308, 287, 178, 79, 76, 71, 64, 34, 15, 49, 57, 56, 47, 42, 30, 13, 17, 29, 28, 35, 33, 19, 10, 2, 3, 4, 9, 20, 14, 12, 27, 37, 38, 44, 46, 36, 32, 18, 26, 51, 78, 67, 65, 72, 59, 88, 96, 102, 229, 98, 95, 86, 82, 73, 68, 50, 52, 53, 55, 54, 60, 63, 69, 74, 66, 70, 58, 61, 101, 97, 90, 75, 94, 275, 277, 312, 291, 321, 322, 336, 358, 335, 372, 575, 621, 631, 625, 638, 744, 648, 637, 647, 754, 816, 839, 866, 869, 875, 868, 858, 844, 817, 823, 852, 848, 820, 687, 636, 646, 630, 612, 578, 542, 529, 494, 465, 548, 483, 425, 374, 364, 369, 412, 424, 437, 514, 558, 616, 632, 613, 729, 629, 795, 818, 811, 813, 814, 812, 803, 807, 815, 805, 806, 808, 809, 797, 786, 775, 784, 791, 798, 801, 799, 800, 789, 773, 780, 782, 785, 771, 769, 764, 778, 781, 772, 763, 761, 755, 751, 746, 735, 733, 720, 739, 749, 750, 760, 767, 762, 756, 748, 737, 734, 731, 727, 712, 710, 709, 695, 691, 705, 714, 717, 722, 721, 732, 730, 738, 741, 736, 719, 704, 707, 700, 708, 716, 706, 640, 641, 672, 692, 679, 664, 675, 690, 682, 665, 660, 653, 650, 643, 652, 671, 698, 703, 696, 688, 689, 680, 678, 667, 654, 651, 639, 644, 655, 673, 669, 659, 656, 657, 674, 666, 670, 677, 668, 642, 658, 683, 742, 747, 702, 697, 684, 676, 681, 694, 693, 699, 701, 711, 718, 724, 728, 715, 713, 740, 753, 766, 757, 752, 758, 770, 768, 774, 776, 790, 792, 788, 802, 787, 783, 765, 723, 645, 628, 627, 596, 587, 573, 562, 591, 592, 574, 570, 501, 472, 482, 481, 442, 436, 411, 390, 380, 371, 368, 350, 351, 353, 361, 356, 320, 316, 334, 323, 349, 328, 317, 319, 311, 295, 280, 279, 263, 258, 262, 276, 301, 300, 290, 267, 257, 255, 252, 237, 204, 153, 203, 180, 182, 174, 165, 161, 147, 143, 130, 109, 105, 108, 104, 120, 133, 124, 126, 122, 118, 117, 110, 115, 127, 125, 152, 158, 149, 142, 135, 134, 136, 139, 141, 137, 123, 114, 119, 100, 91, 103, 113, 129, 116, 140, 151, 144, 148, 163, 167, 160, 162, 157, 155, 138, 128, 107, 121, 111, 112, 106, 150, 170, 164, 183, 166, 168, 171, 177, 175, 169, 189, 196, 194, 192, 184, 181, 179, 172, 156, 145, 146, 154, 159, 173, 176, 186, 190, 193, 185, 187, 199, 214, 227, 233, 222, 225, 234, 211, 208, 206, 205, 202, 221, 217, 215, 207, 201, 213, 216, 228, 226, 224, 230, 235, 239, 242, 246, 247, 249, 248, 245, 241, 238, 240, 232, 223, 210, 198, 188, 195, 209, 212, 218, 197, 191, 219, 220, 231, 243, 266, 286, 289, 278, 294, 310, 302, 299, 298, 288, 261, 251, 132, 131, 256, 272, 273, 293, 306, 297, 304, 281, 271, 265, 264, 260, 269, 270, 285, 303, 309, 315, 325, 329, 314, 318, 360, 397, 363, 337, 331, 340, 344, 339, 342, 341, 366, 367, 370, 373, 379, 464, 500, 493, 432, 450, 449, 528, 532, 527, 518, 506, 499, 498, 505, 492, 491, 461, 470, 460, 459, 440, 435, 420, 421, 429, 430, 441, 454, 462, 480, 471, 463, 455, 448, 431, 422, 423, 419, 416, 408, 405, 396, 394, 404, 415, 414, 403, 393, 392, 391, 402, 407, 413, 400, 401, 384, 385, 381, 377, 382, 386, 388, 378, 376, 387, 389, 398, 409, 410, 399, 395, 375, 352, 355, 357, 346, 345, 348, 333, 313, 292, 283, 259, 274, 284, 200, 99, 62, 43, 31, 24, 23, 22, 25, 16, 11, 6, 8, 0, 5, 1, 7, 39, 21, 40, 41, 89, 77, 80, 45, 48, 81, 85, 84, 83, 87, 93, 92, 236, 254, 250, 253, 268, 282, 296, 305, 244, 324, 326, 327, 343, 406, 417, 418, 427, 428, 458, 478, 488, 513, 487, 469, 477, 453, 447, 446, 457, 468, 486, 476, 485, 475, 452, 456, 445, 444, 467, 474, 484, 473, 466, 451, 434, 426, 439, 433, 443, 438, 508, 521, 515, 522, 509, 495, 496, 510, 511, 523, 524, 535, 538, 544, 537, 543, 534, 550, 559, 563, 564, 565, 551, 545, 530, 516, 502, 512, 539, 552, 582, 581, 599, 617, 618, 622, 725, 793, 810, 743, 661, 624, 623, 614, 604, 600, 605, 601, 583, 553, 560, 554, 561, 566, 567, 555, 546, 536, 525, 517, 497, 489, 490, 479, 503, 504, 531, 526, 541, 540, 547, 556, 571, 576, 584, 593, 602, 606, 611, 619, 607, 598, 594, 589, 568, 569, 557, 577, 572, 579, 585, 590, 580, 586, 595, 609, 603, 608, 615, 620, 633, 635, 662, 685, 726, 777, 794, 686, 663, 634, 610, 804, 830, 826, 854, 857, 861, 834, 835, 832, 827, 841, 845, 859, 847, 846, 851, 838, 864, 865, 872, 883, 878, 877, 873, 871, 881, 870, 863, 843, 853, 884, 887, 897, 890, 893, 898, 903, 904, 906, 911, 909, 910, 912, 915, 917, 916, 899, 894, 907, 913, 918, 920, 922, 927, 925, 924, 921, 923, 926, 928, 919, 914, 908, 902, 895, 896, 900, 905, 901, 892, 891, 888, 889, 885, 874, 880, 879, 886, 882, 876, 862, 855, 856, 849, 833, 825, 796, 759, 649, 626, 836, 837, 842, 867, 860, 850, 831, 828, 840, 824, 829, 819, 779, 821, 822, 745, 597, 533, 520, 519, 588, 549, 507, 383, 365, 354, 362, 359, 347, 338] \n",
      "Best length: 101832\n"
     ]
    }
   ],
   "source": [
    "file_path = \"Zimbabwe.txt\"\n",
    "cities = load_cities_from_file(file_path)\n",
    "genetic_solver = FastGeneticTabuTSPWithClustering(cities, num_clusters=50)\n",
    "best_tour, best_length = genetic_solver.solve(verbose=True)\n",
    "print(\"Best tour:\", best_tour, \"\\nBest length:\", best_length)"
   ]
  }
 ],
 "metadata": {
  "kernelspec": {
   "display_name": "Python 3",
   "language": "python",
   "name": "python3"
  },
  "language_info": {
   "codemirror_mode": {
    "name": "ipython",
    "version": 3
   },
   "file_extension": ".py",
   "mimetype": "text/x-python",
   "name": "python",
   "nbconvert_exporter": "python",
   "pygments_lexer": "ipython3",
   "version": "3.13.1"
  }
 },
 "nbformat": 4,
 "nbformat_minor": 2
}
