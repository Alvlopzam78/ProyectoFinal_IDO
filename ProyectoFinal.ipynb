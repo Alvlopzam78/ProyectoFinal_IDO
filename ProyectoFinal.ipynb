{
 "cells": [
  {
   "cell_type": "markdown",
   "metadata": {},
   "source": [
    "# Opción GPT"
   ]
  },
  {
   "cell_type": "code",
   "execution_count": 68,
   "metadata": {},
   "outputs": [],
   "source": [
    "import random\n",
    "import math\n",
    "\n",
    "def load_cities_from_file(file_path):\n",
    "    \"\"\"Load city coordinates from a text file.\"\"\"\n",
    "    cities = []\n",
    "    with open(file_path, 'r') as file:\n",
    "        lines = file.readlines()[1:]  # Skip the first line (header)\n",
    "        for line in lines:\n",
    "            parts = line.split()\n",
    "            if len(parts) == 3:\n",
    "                x, y = float(parts[1]), float(parts[2])\n",
    "                cities.append((x, y))\n",
    "    return cities"
   ]
  },
  {
   "cell_type": "code",
   "execution_count": null,
   "metadata": {},
   "outputs": [],
   "source": [
    "def calculate_distance(city1, city2):\n",
    "    \"\"\"Calculate the Euclidean distance between two cities.\"\"\"\n",
    "    return round(math.sqrt((city1[0] - city2[0])**2 + (city1[1] - city2[1])**2))\n",
    "\n",
    "def nearest_neighbor(cities):\n",
    "    \"\"\"Generate an initial route using the Nearest Neighbor heuristic.\"\"\"\n",
    "    unvisited = set(range(len(cities)))\n",
    "    route = []\n",
    "    current_city = random.choice(list(unvisited))  # Start from a random city\n",
    "    route.append(current_city)\n",
    "    unvisited.remove(current_city)\n",
    "\n",
    "    while unvisited:\n",
    "        next_city = min(unvisited, key=lambda city: calculate_distance(cities[current_city], cities[city]))\n",
    "        route.append(next_city)\n",
    "        unvisited.remove(next_city)\n",
    "        current_city = next_city\n",
    "\n",
    "    return route, calculate_route_distance(route, cities)\n",
    "\n",
    "def calculate_route_distance(route, cities):\n",
    "    \"\"\"Calculate the total distance of a given route.\"\"\"\n",
    "    distance = 0\n",
    "    for i in range(len(route)):\n",
    "        distance += calculate_distance(cities[route[i]], cities[route[(i + 1) % len(route)]])\n",
    "    return distance\n",
    "\n",
    "def tabu_search(route, cities, max_iterations=500, tabu_size=50):\n",
    "    \"\"\"Improve the route using Tabu Search.\"\"\"\n",
    "    best_route = route[:]\n",
    "    best_distance = calculate_route_distance(route, cities)\n",
    "    tabu_list = []\n",
    "\n",
    "    for _ in range(max_iterations):\n",
    "        neighbors = generate_neighbors(best_route)\n",
    "        best_candidate = None\n",
    "        best_candidate_distance = float('inf')\n",
    "\n",
    "        for neighbor in neighbors:\n",
    "            if neighbor not in tabu_list:\n",
    "                distance = calculate_route_distance(neighbor, cities)\n",
    "                if distance < best_candidate_distance:\n",
    "                    best_candidate = neighbor\n",
    "                    best_candidate_distance = distance\n",
    "\n",
    "        if best_candidate_distance < best_distance:\n",
    "            best_route = best_candidate[:]\n",
    "            best_distance = best_candidate_distance\n",
    "\n",
    "        tabu_list.append(best_candidate)\n",
    "        if len(tabu_list) > tabu_size:\n",
    "            tabu_list.pop(0)\n",
    "\n",
    "    return best_route, best_distance\n",
    "\n",
    "def generate_neighbors(route):\n",
    "    \"\"\"Generate neighbors by swapping two cities in the route.\"\"\"\n",
    "    neighbors = []\n",
    "    for i in range(len(route)):\n",
    "        for j in range(i + 1, len(route)):\n",
    "            neighbor = route[:]\n",
    "            neighbor[i], neighbor[j] = neighbor[j], neighbor[i]\n",
    "            neighbors.append(neighbor)\n",
    "    return neighbors\n",
    "\n",
    "def genetic_algorithm(cities, initial_route=None, population_size=250, generations=100, mutation_rate=0.5):\n",
    "    \"\"\"Optimize the route using a Genetic Algorithm.\"\"\"\n",
    "    def crossover(parent1, parent2):\n",
    "        \"\"\"Perform order crossover between two parents.\"\"\"\n",
    "        start, end = sorted(random.sample(range(len(parent1)), 2))\n",
    "        child = [None] * len(parent1)\n",
    "        child[start:end] = parent1[start:end]\n",
    "        pos = end\n",
    "        for gene in parent2:\n",
    "            if gene not in child:\n",
    "                if pos >= len(child):\n",
    "                    pos = 0\n",
    "                child[pos] = gene\n",
    "                pos += 1\n",
    "        return child\n",
    "\n",
    "    def mutate(route):\n",
    "        \"\"\"Mutate a route by swapping two cities.\"\"\"\n",
    "        if random.random() < mutation_rate:\n",
    "            i, j = random.sample(range(len(route)), 2)\n",
    "            route[i], route[j] = route[j], route[i]\n",
    "\n",
    "    # Initialize population, including the initial route if provided\n",
    "    population = [random.sample(range(len(cities)), len(cities)) for _ in range(population_size - 1)]\n",
    "    if initial_route:\n",
    "        population.append(initial_route)\n",
    "\n",
    "    for _ in range(generations):\n",
    "        population = sorted(population, key=lambda route: calculate_route_distance(route, cities))\n",
    "        next_generation = population[:population_size // 2]  # Select top half\n",
    "\n",
    "        while len(next_generation) < population_size:\n",
    "            parent1, parent2 = random.sample(next_generation, 2)\n",
    "            child = crossover(parent1, parent2)\n",
    "            mutate(child)\n",
    "            next_generation.append(child)\n",
    "\n",
    "        population = next_generation\n",
    "\n",
    "    best_route = min(population, key=lambda route: calculate_route_distance(route, cities))\n",
    "    return best_route, calculate_route_distance(best_route, cities)\n",
    "\n",
    "# Example usage with Qatar data:\n",
    "file_path = \"Qatar.txt\"\n",
    "cities = load_cities_from_file(file_path)\n",
    "\n",
    "# Step 1: Nearest Neighbor\n",
    "nn_route, nn_distance = nearest_neighbor(cities)\n",
    "print(f\"Nearest Neighbor: Route: {nn_route}, Distance: {nn_distance}\")\n",
    "\n",
    "# Step 2: Tabu Search\n",
    "optimized_route, optimized_distance = tabu_search(nn_route, cities)\n",
    "print(f\"Tabu Search: Route: {optimized_route}, Distance: {optimized_distance}\")\n",
    "\n",
    "# Step 3: Genetic Algorithm with Tabu Search Output\n",
    "ga_route, ga_distance = genetic_algorithm(cities, initial_route=optimized_route)\n",
    "print(f\"Genetic Algorithm: Route: {ga_route}, Distance: {ga_distance}\")\n"
   ]
  },
  {
   "cell_type": "markdown",
   "metadata": {},
   "source": [
    "# Genético Memo"
   ]
  },
  {
   "cell_type": "code",
   "execution_count": 69,
   "metadata": {},
   "outputs": [],
   "source": [
    "def tspGenetico(cities, n=250, rate=0.5, mutation_rate=0.2, generations=100, max_iter=1000):\n",
    "    def distanciaTotal(orden, cities):\n",
    "        total = 0.0\n",
    "        num_points = len(orden)\n",
    "        for i in range(num_points):\n",
    "            if i == num_points - 1:\n",
    "                total += calculate_distance(cities[orden[i]], cities[orden[0]])\n",
    "            else:\n",
    "                total += calculate_distance(cities[orden[i]], cities[orden[i + 1]])\n",
    "        return total\n",
    "\n",
    "    def calculate_distance(city1, city2):\n",
    "        \"\"\"Calculate the Euclidean distance between two cities.\"\"\"\n",
    "        return round(math.sqrt((city1[0] - city2[0])**2 + (city1[1] - city2[1])**2))\n",
    "\n",
    "    def nearestNeighborTsp(cities):\n",
    "        num_points = len(cities)\n",
    "        unvisited = set(range(1, num_points))\n",
    "        current_point = 0\n",
    "        path = [current_point]\n",
    "\n",
    "        while unvisited:\n",
    "            nearest_point = min(unvisited, key=lambda x: calculate_distance(cities[current_point], cities[x]))\n",
    "            path.append(nearest_point)\n",
    "            unvisited.remove(nearest_point)\n",
    "            current_point = nearest_point\n",
    "\n",
    "        path.append(0)  # Close the loop\n",
    "        return path\n",
    "\n",
    "    def swap(individual):\n",
    "        start, end = random.sample(range(len(individual) - 1), 2)\n",
    "        individual[start], individual[end] = individual[end], individual[start]\n",
    "        return individual\n",
    "\n",
    "    def mutate(individual):\n",
    "        return swap(individual.copy())\n",
    "\n",
    "    def crossover(parent1, parent2):\n",
    "        start, end = sorted(random.sample(range(len(parent1) - 1), 2))\n",
    "        child = [-1] * len(parent1)\n",
    "        child[start:end] = parent1[start:end]\n",
    "        fill_index = end\n",
    "        for gene in parent2:\n",
    "            if gene not in child:\n",
    "                if fill_index == len(parent1) - 1:\n",
    "                    fill_index = 0\n",
    "                child[fill_index] = gene\n",
    "                fill_index += 1\n",
    "        child[-1] = child[0]  # Close the loop\n",
    "        return child\n",
    "\n",
    "    def generate_initial_population(initial_solution, population_size):\n",
    "        population = [initial_solution]\n",
    "        while len(population) < population_size:\n",
    "            tour = list(range(len(cities)))\n",
    "            random.shuffle(tour)\n",
    "            tour.append(tour[0])  # Close the loop\n",
    "            population.append(tour)\n",
    "        return population\n",
    "\n",
    "    def select_best(population, cities, num_best):\n",
    "        distances = [distanciaTotal(ind, cities) for ind in population]\n",
    "        selected = sorted(zip(population, distances), key=lambda x: x[1])[:num_best]\n",
    "        return [x[0] for x in selected]\n",
    "\n",
    "    def evolve_population(population, num_best, rate, mutation_rate):\n",
    "        new_population = select_best(population, cities, num_best)\n",
    "        while len(new_population) < len(population):\n",
    "            if random.random() < mutation_rate:\n",
    "                mutant = mutate(random.choice(new_population))\n",
    "                new_population.append(mutant)\n",
    "            else:\n",
    "                parent1, parent2 = random.sample(new_population, 2)\n",
    "                child = crossover(parent1, parent2)\n",
    "                new_population.append(child)\n",
    "        return new_population\n",
    "\n",
    "    # Initial population\n",
    "    initial_solution = nearestNeighborTsp(cities)\n",
    "    population = generate_initial_population(initial_solution, n)\n",
    "\n",
    "    best_distance = float('inf')\n",
    "    best_solution = None\n",
    "\n",
    "    for _ in range(generations):\n",
    "        population = evolve_population(population, int(n * rate), rate, mutation_rate)\n",
    "        current_best = min(population, key=lambda x: distanciaTotal(x, cities))\n",
    "        current_best_distance = distanciaTotal(current_best, cities)\n",
    "        if current_best_distance < best_distance:\n",
    "            best_distance = current_best_distance\n",
    "            best_solution = current_best\n",
    "\n",
    "    return best_solution, best_distance"
   ]
  },
  {
   "cell_type": "code",
   "execution_count": 70,
   "metadata": {},
   "outputs": [
    {
     "data": {
      "text/plain": [
       "11630.0"
      ]
     },
     "execution_count": 70,
     "metadata": {},
     "output_type": "execute_result"
    }
   ],
   "source": [
    "file_path = \"Qatar.txt\"\n",
    "cities = load_cities_from_file(file_path)\n",
    "tspGenetico(cities)[1]"
   ]
  },
  {
   "cell_type": "markdown",
   "metadata": {},
   "source": [
    "# Tabu Memo"
   ]
  },
  {
   "cell_type": "code",
   "execution_count": 72,
   "metadata": {},
   "outputs": [],
   "source": [
    "import random\n",
    "import heapq\n",
    "import numpy as np\n",
    "import math\n",
    "\n",
    "def calculate_distance(city1, city2):\n",
    "    \"\"\"Calcula la distancia euclidiana entre dos ciudades.\"\"\"\n",
    "    return round(math.sqrt((city1[0] - city2[0])**2 + (city1[1] - city2[1])**2))\n",
    "\n",
    "def generate_distance_matrix(cities):\n",
    "    \"\"\"Genera una matriz de distancias a partir de las coordenadas de las ciudades.\"\"\"\n",
    "    n = len(cities)\n",
    "    distance_matrix = [[0] * n for _ in range(n)]\n",
    "    for i in range(n):\n",
    "        for j in range(n):\n",
    "            if i != j:\n",
    "                distance_matrix[i][j] = calculate_distance(cities[i], cities[j])\n",
    "    return distance_matrix\n",
    "\n",
    "def dynamic_tabu_tenure(iteration, min_duration, max_duration, penalty_factor):\n",
    "    base_tenure = min_duration + (max_duration - min_duration) * np.sin(np.pi * iteration / 100)\n",
    "    return int(base_tenure * penalty_factor)\n",
    "\n",
    "def calculate_tour_length(tour, distance_matrix):\n",
    "    return sum(distance_matrix[tour[i]][tour[i+1]] for i in range(len(tour) - 1)) + distance_matrix[tour[0]][tour[-1]]\n",
    "\n",
    "def intensify_search(tour, best_tour, best_length, iteration, intensify_factor, distance_matrix):\n",
    "    if iteration % intensify_factor == 0:\n",
    "        current_length = calculate_tour_length(tour, distance_matrix)\n",
    "        if current_length > best_length:\n",
    "            return best_tour[:], best_length\n",
    "    return tour, calculate_tour_length(tour, distance_matrix)\n",
    "\n",
    "def diversify_search(tour, n, diversify_factor, iteration):\n",
    "    if iteration % diversify_factor == 0:\n",
    "        segment_size = n // 10\n",
    "        start = random.randint(0, n - segment_size)\n",
    "        tour[start:start + segment_size] = random.sample(tour[start:start + segment_size], segment_size)\n",
    "    return tour\n",
    "\n",
    "def calculate_delta_penalty(i, j, tour, d, count, F):\n",
    "    n = len(tour)\n",
    "    delta = d[tour[i]][tour[j]] + d[tour[i+1]][tour[(j+1) % n]] - d[tour[i]][tour[i+1]] - d[tour[j]][tour[(j+1) % n]]\n",
    "    penalty = F * (count[tour[i]][tour[j]] + count[tour[i+1]][tour[(j+1) % n]])\n",
    "    return delta, penalty\n",
    "\n",
    "def apply_tabu(tour, ir, jr, tabu, tabu_tenure, count, iteration):\n",
    "    tabu[tour[ir]][tour[jr]] = tabu_tenure + iteration\n",
    "    count[tour[ir]][tour[jr]] += 1\n",
    "\n",
    "def tsp_TS(cities, tour, iterations, min_tabu_duration, max_tabu_duration, F):\n",
    "    d = generate_distance_matrix(cities)\n",
    "    n = len(tour)\n",
    "    tabu = [[0] * n for _ in range(n)]\n",
    "    count = [[0] * n for _ in range(n)]\n",
    "    best_tour = tour[:]\n",
    "    best_length = calculate_tour_length(tour, d)\n",
    "    intensify_factor = 100\n",
    "    diversify_factor = 500\n",
    "\n",
    "    for iteration in range(iterations):\n",
    "        tour = diversify_search(tour, n, diversify_factor, iteration)\n",
    "        tour, length = intensify_search(tour, best_tour, best_length, iteration, intensify_factor, d)\n",
    "\n",
    "        delta_penalty = float('inf')\n",
    "        ir = jr = -1\n",
    "\n",
    "        for i in range(n - 2):\n",
    "            for j in range(i + 2, n if i > 0 else n - 1):\n",
    "                delta, penalty = calculate_delta_penalty(i, j, tour, d, count, F)\n",
    "                if delta + penalty < delta_penalty and (tabu[tour[i]][tour[j]] <= iteration or best_length + delta < best_length):\n",
    "                    delta_penalty = delta + penalty\n",
    "                    ir, jr = i, j\n",
    "\n",
    "        if ir >= 0 and jr >= 0:\n",
    "            tabu_tenure = dynamic_tabu_tenure(iteration, min_tabu_duration, max_tabu_duration, F)\n",
    "            apply_tabu(tour, ir, jr, tabu, tabu_tenure, count, iteration)\n",
    "\n",
    "            length += delta_penalty\n",
    "            tour[ir+1:jr+1] = reversed(tour[ir+1:jr+1])\n",
    "            if length < best_length:\n",
    "                best_length = length\n",
    "                best_tour = tour[:]\n",
    "\n",
    "    best_tour.append(tour[0])\n",
    "    return best_tour, best_length\n",
    "\n",
    "def insertion_heuristic(cities):\n",
    "    d = generate_distance_matrix(cities)\n",
    "    n = len(d)\n",
    "    tour = [0, np.argmin(d[0][1:]) + 1]\n",
    "    remaining_cities = set(range(1, n)) - set(tour)\n",
    "    total_distance = d[0][tour[1]]\n",
    "\n",
    "    heap = []\n",
    "    for city in remaining_cities:\n",
    "        distance_to_tour = min((d[city][tour_node] + d[tour_node][city], city, tour_node) for tour_node in tour)\n",
    "        heapq.heappush(heap, distance_to_tour)\n",
    "\n",
    "    while remaining_cities:\n",
    "        _, city, _ = heapq.heappop(heap)\n",
    "        if city not in remaining_cities:\n",
    "            continue\n",
    "\n",
    "        min_increase = float('inf')\n",
    "        best_position = 0\n",
    "        for i in range(1, len(tour)):\n",
    "            increase = (d[tour[i - 1]][city] +\n",
    "                        d[city][tour[i]] -\n",
    "                        d[tour[i - 1]][tour[i]])\n",
    "            if increase < min_increase:\n",
    "                min_increase = increase\n",
    "                best_position = i\n",
    "\n",
    "        tour.insert(best_position, city)\n",
    "        total_distance += min_increase\n",
    "        remaining_cities.remove(city)\n",
    "\n",
    "        for remaining_city in remaining_cities:\n",
    "            distance_to_tour = min((d[remaining_city][tour_node] + d[tour_node][remaining_city], remaining_city, tour_node) for tour_node in tour)\n",
    "            heapq.heappush(heap, distance_to_tour)\n",
    "\n",
    "    total_distance += d[tour[-1]][tour[0]]\n",
    "\n",
    "    return tour, total_distance\n",
    "\n",
    "def insert_taboo(cities, iterations=500, min_tabu_duration=5, max_tabu_duration=50, penalty_factor=2, verbose=False):\n",
    "    initial_tour, initial_length = insertion_heuristic(cities)\n",
    "    best_tour, best_length = tsp_TS(cities, initial_tour, iterations, min_tabu_duration, max_tabu_duration, penalty_factor)\n",
    "    best_tour = [i+1 for i in best_tour]\n",
    "    if verbose:\n",
    "        print(\"Best tour:\", best_tour, \"\\nBest length:\", best_length)\n",
    "    return best_tour, best_length"
   ]
  },
  {
   "cell_type": "code",
   "execution_count": 75,
   "metadata": {},
   "outputs": [
    {
     "data": {
      "text/plain": [
       "10178"
      ]
     },
     "execution_count": 75,
     "metadata": {},
     "output_type": "execute_result"
    }
   ],
   "source": [
    "file_path = \"Qatar.txt\"\n",
    "cities = load_cities_from_file(file_path)\n",
    "insert_taboo(cities)[1]"
   ]
  },
  {
   "cell_type": "markdown",
   "metadata": {},
   "source": [
    "# Integrado"
   ]
  },
  {
   "cell_type": "code",
   "execution_count": 1,
   "metadata": {},
   "outputs": [],
   "source": [
    "import random\n",
    "import math\n",
    "\n",
    "def load_cities_from_file(file_path):\n",
    "    \"\"\"Load city coordinates from a text file.\"\"\"\n",
    "    cities = []\n",
    "    with open(file_path, 'r') as file:\n",
    "        lines = file.readlines()\n",
    "        for line in lines:\n",
    "            parts = line.split()\n",
    "            if len(parts) == 3:\n",
    "                x, y = float(parts[1]), float(parts[2])\n",
    "                cities.append((x, y))\n",
    "    return cities"
   ]
  },
  {
   "cell_type": "code",
   "execution_count": 25,
   "metadata": {},
   "outputs": [],
   "source": [
    "import random\n",
    "import math\n",
    "import numpy as np\n",
    "\n",
    "class FastGeneticTabuTSP:\n",
    "    def __init__(self, cities, population_size=100, generations=50, \n",
    "                 mutation_rate=0.2, elite_rate=0.15):\n",
    "        self.cities = cities\n",
    "        self.population_size = population_size\n",
    "        self.generations = generations\n",
    "        self.mutation_rate = mutation_rate\n",
    "        self.elite_rate = elite_rate\n",
    "        self.distance_matrix = self._generate_distance_matrix()\n",
    "        \n",
    "    def _generate_distance_matrix(self):\n",
    "        n = len(self.cities)\n",
    "        matrix = [[0] * n for _ in range(n)]\n",
    "        for i in range(n):\n",
    "            for j in range(n):\n",
    "                if i != j:\n",
    "                    matrix[i][j] = self._calculate_distance(self.cities[i], self.cities[j])\n",
    "        return matrix\n",
    "    \n",
    "    def _calculate_distance(self, city1, city2):\n",
    "        return round(math.sqrt((city1[0] - city2[0])**2 + (city1[1] - city2[1])**2))\n",
    "    \n",
    "    def _greedy_insertion_initial_population(self):\n",
    "        def greedy_tour():\n",
    "            n = len(self.cities)\n",
    "            unvisited = set(range(1, n))\n",
    "            tour = [0]\n",
    "            \n",
    "            while unvisited:\n",
    "                last = tour[-1]\n",
    "                next_city = min(unvisited, key=lambda x: self.distance_matrix[last][x])\n",
    "                tour.append(next_city)\n",
    "                unvisited.remove(next_city)\n",
    "            \n",
    "            return tour\n",
    "        \n",
    "        population = []\n",
    "        for _ in range(self.population_size):\n",
    "            tour = greedy_tour()\n",
    "            # Añadir algo de aleatoriedad\n",
    "            for _ in range(5):\n",
    "                i, j = random.sample(range(len(tour)), 2)\n",
    "                tour[i], tour[j] = tour[j], tour[i]\n",
    "            population.append(tour)\n",
    "        \n",
    "        return population\n",
    "    \n",
    "    def _calculate_tour_length(self, tour):\n",
    "        total = sum(self.distance_matrix[tour[i]][tour[i+1]] for i in range(len(tour) - 1))\n",
    "        total += self.distance_matrix[tour[-1]][tour[0]]\n",
    "        return total\n",
    "    \n",
    "    def _quick_two_opt(self, tour):\n",
    "        \"\"\"Versión rápida y segura de 2-opt\"\"\"\n",
    "        n = len(tour)\n",
    "        improved = True\n",
    "        while improved:\n",
    "            improved = False\n",
    "            for i in range(1, n - 1):\n",
    "                for j in range(i + 1, n):\n",
    "                    # Calcular cambio en distancia con seguridad\n",
    "                    old_distance = (\n",
    "                        self.distance_matrix[tour[i-1]][tour[i]] + \n",
    "                        self.distance_matrix[tour[j]][tour[(j+1)%n]]\n",
    "                    )\n",
    "                    new_distance = (\n",
    "                        self.distance_matrix[tour[i-1]][tour[j]] + \n",
    "                        self.distance_matrix[tour[i]][tour[(j+1)%n]]\n",
    "                    )\n",
    "                    \n",
    "                    if new_distance < old_distance:\n",
    "                        # Invertir segmento con seguridad\n",
    "                        tour[i:j+1] = tour[i:j+1][::-1]\n",
    "                        improved = True\n",
    "                        break\n",
    "                if improved:\n",
    "                    break\n",
    "        return tour\n",
    "    \n",
    "    def _partially_mapped_crossover(self, parent1, parent2):\n",
    "        \"\"\"Crossover de mapeo parcial\"\"\"\n",
    "        n = len(parent1)\n",
    "        # Seleccionar segmento\n",
    "        start, end = sorted(random.sample(range(n), 2))\n",
    "        \n",
    "        # Crear hijo\n",
    "        child = [None] * n\n",
    "        child[start:end] = parent1[start:end]\n",
    "        \n",
    "        # Mapear el resto\n",
    "        for i in range(n):\n",
    "            if child[i] is None:\n",
    "                current = parent2[i]\n",
    "                while current in child:\n",
    "                    current = parent2[child.index(current)]\n",
    "                child[i] = current\n",
    "        \n",
    "        return child\n",
    "    \n",
    "    def solve(self, verbose=False):\n",
    "        # Generar población inicial con inserción voraz\n",
    "        population = self._greedy_insertion_initial_population()\n",
    "        \n",
    "        best_tour = min(population, key=self._calculate_tour_length)\n",
    "        best_length = self._calculate_tour_length(best_tour)\n",
    "        \n",
    "        for generation in range(self.generations):\n",
    "            # Ordenar población por fitness\n",
    "            population_with_fitness = [(tour, self._calculate_tour_length(tour)) for tour in population]\n",
    "            population_with_fitness.sort(key=lambda x: x[1])\n",
    "            \n",
    "            # Selección de élite\n",
    "            elite_count = int(self.population_size * self.elite_rate)\n",
    "            new_population = [tour for tour, _ in population_with_fitness[:elite_count]]\n",
    "            \n",
    "            while len(new_population) < self.population_size:\n",
    "                # Selección por torneo\n",
    "                parent1 = min(random.sample(population, 3), key=self._calculate_tour_length)\n",
    "                parent2 = min(random.sample(population, 3), key=self._calculate_tour_length)\n",
    "                \n",
    "                # Crossover\n",
    "                child = self._partially_mapped_crossover(parent1, parent2)\n",
    "                \n",
    "                # Mutación\n",
    "                if random.random() < self.mutation_rate:\n",
    "                    child = self._quick_two_opt(child)\n",
    "                \n",
    "                new_population.append(child)\n",
    "            \n",
    "            population = new_population\n",
    "            \n",
    "            # Actualizar mejor solución\n",
    "            current_best = min(population, key=self._calculate_tour_length)\n",
    "            current_best_length = self._calculate_tour_length(current_best)\n",
    "            \n",
    "            if current_best_length < best_length:\n",
    "                best_tour = current_best\n",
    "                best_length = current_best_length\n",
    "                \n",
    "                if verbose:\n",
    "                    print(f\"Generación {generation}: Mejor distancia = {best_length}\")\n",
    "        \n",
    "        best_tour.append(best_tour[0])  # Cerrar el ciclo\n",
    "        return best_tour, best_length"
   ]
  },
  {
   "cell_type": "code",
   "execution_count": 26,
   "metadata": {},
   "outputs": [],
   "source": [
    "import plotly.graph_objects as go\n",
    "\n",
    "def plot_route(cities, route, title=\"TSP Route\"):\n",
    "    \"\"\"\n",
    "    Graficar la ruta del TSP utilizando Plotly y rotando la gráfica 90º.\n",
    "\n",
    "    :param cities: Lista de coordenadas de las ciudades [(x1, y1), (x2, y2), ..., (xn, yn)].\n",
    "    :param route: Lista de índices que indica el orden de las ciudades visitadas en la ruta.\n",
    "    :param title: Título de la gráfica.\n",
    "    \"\"\"\n",
    "    # Cerrar todas las gráficas previas antes de mostrar una nueva\n",
    "    # Plotly no requiere cerrar gráficos previos, cada figura se muestra por separado\n",
    "\n",
    "    # Obtener las coordenadas de las ciudades según el orden de la ruta\n",
    "    ordered_cities = [cities[i] for i in route]\n",
    "    \n",
    "    # Añadir la ciudad de inicio al final para formar un ciclo\n",
    "    ordered_cities.append(ordered_cities[0])\n",
    "    \n",
    "    # Desempaquetar las coordenadas\n",
    "    x, y = zip(*ordered_cities)\n",
    "\n",
    "    # Crear la gráfica con Plotly, girando 90º (intercambiando x e y)\n",
    "    fig = go.Figure()\n",
    "\n",
    "    # Añadir la ruta\n",
    "    fig.add_trace(go.Scatter(x=y, y=x, mode='lines+markers', marker=dict(size=6, color='blue'), name='Ruta'))\n",
    "\n",
    "    # Añadir etiquetas de las ciudades\n",
    "    for i, city in enumerate(ordered_cities[:-1]):  # No etiquetar el último (es el mismo que el primero)\n",
    "        fig.add_trace(go.Scatter(x=[city[1]], y=[city[0]], mode='text', text=[str(i)], textposition=\"top center\"))\n",
    "\n",
    "    # Configurar el título y los ejes\n",
    "    fig.update_layout(\n",
    "        title=title,\n",
    "        xaxis_title='Coordenada Y',  # Y ahora es lo que estaba en X\n",
    "        yaxis_title='Coordenada X',  # X ahora es lo que estaba en Y\n",
    "        showlegend=False,\n",
    "        height=700,\n",
    "        width=800\n",
    "    )\n",
    "\n",
    "    # Mostrar la gráfica\n",
    "    fig.show()"
   ]
  },
  {
   "cell_type": "code",
   "execution_count": 27,
   "metadata": {},
   "outputs": [
    {
     "name": "stdout",
     "output_type": "stream",
     "text": [
      "Generación 0: Mejor distancia = 9953\n",
      "Generación 1: Mejor distancia = 9885\n",
      "Generación 2: Mejor distancia = 9808\n",
      "Generación 5: Mejor distancia = 9739\n",
      "Generación 8: Mejor distancia = 9512\n",
      "Generación 17: Mejor distancia = 9490\n",
      "Generación 18: Mejor distancia = 9481\n",
      "Generación 19: Mejor distancia = 9464\n",
      "Generación 21: Mejor distancia = 9457\n",
      "Generación 28: Mejor distancia = 9448\n",
      "Generación 29: Mejor distancia = 9430\n",
      "Generación 31: Mejor distancia = 9427\n",
      "Best tour: [0, 5, 7, 15, 12, 22, 24, 13, 10, 6, 16, 25, 23, 20, 17, 32, 27, 28, 21, 26, 36, 44, 56, 59, 68, 73, 71, 77, 74, 75, 86, 79, 70, 81, 61, 58, 35, 62, 19, 64, 84, 85, 97, 89, 88, 93, 98, 100, 103, 110, 129, 126, 124, 125, 131, 133, 136, 139, 144, 155, 148, 145, 141, 137, 138, 153, 156, 152, 149, 143, 140, 151, 146, 158, 157, 161, 166, 164, 167, 176, 180, 183, 174, 172, 173, 178, 171, 163, 162, 160, 168, 175, 181, 193, 185, 182, 186, 189, 191, 190, 188, 187, 192, 184, 179, 177, 169, 170, 165, 159, 154, 150, 147, 142, 135, 130, 128, 134, 132, 127, 123, 122, 119, 120, 116, 115, 114, 111, 109, 99, 107, 106, 104, 105, 117, 121, 118, 113, 112, 108, 101, 102, 90, 92, 95, 94, 96, 91, 87, 82, 78, 80, 83, 76, 69, 63, 67, 65, 72, 66, 60, 57, 46, 50, 38, 33, 39, 42, 37, 40, 45, 47, 51, 52, 55, 53, 54, 48, 49, 41, 43, 34, 30, 31, 29, 18, 14, 11, 9, 8, 4, 2, 1, 3, 0] \n",
      "Best length: 9427\n"
     ]
    }
   ],
   "source": [
    "file_path = \"Qatar.txt\"\n",
    "cities = load_cities_from_file(file_path)\n",
    "genetic_solver = FastGeneticTabuTSP(cities)\n",
    "best_tour, best_length = genetic_solver.solve(verbose=True)\n",
    "print(\"Best tour:\", best_tour, \"\\nBest length:\", best_length)"
   ]
  },
  {
   "cell_type": "code",
   "execution_count": 28,
   "metadata": {},
   "outputs": [
    {
     "data": {
      "application/vnd.plotly.v1+json": {
       "config": {
        "plotlyServerURL": "https://plot.ly"
       },
       "data": [
        {
         "marker": {
          "color": "blue",
          "size": 6
         },
         "mode": "lines+markers",
         "name": "Ruta",
         "type": "scatter",
         "x": [
          50840,
          51039.4444,
          51077.5,
          51086.3889,
          51163.6111,
          51174.4444,
          51203.0556,
          51220.8333,
          51218.3333,
          51275.2778,
          51269.4444,
          51330,
          51333.3333,
          51378.8889,
          51394.1667,
          51398.8889,
          51428.8889,
          51452.5,
          51451.6667,
          51495.5556,
          51483.3333,
          51445.5556,
          51424.4444,
          51394.4444,
          51350.2778,
          51333.6111,
          51293.6111,
          51294.7222,
          51281.1111,
          51226.3889,
          51220,
          51183.3333,
          51173.3333,
          51073.0556,
          51003.0556,
          51001.6667,
          50969.1667,
          50883.3333,
          50807.2222,
          50766.6667,
          50793.6111,
          50785.8333,
          50846.6667,
          50925,
          50958.3333,
          50938.8889,
          50965.2778,
          50980.5556,
          50977.2222,
          50958.8889,
          50920.8333,
          51004.1667,
          51050,
          51057.7778,
          51019.7222,
          51023.0556,
          51060.5556,
          51043.8889,
          51033.3333,
          51000,
          51066.6667,
          51083.3333,
          51072.2222,
          51133.3333,
          51152.5,
          51185.2778,
          51201.6667,
          51221.3889,
          51205.5556,
          51205.8333,
          51245.2778,
          51258.3333,
          51298.8889,
          51313.3333,
          51337.5,
          51349.7222,
          51328.0556,
          51283.3333,
          51294.4444,
          51250,
          51258.6111,
          51222.2222,
          51200.2778,
          51166.6667,
          51163.8889,
          51135.8333,
          51116.6667,
          51099.4444,
          51075.2778,
          51066.6667,
          51083.6111,
          51056.9444,
          51083.6111,
          51108.0556,
          51147.2222,
          51166.9444,
          51161.1111,
          51169.1667,
          51216.6667,
          51222.7778,
          51216.6667,
          51244.7222,
          51300,
          51361.6667,
          51316.1111,
          51297.5,
          51333.3333,
          51366.9444,
          51400,
          51456.3889,
          51386.3889,
          51354.7222,
          51441.3889,
          51465.2778,
          51409.4444,
          51395.8333,
          51449.1667,
          51449.7222,
          51483.3333,
          51547.5,
          51591.6667,
          51584.7222,
          51505.8333,
          51468.8889,
          51450,
          51454.4444,
          51475.2778,
          51486.3889,
          51484.7222,
          51485.2778,
          51433.3333,
          51431.9444,
          51408.3333,
          51387.5,
          51372.2222,
          51260.8333,
          51174.4444,
          51092.2222,
          51151.3889,
          51158.6111,
          51242.2222,
          51304.4444,
          51316.6667,
          51362.5,
          51373.6111,
          51383.3333,
          51400.2778,
          51397.5,
          51378.0556,
          51403.8889,
          51422.5,
          51425,
          51457.7778,
          51436.6667,
          51425,
          51438.6111,
          51470,
          51495.5556,
          51507.5,
          51507.7778,
          51507.7778,
          51520.8333,
          51512.5,
          51504.1667,
          51505.8333,
          51516.3889,
          51523.0556,
          51525.5556,
          51532.7778,
          51533.6111,
          51535,
          51533.3333,
          51534.1667,
          51533.3333,
          51528.3333,
          51537.7778,
          51546.6667,
          51546.6667,
          51555.2778,
          51547.7778,
          51541.3889,
          51545.2778,
          51535.2778,
          51549.7222,
          51559.1667,
          51619.1667,
          51606.9444,
          51537.7778,
          51521.6667,
          51516.6667,
          51548.8889,
          51394.7222,
          51211.9444,
          51175,
          50840,
          50840
         ],
         "y": [
          24748.3333,
          25010,
          25067.7778,
          25168.8889,
          25158.3333,
          25224.1667,
          25234.1667,
          25162.2222,
          25121.9444,
          25030.8333,
          25173.8889,
          25235.5556,
          25233.3333,
          25214.4444,
          25210.8333,
          25256.9444,
          25242.7778,
          25243.0556,
          25223.3333,
          25235.5556,
          25266.6667,
          25279.1667,
          25291.9444,
          25300.8333,
          25326.6667,
          25358.8889,
          25340.5556,
          25377.7778,
          25363.6111,
          25368.6111,
          25433.3333,
          25400,
          25339.1667,
          25404.7222,
          25311.9444,
          25298.6111,
          25266.6667,
          25313.8889,
          25214.1667,
          25316.6667,
          25419.4444,
          25429.7222,
          25495,
          25451.3889,
          25444.4444,
          25480.5556,
          25495,
          25500.8333,
          25533.3333,
          25567.5,
          25751.9444,
          25723.0556,
          25716.6667,
          25717.5,
          25765.2778,
          25775.8333,
          25808.3333,
          25826.6667,
          25850,
          25900,
          25866.6667,
          25856.6667,
          25833.3333,
          25816.6667,
          25823.6111,
          25883.0556,
          25904.1667,
          25880.8333,
          25867.7778,
          25847.7778,
          25829.7222,
          25872.5,
          25857.5,
          25937.5,
          25928.3333,
          25951.6667,
          25983.6111,
          25966.6667,
          26000.2778,
          26050,
          26067.2222,
          26077.2222,
          26033.6111,
          26033.3333,
          26033.6111,
          26050.5556,
          26033.3333,
          25958.3333,
          25957.7778,
          25950,
          26008.6111,
          26048.8889,
          26074.7222,
          26150.2778,
          26083.6111,
          26076.6667,
          26099.7222,
          26123.6111,
          26133.3333,
          26123.6111,
          26116.6667,
          26108.0556,
          26133.3333,
          26078.0556,
          26055,
          26050.2778,
          26016.6667,
          26021.6667,
          25983.3333,
          25944.7222,
          25888.0556,
          25871.9444,
          25857.5,
          25839.1667,
          25793.3333,
          25758.3333,
          25751.1111,
          25779.1667,
          25772.2222,
          25734.7222,
          25708.3333,
          25700.8333,
          25683.8889,
          25686.3889,
          25645.8333,
          25622.5,
          25610.2778,
          25574.7222,
          25566.9444,
          25497.5,
          25550,
          25549.7222,
          25538.8889,
          25545.8333,
          25650,
          25696.1111,
          25666.9444,
          25609.4444,
          25585.5556,
          25560.2778,
          25510.5556,
          25531.9444,
          25459.1667,
          25478.0556,
          25490.5556,
          25483.3333,
          25492.2222,
          25469.7222,
          25440.8333,
          25416.9444,
          25396.9444,
          25400,
          25416.9444,
          25374.4444,
          25337.5,
          25315.2778,
          25325.2778,
          25320.5556,
          25341.9444,
          25322.5,
          25306.9444,
          25292.5,
          25281.3889,
          25286.1111,
          25270.8333,
          25263.6111,
          25270.8333,
          25278.3333,
          25270.5556,
          25275.8333,
          25281.1111,
          25283.3333,
          25286.1111,
          25286.6667,
          25290.8333,
          25287.5,
          25288.0556,
          25283.6111,
          25284.7222,
          25277.2222,
          25278.3333,
          25265.8333,
          25253.8889,
          25253.8889,
          25252.5,
          25211.3889,
          25167.7778,
          25150.8333,
          25103.3333,
          25100,
          24996.1111,
          24827.2222,
          24758.8889,
          24904.4444,
          24748.3333,
          24748.3333
         ]
        },
        {
         "mode": "text",
         "text": [
          "0"
         ],
         "textposition": "top center",
         "type": "scatter",
         "x": [
          50840
         ],
         "y": [
          24748.3333
         ]
        },
        {
         "mode": "text",
         "text": [
          "1"
         ],
         "textposition": "top center",
         "type": "scatter",
         "x": [
          51039.4444
         ],
         "y": [
          25010
         ]
        },
        {
         "mode": "text",
         "text": [
          "2"
         ],
         "textposition": "top center",
         "type": "scatter",
         "x": [
          51077.5
         ],
         "y": [
          25067.7778
         ]
        },
        {
         "mode": "text",
         "text": [
          "3"
         ],
         "textposition": "top center",
         "type": "scatter",
         "x": [
          51086.3889
         ],
         "y": [
          25168.8889
         ]
        },
        {
         "mode": "text",
         "text": [
          "4"
         ],
         "textposition": "top center",
         "type": "scatter",
         "x": [
          51163.6111
         ],
         "y": [
          25158.3333
         ]
        },
        {
         "mode": "text",
         "text": [
          "5"
         ],
         "textposition": "top center",
         "type": "scatter",
         "x": [
          51174.4444
         ],
         "y": [
          25224.1667
         ]
        },
        {
         "mode": "text",
         "text": [
          "6"
         ],
         "textposition": "top center",
         "type": "scatter",
         "x": [
          51203.0556
         ],
         "y": [
          25234.1667
         ]
        },
        {
         "mode": "text",
         "text": [
          "7"
         ],
         "textposition": "top center",
         "type": "scatter",
         "x": [
          51220.8333
         ],
         "y": [
          25162.2222
         ]
        },
        {
         "mode": "text",
         "text": [
          "8"
         ],
         "textposition": "top center",
         "type": "scatter",
         "x": [
          51218.3333
         ],
         "y": [
          25121.9444
         ]
        },
        {
         "mode": "text",
         "text": [
          "9"
         ],
         "textposition": "top center",
         "type": "scatter",
         "x": [
          51275.2778
         ],
         "y": [
          25030.8333
         ]
        },
        {
         "mode": "text",
         "text": [
          "10"
         ],
         "textposition": "top center",
         "type": "scatter",
         "x": [
          51269.4444
         ],
         "y": [
          25173.8889
         ]
        },
        {
         "mode": "text",
         "text": [
          "11"
         ],
         "textposition": "top center",
         "type": "scatter",
         "x": [
          51330
         ],
         "y": [
          25235.5556
         ]
        },
        {
         "mode": "text",
         "text": [
          "12"
         ],
         "textposition": "top center",
         "type": "scatter",
         "x": [
          51333.3333
         ],
         "y": [
          25233.3333
         ]
        },
        {
         "mode": "text",
         "text": [
          "13"
         ],
         "textposition": "top center",
         "type": "scatter",
         "x": [
          51378.8889
         ],
         "y": [
          25214.4444
         ]
        },
        {
         "mode": "text",
         "text": [
          "14"
         ],
         "textposition": "top center",
         "type": "scatter",
         "x": [
          51394.1667
         ],
         "y": [
          25210.8333
         ]
        },
        {
         "mode": "text",
         "text": [
          "15"
         ],
         "textposition": "top center",
         "type": "scatter",
         "x": [
          51398.8889
         ],
         "y": [
          25256.9444
         ]
        },
        {
         "mode": "text",
         "text": [
          "16"
         ],
         "textposition": "top center",
         "type": "scatter",
         "x": [
          51428.8889
         ],
         "y": [
          25242.7778
         ]
        },
        {
         "mode": "text",
         "text": [
          "17"
         ],
         "textposition": "top center",
         "type": "scatter",
         "x": [
          51452.5
         ],
         "y": [
          25243.0556
         ]
        },
        {
         "mode": "text",
         "text": [
          "18"
         ],
         "textposition": "top center",
         "type": "scatter",
         "x": [
          51451.6667
         ],
         "y": [
          25223.3333
         ]
        },
        {
         "mode": "text",
         "text": [
          "19"
         ],
         "textposition": "top center",
         "type": "scatter",
         "x": [
          51495.5556
         ],
         "y": [
          25235.5556
         ]
        },
        {
         "mode": "text",
         "text": [
          "20"
         ],
         "textposition": "top center",
         "type": "scatter",
         "x": [
          51483.3333
         ],
         "y": [
          25266.6667
         ]
        },
        {
         "mode": "text",
         "text": [
          "21"
         ],
         "textposition": "top center",
         "type": "scatter",
         "x": [
          51445.5556
         ],
         "y": [
          25279.1667
         ]
        },
        {
         "mode": "text",
         "text": [
          "22"
         ],
         "textposition": "top center",
         "type": "scatter",
         "x": [
          51424.4444
         ],
         "y": [
          25291.9444
         ]
        },
        {
         "mode": "text",
         "text": [
          "23"
         ],
         "textposition": "top center",
         "type": "scatter",
         "x": [
          51394.4444
         ],
         "y": [
          25300.8333
         ]
        },
        {
         "mode": "text",
         "text": [
          "24"
         ],
         "textposition": "top center",
         "type": "scatter",
         "x": [
          51350.2778
         ],
         "y": [
          25326.6667
         ]
        },
        {
         "mode": "text",
         "text": [
          "25"
         ],
         "textposition": "top center",
         "type": "scatter",
         "x": [
          51333.6111
         ],
         "y": [
          25358.8889
         ]
        },
        {
         "mode": "text",
         "text": [
          "26"
         ],
         "textposition": "top center",
         "type": "scatter",
         "x": [
          51293.6111
         ],
         "y": [
          25340.5556
         ]
        },
        {
         "mode": "text",
         "text": [
          "27"
         ],
         "textposition": "top center",
         "type": "scatter",
         "x": [
          51294.7222
         ],
         "y": [
          25377.7778
         ]
        },
        {
         "mode": "text",
         "text": [
          "28"
         ],
         "textposition": "top center",
         "type": "scatter",
         "x": [
          51281.1111
         ],
         "y": [
          25363.6111
         ]
        },
        {
         "mode": "text",
         "text": [
          "29"
         ],
         "textposition": "top center",
         "type": "scatter",
         "x": [
          51226.3889
         ],
         "y": [
          25368.6111
         ]
        },
        {
         "mode": "text",
         "text": [
          "30"
         ],
         "textposition": "top center",
         "type": "scatter",
         "x": [
          51220
         ],
         "y": [
          25433.3333
         ]
        },
        {
         "mode": "text",
         "text": [
          "31"
         ],
         "textposition": "top center",
         "type": "scatter",
         "x": [
          51183.3333
         ],
         "y": [
          25400
         ]
        },
        {
         "mode": "text",
         "text": [
          "32"
         ],
         "textposition": "top center",
         "type": "scatter",
         "x": [
          51173.3333
         ],
         "y": [
          25339.1667
         ]
        },
        {
         "mode": "text",
         "text": [
          "33"
         ],
         "textposition": "top center",
         "type": "scatter",
         "x": [
          51073.0556
         ],
         "y": [
          25404.7222
         ]
        },
        {
         "mode": "text",
         "text": [
          "34"
         ],
         "textposition": "top center",
         "type": "scatter",
         "x": [
          51003.0556
         ],
         "y": [
          25311.9444
         ]
        },
        {
         "mode": "text",
         "text": [
          "35"
         ],
         "textposition": "top center",
         "type": "scatter",
         "x": [
          51001.6667
         ],
         "y": [
          25298.6111
         ]
        },
        {
         "mode": "text",
         "text": [
          "36"
         ],
         "textposition": "top center",
         "type": "scatter",
         "x": [
          50969.1667
         ],
         "y": [
          25266.6667
         ]
        },
        {
         "mode": "text",
         "text": [
          "37"
         ],
         "textposition": "top center",
         "type": "scatter",
         "x": [
          50883.3333
         ],
         "y": [
          25313.8889
         ]
        },
        {
         "mode": "text",
         "text": [
          "38"
         ],
         "textposition": "top center",
         "type": "scatter",
         "x": [
          50807.2222
         ],
         "y": [
          25214.1667
         ]
        },
        {
         "mode": "text",
         "text": [
          "39"
         ],
         "textposition": "top center",
         "type": "scatter",
         "x": [
          50766.6667
         ],
         "y": [
          25316.6667
         ]
        },
        {
         "mode": "text",
         "text": [
          "40"
         ],
         "textposition": "top center",
         "type": "scatter",
         "x": [
          50793.6111
         ],
         "y": [
          25419.4444
         ]
        },
        {
         "mode": "text",
         "text": [
          "41"
         ],
         "textposition": "top center",
         "type": "scatter",
         "x": [
          50785.8333
         ],
         "y": [
          25429.7222
         ]
        },
        {
         "mode": "text",
         "text": [
          "42"
         ],
         "textposition": "top center",
         "type": "scatter",
         "x": [
          50846.6667
         ],
         "y": [
          25495
         ]
        },
        {
         "mode": "text",
         "text": [
          "43"
         ],
         "textposition": "top center",
         "type": "scatter",
         "x": [
          50925
         ],
         "y": [
          25451.3889
         ]
        },
        {
         "mode": "text",
         "text": [
          "44"
         ],
         "textposition": "top center",
         "type": "scatter",
         "x": [
          50958.3333
         ],
         "y": [
          25444.4444
         ]
        },
        {
         "mode": "text",
         "text": [
          "45"
         ],
         "textposition": "top center",
         "type": "scatter",
         "x": [
          50938.8889
         ],
         "y": [
          25480.5556
         ]
        },
        {
         "mode": "text",
         "text": [
          "46"
         ],
         "textposition": "top center",
         "type": "scatter",
         "x": [
          50965.2778
         ],
         "y": [
          25495
         ]
        },
        {
         "mode": "text",
         "text": [
          "47"
         ],
         "textposition": "top center",
         "type": "scatter",
         "x": [
          50980.5556
         ],
         "y": [
          25500.8333
         ]
        },
        {
         "mode": "text",
         "text": [
          "48"
         ],
         "textposition": "top center",
         "type": "scatter",
         "x": [
          50977.2222
         ],
         "y": [
          25533.3333
         ]
        },
        {
         "mode": "text",
         "text": [
          "49"
         ],
         "textposition": "top center",
         "type": "scatter",
         "x": [
          50958.8889
         ],
         "y": [
          25567.5
         ]
        },
        {
         "mode": "text",
         "text": [
          "50"
         ],
         "textposition": "top center",
         "type": "scatter",
         "x": [
          50920.8333
         ],
         "y": [
          25751.9444
         ]
        },
        {
         "mode": "text",
         "text": [
          "51"
         ],
         "textposition": "top center",
         "type": "scatter",
         "x": [
          51004.1667
         ],
         "y": [
          25723.0556
         ]
        },
        {
         "mode": "text",
         "text": [
          "52"
         ],
         "textposition": "top center",
         "type": "scatter",
         "x": [
          51050
         ],
         "y": [
          25716.6667
         ]
        },
        {
         "mode": "text",
         "text": [
          "53"
         ],
         "textposition": "top center",
         "type": "scatter",
         "x": [
          51057.7778
         ],
         "y": [
          25717.5
         ]
        },
        {
         "mode": "text",
         "text": [
          "54"
         ],
         "textposition": "top center",
         "type": "scatter",
         "x": [
          51019.7222
         ],
         "y": [
          25765.2778
         ]
        },
        {
         "mode": "text",
         "text": [
          "55"
         ],
         "textposition": "top center",
         "type": "scatter",
         "x": [
          51023.0556
         ],
         "y": [
          25775.8333
         ]
        },
        {
         "mode": "text",
         "text": [
          "56"
         ],
         "textposition": "top center",
         "type": "scatter",
         "x": [
          51060.5556
         ],
         "y": [
          25808.3333
         ]
        },
        {
         "mode": "text",
         "text": [
          "57"
         ],
         "textposition": "top center",
         "type": "scatter",
         "x": [
          51043.8889
         ],
         "y": [
          25826.6667
         ]
        },
        {
         "mode": "text",
         "text": [
          "58"
         ],
         "textposition": "top center",
         "type": "scatter",
         "x": [
          51033.3333
         ],
         "y": [
          25850
         ]
        },
        {
         "mode": "text",
         "text": [
          "59"
         ],
         "textposition": "top center",
         "type": "scatter",
         "x": [
          51000
         ],
         "y": [
          25900
         ]
        },
        {
         "mode": "text",
         "text": [
          "60"
         ],
         "textposition": "top center",
         "type": "scatter",
         "x": [
          51066.6667
         ],
         "y": [
          25866.6667
         ]
        },
        {
         "mode": "text",
         "text": [
          "61"
         ],
         "textposition": "top center",
         "type": "scatter",
         "x": [
          51083.3333
         ],
         "y": [
          25856.6667
         ]
        },
        {
         "mode": "text",
         "text": [
          "62"
         ],
         "textposition": "top center",
         "type": "scatter",
         "x": [
          51072.2222
         ],
         "y": [
          25833.3333
         ]
        },
        {
         "mode": "text",
         "text": [
          "63"
         ],
         "textposition": "top center",
         "type": "scatter",
         "x": [
          51133.3333
         ],
         "y": [
          25816.6667
         ]
        },
        {
         "mode": "text",
         "text": [
          "64"
         ],
         "textposition": "top center",
         "type": "scatter",
         "x": [
          51152.5
         ],
         "y": [
          25823.6111
         ]
        },
        {
         "mode": "text",
         "text": [
          "65"
         ],
         "textposition": "top center",
         "type": "scatter",
         "x": [
          51185.2778
         ],
         "y": [
          25883.0556
         ]
        },
        {
         "mode": "text",
         "text": [
          "66"
         ],
         "textposition": "top center",
         "type": "scatter",
         "x": [
          51201.6667
         ],
         "y": [
          25904.1667
         ]
        },
        {
         "mode": "text",
         "text": [
          "67"
         ],
         "textposition": "top center",
         "type": "scatter",
         "x": [
          51221.3889
         ],
         "y": [
          25880.8333
         ]
        },
        {
         "mode": "text",
         "text": [
          "68"
         ],
         "textposition": "top center",
         "type": "scatter",
         "x": [
          51205.5556
         ],
         "y": [
          25867.7778
         ]
        },
        {
         "mode": "text",
         "text": [
          "69"
         ],
         "textposition": "top center",
         "type": "scatter",
         "x": [
          51205.8333
         ],
         "y": [
          25847.7778
         ]
        },
        {
         "mode": "text",
         "text": [
          "70"
         ],
         "textposition": "top center",
         "type": "scatter",
         "x": [
          51245.2778
         ],
         "y": [
          25829.7222
         ]
        },
        {
         "mode": "text",
         "text": [
          "71"
         ],
         "textposition": "top center",
         "type": "scatter",
         "x": [
          51258.3333
         ],
         "y": [
          25872.5
         ]
        },
        {
         "mode": "text",
         "text": [
          "72"
         ],
         "textposition": "top center",
         "type": "scatter",
         "x": [
          51298.8889
         ],
         "y": [
          25857.5
         ]
        },
        {
         "mode": "text",
         "text": [
          "73"
         ],
         "textposition": "top center",
         "type": "scatter",
         "x": [
          51313.3333
         ],
         "y": [
          25937.5
         ]
        },
        {
         "mode": "text",
         "text": [
          "74"
         ],
         "textposition": "top center",
         "type": "scatter",
         "x": [
          51337.5
         ],
         "y": [
          25928.3333
         ]
        },
        {
         "mode": "text",
         "text": [
          "75"
         ],
         "textposition": "top center",
         "type": "scatter",
         "x": [
          51349.7222
         ],
         "y": [
          25951.6667
         ]
        },
        {
         "mode": "text",
         "text": [
          "76"
         ],
         "textposition": "top center",
         "type": "scatter",
         "x": [
          51328.0556
         ],
         "y": [
          25983.6111
         ]
        },
        {
         "mode": "text",
         "text": [
          "77"
         ],
         "textposition": "top center",
         "type": "scatter",
         "x": [
          51283.3333
         ],
         "y": [
          25966.6667
         ]
        },
        {
         "mode": "text",
         "text": [
          "78"
         ],
         "textposition": "top center",
         "type": "scatter",
         "x": [
          51294.4444
         ],
         "y": [
          26000.2778
         ]
        },
        {
         "mode": "text",
         "text": [
          "79"
         ],
         "textposition": "top center",
         "type": "scatter",
         "x": [
          51250
         ],
         "y": [
          26050
         ]
        },
        {
         "mode": "text",
         "text": [
          "80"
         ],
         "textposition": "top center",
         "type": "scatter",
         "x": [
          51258.6111
         ],
         "y": [
          26067.2222
         ]
        },
        {
         "mode": "text",
         "text": [
          "81"
         ],
         "textposition": "top center",
         "type": "scatter",
         "x": [
          51222.2222
         ],
         "y": [
          26077.2222
         ]
        },
        {
         "mode": "text",
         "text": [
          "82"
         ],
         "textposition": "top center",
         "type": "scatter",
         "x": [
          51200.2778
         ],
         "y": [
          26033.6111
         ]
        },
        {
         "mode": "text",
         "text": [
          "83"
         ],
         "textposition": "top center",
         "type": "scatter",
         "x": [
          51166.6667
         ],
         "y": [
          26033.3333
         ]
        },
        {
         "mode": "text",
         "text": [
          "84"
         ],
         "textposition": "top center",
         "type": "scatter",
         "x": [
          51163.8889
         ],
         "y": [
          26033.6111
         ]
        },
        {
         "mode": "text",
         "text": [
          "85"
         ],
         "textposition": "top center",
         "type": "scatter",
         "x": [
          51135.8333
         ],
         "y": [
          26050.5556
         ]
        },
        {
         "mode": "text",
         "text": [
          "86"
         ],
         "textposition": "top center",
         "type": "scatter",
         "x": [
          51116.6667
         ],
         "y": [
          26033.3333
         ]
        },
        {
         "mode": "text",
         "text": [
          "87"
         ],
         "textposition": "top center",
         "type": "scatter",
         "x": [
          51099.4444
         ],
         "y": [
          25958.3333
         ]
        },
        {
         "mode": "text",
         "text": [
          "88"
         ],
         "textposition": "top center",
         "type": "scatter",
         "x": [
          51075.2778
         ],
         "y": [
          25957.7778
         ]
        },
        {
         "mode": "text",
         "text": [
          "89"
         ],
         "textposition": "top center",
         "type": "scatter",
         "x": [
          51066.6667
         ],
         "y": [
          25950
         ]
        },
        {
         "mode": "text",
         "text": [
          "90"
         ],
         "textposition": "top center",
         "type": "scatter",
         "x": [
          51083.6111
         ],
         "y": [
          26008.6111
         ]
        },
        {
         "mode": "text",
         "text": [
          "91"
         ],
         "textposition": "top center",
         "type": "scatter",
         "x": [
          51056.9444
         ],
         "y": [
          26048.8889
         ]
        },
        {
         "mode": "text",
         "text": [
          "92"
         ],
         "textposition": "top center",
         "type": "scatter",
         "x": [
          51083.6111
         ],
         "y": [
          26074.7222
         ]
        },
        {
         "mode": "text",
         "text": [
          "93"
         ],
         "textposition": "top center",
         "type": "scatter",
         "x": [
          51108.0556
         ],
         "y": [
          26150.2778
         ]
        },
        {
         "mode": "text",
         "text": [
          "94"
         ],
         "textposition": "top center",
         "type": "scatter",
         "x": [
          51147.2222
         ],
         "y": [
          26083.6111
         ]
        },
        {
         "mode": "text",
         "text": [
          "95"
         ],
         "textposition": "top center",
         "type": "scatter",
         "x": [
          51166.9444
         ],
         "y": [
          26076.6667
         ]
        },
        {
         "mode": "text",
         "text": [
          "96"
         ],
         "textposition": "top center",
         "type": "scatter",
         "x": [
          51161.1111
         ],
         "y": [
          26099.7222
         ]
        },
        {
         "mode": "text",
         "text": [
          "97"
         ],
         "textposition": "top center",
         "type": "scatter",
         "x": [
          51169.1667
         ],
         "y": [
          26123.6111
         ]
        },
        {
         "mode": "text",
         "text": [
          "98"
         ],
         "textposition": "top center",
         "type": "scatter",
         "x": [
          51216.6667
         ],
         "y": [
          26133.3333
         ]
        },
        {
         "mode": "text",
         "text": [
          "99"
         ],
         "textposition": "top center",
         "type": "scatter",
         "x": [
          51222.7778
         ],
         "y": [
          26123.6111
         ]
        },
        {
         "mode": "text",
         "text": [
          "100"
         ],
         "textposition": "top center",
         "type": "scatter",
         "x": [
          51216.6667
         ],
         "y": [
          26116.6667
         ]
        },
        {
         "mode": "text",
         "text": [
          "101"
         ],
         "textposition": "top center",
         "type": "scatter",
         "x": [
          51244.7222
         ],
         "y": [
          26108.0556
         ]
        },
        {
         "mode": "text",
         "text": [
          "102"
         ],
         "textposition": "top center",
         "type": "scatter",
         "x": [
          51300
         ],
         "y": [
          26133.3333
         ]
        },
        {
         "mode": "text",
         "text": [
          "103"
         ],
         "textposition": "top center",
         "type": "scatter",
         "x": [
          51361.6667
         ],
         "y": [
          26078.0556
         ]
        },
        {
         "mode": "text",
         "text": [
          "104"
         ],
         "textposition": "top center",
         "type": "scatter",
         "x": [
          51316.1111
         ],
         "y": [
          26055
         ]
        },
        {
         "mode": "text",
         "text": [
          "105"
         ],
         "textposition": "top center",
         "type": "scatter",
         "x": [
          51297.5
         ],
         "y": [
          26050.2778
         ]
        },
        {
         "mode": "text",
         "text": [
          "106"
         ],
         "textposition": "top center",
         "type": "scatter",
         "x": [
          51333.3333
         ],
         "y": [
          26016.6667
         ]
        },
        {
         "mode": "text",
         "text": [
          "107"
         ],
         "textposition": "top center",
         "type": "scatter",
         "x": [
          51366.9444
         ],
         "y": [
          26021.6667
         ]
        },
        {
         "mode": "text",
         "text": [
          "108"
         ],
         "textposition": "top center",
         "type": "scatter",
         "x": [
          51400
         ],
         "y": [
          25983.3333
         ]
        },
        {
         "mode": "text",
         "text": [
          "109"
         ],
         "textposition": "top center",
         "type": "scatter",
         "x": [
          51456.3889
         ],
         "y": [
          25944.7222
         ]
        },
        {
         "mode": "text",
         "text": [
          "110"
         ],
         "textposition": "top center",
         "type": "scatter",
         "x": [
          51386.3889
         ],
         "y": [
          25888.0556
         ]
        },
        {
         "mode": "text",
         "text": [
          "111"
         ],
         "textposition": "top center",
         "type": "scatter",
         "x": [
          51354.7222
         ],
         "y": [
          25871.9444
         ]
        },
        {
         "mode": "text",
         "text": [
          "112"
         ],
         "textposition": "top center",
         "type": "scatter",
         "x": [
          51441.3889
         ],
         "y": [
          25857.5
         ]
        },
        {
         "mode": "text",
         "text": [
          "113"
         ],
         "textposition": "top center",
         "type": "scatter",
         "x": [
          51465.2778
         ],
         "y": [
          25839.1667
         ]
        },
        {
         "mode": "text",
         "text": [
          "114"
         ],
         "textposition": "top center",
         "type": "scatter",
         "x": [
          51409.4444
         ],
         "y": [
          25793.3333
         ]
        },
        {
         "mode": "text",
         "text": [
          "115"
         ],
         "textposition": "top center",
         "type": "scatter",
         "x": [
          51395.8333
         ],
         "y": [
          25758.3333
         ]
        },
        {
         "mode": "text",
         "text": [
          "116"
         ],
         "textposition": "top center",
         "type": "scatter",
         "x": [
          51449.1667
         ],
         "y": [
          25751.1111
         ]
        },
        {
         "mode": "text",
         "text": [
          "117"
         ],
         "textposition": "top center",
         "type": "scatter",
         "x": [
          51449.7222
         ],
         "y": [
          25779.1667
         ]
        },
        {
         "mode": "text",
         "text": [
          "118"
         ],
         "textposition": "top center",
         "type": "scatter",
         "x": [
          51483.3333
         ],
         "y": [
          25772.2222
         ]
        },
        {
         "mode": "text",
         "text": [
          "119"
         ],
         "textposition": "top center",
         "type": "scatter",
         "x": [
          51547.5
         ],
         "y": [
          25734.7222
         ]
        },
        {
         "mode": "text",
         "text": [
          "120"
         ],
         "textposition": "top center",
         "type": "scatter",
         "x": [
          51591.6667
         ],
         "y": [
          25708.3333
         ]
        },
        {
         "mode": "text",
         "text": [
          "121"
         ],
         "textposition": "top center",
         "type": "scatter",
         "x": [
          51584.7222
         ],
         "y": [
          25700.8333
         ]
        },
        {
         "mode": "text",
         "text": [
          "122"
         ],
         "textposition": "top center",
         "type": "scatter",
         "x": [
          51505.8333
         ],
         "y": [
          25683.8889
         ]
        },
        {
         "mode": "text",
         "text": [
          "123"
         ],
         "textposition": "top center",
         "type": "scatter",
         "x": [
          51468.8889
         ],
         "y": [
          25686.3889
         ]
        },
        {
         "mode": "text",
         "text": [
          "124"
         ],
         "textposition": "top center",
         "type": "scatter",
         "x": [
          51450
         ],
         "y": [
          25645.8333
         ]
        },
        {
         "mode": "text",
         "text": [
          "125"
         ],
         "textposition": "top center",
         "type": "scatter",
         "x": [
          51454.4444
         ],
         "y": [
          25622.5
         ]
        },
        {
         "mode": "text",
         "text": [
          "126"
         ],
         "textposition": "top center",
         "type": "scatter",
         "x": [
          51475.2778
         ],
         "y": [
          25610.2778
         ]
        },
        {
         "mode": "text",
         "text": [
          "127"
         ],
         "textposition": "top center",
         "type": "scatter",
         "x": [
          51486.3889
         ],
         "y": [
          25574.7222
         ]
        },
        {
         "mode": "text",
         "text": [
          "128"
         ],
         "textposition": "top center",
         "type": "scatter",
         "x": [
          51484.7222
         ],
         "y": [
          25566.9444
         ]
        },
        {
         "mode": "text",
         "text": [
          "129"
         ],
         "textposition": "top center",
         "type": "scatter",
         "x": [
          51485.2778
         ],
         "y": [
          25497.5
         ]
        },
        {
         "mode": "text",
         "text": [
          "130"
         ],
         "textposition": "top center",
         "type": "scatter",
         "x": [
          51433.3333
         ],
         "y": [
          25550
         ]
        },
        {
         "mode": "text",
         "text": [
          "131"
         ],
         "textposition": "top center",
         "type": "scatter",
         "x": [
          51431.9444
         ],
         "y": [
          25549.7222
         ]
        },
        {
         "mode": "text",
         "text": [
          "132"
         ],
         "textposition": "top center",
         "type": "scatter",
         "x": [
          51408.3333
         ],
         "y": [
          25538.8889
         ]
        },
        {
         "mode": "text",
         "text": [
          "133"
         ],
         "textposition": "top center",
         "type": "scatter",
         "x": [
          51387.5
         ],
         "y": [
          25545.8333
         ]
        },
        {
         "mode": "text",
         "text": [
          "134"
         ],
         "textposition": "top center",
         "type": "scatter",
         "x": [
          51372.2222
         ],
         "y": [
          25650
         ]
        },
        {
         "mode": "text",
         "text": [
          "135"
         ],
         "textposition": "top center",
         "type": "scatter",
         "x": [
          51260.8333
         ],
         "y": [
          25696.1111
         ]
        },
        {
         "mode": "text",
         "text": [
          "136"
         ],
         "textposition": "top center",
         "type": "scatter",
         "x": [
          51174.4444
         ],
         "y": [
          25666.9444
         ]
        },
        {
         "mode": "text",
         "text": [
          "137"
         ],
         "textposition": "top center",
         "type": "scatter",
         "x": [
          51092.2222
         ],
         "y": [
          25609.4444
         ]
        },
        {
         "mode": "text",
         "text": [
          "138"
         ],
         "textposition": "top center",
         "type": "scatter",
         "x": [
          51151.3889
         ],
         "y": [
          25585.5556
         ]
        },
        {
         "mode": "text",
         "text": [
          "139"
         ],
         "textposition": "top center",
         "type": "scatter",
         "x": [
          51158.6111
         ],
         "y": [
          25560.2778
         ]
        },
        {
         "mode": "text",
         "text": [
          "140"
         ],
         "textposition": "top center",
         "type": "scatter",
         "x": [
          51242.2222
         ],
         "y": [
          25510.5556
         ]
        },
        {
         "mode": "text",
         "text": [
          "141"
         ],
         "textposition": "top center",
         "type": "scatter",
         "x": [
          51304.4444
         ],
         "y": [
          25531.9444
         ]
        },
        {
         "mode": "text",
         "text": [
          "142"
         ],
         "textposition": "top center",
         "type": "scatter",
         "x": [
          51316.6667
         ],
         "y": [
          25459.1667
         ]
        },
        {
         "mode": "text",
         "text": [
          "143"
         ],
         "textposition": "top center",
         "type": "scatter",
         "x": [
          51362.5
         ],
         "y": [
          25478.0556
         ]
        },
        {
         "mode": "text",
         "text": [
          "144"
         ],
         "textposition": "top center",
         "type": "scatter",
         "x": [
          51373.6111
         ],
         "y": [
          25490.5556
         ]
        },
        {
         "mode": "text",
         "text": [
          "145"
         ],
         "textposition": "top center",
         "type": "scatter",
         "x": [
          51383.3333
         ],
         "y": [
          25483.3333
         ]
        },
        {
         "mode": "text",
         "text": [
          "146"
         ],
         "textposition": "top center",
         "type": "scatter",
         "x": [
          51400.2778
         ],
         "y": [
          25492.2222
         ]
        },
        {
         "mode": "text",
         "text": [
          "147"
         ],
         "textposition": "top center",
         "type": "scatter",
         "x": [
          51397.5
         ],
         "y": [
          25469.7222
         ]
        },
        {
         "mode": "text",
         "text": [
          "148"
         ],
         "textposition": "top center",
         "type": "scatter",
         "x": [
          51378.0556
         ],
         "y": [
          25440.8333
         ]
        },
        {
         "mode": "text",
         "text": [
          "149"
         ],
         "textposition": "top center",
         "type": "scatter",
         "x": [
          51403.8889
         ],
         "y": [
          25416.9444
         ]
        },
        {
         "mode": "text",
         "text": [
          "150"
         ],
         "textposition": "top center",
         "type": "scatter",
         "x": [
          51422.5
         ],
         "y": [
          25396.9444
         ]
        },
        {
         "mode": "text",
         "text": [
          "151"
         ],
         "textposition": "top center",
         "type": "scatter",
         "x": [
          51425
         ],
         "y": [
          25400
         ]
        },
        {
         "mode": "text",
         "text": [
          "152"
         ],
         "textposition": "top center",
         "type": "scatter",
         "x": [
          51457.7778
         ],
         "y": [
          25416.9444
         ]
        },
        {
         "mode": "text",
         "text": [
          "153"
         ],
         "textposition": "top center",
         "type": "scatter",
         "x": [
          51436.6667
         ],
         "y": [
          25374.4444
         ]
        },
        {
         "mode": "text",
         "text": [
          "154"
         ],
         "textposition": "top center",
         "type": "scatter",
         "x": [
          51425
         ],
         "y": [
          25337.5
         ]
        },
        {
         "mode": "text",
         "text": [
          "155"
         ],
         "textposition": "top center",
         "type": "scatter",
         "x": [
          51438.6111
         ],
         "y": [
          25315.2778
         ]
        },
        {
         "mode": "text",
         "text": [
          "156"
         ],
         "textposition": "top center",
         "type": "scatter",
         "x": [
          51470
         ],
         "y": [
          25325.2778
         ]
        },
        {
         "mode": "text",
         "text": [
          "157"
         ],
         "textposition": "top center",
         "type": "scatter",
         "x": [
          51495.5556
         ],
         "y": [
          25320.5556
         ]
        },
        {
         "mode": "text",
         "text": [
          "158"
         ],
         "textposition": "top center",
         "type": "scatter",
         "x": [
          51507.5
         ],
         "y": [
          25341.9444
         ]
        },
        {
         "mode": "text",
         "text": [
          "159"
         ],
         "textposition": "top center",
         "type": "scatter",
         "x": [
          51507.7778
         ],
         "y": [
          25322.5
         ]
        },
        {
         "mode": "text",
         "text": [
          "160"
         ],
         "textposition": "top center",
         "type": "scatter",
         "x": [
          51507.7778
         ],
         "y": [
          25306.9444
         ]
        },
        {
         "mode": "text",
         "text": [
          "161"
         ],
         "textposition": "top center",
         "type": "scatter",
         "x": [
          51520.8333
         ],
         "y": [
          25292.5
         ]
        },
        {
         "mode": "text",
         "text": [
          "162"
         ],
         "textposition": "top center",
         "type": "scatter",
         "x": [
          51512.5
         ],
         "y": [
          25281.3889
         ]
        },
        {
         "mode": "text",
         "text": [
          "163"
         ],
         "textposition": "top center",
         "type": "scatter",
         "x": [
          51504.1667
         ],
         "y": [
          25286.1111
         ]
        },
        {
         "mode": "text",
         "text": [
          "164"
         ],
         "textposition": "top center",
         "type": "scatter",
         "x": [
          51505.8333
         ],
         "y": [
          25270.8333
         ]
        },
        {
         "mode": "text",
         "text": [
          "165"
         ],
         "textposition": "top center",
         "type": "scatter",
         "x": [
          51516.3889
         ],
         "y": [
          25263.6111
         ]
        },
        {
         "mode": "text",
         "text": [
          "166"
         ],
         "textposition": "top center",
         "type": "scatter",
         "x": [
          51523.0556
         ],
         "y": [
          25270.8333
         ]
        },
        {
         "mode": "text",
         "text": [
          "167"
         ],
         "textposition": "top center",
         "type": "scatter",
         "x": [
          51525.5556
         ],
         "y": [
          25278.3333
         ]
        },
        {
         "mode": "text",
         "text": [
          "168"
         ],
         "textposition": "top center",
         "type": "scatter",
         "x": [
          51532.7778
         ],
         "y": [
          25270.5556
         ]
        },
        {
         "mode": "text",
         "text": [
          "169"
         ],
         "textposition": "top center",
         "type": "scatter",
         "x": [
          51533.6111
         ],
         "y": [
          25275.8333
         ]
        },
        {
         "mode": "text",
         "text": [
          "170"
         ],
         "textposition": "top center",
         "type": "scatter",
         "x": [
          51535
         ],
         "y": [
          25281.1111
         ]
        },
        {
         "mode": "text",
         "text": [
          "171"
         ],
         "textposition": "top center",
         "type": "scatter",
         "x": [
          51533.3333
         ],
         "y": [
          25283.3333
         ]
        },
        {
         "mode": "text",
         "text": [
          "172"
         ],
         "textposition": "top center",
         "type": "scatter",
         "x": [
          51534.1667
         ],
         "y": [
          25286.1111
         ]
        },
        {
         "mode": "text",
         "text": [
          "173"
         ],
         "textposition": "top center",
         "type": "scatter",
         "x": [
          51533.3333
         ],
         "y": [
          25286.6667
         ]
        },
        {
         "mode": "text",
         "text": [
          "174"
         ],
         "textposition": "top center",
         "type": "scatter",
         "x": [
          51528.3333
         ],
         "y": [
          25290.8333
         ]
        },
        {
         "mode": "text",
         "text": [
          "175"
         ],
         "textposition": "top center",
         "type": "scatter",
         "x": [
          51537.7778
         ],
         "y": [
          25287.5
         ]
        },
        {
         "mode": "text",
         "text": [
          "176"
         ],
         "textposition": "top center",
         "type": "scatter",
         "x": [
          51546.6667
         ],
         "y": [
          25288.0556
         ]
        },
        {
         "mode": "text",
         "text": [
          "177"
         ],
         "textposition": "top center",
         "type": "scatter",
         "x": [
          51546.6667
         ],
         "y": [
          25283.6111
         ]
        },
        {
         "mode": "text",
         "text": [
          "178"
         ],
         "textposition": "top center",
         "type": "scatter",
         "x": [
          51555.2778
         ],
         "y": [
          25284.7222
         ]
        },
        {
         "mode": "text",
         "text": [
          "179"
         ],
         "textposition": "top center",
         "type": "scatter",
         "x": [
          51547.7778
         ],
         "y": [
          25277.2222
         ]
        },
        {
         "mode": "text",
         "text": [
          "180"
         ],
         "textposition": "top center",
         "type": "scatter",
         "x": [
          51541.3889
         ],
         "y": [
          25278.3333
         ]
        },
        {
         "mode": "text",
         "text": [
          "181"
         ],
         "textposition": "top center",
         "type": "scatter",
         "x": [
          51545.2778
         ],
         "y": [
          25265.8333
         ]
        },
        {
         "mode": "text",
         "text": [
          "182"
         ],
         "textposition": "top center",
         "type": "scatter",
         "x": [
          51535.2778
         ],
         "y": [
          25253.8889
         ]
        },
        {
         "mode": "text",
         "text": [
          "183"
         ],
         "textposition": "top center",
         "type": "scatter",
         "x": [
          51549.7222
         ],
         "y": [
          25253.8889
         ]
        },
        {
         "mode": "text",
         "text": [
          "184"
         ],
         "textposition": "top center",
         "type": "scatter",
         "x": [
          51559.1667
         ],
         "y": [
          25252.5
         ]
        },
        {
         "mode": "text",
         "text": [
          "185"
         ],
         "textposition": "top center",
         "type": "scatter",
         "x": [
          51619.1667
         ],
         "y": [
          25211.3889
         ]
        },
        {
         "mode": "text",
         "text": [
          "186"
         ],
         "textposition": "top center",
         "type": "scatter",
         "x": [
          51606.9444
         ],
         "y": [
          25167.7778
         ]
        },
        {
         "mode": "text",
         "text": [
          "187"
         ],
         "textposition": "top center",
         "type": "scatter",
         "x": [
          51537.7778
         ],
         "y": [
          25150.8333
         ]
        },
        {
         "mode": "text",
         "text": [
          "188"
         ],
         "textposition": "top center",
         "type": "scatter",
         "x": [
          51521.6667
         ],
         "y": [
          25103.3333
         ]
        },
        {
         "mode": "text",
         "text": [
          "189"
         ],
         "textposition": "top center",
         "type": "scatter",
         "x": [
          51516.6667
         ],
         "y": [
          25100
         ]
        },
        {
         "mode": "text",
         "text": [
          "190"
         ],
         "textposition": "top center",
         "type": "scatter",
         "x": [
          51548.8889
         ],
         "y": [
          24996.1111
         ]
        },
        {
         "mode": "text",
         "text": [
          "191"
         ],
         "textposition": "top center",
         "type": "scatter",
         "x": [
          51394.7222
         ],
         "y": [
          24827.2222
         ]
        },
        {
         "mode": "text",
         "text": [
          "192"
         ],
         "textposition": "top center",
         "type": "scatter",
         "x": [
          51211.9444
         ],
         "y": [
          24758.8889
         ]
        },
        {
         "mode": "text",
         "text": [
          "193"
         ],
         "textposition": "top center",
         "type": "scatter",
         "x": [
          51175
         ],
         "y": [
          24904.4444
         ]
        },
        {
         "mode": "text",
         "text": [
          "194"
         ],
         "textposition": "top center",
         "type": "scatter",
         "x": [
          50840
         ],
         "y": [
          24748.3333
         ]
        }
       ],
       "layout": {
        "height": 700,
        "showlegend": false,
        "template": {
         "data": {
          "bar": [
           {
            "error_x": {
             "color": "#2a3f5f"
            },
            "error_y": {
             "color": "#2a3f5f"
            },
            "marker": {
             "line": {
              "color": "#E5ECF6",
              "width": 0.5
             },
             "pattern": {
              "fillmode": "overlay",
              "size": 10,
              "solidity": 0.2
             }
            },
            "type": "bar"
           }
          ],
          "barpolar": [
           {
            "marker": {
             "line": {
              "color": "#E5ECF6",
              "width": 0.5
             },
             "pattern": {
              "fillmode": "overlay",
              "size": 10,
              "solidity": 0.2
             }
            },
            "type": "barpolar"
           }
          ],
          "carpet": [
           {
            "aaxis": {
             "endlinecolor": "#2a3f5f",
             "gridcolor": "white",
             "linecolor": "white",
             "minorgridcolor": "white",
             "startlinecolor": "#2a3f5f"
            },
            "baxis": {
             "endlinecolor": "#2a3f5f",
             "gridcolor": "white",
             "linecolor": "white",
             "minorgridcolor": "white",
             "startlinecolor": "#2a3f5f"
            },
            "type": "carpet"
           }
          ],
          "choropleth": [
           {
            "colorbar": {
             "outlinewidth": 0,
             "ticks": ""
            },
            "type": "choropleth"
           }
          ],
          "contour": [
           {
            "colorbar": {
             "outlinewidth": 0,
             "ticks": ""
            },
            "colorscale": [
             [
              0,
              "#0d0887"
             ],
             [
              0.1111111111111111,
              "#46039f"
             ],
             [
              0.2222222222222222,
              "#7201a8"
             ],
             [
              0.3333333333333333,
              "#9c179e"
             ],
             [
              0.4444444444444444,
              "#bd3786"
             ],
             [
              0.5555555555555556,
              "#d8576b"
             ],
             [
              0.6666666666666666,
              "#ed7953"
             ],
             [
              0.7777777777777778,
              "#fb9f3a"
             ],
             [
              0.8888888888888888,
              "#fdca26"
             ],
             [
              1,
              "#f0f921"
             ]
            ],
            "type": "contour"
           }
          ],
          "contourcarpet": [
           {
            "colorbar": {
             "outlinewidth": 0,
             "ticks": ""
            },
            "type": "contourcarpet"
           }
          ],
          "heatmap": [
           {
            "colorbar": {
             "outlinewidth": 0,
             "ticks": ""
            },
            "colorscale": [
             [
              0,
              "#0d0887"
             ],
             [
              0.1111111111111111,
              "#46039f"
             ],
             [
              0.2222222222222222,
              "#7201a8"
             ],
             [
              0.3333333333333333,
              "#9c179e"
             ],
             [
              0.4444444444444444,
              "#bd3786"
             ],
             [
              0.5555555555555556,
              "#d8576b"
             ],
             [
              0.6666666666666666,
              "#ed7953"
             ],
             [
              0.7777777777777778,
              "#fb9f3a"
             ],
             [
              0.8888888888888888,
              "#fdca26"
             ],
             [
              1,
              "#f0f921"
             ]
            ],
            "type": "heatmap"
           }
          ],
          "heatmapgl": [
           {
            "colorbar": {
             "outlinewidth": 0,
             "ticks": ""
            },
            "colorscale": [
             [
              0,
              "#0d0887"
             ],
             [
              0.1111111111111111,
              "#46039f"
             ],
             [
              0.2222222222222222,
              "#7201a8"
             ],
             [
              0.3333333333333333,
              "#9c179e"
             ],
             [
              0.4444444444444444,
              "#bd3786"
             ],
             [
              0.5555555555555556,
              "#d8576b"
             ],
             [
              0.6666666666666666,
              "#ed7953"
             ],
             [
              0.7777777777777778,
              "#fb9f3a"
             ],
             [
              0.8888888888888888,
              "#fdca26"
             ],
             [
              1,
              "#f0f921"
             ]
            ],
            "type": "heatmapgl"
           }
          ],
          "histogram": [
           {
            "marker": {
             "pattern": {
              "fillmode": "overlay",
              "size": 10,
              "solidity": 0.2
             }
            },
            "type": "histogram"
           }
          ],
          "histogram2d": [
           {
            "colorbar": {
             "outlinewidth": 0,
             "ticks": ""
            },
            "colorscale": [
             [
              0,
              "#0d0887"
             ],
             [
              0.1111111111111111,
              "#46039f"
             ],
             [
              0.2222222222222222,
              "#7201a8"
             ],
             [
              0.3333333333333333,
              "#9c179e"
             ],
             [
              0.4444444444444444,
              "#bd3786"
             ],
             [
              0.5555555555555556,
              "#d8576b"
             ],
             [
              0.6666666666666666,
              "#ed7953"
             ],
             [
              0.7777777777777778,
              "#fb9f3a"
             ],
             [
              0.8888888888888888,
              "#fdca26"
             ],
             [
              1,
              "#f0f921"
             ]
            ],
            "type": "histogram2d"
           }
          ],
          "histogram2dcontour": [
           {
            "colorbar": {
             "outlinewidth": 0,
             "ticks": ""
            },
            "colorscale": [
             [
              0,
              "#0d0887"
             ],
             [
              0.1111111111111111,
              "#46039f"
             ],
             [
              0.2222222222222222,
              "#7201a8"
             ],
             [
              0.3333333333333333,
              "#9c179e"
             ],
             [
              0.4444444444444444,
              "#bd3786"
             ],
             [
              0.5555555555555556,
              "#d8576b"
             ],
             [
              0.6666666666666666,
              "#ed7953"
             ],
             [
              0.7777777777777778,
              "#fb9f3a"
             ],
             [
              0.8888888888888888,
              "#fdca26"
             ],
             [
              1,
              "#f0f921"
             ]
            ],
            "type": "histogram2dcontour"
           }
          ],
          "mesh3d": [
           {
            "colorbar": {
             "outlinewidth": 0,
             "ticks": ""
            },
            "type": "mesh3d"
           }
          ],
          "parcoords": [
           {
            "line": {
             "colorbar": {
              "outlinewidth": 0,
              "ticks": ""
             }
            },
            "type": "parcoords"
           }
          ],
          "pie": [
           {
            "automargin": true,
            "type": "pie"
           }
          ],
          "scatter": [
           {
            "fillpattern": {
             "fillmode": "overlay",
             "size": 10,
             "solidity": 0.2
            },
            "type": "scatter"
           }
          ],
          "scatter3d": [
           {
            "line": {
             "colorbar": {
              "outlinewidth": 0,
              "ticks": ""
             }
            },
            "marker": {
             "colorbar": {
              "outlinewidth": 0,
              "ticks": ""
             }
            },
            "type": "scatter3d"
           }
          ],
          "scattercarpet": [
           {
            "marker": {
             "colorbar": {
              "outlinewidth": 0,
              "ticks": ""
             }
            },
            "type": "scattercarpet"
           }
          ],
          "scattergeo": [
           {
            "marker": {
             "colorbar": {
              "outlinewidth": 0,
              "ticks": ""
             }
            },
            "type": "scattergeo"
           }
          ],
          "scattergl": [
           {
            "marker": {
             "colorbar": {
              "outlinewidth": 0,
              "ticks": ""
             }
            },
            "type": "scattergl"
           }
          ],
          "scattermapbox": [
           {
            "marker": {
             "colorbar": {
              "outlinewidth": 0,
              "ticks": ""
             }
            },
            "type": "scattermapbox"
           }
          ],
          "scatterpolar": [
           {
            "marker": {
             "colorbar": {
              "outlinewidth": 0,
              "ticks": ""
             }
            },
            "type": "scatterpolar"
           }
          ],
          "scatterpolargl": [
           {
            "marker": {
             "colorbar": {
              "outlinewidth": 0,
              "ticks": ""
             }
            },
            "type": "scatterpolargl"
           }
          ],
          "scatterternary": [
           {
            "marker": {
             "colorbar": {
              "outlinewidth": 0,
              "ticks": ""
             }
            },
            "type": "scatterternary"
           }
          ],
          "surface": [
           {
            "colorbar": {
             "outlinewidth": 0,
             "ticks": ""
            },
            "colorscale": [
             [
              0,
              "#0d0887"
             ],
             [
              0.1111111111111111,
              "#46039f"
             ],
             [
              0.2222222222222222,
              "#7201a8"
             ],
             [
              0.3333333333333333,
              "#9c179e"
             ],
             [
              0.4444444444444444,
              "#bd3786"
             ],
             [
              0.5555555555555556,
              "#d8576b"
             ],
             [
              0.6666666666666666,
              "#ed7953"
             ],
             [
              0.7777777777777778,
              "#fb9f3a"
             ],
             [
              0.8888888888888888,
              "#fdca26"
             ],
             [
              1,
              "#f0f921"
             ]
            ],
            "type": "surface"
           }
          ],
          "table": [
           {
            "cells": {
             "fill": {
              "color": "#EBF0F8"
             },
             "line": {
              "color": "white"
             }
            },
            "header": {
             "fill": {
              "color": "#C8D4E3"
             },
             "line": {
              "color": "white"
             }
            },
            "type": "table"
           }
          ]
         },
         "layout": {
          "annotationdefaults": {
           "arrowcolor": "#2a3f5f",
           "arrowhead": 0,
           "arrowwidth": 1
          },
          "autotypenumbers": "strict",
          "coloraxis": {
           "colorbar": {
            "outlinewidth": 0,
            "ticks": ""
           }
          },
          "colorscale": {
           "diverging": [
            [
             0,
             "#8e0152"
            ],
            [
             0.1,
             "#c51b7d"
            ],
            [
             0.2,
             "#de77ae"
            ],
            [
             0.3,
             "#f1b6da"
            ],
            [
             0.4,
             "#fde0ef"
            ],
            [
             0.5,
             "#f7f7f7"
            ],
            [
             0.6,
             "#e6f5d0"
            ],
            [
             0.7,
             "#b8e186"
            ],
            [
             0.8,
             "#7fbc41"
            ],
            [
             0.9,
             "#4d9221"
            ],
            [
             1,
             "#276419"
            ]
           ],
           "sequential": [
            [
             0,
             "#0d0887"
            ],
            [
             0.1111111111111111,
             "#46039f"
            ],
            [
             0.2222222222222222,
             "#7201a8"
            ],
            [
             0.3333333333333333,
             "#9c179e"
            ],
            [
             0.4444444444444444,
             "#bd3786"
            ],
            [
             0.5555555555555556,
             "#d8576b"
            ],
            [
             0.6666666666666666,
             "#ed7953"
            ],
            [
             0.7777777777777778,
             "#fb9f3a"
            ],
            [
             0.8888888888888888,
             "#fdca26"
            ],
            [
             1,
             "#f0f921"
            ]
           ],
           "sequentialminus": [
            [
             0,
             "#0d0887"
            ],
            [
             0.1111111111111111,
             "#46039f"
            ],
            [
             0.2222222222222222,
             "#7201a8"
            ],
            [
             0.3333333333333333,
             "#9c179e"
            ],
            [
             0.4444444444444444,
             "#bd3786"
            ],
            [
             0.5555555555555556,
             "#d8576b"
            ],
            [
             0.6666666666666666,
             "#ed7953"
            ],
            [
             0.7777777777777778,
             "#fb9f3a"
            ],
            [
             0.8888888888888888,
             "#fdca26"
            ],
            [
             1,
             "#f0f921"
            ]
           ]
          },
          "colorway": [
           "#636efa",
           "#EF553B",
           "#00cc96",
           "#ab63fa",
           "#FFA15A",
           "#19d3f3",
           "#FF6692",
           "#B6E880",
           "#FF97FF",
           "#FECB52"
          ],
          "font": {
           "color": "#2a3f5f"
          },
          "geo": {
           "bgcolor": "white",
           "lakecolor": "white",
           "landcolor": "#E5ECF6",
           "showlakes": true,
           "showland": true,
           "subunitcolor": "white"
          },
          "hoverlabel": {
           "align": "left"
          },
          "hovermode": "closest",
          "mapbox": {
           "style": "light"
          },
          "paper_bgcolor": "white",
          "plot_bgcolor": "#E5ECF6",
          "polar": {
           "angularaxis": {
            "gridcolor": "white",
            "linecolor": "white",
            "ticks": ""
           },
           "bgcolor": "#E5ECF6",
           "radialaxis": {
            "gridcolor": "white",
            "linecolor": "white",
            "ticks": ""
           }
          },
          "scene": {
           "xaxis": {
            "backgroundcolor": "#E5ECF6",
            "gridcolor": "white",
            "gridwidth": 2,
            "linecolor": "white",
            "showbackground": true,
            "ticks": "",
            "zerolinecolor": "white"
           },
           "yaxis": {
            "backgroundcolor": "#E5ECF6",
            "gridcolor": "white",
            "gridwidth": 2,
            "linecolor": "white",
            "showbackground": true,
            "ticks": "",
            "zerolinecolor": "white"
           },
           "zaxis": {
            "backgroundcolor": "#E5ECF6",
            "gridcolor": "white",
            "gridwidth": 2,
            "linecolor": "white",
            "showbackground": true,
            "ticks": "",
            "zerolinecolor": "white"
           }
          },
          "shapedefaults": {
           "line": {
            "color": "#2a3f5f"
           }
          },
          "ternary": {
           "aaxis": {
            "gridcolor": "white",
            "linecolor": "white",
            "ticks": ""
           },
           "baxis": {
            "gridcolor": "white",
            "linecolor": "white",
            "ticks": ""
           },
           "bgcolor": "#E5ECF6",
           "caxis": {
            "gridcolor": "white",
            "linecolor": "white",
            "ticks": ""
           }
          },
          "title": {
           "x": 0.05
          },
          "xaxis": {
           "automargin": true,
           "gridcolor": "white",
           "linecolor": "white",
           "ticks": "",
           "title": {
            "standoff": 15
           },
           "zerolinecolor": "white",
           "zerolinewidth": 2
          },
          "yaxis": {
           "automargin": true,
           "gridcolor": "white",
           "linecolor": "white",
           "ticks": "",
           "title": {
            "standoff": 15
           },
           "zerolinecolor": "white",
           "zerolinewidth": 2
          }
         }
        },
        "title": {
         "text": "TSP Route"
        },
        "width": 800,
        "xaxis": {
         "title": {
          "text": "Coordenada Y"
         }
        },
        "yaxis": {
         "title": {
          "text": "Coordenada X"
         }
        }
       }
      }
     },
     "metadata": {},
     "output_type": "display_data"
    }
   ],
   "source": [
    "plot_route(cities,best_tour)"
   ]
  },
  {
   "cell_type": "code",
   "execution_count": null,
   "metadata": {},
   "outputs": [],
   "source": [
    "file_path = \"Uruguay.txt\"\n",
    "cities = load_cities_from_file(file_path)\n",
    "genetic_solver = FastGeneticTabuTSP(cities)\n",
    "best_tour, best_length = genetic_solver.solve(verbose=True)\n",
    "print(\"Best tour:\", best_tour, \"\\nBest length:\", best_length)"
   ]
  }
 ],
 "metadata": {
  "kernelspec": {
   "display_name": "pandas",
   "language": "python",
   "name": "python3"
  },
  "language_info": {
   "codemirror_mode": {
    "name": "ipython",
    "version": 3
   },
   "file_extension": ".py",
   "mimetype": "text/x-python",
   "name": "python",
   "nbconvert_exporter": "python",
   "pygments_lexer": "ipython3",
   "version": "3.10.9"
  }
 },
 "nbformat": 4,
 "nbformat_minor": 2
}
